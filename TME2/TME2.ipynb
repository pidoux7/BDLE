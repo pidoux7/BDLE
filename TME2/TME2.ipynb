{
  "nbformat": 4,
  "nbformat_minor": 0,
  "metadata": {
    "colab": {
      "provenance": [],
      "toc_visible": true
    },
    "kernelspec": {
      "name": "python3",
      "display_name": "Python 3"
    },
    "language_info": {
      "name": "python"
    }
  },
  "cells": [
    {
      "cell_type": "markdown",
      "source": [
        "BDLE 2023 TP2\n",
        "\n",
        "révision: 19/09/2023"
      ],
      "metadata": {
        "id": "SlX8IzDzEZUH"
      }
    },
    {
      "cell_type": "markdown",
      "source": [
        "# TP2 2023 Fenetre Foursquare avec le système DuckDB (ETUDIANT)\n"
      ],
      "metadata": {
        "id": "CL1hh0ojcw30"
      }
    },
    {
      "cell_type": "markdown",
      "source": [
        "# Préparation"
      ],
      "metadata": {
        "id": "qlyTJcdRk4Bk"
      }
    },
    {
      "cell_type": "code",
      "source": [
        "import pandas as pd\n",
        "from google.colab import data_table\n",
        "\n",
        "def display(df, n=100):\n",
        "  return data_table.DataTable(df.limit(n).df(), include_index=False, num_rows_per_page=10)"
      ],
      "metadata": {
        "id": "KaPSc2wGh5Ng"
      },
      "execution_count": null,
      "outputs": []
    },
    {
      "cell_type": "code",
      "execution_count": null,
      "metadata": {
        "colab": {
          "base_uri": "https://localhost:8080/"
        },
        "id": "Of5xcFjiaxR7",
        "outputId": "2f852f23-9b8d-437b-a8b1-940199e5638c"
      },
      "outputs": [
        {
          "output_type": "stream",
          "name": "stdout",
          "text": [
            "Requirement already satisfied: duckdb==0.8.1 in /usr/local/lib/python3.10/dist-packages (0.8.1)\n"
          ]
        }
      ],
      "source": [
        "!pip install duckdb==0.8.1"
      ]
    },
    {
      "cell_type": "markdown",
      "source": [
        "# Démarrer le service DuckDB"
      ],
      "metadata": {
        "id": "Hcua5ypAkOi9"
      }
    },
    {
      "cell_type": "code",
      "source": [
        "import duckdb\n",
        "\n",
        "# db = duckdb.connect('foursquare')\n",
        "db = duckdb.connect(':memory:')\n",
        "\n",
        "# vérifier que le service fonctrionne\n",
        "r = db.sql(\"SELECT 'hello' as col\")\n",
        "display(r)"
      ],
      "metadata": {
        "colab": {
          "base_uri": "https://localhost:8080/",
          "height": 143
        },
        "id": "7_7lmisva72M",
        "outputId": "0d2d9d04-eb13-423a-df6b-f27de3dbc8c2"
      },
      "execution_count": null,
      "outputs": [
        {
          "output_type": "execute_result",
          "data": {
            "text/html": [
              "<div>\n",
              "<style scoped>\n",
              "    .dataframe tbody tr th:only-of-type {\n",
              "        vertical-align: middle;\n",
              "    }\n",
              "\n",
              "    .dataframe tbody tr th {\n",
              "        vertical-align: top;\n",
              "    }\n",
              "\n",
              "    .dataframe thead th {\n",
              "        text-align: right;\n",
              "    }\n",
              "</style>\n",
              "<table border=\"1\" class=\"dataframe\">\n",
              "  <thead>\n",
              "    <tr style=\"text-align: right;\">\n",
              "      <th></th>\n",
              "      <th>col</th>\n",
              "    </tr>\n",
              "  </thead>\n",
              "  <tbody>\n",
              "    <tr>\n",
              "      <th>0</th>\n",
              "      <td>hello</td>\n",
              "    </tr>\n",
              "  </tbody>\n",
              "</table>\n",
              "</div>"
            ],
            "application/vnd.google.colaboratory.module+javascript": "\n      import \"https://ssl.gstatic.com/colaboratory/data_table/881c4a0d49046431/data_table.js\";\n\n      const table = window.createDataTable({\n        data: [[\"hello\"]],\n        columns: [[\"string\", \"col\"]],\n        columnOptions: [],\n        rowsPerPage: 10,\n        helpUrl: \"https://colab.research.google.com/notebooks/data_table.ipynb\",\n        suppressOutputScrolling: true,\n        minimumWidth: undefined,\n      });\n\n      function appendQuickchartButton(parentElement) {\n        let quickchartButtonContainerElement = document.createElement('div');\n        quickchartButtonContainerElement.innerHTML = `\n<div id=\"df-13f529e3-8a83-4b7c-8250-7b85cb93d32f\">\n  <button class=\"colab-df-quickchart\" onclick=\"quickchart('df-13f529e3-8a83-4b7c-8250-7b85cb93d32f')\"\n            title=\"Suggest charts.\"\n            style=\"display:none;\">\n    \n<svg xmlns=\"http://www.w3.org/2000/svg\" height=\"24px\"viewBox=\"0 0 24 24\"\n     width=\"24px\">\n    <g>\n        <path d=\"M19 3H5c-1.1 0-2 .9-2 2v14c0 1.1.9 2 2 2h14c1.1 0 2-.9 2-2V5c0-1.1-.9-2-2-2zM9 17H7v-7h2v7zm4 0h-2V7h2v10zm4 0h-2v-4h2v4z\"/>\n    </g>\n</svg>\n  </button>\n  \n<style>\n  .colab-df-quickchart {\n      --bg-color: #E8F0FE;\n      --fill-color: #1967D2;\n      --hover-bg-color: #E2EBFA;\n      --hover-fill-color: #174EA6;\n      --disabled-fill-color: #AAA;\n      --disabled-bg-color: #DDD;\n  }\n\n  [theme=dark] .colab-df-quickchart {\n      --bg-color: #3B4455;\n      --fill-color: #D2E3FC;\n      --hover-bg-color: #434B5C;\n      --hover-fill-color: #FFFFFF;\n      --disabled-bg-color: #3B4455;\n      --disabled-fill-color: #666;\n  }\n\n  .colab-df-quickchart {\n    background-color: var(--bg-color);\n    border: none;\n    border-radius: 50%;\n    cursor: pointer;\n    display: none;\n    fill: var(--fill-color);\n    height: 32px;\n    padding: 0;\n    width: 32px;\n  }\n\n  .colab-df-quickchart:hover {\n    background-color: var(--hover-bg-color);\n    box-shadow: 0 1px 2px rgba(60, 64, 67, 0.3), 0 1px 3px 1px rgba(60, 64, 67, 0.15);\n    fill: var(--button-hover-fill-color);\n  }\n\n  .colab-df-quickchart-complete:disabled,\n  .colab-df-quickchart-complete:disabled:hover {\n    background-color: var(--disabled-bg-color);\n    fill: var(--disabled-fill-color);\n    box-shadow: none;\n  }\n\n  .colab-df-spinner {\n    border: 2px solid var(--fill-color);\n    border-color: transparent;\n    border-bottom-color: var(--fill-color);\n    animation:\n      spin 1s steps(1) infinite;\n  }\n\n  @keyframes spin {\n    0% {\n      border-color: transparent;\n      border-bottom-color: var(--fill-color);\n      border-left-color: var(--fill-color);\n    }\n    20% {\n      border-color: transparent;\n      border-left-color: var(--fill-color);\n      border-top-color: var(--fill-color);\n    }\n    30% {\n      border-color: transparent;\n      border-left-color: var(--fill-color);\n      border-top-color: var(--fill-color);\n      border-right-color: var(--fill-color);\n    }\n    40% {\n      border-color: transparent;\n      border-right-color: var(--fill-color);\n      border-top-color: var(--fill-color);\n    }\n    60% {\n      border-color: transparent;\n      border-right-color: var(--fill-color);\n    }\n    80% {\n      border-color: transparent;\n      border-right-color: var(--fill-color);\n      border-bottom-color: var(--fill-color);\n    }\n    90% {\n      border-color: transparent;\n      border-bottom-color: var(--fill-color);\n    }\n  }\n</style>\n\n  <script>\n    async function quickchart(key) {\n      const quickchartButtonEl =\n        document.querySelector('#' + key + ' button');\n      quickchartButtonEl.disabled = true;  // To prevent multiple clicks.\n      quickchartButtonEl.classList.add('colab-df-spinner');\n      try {\n        const charts = await google.colab.kernel.invokeFunction(\n            'suggestCharts', [key], {});\n      } catch (error) {\n        console.error('Error during call to suggestCharts:', error);\n      }\n      quickchartButtonEl.classList.remove('colab-df-spinner');\n      quickchartButtonEl.classList.add('colab-df-quickchart-complete');\n    }\n    (() => {\n      let quickchartButtonEl =\n        document.querySelector('#df-13f529e3-8a83-4b7c-8250-7b85cb93d32f button');\n      quickchartButtonEl.style.display =\n        google.colab.kernel.accessAllowed ? 'block' : 'none';\n    })();\n  </script>\n</div>`;\n        parentElement.appendChild(quickchartButtonContainerElement);\n      }\n\n      appendQuickchartButton(table);\n    ",
            "text/plain": [
              "<google.colab.data_table.DataTable object>"
            ]
          },
          "metadata": {},
          "execution_count": 27
        }
      ]
    },
    {
      "cell_type": "markdown",
      "source": [
        "# Données"
      ],
      "metadata": {
        "id": "mYB5fYrykVKy"
      }
    },
    {
      "cell_type": "code",
      "metadata": {
        "application/vnd.databricks.v1+cell": {
          "title": "",
          "showTitle": false,
          "inputWidgets": {},
          "nuid": "5f7082b7-3297-469a-82c3-2e6aaf5acc22"
        },
        "colab": {
          "base_uri": "https://localhost:8080/"
        },
        "id": "dG-ZrStWvR6N",
        "outputId": "d459b92b-8850-4a44-8886-0fbb319990a4"
      },
      "source": [
        "import os\n",
        "local_dir = \"/local/data\"\n",
        "os.makedirs(local_dir, exist_ok=True)\n",
        "os.listdir(local_dir)"
      ],
      "execution_count": null,
      "outputs": [
        {
          "output_type": "execute_result",
          "data": {
            "text/plain": [
              "['dataset_TSMC2014_NYC.zip', 'dataset_TSMC2014_NYC.csv']"
            ]
          },
          "metadata": {},
          "execution_count": 28
        }
      ]
    },
    {
      "cell_type": "markdown",
      "metadata": {
        "application/vnd.databricks.v1+cell": {
          "title": "",
          "showTitle": false,
          "inputWidgets": {},
          "nuid": "9b13d583-eac5-414c-b544-43024c76c144"
        },
        "id": "NqVvf8iLGpLf"
      },
      "source": [
        "URL pour l'accès aux datasets"
      ]
    },
    {
      "cell_type": "code",
      "metadata": {
        "application/vnd.databricks.v1+cell": {
          "title": "",
          "showTitle": false,
          "inputWidgets": {},
          "nuid": "8a1fead0-61e4-4d04-a2c0-7858f767b0a1"
        },
        "id": "8g6iWNvES1hW",
        "colab": {
          "base_uri": "https://localhost:8080/"
        },
        "outputId": "0adb9b70-d9e4-44d2-cc49-4b12e5907ccc"
      },
      "source": [
        "# ---------------------------------------------------------------------------\n",
        "# en cas de problème avec le téléchargement des datasets, aller directement sur l'URL ci-dessous\n",
        "PUBLIC_DATASET_URL = \"https://nuage.lip6.fr/s/H3bpyRGgnCq2NR4\"\n",
        "PUBLIC_DATASET=PUBLIC_DATASET_URL + \"/download?path=\"\n",
        "\n",
        "print(\"URL pour les datasets \", PUBLIC_DATASET_URL)"
      ],
      "execution_count": null,
      "outputs": [
        {
          "output_type": "stream",
          "name": "stdout",
          "text": [
            "URL pour les datasets  https://nuage.lip6.fr/s/H3bpyRGgnCq2NR4\n"
          ]
        }
      ]
    },
    {
      "cell_type": "code",
      "metadata": {
        "colab": {
          "base_uri": "https://localhost:8080/"
        },
        "id": "4MDvKL2IQTGU",
        "outputId": "6d421904-cf23-4384-949b-5acdd36b1d22"
      },
      "source": [
        "import os\n",
        "from urllib import request\n",
        "import zipfile\n",
        "\n",
        "# download dataset if not already donwloaded\n",
        "def download_file(web_dir, local_dir, file):\n",
        "  local_file = local_dir + \"/\" + file\n",
        "  web_file = web_dir + \"/\" + file\n",
        "  if(os.path.isfile(local_file)):\n",
        "    print(file, \"is already stored\")\n",
        "  else:\n",
        "    print(\"downloading from URL: \", web_file , \"save in : \" + local_file)\n",
        "    request.urlretrieve(web_file , local_file)\n",
        "\n",
        "def unzip_file(local_dir, file):\n",
        "  with zipfile.ZipFile(local_dir + \"/\" + file, 'r') as zip_ref:\n",
        "    zip_ref.extractall(local_dir)\n",
        "  # os.remove(local_dir + \"/\" + file)\n",
        "\n",
        "\n",
        "web_dir = PUBLIC_DATASET + \"/foursquare\"\n",
        "\n",
        "# ce fichier vient de kaggle : https://www.kaggle.com/datasets/chetanism/foursquare-nyc-and-tokyo-checkin-dataset\n",
        "zip_filename = \"dataset_TSMC2014_NYC.zip\"\n",
        "\n",
        "\n",
        "download_file(web_dir, local_dir, zip_filename)\n",
        "unzip_file(local_dir, zip_filename)\n",
        "\n",
        "# Liste des fichiers\n",
        "os.listdir(local_dir)"
      ],
      "execution_count": null,
      "outputs": [
        {
          "output_type": "stream",
          "name": "stdout",
          "text": [
            "dataset_TSMC2014_NYC.zip is already stored\n"
          ]
        },
        {
          "output_type": "execute_result",
          "data": {
            "text/plain": [
              "['dataset_TSMC2014_NYC.zip', 'dataset_TSMC2014_NYC.csv']"
            ]
          },
          "metadata": {},
          "execution_count": 30
        }
      ]
    },
    {
      "cell_type": "code",
      "source": [
        "!head -4 /local/data/dataset_TSMC2014_NYC.csv"
      ],
      "metadata": {
        "colab": {
          "base_uri": "https://localhost:8080/"
        },
        "id": "wRPCJtPpKQqA",
        "outputId": "698b939a-ff1c-441b-e86c-5e598b1c529d"
      },
      "execution_count": null,
      "outputs": [
        {
          "output_type": "stream",
          "name": "stdout",
          "text": [
            "userId,venueId,venueCategoryId,venueCategory,latitude,longitude,timezoneOffset,utcTimestamp\r\n",
            "470,49bbd6c0f964a520f4531fe3,4bf58dd8d48988d127951735,Arts & Crafts Store,40.71981038,-74.00258103,-240,Tue Apr 03 18:00:09 +0000 2012\r\n",
            "979,4a43c0aef964a520c6a61fe3,4bf58dd8d48988d1df941735,Bridge,40.60679958,-74.04416981,-240,Tue Apr 03 18:00:25 +0000 2012\r\n",
            "69,4c5cc7b485a1e21e00d35711,4bf58dd8d48988d103941735,Home (private),40.71616168,-73.88307006,-240,Tue Apr 03 18:02:24 +0000 2012\r\n"
          ]
        }
      ]
    },
    {
      "cell_type": "markdown",
      "source": [
        "# Table Visit"
      ],
      "metadata": {
        "id": "3cwSGSPzkY4c"
      }
    },
    {
      "cell_type": "code",
      "source": [
        "# duckdb.read_csv('/local/data/notes1M.json')\n",
        "\n",
        "stmt = \"\"\"\n",
        "DROP TABLE if exists Visit;\n",
        "CREATE TABLE Visit as\n",
        "  SELECT *\n",
        "  FROM '/local/data/dataset_TSMC2014_NYC.csv';\n",
        "\"\"\"\n",
        "db.sql(stmt)\n",
        "print(\"done\")"
      ],
      "metadata": {
        "colab": {
          "base_uri": "https://localhost:8080/"
        },
        "id": "fwcX0P1TlnLn",
        "outputId": "0989b4c1-ff09-4883-c3f8-49ed99524eaa"
      },
      "execution_count": null,
      "outputs": [
        {
          "output_type": "stream",
          "name": "stdout",
          "text": [
            "done\n"
          ]
        }
      ]
    },
    {
      "cell_type": "markdown",
      "source": [
        "## Afficher le contenu d'une table"
      ],
      "metadata": {
        "id": "pk80_tqM-RhR"
      }
    },
    {
      "cell_type": "code",
      "source": [
        "visit = db.table('Visit')\n",
        "visit"
      ],
      "metadata": {
        "colab": {
          "base_uri": "https://localhost:8080/"
        },
        "id": "wXWSkrG0oRxw",
        "outputId": "96943785-49f9-4ac5-b59e-2cb060b0ee08"
      },
      "execution_count": null,
      "outputs": [
        {
          "output_type": "execute_result",
          "data": {
            "text/plain": [
              "┌────────┬──────────────────────┬──────────────────────┬───┬──────────────┬────────────────┬──────────────────────┐\n",
              "│ userId │       venueId        │   venueCategoryId    │ … │  longitude   │ timezoneOffset │     utcTimestamp     │\n",
              "│ int64  │       varchar        │       varchar        │   │    double    │     int64      │       varchar        │\n",
              "├────────┼──────────────────────┼──────────────────────┼───┼──────────────┼────────────────┼──────────────────────┤\n",
              "│    470 │ 49bbd6c0f964a520f4…  │ 4bf58dd8d48988d127…  │ … │ -74.00258103 │           -240 │ Tue Apr 03 18:00:0…  │\n",
              "│    979 │ 4a43c0aef964a520c6…  │ 4bf58dd8d48988d1df…  │ … │ -74.04416981 │           -240 │ Tue Apr 03 18:00:2…  │\n",
              "│     69 │ 4c5cc7b485a1e21e00…  │ 4bf58dd8d48988d103…  │ … │ -73.88307006 │           -240 │ Tue Apr 03 18:02:2…  │\n",
              "│    395 │ 4bc7086715a7ef3bef…  │ 4bf58dd8d48988d104…  │ … │ -73.98251878 │           -240 │ Tue Apr 03 18:02:4…  │\n",
              "│     87 │ 4cf2c5321d18a14395…  │ 4bf58dd8d48988d1cb…  │ … │ -73.98965836 │           -240 │ Tue Apr 03 18:03:0…  │\n",
              "│    484 │ 4b5b981bf964a52090…  │ 4bf58dd8d48988d118…  │ … │ -73.95468678 │           -240 │ Tue Apr 03 18:04:0…  │\n",
              "│    642 │ 4ab966c3f964a5203c…  │ 4bf58dd8d48988d1e0…  │ … │  -73.9741214 │           -240 │ Tue Apr 03 18:04:3…  │\n",
              "│    292 │ 4d0cc47f903d370418…  │ 4bf58dd8d48988d12b…  │ … │ -73.95534113 │           -240 │ Tue Apr 03 18:04:4…  │\n",
              "│    428 │ 4ce1863bc4f6a35d8b…  │ 4bf58dd8d48988d103…  │ … │  -74.0358876 │           -240 │ Tue Apr 03 18:06:1…  │\n",
              "│    877 │ 4be319b321d5a59352…  │ 4bf58dd8d48988d10a…  │ … │ -73.99037473 │           -240 │ Tue Apr 03 18:06:1…  │\n",
              "│     ·  │          ·           │          ·           │ · │       ·      │             ·  │          ·           │\n",
              "│     ·  │          ·           │          ·           │ · │       ·      │             ·  │          ·           │\n",
              "│     ·  │          ·           │          ·           │ · │       ·      │             ·  │          ·           │\n",
              "│    847 │ 49fe2f8af964a5207b…  │ 4bf58dd8d48988d176…  │ … │  -74.0052724 │           -240 │ Wed Apr 11 17:04:0…  │\n",
              "│     45 │ 4b735fe3f964a5205b…  │ 4d4ae6fc7a7b7dea34…  │ … │  -73.9851737 │           -240 │ Wed Apr 11 17:04:0…  │\n",
              "│    621 │ 4f85b99de4b0d19a2f…  │ 4bf58dd8d48988d177…  │ … │ -73.97102783 │           -240 │ Wed Apr 11 17:04:3…  │\n",
              "│    537 │ 4f6491dce4b05c1d59…  │ 4bf58dd8d48988d174…  │ … │   -73.958256 │           -240 │ Wed Apr 11 17:05:0…  │\n",
              "│    976 │ 4b9146f5f964a52058…  │ 4bf58dd8d48988d164…  │ … │ -74.00888761 │           -240 │ Wed Apr 11 17:05:3…  │\n",
              "│    389 │ 4b37853af964a520c5…  │ 4bf58dd8d48988d1fa…  │ … │ -73.96330163 │           -240 │ Wed Apr 11 17:06:1…  │\n",
              "│    663 │ 4baa673bf964a520d8…  │ 4bf58dd8d48988d124…  │ … │ -73.98102579 │           -240 │ Wed Apr 11 17:08:1…  │\n",
              "│    217 │ 4d93828762ad5481a4…  │ 4bf58dd8d48988d124…  │ … │   -73.975389 │           -240 │ Wed Apr 11 17:08:3…  │\n",
              "│   1066 │ 4ae0e652f964a52081…  │ 4bf58dd8d48988d1ed…  │ … │ -73.98215641 │           -240 │ Wed Apr 11 17:09:1…  │\n",
              "│   1079 │ 4af8875bf964a5200c…  │ 4bf58dd8d48988d1c5…  │ … │   -73.971846 │           -240 │ Wed Apr 11 17:09:1…  │\n",
              "├────────┴──────────────────────┴──────────────────────┴───┴──────────────┴────────────────┴──────────────────────┤\n",
              "│ ? rows (>9999 rows, 20 shown)                                                               8 columns (6 shown) │\n",
              "└─────────────────────────────────────────────────────────────────────────────────────────────────────────────────┘"
            ]
          },
          "metadata": {},
          "execution_count": 33
        }
      ]
    },
    {
      "cell_type": "code",
      "source": [
        "display(visit,3)"
      ],
      "metadata": {
        "colab": {
          "base_uri": "https://localhost:8080/",
          "height": 286
        },
        "id": "HQQcev_8ErzD",
        "outputId": "72554702-e98a-4c2e-9ea0-8547fcaaea2e"
      },
      "execution_count": null,
      "outputs": [
        {
          "output_type": "execute_result",
          "data": {
            "text/html": [
              "<div>\n",
              "<style scoped>\n",
              "    .dataframe tbody tr th:only-of-type {\n",
              "        vertical-align: middle;\n",
              "    }\n",
              "\n",
              "    .dataframe tbody tr th {\n",
              "        vertical-align: top;\n",
              "    }\n",
              "\n",
              "    .dataframe thead th {\n",
              "        text-align: right;\n",
              "    }\n",
              "</style>\n",
              "<table border=\"1\" class=\"dataframe\">\n",
              "  <thead>\n",
              "    <tr style=\"text-align: right;\">\n",
              "      <th></th>\n",
              "      <th>userId</th>\n",
              "      <th>venueId</th>\n",
              "      <th>venueCategoryId</th>\n",
              "      <th>venueCategory</th>\n",
              "      <th>latitude</th>\n",
              "      <th>longitude</th>\n",
              "      <th>timezoneOffset</th>\n",
              "      <th>utcTimestamp</th>\n",
              "    </tr>\n",
              "  </thead>\n",
              "  <tbody>\n",
              "    <tr>\n",
              "      <th>0</th>\n",
              "      <td>470</td>\n",
              "      <td>49bbd6c0f964a520f4531fe3</td>\n",
              "      <td>4bf58dd8d48988d127951735</td>\n",
              "      <td>Arts &amp; Crafts Store</td>\n",
              "      <td>40.719810</td>\n",
              "      <td>-74.002581</td>\n",
              "      <td>-240</td>\n",
              "      <td>Tue Apr 03 18:00:09 +0000 2012</td>\n",
              "    </tr>\n",
              "    <tr>\n",
              "      <th>1</th>\n",
              "      <td>979</td>\n",
              "      <td>4a43c0aef964a520c6a61fe3</td>\n",
              "      <td>4bf58dd8d48988d1df941735</td>\n",
              "      <td>Bridge</td>\n",
              "      <td>40.606800</td>\n",
              "      <td>-74.044170</td>\n",
              "      <td>-240</td>\n",
              "      <td>Tue Apr 03 18:00:25 +0000 2012</td>\n",
              "    </tr>\n",
              "    <tr>\n",
              "      <th>2</th>\n",
              "      <td>69</td>\n",
              "      <td>4c5cc7b485a1e21e00d35711</td>\n",
              "      <td>4bf58dd8d48988d103941735</td>\n",
              "      <td>Home (private)</td>\n",
              "      <td>40.716162</td>\n",
              "      <td>-73.883070</td>\n",
              "      <td>-240</td>\n",
              "      <td>Tue Apr 03 18:02:24 +0000 2012</td>\n",
              "    </tr>\n",
              "  </tbody>\n",
              "</table>\n",
              "</div>"
            ],
            "application/vnd.google.colaboratory.module+javascript": "\n      import \"https://ssl.gstatic.com/colaboratory/data_table/881c4a0d49046431/data_table.js\";\n\n      const table = window.createDataTable({\n        data: [[{\n            'v': 470,\n            'f': \"470\",\n        },\n\"49bbd6c0f964a520f4531fe3\",\n\"4bf58dd8d48988d127951735\",\n\"Arts & Crafts Store\",\n{\n            'v': 40.71981038,\n            'f': \"40.71981038\",\n        },\n{\n            'v': -74.00258103,\n            'f': \"-74.00258103\",\n        },\n{\n            'v': -240,\n            'f': \"-240\",\n        },\n\"Tue Apr 03 18:00:09 +0000 2012\"],\n [{\n            'v': 979,\n            'f': \"979\",\n        },\n\"4a43c0aef964a520c6a61fe3\",\n\"4bf58dd8d48988d1df941735\",\n\"Bridge\",\n{\n            'v': 40.60679958,\n            'f': \"40.60679958\",\n        },\n{\n            'v': -74.04416981,\n            'f': \"-74.04416981\",\n        },\n{\n            'v': -240,\n            'f': \"-240\",\n        },\n\"Tue Apr 03 18:00:25 +0000 2012\"],\n [{\n            'v': 69,\n            'f': \"69\",\n        },\n\"4c5cc7b485a1e21e00d35711\",\n\"4bf58dd8d48988d103941735\",\n\"Home (private)\",\n{\n            'v': 40.71616168,\n            'f': \"40.71616168\",\n        },\n{\n            'v': -73.88307006,\n            'f': \"-73.88307006\",\n        },\n{\n            'v': -240,\n            'f': \"-240\",\n        },\n\"Tue Apr 03 18:02:24 +0000 2012\"]],\n        columns: [[\"number\", \"userId\"], [\"string\", \"venueId\"], [\"string\", \"venueCategoryId\"], [\"string\", \"venueCategory\"], [\"number\", \"latitude\"], [\"number\", \"longitude\"], [\"number\", \"timezoneOffset\"], [\"string\", \"utcTimestamp\"]],\n        columnOptions: [],\n        rowsPerPage: 10,\n        helpUrl: \"https://colab.research.google.com/notebooks/data_table.ipynb\",\n        suppressOutputScrolling: true,\n        minimumWidth: undefined,\n      });\n\n      function appendQuickchartButton(parentElement) {\n        let quickchartButtonContainerElement = document.createElement('div');\n        quickchartButtonContainerElement.innerHTML = `\n<div id=\"df-a5e3fbb4-9371-407b-b14b-d8c83baba181\">\n  <button class=\"colab-df-quickchart\" onclick=\"quickchart('df-a5e3fbb4-9371-407b-b14b-d8c83baba181')\"\n            title=\"Suggest charts.\"\n            style=\"display:none;\">\n    \n<svg xmlns=\"http://www.w3.org/2000/svg\" height=\"24px\"viewBox=\"0 0 24 24\"\n     width=\"24px\">\n    <g>\n        <path d=\"M19 3H5c-1.1 0-2 .9-2 2v14c0 1.1.9 2 2 2h14c1.1 0 2-.9 2-2V5c0-1.1-.9-2-2-2zM9 17H7v-7h2v7zm4 0h-2V7h2v10zm4 0h-2v-4h2v4z\"/>\n    </g>\n</svg>\n  </button>\n  \n<style>\n  .colab-df-quickchart {\n      --bg-color: #E8F0FE;\n      --fill-color: #1967D2;\n      --hover-bg-color: #E2EBFA;\n      --hover-fill-color: #174EA6;\n      --disabled-fill-color: #AAA;\n      --disabled-bg-color: #DDD;\n  }\n\n  [theme=dark] .colab-df-quickchart {\n      --bg-color: #3B4455;\n      --fill-color: #D2E3FC;\n      --hover-bg-color: #434B5C;\n      --hover-fill-color: #FFFFFF;\n      --disabled-bg-color: #3B4455;\n      --disabled-fill-color: #666;\n  }\n\n  .colab-df-quickchart {\n    background-color: var(--bg-color);\n    border: none;\n    border-radius: 50%;\n    cursor: pointer;\n    display: none;\n    fill: var(--fill-color);\n    height: 32px;\n    padding: 0;\n    width: 32px;\n  }\n\n  .colab-df-quickchart:hover {\n    background-color: var(--hover-bg-color);\n    box-shadow: 0 1px 2px rgba(60, 64, 67, 0.3), 0 1px 3px 1px rgba(60, 64, 67, 0.15);\n    fill: var(--button-hover-fill-color);\n  }\n\n  .colab-df-quickchart-complete:disabled,\n  .colab-df-quickchart-complete:disabled:hover {\n    background-color: var(--disabled-bg-color);\n    fill: var(--disabled-fill-color);\n    box-shadow: none;\n  }\n\n  .colab-df-spinner {\n    border: 2px solid var(--fill-color);\n    border-color: transparent;\n    border-bottom-color: var(--fill-color);\n    animation:\n      spin 1s steps(1) infinite;\n  }\n\n  @keyframes spin {\n    0% {\n      border-color: transparent;\n      border-bottom-color: var(--fill-color);\n      border-left-color: var(--fill-color);\n    }\n    20% {\n      border-color: transparent;\n      border-left-color: var(--fill-color);\n      border-top-color: var(--fill-color);\n    }\n    30% {\n      border-color: transparent;\n      border-left-color: var(--fill-color);\n      border-top-color: var(--fill-color);\n      border-right-color: var(--fill-color);\n    }\n    40% {\n      border-color: transparent;\n      border-right-color: var(--fill-color);\n      border-top-color: var(--fill-color);\n    }\n    60% {\n      border-color: transparent;\n      border-right-color: var(--fill-color);\n    }\n    80% {\n      border-color: transparent;\n      border-right-color: var(--fill-color);\n      border-bottom-color: var(--fill-color);\n    }\n    90% {\n      border-color: transparent;\n      border-bottom-color: var(--fill-color);\n    }\n  }\n</style>\n\n  <script>\n    async function quickchart(key) {\n      const quickchartButtonEl =\n        document.querySelector('#' + key + ' button');\n      quickchartButtonEl.disabled = true;  // To prevent multiple clicks.\n      quickchartButtonEl.classList.add('colab-df-spinner');\n      try {\n        const charts = await google.colab.kernel.invokeFunction(\n            'suggestCharts', [key], {});\n      } catch (error) {\n        console.error('Error during call to suggestCharts:', error);\n      }\n      quickchartButtonEl.classList.remove('colab-df-spinner');\n      quickchartButtonEl.classList.add('colab-df-quickchart-complete');\n    }\n    (() => {\n      let quickchartButtonEl =\n        document.querySelector('#df-a5e3fbb4-9371-407b-b14b-d8c83baba181 button');\n      quickchartButtonEl.style.display =\n        google.colab.kernel.accessAllowed ? 'block' : 'none';\n    })();\n  </script>\n</div>`;\n        parentElement.appendChild(quickchartButtonContainerElement);\n      }\n\n      appendQuickchartButton(table);\n    ",
            "text/plain": [
              "<google.colab.data_table.DataTable object>"
            ]
          },
          "metadata": {},
          "execution_count": 34
        }
      ]
    },
    {
      "cell_type": "markdown",
      "source": [
        "## Schéma d'une table"
      ],
      "metadata": {
        "id": "FfN0hDXu40eN"
      }
    },
    {
      "cell_type": "code",
      "source": [
        "db.sql(\"\"\"\n",
        "\n",
        "SELECT column_name, data_type\n",
        "FROM duckdb_columns\n",
        "where table_name = 'Visit'\n",
        "\n",
        "\"\"\")"
      ],
      "metadata": {
        "colab": {
          "base_uri": "https://localhost:8080/"
        },
        "id": "1msbT09BK2De",
        "outputId": "736dccfd-1187-4afc-a8d8-b8c8c7dc50aa"
      },
      "execution_count": null,
      "outputs": [
        {
          "output_type": "execute_result",
          "data": {
            "text/plain": [
              "┌─────────────────┬───────────┐\n",
              "│   column_name   │ data_type │\n",
              "│     varchar     │  varchar  │\n",
              "├─────────────────┼───────────┤\n",
              "│ userId          │ BIGINT    │\n",
              "│ venueId         │ VARCHAR   │\n",
              "│ venueCategoryId │ VARCHAR   │\n",
              "│ venueCategory   │ VARCHAR   │\n",
              "│ latitude        │ DOUBLE    │\n",
              "│ longitude       │ DOUBLE    │\n",
              "│ timezoneOffset  │ BIGINT    │\n",
              "│ utcTimestamp    │ VARCHAR   │\n",
              "└─────────────────┴───────────┘"
            ]
          },
          "metadata": {},
          "execution_count": 35
        }
      ]
    },
    {
      "cell_type": "markdown",
      "source": [
        "# Requêtes"
      ],
      "metadata": {
        "id": "-fy2q0AbcqMk"
      }
    },
    {
      "cell_type": "markdown",
      "source": [
        "convertir le timestamp"
      ],
      "metadata": {
        "id": "GkegmQ1dSBkY"
      }
    },
    {
      "cell_type": "code",
      "source": [
        "visit2 = db.sql(\"\"\"\n",
        "  SELECT *, strptime(utcTimestamp, '%a %b %d %X %z %Y') as datetime\n",
        "  FROM Visit\n",
        "\"\"\")\n",
        "visit2"
      ],
      "metadata": {
        "colab": {
          "base_uri": "https://localhost:8080/"
        },
        "id": "iUYO0SiuO1Ej",
        "outputId": "dc836ba5-4b03-4f5a-ee80-e7212cb948e6"
      },
      "execution_count": null,
      "outputs": [
        {
          "output_type": "execute_result",
          "data": {
            "text/plain": [
              "┌────────┬──────────────────────┬───┬────────────────┬──────────────────────┬──────────────────────┐\n",
              "│ userId │       venueId        │ … │ timezoneOffset │     utcTimestamp     │       datetime       │\n",
              "│ int64  │       varchar        │   │     int64      │       varchar        │ timestamp with tim…  │\n",
              "├────────┼──────────────────────┼───┼────────────────┼──────────────────────┼──────────────────────┤\n",
              "│    470 │ 49bbd6c0f964a520f4…  │ … │           -240 │ Tue Apr 03 18:00:0…  │ 2012-04-03 18:00:0…  │\n",
              "│    979 │ 4a43c0aef964a520c6…  │ … │           -240 │ Tue Apr 03 18:00:2…  │ 2012-04-03 18:00:2…  │\n",
              "│     69 │ 4c5cc7b485a1e21e00…  │ … │           -240 │ Tue Apr 03 18:02:2…  │ 2012-04-03 18:02:2…  │\n",
              "│    395 │ 4bc7086715a7ef3bef…  │ … │           -240 │ Tue Apr 03 18:02:4…  │ 2012-04-03 18:02:4…  │\n",
              "│     87 │ 4cf2c5321d18a14395…  │ … │           -240 │ Tue Apr 03 18:03:0…  │ 2012-04-03 18:03:0…  │\n",
              "│    484 │ 4b5b981bf964a52090…  │ … │           -240 │ Tue Apr 03 18:04:0…  │ 2012-04-03 18:04:0…  │\n",
              "│    642 │ 4ab966c3f964a5203c…  │ … │           -240 │ Tue Apr 03 18:04:3…  │ 2012-04-03 18:04:3…  │\n",
              "│    292 │ 4d0cc47f903d370418…  │ … │           -240 │ Tue Apr 03 18:04:4…  │ 2012-04-03 18:04:4…  │\n",
              "│    428 │ 4ce1863bc4f6a35d8b…  │ … │           -240 │ Tue Apr 03 18:06:1…  │ 2012-04-03 18:06:1…  │\n",
              "│    877 │ 4be319b321d5a59352…  │ … │           -240 │ Tue Apr 03 18:06:1…  │ 2012-04-03 18:06:1…  │\n",
              "│     ·  │          ·           │ · │             ·  │          ·           │          ·           │\n",
              "│     ·  │          ·           │ · │             ·  │          ·           │          ·           │\n",
              "│     ·  │          ·           │ · │             ·  │          ·           │          ·           │\n",
              "│    847 │ 49fe2f8af964a5207b…  │ … │           -240 │ Wed Apr 11 17:04:0…  │ 2012-04-11 17:04:0…  │\n",
              "│     45 │ 4b735fe3f964a5205b…  │ … │           -240 │ Wed Apr 11 17:04:0…  │ 2012-04-11 17:04:0…  │\n",
              "│    621 │ 4f85b99de4b0d19a2f…  │ … │           -240 │ Wed Apr 11 17:04:3…  │ 2012-04-11 17:04:3…  │\n",
              "│    537 │ 4f6491dce4b05c1d59…  │ … │           -240 │ Wed Apr 11 17:05:0…  │ 2012-04-11 17:05:0…  │\n",
              "│    976 │ 4b9146f5f964a52058…  │ … │           -240 │ Wed Apr 11 17:05:3…  │ 2012-04-11 17:05:3…  │\n",
              "│    389 │ 4b37853af964a520c5…  │ … │           -240 │ Wed Apr 11 17:06:1…  │ 2012-04-11 17:06:1…  │\n",
              "│    663 │ 4baa673bf964a520d8…  │ … │           -240 │ Wed Apr 11 17:08:1…  │ 2012-04-11 17:08:1…  │\n",
              "│    217 │ 4d93828762ad5481a4…  │ … │           -240 │ Wed Apr 11 17:08:3…  │ 2012-04-11 17:08:3…  │\n",
              "│   1066 │ 4ae0e652f964a52081…  │ … │           -240 │ Wed Apr 11 17:09:1…  │ 2012-04-11 17:09:1…  │\n",
              "│   1079 │ 4af8875bf964a5200c…  │ … │           -240 │ Wed Apr 11 17:09:1…  │ 2012-04-11 17:09:1…  │\n",
              "├────────┴──────────────────────┴───┴────────────────┴──────────────────────┴──────────────────────┤\n",
              "│ ? rows (>9999 rows, 20 shown)                                                9 columns (5 shown) │\n",
              "└──────────────────────────────────────────────────────────────────────────────────────────────────┘"
            ]
          },
          "metadata": {},
          "execution_count": 36
        }
      ]
    },
    {
      "cell_type": "code",
      "source": [
        "visit3 = db.sql(\"\"\"\n",
        "  SELECT userId, venueId, datetime\n",
        "  FROM visit2\n",
        "\"\"\")\n",
        "\n",
        "visit3"
      ],
      "metadata": {
        "colab": {
          "base_uri": "https://localhost:8080/"
        },
        "id": "P2lUoxwjz24m",
        "outputId": "c21a6200-bb86-4e9d-d5fc-e8dfd01d42c1"
      },
      "execution_count": null,
      "outputs": [
        {
          "output_type": "execute_result",
          "data": {
            "text/plain": [
              "┌────────┬──────────────────────────┬──────────────────────────┐\n",
              "│ userId │         venueId          │         datetime         │\n",
              "│ int64  │         varchar          │ timestamp with time zone │\n",
              "├────────┼──────────────────────────┼──────────────────────────┤\n",
              "│    470 │ 49bbd6c0f964a520f4531fe3 │ 2012-04-03 18:00:09+00   │\n",
              "│    979 │ 4a43c0aef964a520c6a61fe3 │ 2012-04-03 18:00:25+00   │\n",
              "│     69 │ 4c5cc7b485a1e21e00d35711 │ 2012-04-03 18:02:24+00   │\n",
              "│    395 │ 4bc7086715a7ef3bef9878da │ 2012-04-03 18:02:41+00   │\n",
              "│     87 │ 4cf2c5321d18a143951b5cec │ 2012-04-03 18:03:00+00   │\n",
              "│    484 │ 4b5b981bf964a520900929e3 │ 2012-04-03 18:04:00+00   │\n",
              "│    642 │ 4ab966c3f964a5203c7f20e3 │ 2012-04-03 18:04:38+00   │\n",
              "│    292 │ 4d0cc47f903d37041864bf55 │ 2012-04-03 18:04:42+00   │\n",
              "│    428 │ 4ce1863bc4f6a35d8bd2db6c │ 2012-04-03 18:06:18+00   │\n",
              "│    877 │ 4be319b321d5a59352311811 │ 2012-04-03 18:06:19+00   │\n",
              "│     ·  │            ·             │           ·              │\n",
              "│     ·  │            ·             │           ·              │\n",
              "│     ·  │            ·             │           ·              │\n",
              "│    847 │ 49fe2f8af964a5207b6f1fe3 │ 2012-04-11 17:04:02+00   │\n",
              "│     45 │ 4b735fe3f964a5205bab2de3 │ 2012-04-11 17:04:03+00   │\n",
              "│    621 │ 4f85b99de4b0d19a2f21e5a1 │ 2012-04-11 17:04:36+00   │\n",
              "│    537 │ 4f6491dce4b05c1d59696fc2 │ 2012-04-11 17:05:05+00   │\n",
              "│    976 │ 4b9146f5f964a52058af33e3 │ 2012-04-11 17:05:37+00   │\n",
              "│    389 │ 4b37853af964a520c54125e3 │ 2012-04-11 17:06:11+00   │\n",
              "│    663 │ 4baa673bf964a520d8663ae3 │ 2012-04-11 17:08:18+00   │\n",
              "│    217 │ 4d93828762ad5481a4cd834b │ 2012-04-11 17:08:38+00   │\n",
              "│   1066 │ 4ae0e652f964a520818321e3 │ 2012-04-11 17:09:12+00   │\n",
              "│   1079 │ 4af8875bf964a5200c0e22e3 │ 2012-04-11 17:09:13+00   │\n",
              "├────────┴──────────────────────────┴──────────────────────────┤\n",
              "│ ? rows (>9999 rows, 20 shown)                      3 columns │\n",
              "└──────────────────────────────────────────────────────────────┘"
            ]
          },
          "metadata": {},
          "execution_count": 37
        }
      ]
    },
    {
      "cell_type": "markdown",
      "source": [
        "##  Ex1 Sequences de visites\n",
        "\n"
      ],
      "metadata": {
        "id": "1piNIH57pdDq"
      }
    },
    {
      "cell_type": "markdown",
      "source": [
        "### Numéro de POI\n",
        "\n",
        "Définir les vues\n",
        " * venueId_poi(venueId, poi) qui associe le numéro original de venueId avec poi.\n",
        "   * Indication, utiliser la fonction row_number() over( ...)\n",
        " * visit_poi(userId, poi, datetime) avec des numéros de poi allant de 1 à n\n",
        "\n"
      ],
      "metadata": {
        "id": "dY0FLu6kDZ-I"
      }
    },
    {
      "cell_type": "code",
      "source": [
        "venueIds = db.sql(\"\"\"\n",
        "  Select distinct venueId\n",
        "  From Visit\n",
        "\n",
        "\n",
        "\"\"\")\n",
        "\n",
        "\n",
        "venueId_poi = db.sql(\"\"\"\n",
        "  select venueId, row_number() over (order by venueId) as poi\n",
        "\n",
        "  from venueIds\n",
        "\n",
        "\"\"\")\n",
        "venueId_poi"
      ],
      "metadata": {
        "colab": {
          "base_uri": "https://localhost:8080/"
        },
        "id": "K1RPBZirD7-X",
        "outputId": "7e3772ee-a4ff-4364-9ef9-52d46aea526b"
      },
      "execution_count": null,
      "outputs": [
        {
          "output_type": "execute_result",
          "data": {
            "text/plain": [
              "┌──────────────────────────┬───────┐\n",
              "│         venueId          │  poi  │\n",
              "│         varchar          │ int64 │\n",
              "├──────────────────────────┼───────┤\n",
              "│ 3fd66200f964a52000e71ee3 │     1 │\n",
              "│ 3fd66200f964a52000e81ee3 │     2 │\n",
              "│ 3fd66200f964a52000f11ee3 │     3 │\n",
              "│ 3fd66200f964a52001e51ee3 │     4 │\n",
              "│ 3fd66200f964a52001e81ee3 │     5 │\n",
              "│ 3fd66200f964a52002eb1ee3 │     6 │\n",
              "│ 3fd66200f964a52003e51ee3 │     7 │\n",
              "│ 3fd66200f964a52003e71ee3 │     8 │\n",
              "│ 3fd66200f964a52003e81ee3 │     9 │\n",
              "│ 3fd66200f964a52004e41ee3 │    10 │\n",
              "│            ·             │     · │\n",
              "│            ·             │     · │\n",
              "│            ·             │     · │\n",
              "│ 4b4f4d1bf964a5205a0027e3 │  9991 │\n",
              "│ 4b4f593ef964a5207f0227e3 │  9992 │\n",
              "│ 4b4f59def964a520a20227e3 │  9993 │\n",
              "│ 4b4f5a31f964a520b20227e3 │  9994 │\n",
              "│ 4b4f5dd8f964a520600327e3 │  9995 │\n",
              "│ 4b4f601df964a520cf0327e3 │  9996 │\n",
              "│ 4b4f6600f964a520cf0427e3 │  9997 │\n",
              "│ 4b4f676cf964a520150527e3 │  9998 │\n",
              "│ 4b4f676ff964a520160527e3 │  9999 │\n",
              "│ 4b4f695ef964a520640527e3 │ 10000 │\n",
              "├──────────────────────────┴───────┤\n",
              "│  ? rows (>9999 rows, 20 shown)   │\n",
              "└──────────────────────────────────┘"
            ]
          },
          "metadata": {},
          "execution_count": 38
        }
      ]
    },
    {
      "cell_type": "code",
      "source": [
        "\n",
        "visit_poi = db.sql(\"\"\"\n",
        "  select v.userId, vi.poi, v.datetime\n",
        "  from visit2 v, venueId_poi vi\n",
        "  where v.venueId=vi.venueId\n",
        "\n",
        "\"\"\")\n",
        "visit_poi"
      ],
      "metadata": {
        "colab": {
          "base_uri": "https://localhost:8080/"
        },
        "id": "XB3RSNnyFJDs",
        "outputId": "80b4bcad-ba63-4431-fa3d-5b161510c324"
      },
      "execution_count": null,
      "outputs": [
        {
          "output_type": "execute_result",
          "data": {
            "text/plain": [
              "┌────────┬───────┬──────────────────────────┐\n",
              "│ userId │  poi  │         datetime         │\n",
              "│ int64  │ int64 │ timestamp with time zone │\n",
              "├────────┼───────┼──────────────────────────┤\n",
              "│    470 │  2389 │ 2012-04-03 18:00:09+00   │\n",
              "│    979 │  3922 │ 2012-04-03 18:00:25+00   │\n",
              "│     69 │ 20329 │ 2012-04-03 18:02:24+00   │\n",
              "│    395 │ 15115 │ 2012-04-03 18:02:41+00   │\n",
              "│     87 │ 23551 │ 2012-04-03 18:03:00+00   │\n",
              "│    484 │ 10590 │ 2012-04-03 18:04:00+00   │\n",
              "│    642 │  6366 │ 2012-04-03 18:04:38+00   │\n",
              "│    292 │ 23900 │ 2012-04-03 18:04:42+00   │\n",
              "│    428 │ 23304 │ 2012-04-03 18:06:18+00   │\n",
              "│    877 │ 16382 │ 2012-04-03 18:06:19+00   │\n",
              "│     ·  │    ·  │           ·              │\n",
              "│     ·  │    ·  │           ·              │\n",
              "│     ·  │    ·  │           ·              │\n",
              "│    744 │  6789 │ 2012-07-08 14:10:18+00   │\n",
              "│    293 │ 24571 │ 2012-07-08 14:12:31+00   │\n",
              "│     11 │  3318 │ 2012-07-08 14:16:53+00   │\n",
              "│    908 │  7276 │ 2012-07-08 14:25:08+00   │\n",
              "│    348 │  6789 │ 2012-07-08 14:27:40+00   │\n",
              "│    513 │ 33970 │ 2012-07-08 14:40:06+00   │\n",
              "│   1062 │ 10313 │ 2012-07-08 14:49:21+00   │\n",
              "│    178 │  2818 │ 2012-07-08 14:50:59+00   │\n",
              "│    157 │  2818 │ 2012-07-08 14:56:26+00   │\n",
              "│    484 │ 10235 │ 2012-07-08 14:56:33+00   │\n",
              "├────────┴───────┴──────────────────────────┤\n",
              "│ ? rows (>9999 rows, 20 shown)   3 columns │\n",
              "└───────────────────────────────────────────┘"
            ]
          },
          "metadata": {},
          "execution_count": 39
        }
      ]
    },
    {
      "cell_type": "markdown",
      "source": [
        "### 1.1) Rang\n",
        "Pour chaque utilisateur, ordonner les visites par date et leur attribuer un **rang** allant de 1 (plus ancienne) à n (la plus récente)"
      ],
      "metadata": {
        "id": "OLSok6ocLbdH"
      }
    },
    {
      "cell_type": "code",
      "source": [
        "visit_rank = db.sql(\"\"\"\n",
        "  select userId, poi, datetime, row_number() over(partition by userId order by datetime) as rank\n",
        "  from visit_poi\n",
        "  order by userId, datetime\n",
        "\n",
        "\"\"\")\n",
        "visit_rank"
      ],
      "metadata": {
        "id": "Xbei6sMLpkYI",
        "colab": {
          "base_uri": "https://localhost:8080/"
        },
        "outputId": "4550d361-1efa-4ed7-cb52-df0035d8d22c"
      },
      "execution_count": null,
      "outputs": [
        {
          "output_type": "execute_result",
          "data": {
            "text/plain": [
              "┌────────┬───────┬──────────────────────────┬───────┐\n",
              "│ userId │  poi  │         datetime         │ rank  │\n",
              "│ int64  │ int64 │ timestamp with time zone │ int64 │\n",
              "├────────┼───────┼──────────────────────────┼───────┤\n",
              "│      1 │  6428 │ 2012-04-04 23:31:31+00   │     1 │\n",
              "│      1 │ 24554 │ 2012-04-07 17:42:24+00   │     2 │\n",
              "│      1 │ 26196 │ 2012-04-08 18:20:29+00   │     3 │\n",
              "│      1 │  4131 │ 2012-04-08 20:02:10+00   │     4 │\n",
              "│      1 │   963 │ 2012-04-09 16:20:52+00   │     5 │\n",
              "│      1 │   525 │ 2012-04-10 00:24:31+00   │     6 │\n",
              "│      1 │  1241 │ 2012-04-10 03:36:56+00   │     7 │\n",
              "│      1 │ 33237 │ 2012-04-10 16:21:48+00   │     8 │\n",
              "│      1 │  2643 │ 2012-04-12 17:19:21+00   │     9 │\n",
              "│      1 │ 33237 │ 2012-04-13 15:41:41+00   │    10 │\n",
              "│      · │    ·  │           ·              │     · │\n",
              "│      · │    ·  │           ·              │     · │\n",
              "│      · │    ·  │           ·              │     · │\n",
              "│     56 │  5511 │ 2012-12-22 01:22:30+00   │   308 │\n",
              "│     56 │  3681 │ 2012-12-22 19:30:05+00   │   309 │\n",
              "│     56 │ 31764 │ 2012-12-28 13:01:17+00   │   310 │\n",
              "│     57 │ 15816 │ 2012-04-03 22:26:51+00   │     1 │\n",
              "│     57 │  5651 │ 2012-04-04 13:07:31+00   │     2 │\n",
              "│     57 │ 15816 │ 2012-04-07 13:54:16+00   │     3 │\n",
              "│     57 │ 21139 │ 2012-04-07 16:22:45+00   │     4 │\n",
              "│     57 │ 25176 │ 2012-04-07 20:29:23+00   │     5 │\n",
              "│     57 │  5651 │ 2012-04-09 12:58:54+00   │     6 │\n",
              "│     57 │ 15816 │ 2012-04-09 22:18:52+00   │     7 │\n",
              "├────────┴───────┴──────────────────────────┴───────┤\n",
              "│ ? rows (>9999 rows, 20 shown)           4 columns │\n",
              "└───────────────────────────────────────────────────┘"
            ]
          },
          "metadata": {},
          "execution_count": 40
        }
      ]
    },
    {
      "cell_type": "markdown",
      "source": [
        "### 1.2) Date précédente et déplacement\n",
        " On veut connaitre la durée de déplacement séparant deux visites consécutives d'un meme utilisateur.\n",
        "Pour chaque visite d'un utilisateur, ajouter l'attribut **prev_date** contenant la date de la visite qu'il a effectuée précédemment.\n",
        "\n",
        "Puis ajouter l'attribut **interval_duration** calculé par différence entre la date courante et la date précédente.\n",
        "Indication, voir la fonction *date_diff('sec', a, b)*"
      ],
      "metadata": {
        "id": "K9ZDc-2CIXt7"
      }
    },
    {
      "cell_type": "code",
      "source": [
        "visit_prev_date = db.sql(\"\"\"\n",
        "  select userId, poi, datetime, rank, first(datetime) over (partition by userId order by datetime rows between 1 preceding and current row) prev_date\n",
        "  from visit_rank\n",
        "  order by userId, datetime\n",
        "\n",
        "\"\"\")\n",
        "visit_prev_date"
      ],
      "metadata": {
        "colab": {
          "base_uri": "https://localhost:8080/"
        },
        "id": "k_s5rrbjLhOf",
        "outputId": "8dd593fe-3738-48f2-c8fe-5b16e744e59e"
      },
      "execution_count": null,
      "outputs": [
        {
          "output_type": "execute_result",
          "data": {
            "text/plain": [
              "┌────────┬───────┬──────────────────────────┬───────┬──────────────────────────┐\n",
              "│ userId │  poi  │         datetime         │ rank  │        prev_date         │\n",
              "│ int64  │ int64 │ timestamp with time zone │ int64 │ timestamp with time zone │\n",
              "├────────┼───────┼──────────────────────────┼───────┼──────────────────────────┤\n",
              "│      1 │  6428 │ 2012-04-04 23:31:31+00   │     1 │ 2012-04-04 23:31:31+00   │\n",
              "│      1 │ 24554 │ 2012-04-07 17:42:24+00   │     2 │ 2012-04-04 23:31:31+00   │\n",
              "│      1 │ 26196 │ 2012-04-08 18:20:29+00   │     3 │ 2012-04-07 17:42:24+00   │\n",
              "│      1 │  4131 │ 2012-04-08 20:02:10+00   │     4 │ 2012-04-08 18:20:29+00   │\n",
              "│      1 │   963 │ 2012-04-09 16:20:52+00   │     5 │ 2012-04-08 20:02:10+00   │\n",
              "│      1 │   525 │ 2012-04-10 00:24:31+00   │     6 │ 2012-04-09 16:20:52+00   │\n",
              "│      1 │  1241 │ 2012-04-10 03:36:56+00   │     7 │ 2012-04-10 00:24:31+00   │\n",
              "│      1 │ 33237 │ 2012-04-10 16:21:48+00   │     8 │ 2012-04-10 03:36:56+00   │\n",
              "│      1 │  2643 │ 2012-04-12 17:19:21+00   │     9 │ 2012-04-10 16:21:48+00   │\n",
              "│      1 │ 33237 │ 2012-04-13 15:41:41+00   │    10 │ 2012-04-12 17:19:21+00   │\n",
              "│      · │    ·  │           ·              │     · │           ·              │\n",
              "│      · │    ·  │           ·              │     · │           ·              │\n",
              "│      · │    ·  │           ·              │     · │           ·              │\n",
              "│     56 │  5511 │ 2012-12-22 01:22:30+00   │   308 │ 2012-12-21 23:56:04+00   │\n",
              "│     56 │  3681 │ 2012-12-22 19:30:05+00   │   309 │ 2012-12-22 01:22:30+00   │\n",
              "│     56 │ 31764 │ 2012-12-28 13:01:17+00   │   310 │ 2012-12-22 19:30:05+00   │\n",
              "│     57 │ 15816 │ 2012-04-03 22:26:51+00   │     1 │ 2012-04-03 22:26:51+00   │\n",
              "│     57 │  5651 │ 2012-04-04 13:07:31+00   │     2 │ 2012-04-03 22:26:51+00   │\n",
              "│     57 │ 15816 │ 2012-04-07 13:54:16+00   │     3 │ 2012-04-04 13:07:31+00   │\n",
              "│     57 │ 21139 │ 2012-04-07 16:22:45+00   │     4 │ 2012-04-07 13:54:16+00   │\n",
              "│     57 │ 25176 │ 2012-04-07 20:29:23+00   │     5 │ 2012-04-07 16:22:45+00   │\n",
              "│     57 │  5651 │ 2012-04-09 12:58:54+00   │     6 │ 2012-04-07 20:29:23+00   │\n",
              "│     57 │ 15816 │ 2012-04-09 22:18:52+00   │     7 │ 2012-04-09 12:58:54+00   │\n",
              "├────────┴───────┴──────────────────────────┴───────┴──────────────────────────┤\n",
              "│ ? rows (>9999 rows, 20 shown)                                      5 columns │\n",
              "└──────────────────────────────────────────────────────────────────────────────┘"
            ]
          },
          "metadata": {},
          "execution_count": 41
        }
      ]
    },
    {
      "cell_type": "code",
      "source": [
        "visit_duration = db.sql(\"\"\"\n",
        "  select userId, poi, datetime, rank, prev_date, date_diff('sec', prev_date, datetime) as interval_duration\n",
        "  from visit_prev_date\n",
        "\n",
        "\"\"\")\n",
        "\n",
        "visit_duration"
      ],
      "metadata": {
        "colab": {
          "base_uri": "https://localhost:8080/"
        },
        "id": "gW39ONgfZupK",
        "outputId": "2443ad95-fe33-431f-9f02-084d0678ee94"
      },
      "execution_count": null,
      "outputs": [
        {
          "output_type": "execute_result",
          "data": {
            "text/plain": [
              "┌────────┬───────┬──────────────────────────┬───────┬──────────────────────────┬───────────────────┐\n",
              "│ userId │  poi  │         datetime         │ rank  │        prev_date         │ interval_duration │\n",
              "│ int64  │ int64 │ timestamp with time zone │ int64 │ timestamp with time zone │       int64       │\n",
              "├────────┼───────┼──────────────────────────┼───────┼──────────────────────────┼───────────────────┤\n",
              "│      1 │  6428 │ 2012-04-04 23:31:31+00   │     1 │ 2012-04-04 23:31:31+00   │                 0 │\n",
              "│      1 │ 24554 │ 2012-04-07 17:42:24+00   │     2 │ 2012-04-04 23:31:31+00   │            238253 │\n",
              "│      1 │ 26196 │ 2012-04-08 18:20:29+00   │     3 │ 2012-04-07 17:42:24+00   │             88685 │\n",
              "│      1 │  4131 │ 2012-04-08 20:02:10+00   │     4 │ 2012-04-08 18:20:29+00   │              6101 │\n",
              "│      1 │   963 │ 2012-04-09 16:20:52+00   │     5 │ 2012-04-08 20:02:10+00   │             73122 │\n",
              "│      1 │   525 │ 2012-04-10 00:24:31+00   │     6 │ 2012-04-09 16:20:52+00   │             29019 │\n",
              "│      1 │  1241 │ 2012-04-10 03:36:56+00   │     7 │ 2012-04-10 00:24:31+00   │             11545 │\n",
              "│      1 │ 33237 │ 2012-04-10 16:21:48+00   │     8 │ 2012-04-10 03:36:56+00   │             45892 │\n",
              "│      1 │  2643 │ 2012-04-12 17:19:21+00   │     9 │ 2012-04-10 16:21:48+00   │            176253 │\n",
              "│      1 │ 33237 │ 2012-04-13 15:41:41+00   │    10 │ 2012-04-12 17:19:21+00   │             80540 │\n",
              "│      · │    ·  │           ·              │     · │           ·              │                ·  │\n",
              "│      · │    ·  │           ·              │     · │           ·              │                ·  │\n",
              "│      · │    ·  │           ·              │     · │           ·              │                ·  │\n",
              "│     56 │  5511 │ 2012-12-22 01:22:30+00   │   308 │ 2012-12-21 23:56:04+00   │              5186 │\n",
              "│     56 │  3681 │ 2012-12-22 19:30:05+00   │   309 │ 2012-12-22 01:22:30+00   │             65255 │\n",
              "│     56 │ 31764 │ 2012-12-28 13:01:17+00   │   310 │ 2012-12-22 19:30:05+00   │            495072 │\n",
              "│     57 │ 15816 │ 2012-04-03 22:26:51+00   │     1 │ 2012-04-03 22:26:51+00   │                 0 │\n",
              "│     57 │  5651 │ 2012-04-04 13:07:31+00   │     2 │ 2012-04-03 22:26:51+00   │             52840 │\n",
              "│     57 │ 15816 │ 2012-04-07 13:54:16+00   │     3 │ 2012-04-04 13:07:31+00   │            262005 │\n",
              "│     57 │ 21139 │ 2012-04-07 16:22:45+00   │     4 │ 2012-04-07 13:54:16+00   │              8909 │\n",
              "│     57 │ 25176 │ 2012-04-07 20:29:23+00   │     5 │ 2012-04-07 16:22:45+00   │             14798 │\n",
              "│     57 │  5651 │ 2012-04-09 12:58:54+00   │     6 │ 2012-04-07 20:29:23+00   │            145771 │\n",
              "│     57 │ 15816 │ 2012-04-09 22:18:52+00   │     7 │ 2012-04-09 12:58:54+00   │             33598 │\n",
              "├────────┴───────┴──────────────────────────┴───────┴──────────────────────────┴───────────────────┤\n",
              "│ ? rows (>9999 rows, 20 shown)                                                          6 columns │\n",
              "└──────────────────────────────────────────────────────────────────────────────────────────────────┘"
            ]
          },
          "metadata": {},
          "execution_count": 42
        }
      ]
    },
    {
      "cell_type": "markdown",
      "source": [
        "### 1.3) Numéro de trajectoire\n",
        "\n",
        "Séparer les visites de chaque utilisateur en trajectoires.\n",
        "\n",
        "  * Dans une trajectoire, la durée entre deux visites consécutives ne peut pas dépasser 1 jour (soit 24h * 3600 secondes).\n",
        "\n",
        "Ajouter l'attribut **traj** indiquant le numéro de la trajectoire pour un utilisateur donné.\n",
        "Indication: on peut utiliser une expression *case when then else end*"
      ],
      "metadata": {
        "id": "VeZpBl8qJtUx"
      }
    },
    {
      "cell_type": "code",
      "source": [
        "visit_traj1 = db.sql(\"\"\"\n",
        "  select userId, poi, datetime, rank, prev_date, interval_duration, case when interval_duration>=24*3600 or interval_duration=0 then 1 else 0 end as debut\n",
        "  from visit_duration\n",
        "\"\"\")\n",
        "\n",
        "visit_traj1"
      ],
      "metadata": {
        "colab": {
          "base_uri": "https://localhost:8080/"
        },
        "id": "_KJKgU7UbfCZ",
        "outputId": "cda0429f-e40a-47f1-d97e-e374d6e9e540"
      },
      "execution_count": null,
      "outputs": [
        {
          "output_type": "execute_result",
          "data": {
            "text/plain": [
              "┌────────┬───────┬──────────────────────────┬───────┬──────────────────────────┬───────────────────┬───────┐\n",
              "│ userId │  poi  │         datetime         │ rank  │        prev_date         │ interval_duration │ debut │\n",
              "│ int64  │ int64 │ timestamp with time zone │ int64 │ timestamp with time zone │       int64       │ int32 │\n",
              "├────────┼───────┼──────────────────────────┼───────┼──────────────────────────┼───────────────────┼───────┤\n",
              "│      1 │  6428 │ 2012-04-04 23:31:31+00   │     1 │ 2012-04-04 23:31:31+00   │                 0 │     1 │\n",
              "│      1 │ 24554 │ 2012-04-07 17:42:24+00   │     2 │ 2012-04-04 23:31:31+00   │            238253 │     1 │\n",
              "│      1 │ 26196 │ 2012-04-08 18:20:29+00   │     3 │ 2012-04-07 17:42:24+00   │             88685 │     1 │\n",
              "│      1 │  4131 │ 2012-04-08 20:02:10+00   │     4 │ 2012-04-08 18:20:29+00   │              6101 │     0 │\n",
              "│      1 │   963 │ 2012-04-09 16:20:52+00   │     5 │ 2012-04-08 20:02:10+00   │             73122 │     0 │\n",
              "│      1 │   525 │ 2012-04-10 00:24:31+00   │     6 │ 2012-04-09 16:20:52+00   │             29019 │     0 │\n",
              "│      1 │  1241 │ 2012-04-10 03:36:56+00   │     7 │ 2012-04-10 00:24:31+00   │             11545 │     0 │\n",
              "│      1 │ 33237 │ 2012-04-10 16:21:48+00   │     8 │ 2012-04-10 03:36:56+00   │             45892 │     0 │\n",
              "│      1 │  2643 │ 2012-04-12 17:19:21+00   │     9 │ 2012-04-10 16:21:48+00   │            176253 │     1 │\n",
              "│      1 │ 33237 │ 2012-04-13 15:41:41+00   │    10 │ 2012-04-12 17:19:21+00   │             80540 │     0 │\n",
              "│      · │    ·  │           ·              │     · │           ·              │                ·  │     · │\n",
              "│      · │    ·  │           ·              │     · │           ·              │                ·  │     · │\n",
              "│      · │    ·  │           ·              │     · │           ·              │                ·  │     · │\n",
              "│     56 │  5511 │ 2012-12-22 01:22:30+00   │   308 │ 2012-12-21 23:56:04+00   │              5186 │     0 │\n",
              "│     56 │  3681 │ 2012-12-22 19:30:05+00   │   309 │ 2012-12-22 01:22:30+00   │             65255 │     0 │\n",
              "│     56 │ 31764 │ 2012-12-28 13:01:17+00   │   310 │ 2012-12-22 19:30:05+00   │            495072 │     1 │\n",
              "│     57 │ 15816 │ 2012-04-03 22:26:51+00   │     1 │ 2012-04-03 22:26:51+00   │                 0 │     1 │\n",
              "│     57 │  5651 │ 2012-04-04 13:07:31+00   │     2 │ 2012-04-03 22:26:51+00   │             52840 │     0 │\n",
              "│     57 │ 15816 │ 2012-04-07 13:54:16+00   │     3 │ 2012-04-04 13:07:31+00   │            262005 │     1 │\n",
              "│     57 │ 21139 │ 2012-04-07 16:22:45+00   │     4 │ 2012-04-07 13:54:16+00   │              8909 │     0 │\n",
              "│     57 │ 25176 │ 2012-04-07 20:29:23+00   │     5 │ 2012-04-07 16:22:45+00   │             14798 │     0 │\n",
              "│     57 │  5651 │ 2012-04-09 12:58:54+00   │     6 │ 2012-04-07 20:29:23+00   │            145771 │     1 │\n",
              "│     57 │ 15816 │ 2012-04-09 22:18:52+00   │     7 │ 2012-04-09 12:58:54+00   │             33598 │     0 │\n",
              "├────────┴───────┴──────────────────────────┴───────┴──────────────────────────┴───────────────────┴───────┤\n",
              "│ ? rows (>9999 rows, 20 shown)                                                                  7 columns │\n",
              "└──────────────────────────────────────────────────────────────────────────────────────────────────────────┘"
            ]
          },
          "metadata": {},
          "execution_count": 43
        }
      ]
    },
    {
      "cell_type": "code",
      "source": [
        "visit_traj2 = db.sql(\"\"\"\n",
        "  select userId, poi, datetime, rank, prev_date, interval_duration, debut, sum(debut) over (partition by userId order by userId, datetime) as traj\n",
        "  from visit_traj1\n",
        "  order by userId, datetime\n",
        "\n",
        "\"\"\")\n",
        "visit_traj2"
      ],
      "metadata": {
        "colab": {
          "base_uri": "https://localhost:8080/"
        },
        "id": "x38KMTQMcPRB",
        "outputId": "dc6b82c1-6656-4fd3-bca1-38b51b9e27f8"
      },
      "execution_count": null,
      "outputs": [
        {
          "output_type": "execute_result",
          "data": {
            "text/plain": [
              "┌────────┬───────┬──────────────────────────┬───────┬──────────────────────────┬───────────────────┬───────┬────────┐\n",
              "│ userId │  poi  │         datetime         │ rank  │        prev_date         │ interval_duration │ debut │  traj  │\n",
              "│ int64  │ int64 │ timestamp with time zone │ int64 │ timestamp with time zone │       int64       │ int32 │ int128 │\n",
              "├────────┼───────┼──────────────────────────┼───────┼──────────────────────────┼───────────────────┼───────┼────────┤\n",
              "│      1 │  6428 │ 2012-04-04 23:31:31+00   │     1 │ 2012-04-04 23:31:31+00   │                 0 │     1 │      1 │\n",
              "│      1 │ 24554 │ 2012-04-07 17:42:24+00   │     2 │ 2012-04-04 23:31:31+00   │            238253 │     1 │      2 │\n",
              "│      1 │ 26196 │ 2012-04-08 18:20:29+00   │     3 │ 2012-04-07 17:42:24+00   │             88685 │     1 │      3 │\n",
              "│      1 │  4131 │ 2012-04-08 20:02:10+00   │     4 │ 2012-04-08 18:20:29+00   │              6101 │     0 │      3 │\n",
              "│      1 │   963 │ 2012-04-09 16:20:52+00   │     5 │ 2012-04-08 20:02:10+00   │             73122 │     0 │      3 │\n",
              "│      1 │   525 │ 2012-04-10 00:24:31+00   │     6 │ 2012-04-09 16:20:52+00   │             29019 │     0 │      3 │\n",
              "│      1 │  1241 │ 2012-04-10 03:36:56+00   │     7 │ 2012-04-10 00:24:31+00   │             11545 │     0 │      3 │\n",
              "│      1 │ 33237 │ 2012-04-10 16:21:48+00   │     8 │ 2012-04-10 03:36:56+00   │             45892 │     0 │      3 │\n",
              "│      1 │  2643 │ 2012-04-12 17:19:21+00   │     9 │ 2012-04-10 16:21:48+00   │            176253 │     1 │      4 │\n",
              "│      1 │ 33237 │ 2012-04-13 15:41:41+00   │    10 │ 2012-04-12 17:19:21+00   │             80540 │     0 │      4 │\n",
              "│      · │    ·  │           ·              │     · │           ·              │                ·  │     · │      · │\n",
              "│      · │    ·  │           ·              │     · │           ·              │                ·  │     · │      · │\n",
              "│      · │    ·  │           ·              │     · │           ·              │                ·  │     · │      · │\n",
              "│     56 │  5511 │ 2012-12-22 01:22:30+00   │   308 │ 2012-12-21 23:56:04+00   │              5186 │     0 │     62 │\n",
              "│     56 │  3681 │ 2012-12-22 19:30:05+00   │   309 │ 2012-12-22 01:22:30+00   │             65255 │     0 │     62 │\n",
              "│     56 │ 31764 │ 2012-12-28 13:01:17+00   │   310 │ 2012-12-22 19:30:05+00   │            495072 │     1 │     63 │\n",
              "│     57 │ 15816 │ 2012-04-03 22:26:51+00   │     1 │ 2012-04-03 22:26:51+00   │                 0 │     1 │      1 │\n",
              "│     57 │  5651 │ 2012-04-04 13:07:31+00   │     2 │ 2012-04-03 22:26:51+00   │             52840 │     0 │      1 │\n",
              "│     57 │ 15816 │ 2012-04-07 13:54:16+00   │     3 │ 2012-04-04 13:07:31+00   │            262005 │     1 │      2 │\n",
              "│     57 │ 21139 │ 2012-04-07 16:22:45+00   │     4 │ 2012-04-07 13:54:16+00   │              8909 │     0 │      2 │\n",
              "│     57 │ 25176 │ 2012-04-07 20:29:23+00   │     5 │ 2012-04-07 16:22:45+00   │             14798 │     0 │      2 │\n",
              "│     57 │  5651 │ 2012-04-09 12:58:54+00   │     6 │ 2012-04-07 20:29:23+00   │            145771 │     1 │      3 │\n",
              "│     57 │ 15816 │ 2012-04-09 22:18:52+00   │     7 │ 2012-04-09 12:58:54+00   │             33598 │     0 │      3 │\n",
              "├────────┴───────┴──────────────────────────┴───────┴──────────────────────────┴───────────────────┴───────┴────────┤\n",
              "│ ? rows (>9999 rows, 20 shown)                                                                           8 columns │\n",
              "└───────────────────────────────────────────────────────────────────────────────────────────────────────────────────┘"
            ]
          },
          "metadata": {},
          "execution_count": 44
        }
      ]
    },
    {
      "cell_type": "markdown",
      "source": [
        "## Ex2: Fenètres glissantes"
      ],
      "metadata": {
        "id": "m8XLpvMvLEBw"
      }
    },
    {
      "cell_type": "markdown",
      "source": [
        "### 2.1) Nombre de POI visités en une semaine\n",
        "\n",
        "Ajouter l'attribut **nb_POI_7jours** donnant pour chaque jour où un utilisateur a fait des visites, le nombre de POI visités dans la semaine qui précède."
      ],
      "metadata": {
        "id": "AaU91vK1LIbP"
      }
    },
    {
      "cell_type": "code",
      "source": [
        "visit_semaine = db.sql(\"\"\"\n",
        "  select userId, poi, datetime,  count(poi) over (\n",
        "                                                partition by userId\n",
        "                                                order by datetime\n",
        "                                                range between interval 7 day preceding and current row)\n",
        "                                                as nb_POI_7jours\n",
        "  from visit_poi\n",
        "  order by userId, datetime\n",
        "\"\"\")\n",
        "visit_semaine"
      ],
      "metadata": {
        "colab": {
          "base_uri": "https://localhost:8080/"
        },
        "id": "oVqdYJMxjJrL",
        "outputId": "b4b3c9b0-97dd-46a6-9862-e610bc0d1129"
      },
      "execution_count": null,
      "outputs": [
        {
          "output_type": "execute_result",
          "data": {
            "text/plain": [
              "┌────────┬───────┬──────────────────────────┬───────────────┐\n",
              "│ userId │  poi  │         datetime         │ nb_POI_7jours │\n",
              "│ int64  │ int64 │ timestamp with time zone │     int64     │\n",
              "├────────┼───────┼──────────────────────────┼───────────────┤\n",
              "│      1 │  6428 │ 2012-04-04 23:31:31+00   │             1 │\n",
              "│      1 │ 24554 │ 2012-04-07 17:42:24+00   │             2 │\n",
              "│      1 │ 26196 │ 2012-04-08 18:20:29+00   │             3 │\n",
              "│      1 │  4131 │ 2012-04-08 20:02:10+00   │             4 │\n",
              "│      1 │   963 │ 2012-04-09 16:20:52+00   │             5 │\n",
              "│      1 │   525 │ 2012-04-10 00:24:31+00   │             6 │\n",
              "│      1 │  1241 │ 2012-04-10 03:36:56+00   │             7 │\n",
              "│      1 │ 33237 │ 2012-04-10 16:21:48+00   │             8 │\n",
              "│      1 │  2643 │ 2012-04-12 17:19:21+00   │             8 │\n",
              "│      1 │ 33237 │ 2012-04-13 15:41:41+00   │             9 │\n",
              "│      · │    ·  │           ·              │             · │\n",
              "│      · │    ·  │           ·              │             · │\n",
              "│      · │    ·  │           ·              │             · │\n",
              "│     56 │  5511 │ 2012-12-22 01:22:30+00   │             8 │\n",
              "│     56 │  3681 │ 2012-12-22 19:30:05+00   │             8 │\n",
              "│     56 │ 31764 │ 2012-12-28 13:01:17+00   │             5 │\n",
              "│     57 │ 15816 │ 2012-04-03 22:26:51+00   │             1 │\n",
              "│     57 │  5651 │ 2012-04-04 13:07:31+00   │             2 │\n",
              "│     57 │ 15816 │ 2012-04-07 13:54:16+00   │             3 │\n",
              "│     57 │ 21139 │ 2012-04-07 16:22:45+00   │             4 │\n",
              "│     57 │ 25176 │ 2012-04-07 20:29:23+00   │             5 │\n",
              "│     57 │  5651 │ 2012-04-09 12:58:54+00   │             6 │\n",
              "│     57 │ 15816 │ 2012-04-09 22:18:52+00   │             7 │\n",
              "├────────┴───────┴──────────────────────────┴───────────────┤\n",
              "│ ? rows (>9999 rows, 20 shown)                   4 columns │\n",
              "└───────────────────────────────────────────────────────────┘"
            ]
          },
          "metadata": {},
          "execution_count": 45
        }
      ]
    },
    {
      "cell_type": "markdown",
      "source": [
        "### 2.2) Nombre cumulé de visites par utilisateur\n",
        "\n",
        "Pour chaque utilisateur ajouter un attribut **cumul_visites** indiquant le nombre de visites qu'il a effectuées"
      ],
      "metadata": {
        "id": "tNXhYEQpPm9j"
      }
    },
    {
      "cell_type": "code",
      "source": [
        "visit_cumul = db.sql(\"\"\"\n",
        "  select userId, poi, count(poi) over (partition by userId order by datetime rows between unbounded preceding and current row) as cumul_visites\n",
        "  from visit_poi\n",
        "  order by userId, datetime\n",
        "\"\"\")\n",
        "\n",
        "visit_cumul"
      ],
      "metadata": {
        "colab": {
          "base_uri": "https://localhost:8080/"
        },
        "id": "6LYgsziutzmr",
        "outputId": "8615d5d2-2cb9-4e43-8416-5492705f2205"
      },
      "execution_count": null,
      "outputs": [
        {
          "output_type": "execute_result",
          "data": {
            "text/plain": [
              "┌────────┬───────┬───────────────┐\n",
              "│ userId │  poi  │ cumul_visites │\n",
              "│ int64  │ int64 │     int64     │\n",
              "├────────┼───────┼───────────────┤\n",
              "│      1 │  6428 │             1 │\n",
              "│      1 │ 24554 │             2 │\n",
              "│      1 │ 26196 │             3 │\n",
              "│      1 │  4131 │             4 │\n",
              "│      1 │   963 │             5 │\n",
              "│      1 │   525 │             6 │\n",
              "│      1 │  1241 │             7 │\n",
              "│      1 │ 33237 │             8 │\n",
              "│      1 │  2643 │             9 │\n",
              "│      1 │ 33237 │            10 │\n",
              "│      · │    ·  │             · │\n",
              "│      · │    ·  │             · │\n",
              "│      · │    ·  │             · │\n",
              "│     56 │  5511 │           308 │\n",
              "│     56 │  3681 │           309 │\n",
              "│     56 │ 31764 │           310 │\n",
              "│     57 │ 15816 │             1 │\n",
              "│     57 │  5651 │             2 │\n",
              "│     57 │ 15816 │             3 │\n",
              "│     57 │ 21139 │             4 │\n",
              "│     57 │ 25176 │             5 │\n",
              "│     57 │  5651 │             6 │\n",
              "│     57 │ 15816 │             7 │\n",
              "├────────┴───────┴───────────────┤\n",
              "│ ? rows (>9999 rows, 20 shown)  │\n",
              "└────────────────────────────────┘"
            ]
          },
          "metadata": {},
          "execution_count": 46
        }
      ]
    },
    {
      "cell_type": "markdown",
      "source": [
        "## Exercice 3"
      ],
      "metadata": {
        "id": "6kyCDGMEoqSz"
      }
    },
    {
      "cell_type": "markdown",
      "source": [
        "### 3.1) Visites dans une trajectoire\n",
        "On constate qu'une trajectoire peut contenir plusieurs visites **consécutives** d'un même POI et on veut \"fusionner\" ces visites.\n",
        "Pour chaque trajectoire, agréger les visites consécutives d'un meme POI. Définir les attributs date_début, date_fin pour la visite d'un POI.\n",
        "\n",
        "Rmq1: s'il n'y a pas plusieurs visites consécutives pour un POI alors ses dates de début et de fin sont identiques.\n",
        "\n",
        "Rmq2: une trajectoire peut contenir plusieurs visites non consécutives d'un même POI."
      ],
      "metadata": {
        "id": "huGSY0zkNDd-"
      }
    },
    {
      "cell_type": "code",
      "source": [
        "premiere_visite = db.sql(\"\"\"\n",
        "  select userId, poi, datetime, case\n",
        "                                  when lag(poi) over (partition by userId order by datetime) = poi then 0\n",
        "                                  else 1\n",
        "                                end as premiere\n",
        "  from visit_poi\n",
        "\"\"\")\n",
        "\n",
        "premiere_visite"
      ],
      "metadata": {
        "colab": {
          "base_uri": "https://localhost:8080/"
        },
        "id": "Dhw9juZhWYiE",
        "outputId": "6c0eb161-d7bd-4cd9-c32b-b3a68a30f665"
      },
      "execution_count": null,
      "outputs": [
        {
          "output_type": "execute_result",
          "data": {
            "text/plain": [
              "┌────────┬───────┬──────────────────────────┬──────────┐\n",
              "│ userId │  poi  │         datetime         │ premiere │\n",
              "│ int64  │ int64 │ timestamp with time zone │  int32   │\n",
              "├────────┼───────┼──────────────────────────┼──────────┤\n",
              "│     11 │ 17338 │ 2012-04-23 11:39:18+00   │        1 │\n",
              "│     11 │  4480 │ 2012-04-23 23:39:27+00   │        1 │\n",
              "│     11 │ 17621 │ 2012-04-23 23:42:28+00   │        1 │\n",
              "│     11 │ 23697 │ 2012-04-24 13:09:12+00   │        1 │\n",
              "│     11 │ 21454 │ 2012-04-25 12:22:49+00   │        1 │\n",
              "│     11 │  7432 │ 2012-05-22 13:39:14+00   │        1 │\n",
              "│     11 │  1892 │ 2012-05-25 16:43:47+00   │        1 │\n",
              "│     11 │ 25815 │ 2012-05-27 22:30:06+00   │        1 │\n",
              "│     11 │  5056 │ 2012-05-28 01:40:10+00   │        1 │\n",
              "│     11 │  1293 │ 2012-05-28 13:00:49+00   │        1 │\n",
              "│      · │    ·  │           ·              │        · │\n",
              "│      · │    ·  │           ·              │        · │\n",
              "│      · │    ·  │           ·              │        · │\n",
              "│    479 │ 35809 │ 2012-10-23 11:53:41+00   │        1 │\n",
              "│    479 │ 33807 │ 2012-10-23 11:58:59+00   │        1 │\n",
              "│    479 │ 25670 │ 2012-10-23 11:59:17+00   │        1 │\n",
              "│    479 │ 19150 │ 2012-10-23 12:05:02+00   │        1 │\n",
              "│    479 │  6744 │ 2012-10-23 12:07:03+00   │        1 │\n",
              "│    479 │  6101 │ 2012-10-23 12:13:24+00   │        1 │\n",
              "│    479 │ 32931 │ 2012-10-23 12:14:00+00   │        1 │\n",
              "│    479 │  2767 │ 2012-10-23 12:14:21+00   │        1 │\n",
              "│    479 │ 13394 │ 2012-10-23 12:16:49+00   │        1 │\n",
              "│    479 │  3839 │ 2012-10-23 12:28:53+00   │        1 │\n",
              "├────────┴───────┴──────────────────────────┴──────────┤\n",
              "│ ? rows (>9999 rows, 20 shown)              4 columns │\n",
              "└──────────────────────────────────────────────────────┘"
            ]
          },
          "metadata": {},
          "execution_count": 58
        }
      ]
    },
    {
      "cell_type": "code",
      "source": [
        "rank_visit = db.sql(\"\"\"\n",
        "  select userId, poi, datetime, premiere, sum(premiere) over (partition by userId order by datetime rows between unbounded preceding and current row) visit_rank\n",
        "  from premiere_visite\n",
        "\"\"\")\n",
        "\n",
        "rank_visit"
      ],
      "metadata": {
        "colab": {
          "base_uri": "https://localhost:8080/"
        },
        "id": "zep8qcV_fP1d",
        "outputId": "4ec7e550-0d9d-4fd3-9be2-9b6ade495d17"
      },
      "execution_count": null,
      "outputs": [
        {
          "output_type": "execute_result",
          "data": {
            "text/plain": [
              "┌────────┬───────┬──────────────────────────┬──────────┬────────────┐\n",
              "│ userId │  poi  │         datetime         │ premiere │ visit_rank │\n",
              "│ int64  │ int64 │ timestamp with time zone │  int32   │   int128   │\n",
              "├────────┼───────┼──────────────────────────┼──────────┼────────────┤\n",
              "│     11 │ 17338 │ 2012-04-23 11:39:18+00   │        1 │          1 │\n",
              "│     11 │  4480 │ 2012-04-23 23:39:27+00   │        1 │          2 │\n",
              "│     11 │ 17621 │ 2012-04-23 23:42:28+00   │        1 │          3 │\n",
              "│     11 │ 23697 │ 2012-04-24 13:09:12+00   │        1 │          4 │\n",
              "│     11 │ 21454 │ 2012-04-25 12:22:49+00   │        1 │          5 │\n",
              "│     11 │  7432 │ 2012-05-22 13:39:14+00   │        1 │          6 │\n",
              "│     11 │  1892 │ 2012-05-25 16:43:47+00   │        1 │          7 │\n",
              "│     11 │ 25815 │ 2012-05-27 22:30:06+00   │        1 │          8 │\n",
              "│     11 │  5056 │ 2012-05-28 01:40:10+00   │        1 │          9 │\n",
              "│     11 │  1293 │ 2012-05-28 13:00:49+00   │        1 │         10 │\n",
              "│      · │    ·  │           ·              │        · │          · │\n",
              "│      · │    ·  │           ·              │        · │          · │\n",
              "│      · │    ·  │           ·              │        · │          · │\n",
              "│    479 │ 35809 │ 2012-10-23 11:53:41+00   │        1 │         56 │\n",
              "│    479 │ 33807 │ 2012-10-23 11:58:59+00   │        1 │         57 │\n",
              "│    479 │ 25670 │ 2012-10-23 11:59:17+00   │        1 │         58 │\n",
              "│    479 │ 19150 │ 2012-10-23 12:05:02+00   │        1 │         59 │\n",
              "│    479 │  6744 │ 2012-10-23 12:07:03+00   │        1 │         60 │\n",
              "│    479 │  6101 │ 2012-10-23 12:13:24+00   │        1 │         61 │\n",
              "│    479 │ 32931 │ 2012-10-23 12:14:00+00   │        1 │         62 │\n",
              "│    479 │  2767 │ 2012-10-23 12:14:21+00   │        1 │         63 │\n",
              "│    479 │ 13394 │ 2012-10-23 12:16:49+00   │        1 │         64 │\n",
              "│    479 │  3839 │ 2012-10-23 12:28:53+00   │        1 │         65 │\n",
              "├────────┴───────┴──────────────────────────┴──────────┴────────────┤\n",
              "│ ? rows (>9999 rows, 20 shown)                           5 columns │\n",
              "└───────────────────────────────────────────────────────────────────┘"
            ]
          },
          "metadata": {},
          "execution_count": 59
        }
      ]
    },
    {
      "cell_type": "code",
      "source": [
        "visites_aggregees = db.sql(\"\"\"\n",
        "  select userId, poi, visit_rank, first(datetime) as date_debut, last(datetime) as date_fin\n",
        "  from rank_visit\n",
        "  group by userId, poi, visit_rank\n",
        "\"\"\")\n",
        "\n",
        "visites_aggregees"
      ],
      "metadata": {
        "colab": {
          "base_uri": "https://localhost:8080/"
        },
        "id": "R3wg4BbIcHj5",
        "outputId": "ab8d6f77-3769-4f62-a1e9-c455884399a5"
      },
      "execution_count": null,
      "outputs": [
        {
          "output_type": "execute_result",
          "data": {
            "text/plain": [
              "┌────────┬───────┬────────────┬──────────────────────────┬──────────────────────────┐\n",
              "│ userId │  poi  │ visit_rank │        date_debut        │         date_fin         │\n",
              "│ int64  │ int64 │   int128   │ timestamp with time zone │ timestamp with time zone │\n",
              "├────────┼───────┼────────────┼──────────────────────────┼──────────────────────────┤\n",
              "│    313 │   238 │          7 │ 2012-04-08 02:23:31+00   │ 2012-04-08 02:23:31+00   │\n",
              "│    313 │  1420 │          8 │ 2012-04-08 05:54:25+00   │ 2012-04-08 05:54:25+00   │\n",
              "│    313 │  7095 │         14 │ 2012-04-11 01:32:54+00   │ 2012-04-11 01:32:54+00   │\n",
              "│    313 │ 16849 │         26 │ 2012-04-14 22:41:42+00   │ 2012-04-14 22:41:42+00   │\n",
              "│    313 │ 17807 │         30 │ 2012-04-18 00:02:30+00   │ 2012-04-18 00:02:30+00   │\n",
              "│    313 │ 12952 │         32 │ 2012-04-18 20:30:58+00   │ 2012-04-18 20:30:58+00   │\n",
              "│    313 │ 23469 │         34 │ 2012-04-21 01:31:39+00   │ 2012-04-21 01:31:39+00   │\n",
              "│    313 │ 28002 │         38 │ 2012-04-23 19:44:52+00   │ 2012-04-23 19:44:52+00   │\n",
              "│    313 │ 29003 │         40 │ 2012-04-24 23:50:49+00   │ 2012-04-24 23:50:49+00   │\n",
              "│    313 │  1057 │         47 │ 2012-05-01 17:50:49+00   │ 2012-05-01 17:50:49+00   │\n",
              "│     ·  │    ·  │          · │           ·              │           ·              │\n",
              "│     ·  │    ·  │          · │           ·              │           ·              │\n",
              "│     ·  │    ·  │          · │           ·              │           ·              │\n",
              "│    288 │ 15784 │          3 │ 2012-04-04 11:48:18+00   │ 2012-04-05 11:48:36+00   │\n",
              "│    288 │  5275 │         54 │ 2012-05-06 18:12:58+00   │ 2012-05-06 18:12:58+00   │\n",
              "│    288 │ 16936 │        104 │ 2012-06-08 11:43:17+00   │ 2012-06-08 11:43:17+00   │\n",
              "│    332 │  1497 │         96 │ 2012-11-17 00:31:36+00   │ 2012-11-17 00:31:36+00   │\n",
              "│    360 │  3465 │         51 │ 2012-04-25 22:48:03+00   │ 2012-04-25 22:48:03+00   │\n",
              "│    360 │  1355 │        111 │ 2012-07-08 22:34:06+00   │ 2012-07-08 22:34:06+00   │\n",
              "│    366 │  7986 │          9 │ 2012-04-21 00:29:49+00   │ 2012-04-21 00:29:49+00   │\n",
              "│    366 │ 32518 │         94 │ 2012-08-12 04:23:38+00   │ 2012-08-12 04:23:38+00   │\n",
              "│    366 │  5634 │         98 │ 2012-08-14 22:01:58+00   │ 2012-08-14 22:01:58+00   │\n",
              "│    371 │ 28290 │         70 │ 2012-04-11 18:36:34+00   │ 2012-04-11 18:36:34+00   │\n",
              "├────────┴───────┴────────────┴──────────────────────────┴──────────────────────────┤\n",
              "│ ? rows (>9999 rows, 20 shown)                                           5 columns │\n",
              "└───────────────────────────────────────────────────────────────────────────────────┘"
            ]
          },
          "metadata": {},
          "execution_count": 61
        }
      ]
    },
    {
      "cell_type": "markdown",
      "source": [
        "afficher les visites d'une trajectoire pour laqelle au moins une fusion a été faite."
      ],
      "metadata": {
        "id": "HYQJUJM8mxt8"
      }
    },
    {
      "cell_type": "code",
      "source": [
        "verif1 = db.sql(\"\"\"\n",
        "  select *\n",
        "  from visites_aggregees a\n",
        "  where date_debut!=date_fin\n",
        "  limit 1\n",
        "\"\"\")\n",
        "verif1"
      ],
      "metadata": {
        "colab": {
          "base_uri": "https://localhost:8080/"
        },
        "id": "yzlHexvQivJh",
        "outputId": "57a769c2-ebce-4c8d-8b19-8bf11e59449e"
      },
      "execution_count": null,
      "outputs": [
        {
          "output_type": "execute_result",
          "data": {
            "text/plain": [
              "┌────────┬───────┬────────────┬──────────────────────────┬──────────────────────────┐\n",
              "│ userId │  poi  │ visit_rank │        date_debut        │         date_fin         │\n",
              "│ int64  │ int64 │   int128   │ timestamp with time zone │ timestamp with time zone │\n",
              "├────────┼───────┼────────────┼──────────────────────────┼──────────────────────────┤\n",
              "│     15 │ 28212 │        165 │ 2012-09-13 13:34:10+00   │ 2012-09-14 12:53:21+00   │\n",
              "└────────┴───────┴────────────┴──────────────────────────┴──────────────────────────┘"
            ]
          },
          "metadata": {},
          "execution_count": 68
        }
      ]
    },
    {
      "cell_type": "code",
      "source": [
        "verif = db.sql(\"\"\"\n",
        "  select *\n",
        "  from rank_visit\n",
        "  where userId=15 and poi=28212\n",
        "\"\"\")\n",
        "verif"
      ],
      "metadata": {
        "colab": {
          "base_uri": "https://localhost:8080/"
        },
        "id": "fcYbjMsCi8pm",
        "outputId": "725bb629-00f7-4250-fe3d-093e2300eecf"
      },
      "execution_count": null,
      "outputs": [
        {
          "output_type": "execute_result",
          "data": {
            "text/plain": [
              "┌────────┬───────┬──────────────────────────┬──────────┬────────────┐\n",
              "│ userId │  poi  │         datetime         │ premiere │ visit_rank │\n",
              "│ int64  │ int64 │ timestamp with time zone │  int32   │   int128   │\n",
              "├────────┼───────┼──────────────────────────┼──────────┼────────────┤\n",
              "│     15 │ 28212 │ 2012-09-05 12:33:27+00   │        1 │        158 │\n",
              "│     15 │ 28212 │ 2012-09-13 13:34:10+00   │        1 │        165 │\n",
              "│     15 │ 28212 │ 2012-09-14 12:53:21+00   │        0 │        165 │\n",
              "└────────┴───────┴──────────────────────────┴──────────┴────────────┘"
            ]
          },
          "metadata": {},
          "execution_count": 70
        }
      ]
    }
  ]
}