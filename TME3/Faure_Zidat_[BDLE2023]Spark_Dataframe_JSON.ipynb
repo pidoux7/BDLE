{
  "nbformat": 4,
  "nbformat_minor": 0,
  "metadata": {
    "application/vnd.databricks.v1+notebook": {
      "notebookName": "SparkDataframe-JSON_solutions",
      "dashboards": [],
      "notebookMetadata": {
        "pythonIndentUnit": 2
      },
      "language": "python",
      "widgets": {},
      "notebookOrigID": 620345572627505
    },
    "colab": {
      "provenance": []
    },
    "language_info": {
      "name": "python"
    },
    "kernelspec": {
      "name": "python3",
      "display_name": "Python 3"
    }
  },
  "cells": [
    {
      "cell_type": "markdown",
      "metadata": {
        "application/vnd.databricks.v1+cell": {
          "title": "",
          "showTitle": false,
          "inputWidgets": {},
          "nuid": "6b731d77-eb7f-4548-9ee0-ce03d65ff98c"
        },
        "id": "uoEBE0CnprxJ"
      },
      "source": [
        "* Master DAC - BDLE\n",
        "* Author: Mohamed-Amine Baazizi\n",
        "* Affiliation: LIP6 - Faculté des Sciences - Sorbonne Université\n",
        "* Email: mohamed-amine.baazizi@lip6.fr\n",
        "* October 2023\n"
      ]
    },
    {
      "cell_type": "markdown",
      "metadata": {
        "application/vnd.databricks.v1+cell": {
          "title": "",
          "showTitle": false,
          "inputWidgets": {},
          "nuid": "874bbdf4-8c96-44c8-8a6f-fc19e07d1257"
        },
        "id": "ElCGcuduprxN"
      },
      "source": [
        "# Querying nested data"
      ]
    },
    {
      "cell_type": "markdown",
      "metadata": {
        "application/vnd.databricks.v1+cell": {
          "title": "",
          "showTitle": false,
          "inputWidgets": {},
          "nuid": "d6d50913-1930-490e-8cb5-8059cc813572"
        },
        "id": "4gAH4pUZprxN"
      },
      "source": [
        "This lab session complements the previous session with several concepts:\n",
        "* manipulating irregular, nested data represented in JSON format\n",
        "* using windowing functions, multi-dimensional aggregations, and pivot tables"
      ]
    },
    {
      "cell_type": "markdown",
      "source": [
        "## Pre-requisite"
      ],
      "metadata": {
        "id": "6gUSNVVGMzdI"
      }
    },
    {
      "cell_type": "code",
      "source": [
        "!pip install -q pyspark"
      ],
      "metadata": {
        "id": "1Fi3OVnOMy4S",
        "colab": {
          "base_uri": "https://localhost:8080/"
        },
        "outputId": "6b2dd3ba-06c5-464e-8481-e1d194b744f4"
      },
      "execution_count": 1,
      "outputs": [
        {
          "output_type": "stream",
          "name": "stdout",
          "text": [
            "\u001b[2K     \u001b[90m━━━━━━━━━━━━━━━━━━━━━━━━━━━━━━━━━━━━━━━\u001b[0m \u001b[32m316.9/316.9 MB\u001b[0m \u001b[31m4.3 MB/s\u001b[0m eta \u001b[36m0:00:00\u001b[0m\n",
            "\u001b[?25h  Preparing metadata (setup.py) ... \u001b[?25l\u001b[?25hdone\n",
            "  Building wheel for pyspark (setup.py) ... \u001b[?25l\u001b[?25hdone\n"
          ]
        }
      ]
    },
    {
      "cell_type": "code",
      "source": [
        "from pyspark import SparkConf\n",
        "from pyspark.context import SparkContext\n",
        "from pyspark.sql import SparkSession\n",
        "\n",
        "local = \"local[*]\"\n",
        "appName = \"Spark-Dataframe-JSON\"\n",
        "localConfig = SparkConf().setAppName(appName).setMaster(local).\\\n",
        "  set(\"spark.executor.memory\", \"6G\").\\\n",
        "  set(\"spark.driver.memory\",\"6G\").\\\n",
        "  set(\"spark.sql.catalogImplementation\",\"in-memory\")\n",
        "\n",
        "spark = SparkSession.builder.config(conf = localConfig).getOrCreate()\n",
        "sc = spark.sparkContext\n",
        "sc.setLogLevel(\"ERROR\")"
      ],
      "metadata": {
        "id": "UZhOVOkdNAac"
      },
      "execution_count": 2,
      "outputs": []
    },
    {
      "cell_type": "markdown",
      "source": [
        "### Data loading"
      ],
      "metadata": {
        "id": "C2S85CxrlGjY"
      }
    },
    {
      "cell_type": "code",
      "source": [
        "! mkdir -p /tmp/spark-dataframe/"
      ],
      "metadata": {
        "id": "xicJsDIllHN4"
      },
      "execution_count": 3,
      "outputs": []
    },
    {
      "cell_type": "code",
      "source": [
        "! wget https://nuage.lip6.fr/s/3CFYf9qFNitKKER/download/vk_001.json.zip -O /tmp/spark-dataframe/vk_001.json.zip"
      ],
      "metadata": {
        "colab": {
          "base_uri": "https://localhost:8080/"
        },
        "id": "ILvtIUqdlHzM",
        "outputId": "47188251-31f2-4e4b-90de-efebb4fc0c6f"
      },
      "execution_count": 4,
      "outputs": [
        {
          "output_type": "stream",
          "name": "stdout",
          "text": [
            "--2023-10-09 17:38:13--  https://nuage.lip6.fr/s/3CFYf9qFNitKKER/download/vk_001.json.zip\n",
            "Resolving nuage.lip6.fr (nuage.lip6.fr)... 132.227.201.11\n",
            "Connecting to nuage.lip6.fr (nuage.lip6.fr)|132.227.201.11|:443... connected.\n",
            "HTTP request sent, awaiting response... 200 OK\n",
            "Length: 15376718 (15M) [application/zip]\n",
            "Saving to: ‘/tmp/spark-dataframe/vk_001.json.zip’\n",
            "\n",
            "/tmp/spark-datafram 100%[===================>]  14.66M  5.06MB/s    in 2.9s    \n",
            "\n",
            "2023-10-09 17:38:18 (5.06 MB/s) - ‘/tmp/spark-dataframe/vk_001.json.zip’ saved [15376718/15376718]\n",
            "\n"
          ]
        }
      ]
    },
    {
      "cell_type": "code",
      "source": [
        "! unzip /tmp/spark-dataframe/vk_001.json.zip -d /tmp/spark-dataframe/"
      ],
      "metadata": {
        "colab": {
          "base_uri": "https://localhost:8080/"
        },
        "id": "Qfd-ZtA7lHtA",
        "outputId": "28b873c7-bfff-4280-bc9a-171499f34c68"
      },
      "execution_count": 5,
      "outputs": [
        {
          "output_type": "stream",
          "name": "stdout",
          "text": [
            "Archive:  /tmp/spark-dataframe/vk_001.json.zip\n",
            "  inflating: /tmp/spark-dataframe/vk_001.json  \n"
          ]
        }
      ]
    },
    {
      "cell_type": "code",
      "source": [
        "path = '/tmp/spark-dataframe/'"
      ],
      "metadata": {
        "id": "sZWtNFcblNn6"
      },
      "execution_count": 6,
      "outputs": []
    },
    {
      "cell_type": "markdown",
      "metadata": {
        "application/vnd.databricks.v1+cell": {
          "title": "",
          "showTitle": false,
          "inputWidgets": {},
          "nuid": "6d0b9ed5-34c9-4087-8e89-c4054b53dceb"
        },
        "id": "wy32zRSTprxY"
      },
      "source": [
        "## Dataset loading\n",
        "The dataset used in this lab session describes posts exchanged in a Russian social network, called VK, during the 2018 Russian elections.\n",
        "The schema of this dataset is described in the official API website\n",
        "https://vk.com/dev/streaming_api_docs_2?f=7.%2BЧтение%2Bпотока\n",
        "\n",
        "\n",
        "We will use this dataset to perform some analytics on the type of posts, the tags used in these post and the relationships between authors of the posts."
      ]
    },
    {
      "cell_type": "code",
      "metadata": {
        "application/vnd.databricks.v1+cell": {
          "title": "",
          "showTitle": false,
          "inputWidgets": {},
          "nuid": "15b333f9-91cb-4217-85a2-1b78fc88aac7"
        },
        "colab": {
          "base_uri": "https://localhost:8080/"
        },
        "id": "YidaWoNpprxY",
        "outputId": "28c63beb-1221-4662-ced4-d1a2e8a672a2"
      },
      "source": [
        "data = spark.read.format(\"json\").load(path+'/vk_001.json').distinct()\n",
        "data.count()"
      ],
      "execution_count": 7,
      "outputs": [
        {
          "output_type": "execute_result",
          "data": {
            "text/plain": [
              "30683"
            ]
          },
          "metadata": {},
          "execution_count": 7
        }
      ]
    },
    {
      "cell_type": "code",
      "metadata": {
        "application/vnd.databricks.v1+cell": {
          "title": "",
          "showTitle": false,
          "inputWidgets": {},
          "nuid": "f8f7180a-05dd-46fb-af63-e1a5f743687e"
        },
        "colab": {
          "base_uri": "https://localhost:8080/"
        },
        "id": "R9_4b_OFprxZ",
        "outputId": "19792507-4bb4-4de4-a250-13bf5e0c809b"
      },
      "source": [
        "#examine the schema\n",
        "data.printSchema()"
      ],
      "execution_count": 8,
      "outputs": [
        {
          "output_type": "stream",
          "name": "stdout",
          "text": [
            "root\n",
            " |-- _id: struct (nullable = true)\n",
            " |    |-- $oid: string (nullable = true)\n",
            " |-- code: long (nullable = true)\n",
            " |-- event: struct (nullable = true)\n",
            " |    |-- action: string (nullable = true)\n",
            " |    |-- attachments: array (nullable = true)\n",
            " |    |    |-- element: struct (containsNull = true)\n",
            " |    |    |    |-- album: struct (nullable = true)\n",
            " |    |    |    |    |-- created: long (nullable = true)\n",
            " |    |    |    |    |-- description: string (nullable = true)\n",
            " |    |    |    |    |-- id: string (nullable = true)\n",
            " |    |    |    |    |-- owner_id: long (nullable = true)\n",
            " |    |    |    |    |-- size: long (nullable = true)\n",
            " |    |    |    |    |-- thumb: struct (nullable = true)\n",
            " |    |    |    |    |    |-- access_key: string (nullable = true)\n",
            " |    |    |    |    |    |-- album_id: long (nullable = true)\n",
            " |    |    |    |    |    |-- date: long (nullable = true)\n",
            " |    |    |    |    |    |-- height: long (nullable = true)\n",
            " |    |    |    |    |    |-- id: long (nullable = true)\n",
            " |    |    |    |    |    |-- owner_id: long (nullable = true)\n",
            " |    |    |    |    |    |-- photo_1280: string (nullable = true)\n",
            " |    |    |    |    |    |-- photo_130: string (nullable = true)\n",
            " |    |    |    |    |    |-- photo_2560: string (nullable = true)\n",
            " |    |    |    |    |    |-- photo_604: string (nullable = true)\n",
            " |    |    |    |    |    |-- photo_75: string (nullable = true)\n",
            " |    |    |    |    |    |-- photo_807: string (nullable = true)\n",
            " |    |    |    |    |    |-- text: string (nullable = true)\n",
            " |    |    |    |    |    |-- user_id: long (nullable = true)\n",
            " |    |    |    |    |    |-- width: long (nullable = true)\n",
            " |    |    |    |    |-- title: string (nullable = true)\n",
            " |    |    |    |    |-- updated: long (nullable = true)\n",
            " |    |    |    |-- audio: struct (nullable = true)\n",
            " |    |    |    |    |-- album_id: long (nullable = true)\n",
            " |    |    |    |    |-- artist: string (nullable = true)\n",
            " |    |    |    |    |-- content_restricted: long (nullable = true)\n",
            " |    |    |    |    |-- date: long (nullable = true)\n",
            " |    |    |    |    |-- duration: long (nullable = true)\n",
            " |    |    |    |    |-- genre_id: long (nullable = true)\n",
            " |    |    |    |    |-- id: long (nullable = true)\n",
            " |    |    |    |    |-- lyrics_id: long (nullable = true)\n",
            " |    |    |    |    |-- no_search: long (nullable = true)\n",
            " |    |    |    |    |-- owner_id: long (nullable = true)\n",
            " |    |    |    |    |-- title: string (nullable = true)\n",
            " |    |    |    |    |-- url: string (nullable = true)\n",
            " |    |    |    |-- doc: struct (nullable = true)\n",
            " |    |    |    |    |-- access_key: string (nullable = true)\n",
            " |    |    |    |    |-- date: long (nullable = true)\n",
            " |    |    |    |    |-- ext: string (nullable = true)\n",
            " |    |    |    |    |-- id: long (nullable = true)\n",
            " |    |    |    |    |-- owner_id: long (nullable = true)\n",
            " |    |    |    |    |-- preview: struct (nullable = true)\n",
            " |    |    |    |    |    |-- photo: struct (nullable = true)\n",
            " |    |    |    |    |    |    |-- sizes: array (nullable = true)\n",
            " |    |    |    |    |    |    |    |-- element: struct (containsNull = true)\n",
            " |    |    |    |    |    |    |    |    |-- height: long (nullable = true)\n",
            " |    |    |    |    |    |    |    |    |-- src: string (nullable = true)\n",
            " |    |    |    |    |    |    |    |    |-- type: string (nullable = true)\n",
            " |    |    |    |    |    |    |    |    |-- width: long (nullable = true)\n",
            " |    |    |    |    |    |-- video: struct (nullable = true)\n",
            " |    |    |    |    |    |    |-- file_size: long (nullable = true)\n",
            " |    |    |    |    |    |    |-- height: long (nullable = true)\n",
            " |    |    |    |    |    |    |-- src: string (nullable = true)\n",
            " |    |    |    |    |    |    |-- width: long (nullable = true)\n",
            " |    |    |    |    |-- size: long (nullable = true)\n",
            " |    |    |    |    |-- title: string (nullable = true)\n",
            " |    |    |    |    |-- type: long (nullable = true)\n",
            " |    |    |    |    |-- url: string (nullable = true)\n",
            " |    |    |    |-- link: struct (nullable = true)\n",
            " |    |    |    |    |-- button: struct (nullable = true)\n",
            " |    |    |    |    |    |-- title: string (nullable = true)\n",
            " |    |    |    |    |    |-- url: string (nullable = true)\n",
            " |    |    |    |    |-- button_action: string (nullable = true)\n",
            " |    |    |    |    |-- button_text: string (nullable = true)\n",
            " |    |    |    |    |-- caption: string (nullable = true)\n",
            " |    |    |    |    |-- description: string (nullable = true)\n",
            " |    |    |    |    |-- is_external: long (nullable = true)\n",
            " |    |    |    |    |-- photo: struct (nullable = true)\n",
            " |    |    |    |    |    |-- album_id: long (nullable = true)\n",
            " |    |    |    |    |    |-- date: long (nullable = true)\n",
            " |    |    |    |    |    |-- height: long (nullable = true)\n",
            " |    |    |    |    |    |-- id: long (nullable = true)\n",
            " |    |    |    |    |    |-- lat: double (nullable = true)\n",
            " |    |    |    |    |    |-- long: double (nullable = true)\n",
            " |    |    |    |    |    |-- owner_id: long (nullable = true)\n",
            " |    |    |    |    |    |-- photo_1280: string (nullable = true)\n",
            " |    |    |    |    |    |-- photo_130: string (nullable = true)\n",
            " |    |    |    |    |    |-- photo_2560: string (nullable = true)\n",
            " |    |    |    |    |    |-- photo_604: string (nullable = true)\n",
            " |    |    |    |    |    |-- photo_75: string (nullable = true)\n",
            " |    |    |    |    |    |-- photo_807: string (nullable = true)\n",
            " |    |    |    |    |    |-- text: string (nullable = true)\n",
            " |    |    |    |    |    |-- user_id: long (nullable = true)\n",
            " |    |    |    |    |    |-- width: long (nullable = true)\n",
            " |    |    |    |    |-- preview_page: string (nullable = true)\n",
            " |    |    |    |    |-- preview_url: string (nullable = true)\n",
            " |    |    |    |    |-- target: string (nullable = true)\n",
            " |    |    |    |    |-- title: string (nullable = true)\n",
            " |    |    |    |    |-- url: string (nullable = true)\n",
            " |    |    |    |-- note: struct (nullable = true)\n",
            " |    |    |    |    |-- comments: long (nullable = true)\n",
            " |    |    |    |    |-- date: long (nullable = true)\n",
            " |    |    |    |    |-- id: long (nullable = true)\n",
            " |    |    |    |    |-- owner_id: long (nullable = true)\n",
            " |    |    |    |    |-- read_comments: long (nullable = true)\n",
            " |    |    |    |    |-- title: string (nullable = true)\n",
            " |    |    |    |    |-- view_url: string (nullable = true)\n",
            " |    |    |    |-- page: struct (nullable = true)\n",
            " |    |    |    |    |-- created: long (nullable = true)\n",
            " |    |    |    |    |-- creator_id: long (nullable = true)\n",
            " |    |    |    |    |-- current_user_can_edit: long (nullable = true)\n",
            " |    |    |    |    |-- current_user_can_edit_access: long (nullable = true)\n",
            " |    |    |    |    |-- edited: long (nullable = true)\n",
            " |    |    |    |    |-- editor_id: long (nullable = true)\n",
            " |    |    |    |    |-- group_id: long (nullable = true)\n",
            " |    |    |    |    |-- id: long (nullable = true)\n",
            " |    |    |    |    |-- title: string (nullable = true)\n",
            " |    |    |    |    |-- view_url: string (nullable = true)\n",
            " |    |    |    |    |-- views: long (nullable = true)\n",
            " |    |    |    |    |-- who_can_edit: long (nullable = true)\n",
            " |    |    |    |    |-- who_can_view: long (nullable = true)\n",
            " |    |    |    |-- photo: struct (nullable = true)\n",
            " |    |    |    |    |-- access_key: string (nullable = true)\n",
            " |    |    |    |    |-- album_id: long (nullable = true)\n",
            " |    |    |    |    |-- date: long (nullable = true)\n",
            " |    |    |    |    |-- height: long (nullable = true)\n",
            " |    |    |    |    |-- id: long (nullable = true)\n",
            " |    |    |    |    |-- lat: double (nullable = true)\n",
            " |    |    |    |    |-- long: double (nullable = true)\n",
            " |    |    |    |    |-- owner_id: long (nullable = true)\n",
            " |    |    |    |    |-- photo_1280: string (nullable = true)\n",
            " |    |    |    |    |-- photo_130: string (nullable = true)\n",
            " |    |    |    |    |-- photo_2560: string (nullable = true)\n",
            " |    |    |    |    |-- photo_604: string (nullable = true)\n",
            " |    |    |    |    |-- photo_75: string (nullable = true)\n",
            " |    |    |    |    |-- photo_807: string (nullable = true)\n",
            " |    |    |    |    |-- post_id: long (nullable = true)\n",
            " |    |    |    |    |-- text: string (nullable = true)\n",
            " |    |    |    |    |-- user_id: long (nullable = true)\n",
            " |    |    |    |    |-- width: long (nullable = true)\n",
            " |    |    |    |-- photos_list: array (nullable = true)\n",
            " |    |    |    |    |-- element: string (containsNull = true)\n",
            " |    |    |    |-- poll: struct (nullable = true)\n",
            " |    |    |    |    |-- anonymous: long (nullable = true)\n",
            " |    |    |    |    |-- answer_id: long (nullable = true)\n",
            " |    |    |    |    |-- answers: array (nullable = true)\n",
            " |    |    |    |    |    |-- element: struct (containsNull = true)\n",
            " |    |    |    |    |    |    |-- id: long (nullable = true)\n",
            " |    |    |    |    |    |    |-- rate: double (nullable = true)\n",
            " |    |    |    |    |    |    |-- text: string (nullable = true)\n",
            " |    |    |    |    |    |    |-- votes: long (nullable = true)\n",
            " |    |    |    |    |-- created: long (nullable = true)\n",
            " |    |    |    |    |-- id: long (nullable = true)\n",
            " |    |    |    |    |-- owner_id: long (nullable = true)\n",
            " |    |    |    |    |-- question: string (nullable = true)\n",
            " |    |    |    |    |-- votes: long (nullable = true)\n",
            " |    |    |    |-- type: string (nullable = true)\n",
            " |    |    |    |-- video: struct (nullable = true)\n",
            " |    |    |    |    |-- access_key: string (nullable = true)\n",
            " |    |    |    |    |-- album_id: long (nullable = true)\n",
            " |    |    |    |    |-- can_add: long (nullable = true)\n",
            " |    |    |    |    |-- can_edit: long (nullable = true)\n",
            " |    |    |    |    |-- comments: long (nullable = true)\n",
            " |    |    |    |    |-- content_restricted: long (nullable = true)\n",
            " |    |    |    |    |-- date: long (nullable = true)\n",
            " |    |    |    |    |-- description: string (nullable = true)\n",
            " |    |    |    |    |-- duration: long (nullable = true)\n",
            " |    |    |    |    |-- first_frame_130: string (nullable = true)\n",
            " |    |    |    |    |-- first_frame_160: string (nullable = true)\n",
            " |    |    |    |    |-- first_frame_320: string (nullable = true)\n",
            " |    |    |    |    |-- first_frame_800: string (nullable = true)\n",
            " |    |    |    |    |-- height: long (nullable = true)\n",
            " |    |    |    |    |-- id: long (nullable = true)\n",
            " |    |    |    |    |-- is_private: long (nullable = true)\n",
            " |    |    |    |    |-- live: long (nullable = true)\n",
            " |    |    |    |    |-- owner_id: long (nullable = true)\n",
            " |    |    |    |    |-- photo_130: string (nullable = true)\n",
            " |    |    |    |    |-- photo_320: string (nullable = true)\n",
            " |    |    |    |    |-- photo_640: string (nullable = true)\n",
            " |    |    |    |    |-- photo_800: string (nullable = true)\n",
            " |    |    |    |    |-- platform: string (nullable = true)\n",
            " |    |    |    |    |-- processing: long (nullable = true)\n",
            " |    |    |    |    |-- repeat: long (nullable = true)\n",
            " |    |    |    |    |-- spectators: long (nullable = true)\n",
            " |    |    |    |    |-- title: string (nullable = true)\n",
            " |    |    |    |    |-- upcoming: long (nullable = true)\n",
            " |    |    |    |    |-- user_id: long (nullable = true)\n",
            " |    |    |    |    |-- views: long (nullable = true)\n",
            " |    |    |    |    |-- width: long (nullable = true)\n",
            " |    |-- author: struct (nullable = true)\n",
            " |    |    |-- author_url: string (nullable = true)\n",
            " |    |    |-- id: long (nullable = true)\n",
            " |    |    |-- platform: long (nullable = true)\n",
            " |    |    |-- shared_post_author_id: long (nullable = true)\n",
            " |    |    |-- shared_post_author_url: string (nullable = true)\n",
            " |    |-- creation_time: long (nullable = true)\n",
            " |    |-- event_id: struct (nullable = true)\n",
            " |    |    |-- comment_id: long (nullable = true)\n",
            " |    |    |-- post_id: long (nullable = true)\n",
            " |    |    |-- post_owner_id: long (nullable = true)\n",
            " |    |    |-- shared_post_id: long (nullable = true)\n",
            " |    |    |-- shared_post_owner_id: long (nullable = true)\n",
            " |    |-- event_shared_url: string (nullable = true)\n",
            " |    |-- event_type: string (nullable = true)\n",
            " |    |-- event_url: string (nullable = true)\n",
            " |    |-- geo: struct (nullable = true)\n",
            " |    |    |-- coordinates: string (nullable = true)\n",
            " |    |    |-- place: struct (nullable = true)\n",
            " |    |    |    |-- address: string (nullable = true)\n",
            " |    |    |    |-- checkins: long (nullable = true)\n",
            " |    |    |    |-- city: string (nullable = true)\n",
            " |    |    |    |-- country: string (nullable = true)\n",
            " |    |    |    |-- created: long (nullable = true)\n",
            " |    |    |    |-- group_id: long (nullable = true)\n",
            " |    |    |    |-- group_photo: string (nullable = true)\n",
            " |    |    |    |-- icon: string (nullable = true)\n",
            " |    |    |    |-- id: long (nullable = true)\n",
            " |    |    |    |-- latitude: double (nullable = true)\n",
            " |    |    |    |-- longitude: double (nullable = true)\n",
            " |    |    |    |-- title: string (nullable = true)\n",
            " |    |    |    |-- type: long (nullable = true)\n",
            " |    |    |    |-- updated: long (nullable = true)\n",
            " |    |    |-- showmap: long (nullable = true)\n",
            " |    |    |-- type: string (nullable = true)\n",
            " |    |-- shared_post_creation_time: long (nullable = true)\n",
            " |    |-- shared_post_text: string (nullable = true)\n",
            " |    |-- signer_id: long (nullable = true)\n",
            " |    |-- tags: array (nullable = true)\n",
            " |    |    |-- element: string (containsNull = true)\n",
            " |    |-- text: string (nullable = true)\n",
            "\n"
          ]
        }
      ]
    },
    {
      "cell_type": "markdown",
      "metadata": {
        "application/vnd.databricks.v1+cell": {
          "title": "",
          "showTitle": false,
          "inputWidgets": {},
          "nuid": "a5c2c97f-43bd-4b16-b175-fcbdd7edbe74"
        },
        "id": "dDpBqJ28prxZ"
      },
      "source": [
        "## Questions"
      ]
    },
    {
      "cell_type": "markdown",
      "metadata": {
        "application/vnd.databricks.v1+cell": {
          "title": "",
          "showTitle": false,
          "inputWidgets": {},
          "nuid": "3734f85f-21a0-4c63-b4fb-9da4ba1185a5"
        },
        "id": "Pb4LtVKQprxa"
      },
      "source": [
        "The schema indicates each attribute with nullable=true which is not very informative since we can not know whether a field has missing values.\n",
        "The following instructions count the number of rows w/o missing values for some specific fields of interest."
      ]
    },
    {
      "cell_type": "code",
      "metadata": {
        "application/vnd.databricks.v1+cell": {
          "title": "",
          "showTitle": false,
          "inputWidgets": {},
          "nuid": "7d51ee9e-0266-413d-a3d5-cd96a905a3cb"
        },
        "id": "m98KJWncprxa"
      },
      "source": [
        "att_list = [\"event\",\n",
        "                 \"event.event_id\",\n",
        "                 \"event.event_id.post_id\",\n",
        "                 \"event.event_id.post_owner_id\",\n",
        "                 \"event.event_id.comment_id\",\n",
        "                 \"event.event_id.shared_post_id\",\n",
        "                 \"event.author\",\n",
        "                 \"event.attachments\",\n",
        "                 \"event.geo\",\n",
        "                 \"event.tags\",\n",
        "                 \"event.creation_time\"]"
      ],
      "execution_count": 9,
      "outputs": []
    },
    {
      "cell_type": "code",
      "metadata": {
        "application/vnd.databricks.v1+cell": {
          "title": "",
          "showTitle": false,
          "inputWidgets": {},
          "nuid": "45f92445-f2cc-4bad-a868-2c246eedf210"
        },
        "colab": {
          "base_uri": "https://localhost:8080/"
        },
        "id": "ilDCsjR-prxb",
        "outputId": "40797de6-0d09-4989-f95c-43459cad9972"
      },
      "source": [
        "for att in att_list:\n",
        "    print(\"count of %s=%s\"%(att, data.where(att+ \" is not null\").count()))"
      ],
      "execution_count": 10,
      "outputs": [
        {
          "output_type": "stream",
          "name": "stdout",
          "text": [
            "count of event=30683\n",
            "count of event.event_id=30683\n",
            "count of event.event_id.post_id=30683\n",
            "count of event.event_id.post_owner_id=30683\n",
            "count of event.event_id.comment_id=16518\n",
            "count of event.event_id.shared_post_id=638\n",
            "count of event.author=30683\n",
            "count of event.attachments=15944\n",
            "count of event.geo=22\n",
            "count of event.tags=30683\n",
            "count of event.creation_time=30683\n"
          ]
        }
      ]
    },
    {
      "cell_type": "markdown",
      "metadata": {
        "application/vnd.databricks.v1+cell": {
          "title": "",
          "showTitle": false,
          "inputWidgets": {},
          "nuid": "522322f1-5229-42b2-9e20-9c37455db09c"
        },
        "id": "ooLKXBpiprxb"
      },
      "source": [
        "What do you observe? Which attributes have missing values?\n",
        "\n",
        "event.event_id.comment_id, event.event_id.shared_post_id, event.attachments and event.geo\n",
        "\n",
        "\n",
        "Feel free to examine the content of these attributes (count the number of distinct values, examine a sample of distinct values, etc)"
      ]
    },
    {
      "cell_type": "markdown",
      "metadata": {
        "application/vnd.databricks.v1+cell": {
          "title": "",
          "showTitle": false,
          "inputWidgets": {},
          "nuid": "3952d4e9-2364-456a-865a-1c61e9bdf606"
        },
        "id": "GkQg8U_sprxb"
      },
      "source": [
        "The official documentation (https://vk.com/dev/streaming_api_docs_2?f=7.%2BЧтение%2Bпотока) reports on some assumptions about the presence/absence of values.\n",
        "For example, the field `event.event_id.comment_id` is present only when `event.event_type='comment'` and `event.event_id.shared_post_id` is present only when `event.event_type='share'`.\n",
        "\n",
        "Write two queries to verify these assumptions."
      ]
    },
    {
      "cell_type": "markdown",
      "metadata": {
        "application/vnd.databricks.v1+cell": {
          "title": "",
          "showTitle": false,
          "inputWidgets": {},
          "nuid": "3fbbb414-4ac3-4a17-9db9-1178b16dd5be"
        },
        "id": "kJmWtnOXprxc"
      },
      "source": [
        "#### Check that `event.event_id.comment_id` is present only when `event.event_type='comment'`"
      ]
    },
    {
      "cell_type": "code",
      "source": [
        "data.filter(data.event.event_id.comment_id.isNotNull() & (data.event.event_type !='comment')).count() == 0"
      ],
      "metadata": {
        "colab": {
          "base_uri": "https://localhost:8080/"
        },
        "id": "59RTgtZUUjq2",
        "outputId": "11c44370-065e-46b0-c440-b86d6f645b2e"
      },
      "execution_count": 11,
      "outputs": [
        {
          "output_type": "execute_result",
          "data": {
            "text/plain": [
              "True"
            ]
          },
          "metadata": {},
          "execution_count": 11
        }
      ]
    },
    {
      "cell_type": "markdown",
      "metadata": {
        "application/vnd.databricks.v1+cell": {
          "title": "",
          "showTitle": false,
          "inputWidgets": {},
          "nuid": "7fd1d4b1-5669-479f-9442-74ee3d27fd39"
        },
        "id": "XV4xcggMprxc"
      },
      "source": [
        "#### Check that `event.event_id.shared_post_id` is present only when `event.event_type='share'`"
      ]
    },
    {
      "cell_type": "code",
      "metadata": {
        "application/vnd.databricks.v1+cell": {
          "title": "",
          "showTitle": false,
          "inputWidgets": {},
          "nuid": "af61dfc1-d279-43b9-b4a9-22349ae0f144"
        },
        "colab": {
          "base_uri": "https://localhost:8080/"
        },
        "id": "jE14Js3Qprxc",
        "outputId": "7aedc1f7-ff3f-4369-ae42-4049f19d200d"
      },
      "source": [
        "data.filter(data.event.event_id.shared_post_id.isNotNull() & (data.event.event_type !='share')).count() == 0"
      ],
      "execution_count": 12,
      "outputs": [
        {
          "output_type": "execute_result",
          "data": {
            "text/plain": [
              "True"
            ]
          },
          "metadata": {},
          "execution_count": 12
        }
      ]
    },
    {
      "cell_type": "markdown",
      "metadata": {
        "application/vnd.databricks.v1+cell": {
          "title": "",
          "showTitle": false,
          "inputWidgets": {},
          "nuid": "e5faf6c8-77a9-41ac-b27d-f2a490ba0a62"
        },
        "id": "81hc99X5prxd"
      },
      "source": [
        "#### How many distinct post ids are there?"
      ]
    },
    {
      "cell_type": "code",
      "metadata": {
        "application/vnd.databricks.v1+cell": {
          "title": "",
          "showTitle": false,
          "inputWidgets": {},
          "nuid": "3f14b0e8-cfd6-4c7c-ae1a-98c3f8d7d5f4"
        },
        "id": "E1NOBRuRprxe"
      },
      "source": [
        "from pyspark.sql.functions import count, countDistinct"
      ],
      "execution_count": 13,
      "outputs": []
    },
    {
      "cell_type": "code",
      "metadata": {
        "application/vnd.databricks.v1+cell": {
          "title": "",
          "showTitle": false,
          "inputWidgets": {},
          "nuid": "c6aeca58-f1c9-4b77-8fb0-2635af2a8101"
        },
        "colab": {
          "base_uri": "https://localhost:8080/"
        },
        "id": "JLf2MFHjprxf",
        "outputId": "5f4e0112-6edf-4fae-d977-bce235900a1e"
      },
      "source": [
        "nb_posts = data.agg(countDistinct(data.event.event_id.post_id).alias('distinct'))\n",
        "nb_posts.show()"
      ],
      "execution_count": 14,
      "outputs": [
        {
          "output_type": "stream",
          "name": "stdout",
          "text": [
            "+--------+\n",
            "|distinct|\n",
            "+--------+\n",
            "|   21683|\n",
            "+--------+\n",
            "\n"
          ]
        }
      ]
    },
    {
      "cell_type": "markdown",
      "metadata": {
        "application/vnd.databricks.v1+cell": {
          "title": "",
          "showTitle": false,
          "inputWidgets": {},
          "nuid": "18a5eb84-8408-4db4-979a-b0c24aa14a96"
        },
        "id": "33x5r-bXprxg"
      },
      "source": [
        "#### How many distinct post_ids per event type"
      ]
    },
    {
      "cell_type": "code",
      "metadata": {
        "application/vnd.databricks.v1+cell": {
          "title": "",
          "showTitle": false,
          "inputWidgets": {},
          "nuid": "f2b8dd1b-d33c-48a8-b3fe-74dc5240fbb1"
        },
        "colab": {
          "base_uri": "https://localhost:8080/"
        },
        "id": "OLECgaRCprxh",
        "outputId": "e731695f-8f8a-41fa-8164-cf82d235fdba"
      },
      "source": [
        "post_per_type = data.groupBy(data.event.event_type).agg(countDistinct(data.event.event_id.post_id).alias('distinct'))\n",
        "post_per_type.show()"
      ],
      "execution_count": 15,
      "outputs": [
        {
          "output_type": "stream",
          "name": "stdout",
          "text": [
            "+-----------------+--------+\n",
            "|event[event_type]|distinct|\n",
            "+-----------------+--------+\n",
            "|          comment|   14202|\n",
            "|             post|    8137|\n",
            "|            share|     544|\n",
            "+-----------------+--------+\n",
            "\n"
          ]
        }
      ]
    },
    {
      "cell_type": "markdown",
      "metadata": {
        "application/vnd.databricks.v1+cell": {
          "title": "",
          "showTitle": false,
          "inputWidgets": {},
          "nuid": "84d2e387-91eb-4c1b-8296-c94ee57d57c0"
        },
        "id": "vzhqW9rjprxh"
      },
      "source": [
        "#### Flattening lists of tags"
      ]
    },
    {
      "cell_type": "markdown",
      "metadata": {
        "application/vnd.databricks.v1+cell": {
          "title": "",
          "showTitle": false,
          "inputWidgets": {},
          "nuid": "46cacbe4-56db-44a4-90a8-14af421acd26"
        },
        "id": "NYHcmgNBprxi"
      },
      "source": [
        "In `data`, each object is associated with an array of tags accessed from `event.tags` (see the schema). Write an instruction to add a `tag` column containing a single tag obtained by flattening the `tags` array"
      ]
    },
    {
      "cell_type": "code",
      "metadata": {
        "application/vnd.databricks.v1+cell": {
          "title": "",
          "showTitle": false,
          "inputWidgets": {},
          "nuid": "8cda653d-3761-4027-8446-753a501d70ba"
        },
        "id": "QG__DEDCprxi"
      },
      "source": [
        "from pyspark.sql.functions import explode"
      ],
      "execution_count": 16,
      "outputs": []
    },
    {
      "cell_type": "code",
      "metadata": {
        "application/vnd.databricks.v1+cell": {
          "title": "",
          "showTitle": false,
          "inputWidgets": {},
          "nuid": "d6d96cd3-0765-4e6d-8cea-e96892c28855"
        },
        "colab": {
          "base_uri": "https://localhost:8080/"
        },
        "id": "cO91aImCprxj",
        "outputId": "e02a2b06-29e5-403b-c768-97cdced7e12a"
      },
      "source": [
        "data_with_tags = data.withColumn(\"tag\", explode(data.event.tags))\n",
        "data_with_tags.show()"
      ],
      "execution_count": 17,
      "outputs": [
        {
          "output_type": "stream",
          "name": "stdout",
          "text": [
            "+--------------------+----+--------------------+---------+\n",
            "|                 _id|code|               event|      tag|\n",
            "+--------------------+----+--------------------+---------+\n",
            "|{5a66276e7f254c35...| 100|{new, NULL, {http...| grudinin|\n",
            "|{5a66296f7f254c35...| 100|{new, NULL, {http...|    putin|\n",
            "|{5a68d75a713e4d08...| 100|{new, NULL, {http...|    putin|\n",
            "|{5a68d75a713e4d08...| 100|{new, NULL, {http...|yavlinsky|\n",
            "|{5a68f01c713e4d08...| 100|{new, NULL, {http...|  navalny|\n",
            "|{5a68fe3c713e4d08...| 100|{new, NULL, {http...|    putin|\n",
            "|{5a690364713e4d08...| 100|{new, NULL, {http...|    putin|\n",
            "|{5a69a403713e4d08...| 100|{new, [{NULL, NUL...|    putin|\n",
            "|{5a69b263713e4d08...| 100|{new, [{NULL, NUL...|  navalny|\n",
            "|{5a6a03f7713e4d08...| 100|{new, [{NULL, NUL...|    putin|\n",
            "|{5a6af994713e4d08...| 100|{new, [{NULL, NUL...|    putin|\n",
            "|{5a6b13e4713e4d08...| 100|{new, NULL, {http...|    putin|\n",
            "|{5a6b6900713e4d08...| 100|{new, [{NULL, NUL...|    putin|\n",
            "|{5a6b7918713e4d08...| 100|{new, [{NULL, NUL...|  navalny|\n",
            "|{5a6c7a9e713e4d08...| 100|{new, [{NULL, NUL...| grudinin|\n",
            "|{5a6c844d713e4d08...| 100|{new, NULL, {http...|  navalny|\n",
            "|{5a6cb873713e4d08...| 100|{new, [{NULL, NUL...| grudinin|\n",
            "|{5a6cdfe0713e4d08...| 100|{new, NULL, {http...|  navalny|\n",
            "|{5a6d9add713e4d08...| 100|{new, NULL, {http...|    putin|\n",
            "|{5a6efc6f713e4d08...| 100|{new, NULL, {http...|    putin|\n",
            "+--------------------+----+--------------------+---------+\n",
            "only showing top 20 rows\n",
            "\n"
          ]
        }
      ]
    },
    {
      "cell_type": "markdown",
      "metadata": {
        "application/vnd.databricks.v1+cell": {
          "title": "",
          "showTitle": false,
          "inputWidgets": {},
          "nuid": "3eaa3fc3-bd1e-4e70-a05a-ac090bc60842"
        },
        "id": "vh96FD2bprxk"
      },
      "source": [
        "#### Return the number of distinct post_id per tag. Sort in descending order of count"
      ]
    },
    {
      "cell_type": "code",
      "metadata": {
        "application/vnd.databricks.v1+cell": {
          "title": "",
          "showTitle": false,
          "inputWidgets": {},
          "nuid": "33c99926-6c0d-432d-a534-d4983fd4e479"
        },
        "colab": {
          "base_uri": "https://localhost:8080/"
        },
        "id": "QW1Ua3W6prxl",
        "outputId": "b2619762-0cbf-4251-e1e0-c363a33bba5f"
      },
      "source": [
        "from pyspark.sql.functions import desc\n",
        "objects_per_tag = data_with_tags.groupBy(\"tag\").agg(countDistinct(\"event.event_id.post_id\").alias(\"nb_post\")).orderBy(desc(\"nb_post\"))\n",
        "\n",
        "objects_per_tag.show()"
      ],
      "execution_count": 18,
      "outputs": [
        {
          "output_type": "stream",
          "name": "stdout",
          "text": [
            "+-----------+-------+\n",
            "|        tag|nb_post|\n",
            "+-----------+-------+\n",
            "|      putin|  14859|\n",
            "|   grudinin|   6222|\n",
            "|    navalny|   2616|\n",
            "|    sobchak|   2134|\n",
            "|zhirinovsky|   1231|\n",
            "|      titov|    577|\n",
            "|  yavlinsky|    361|\n",
            "+-----------+-------+\n",
            "\n"
          ]
        }
      ]
    },
    {
      "cell_type": "markdown",
      "metadata": {
        "application/vnd.databricks.v1+cell": {
          "title": "",
          "showTitle": false,
          "inputWidgets": {},
          "nuid": "19a168da-6156-46e6-ba46-9f32ea8ef973"
        },
        "id": "nfM1F2E8prxl"
      },
      "source": [
        "#### Return the number of distinct author.id per tag. Sort in descending order of count"
      ]
    },
    {
      "cell_type": "code",
      "metadata": {
        "application/vnd.databricks.v1+cell": {
          "title": "",
          "showTitle": false,
          "inputWidgets": {},
          "nuid": "661ad1e7-7f97-4675-beb7-694d6d254137"
        },
        "colab": {
          "base_uri": "https://localhost:8080/"
        },
        "id": "nGHd7rk1prxm",
        "outputId": "079898f3-cdb5-4081-a9bb-deae875c3547"
      },
      "source": [
        "authors_per_tag = data_with_tags.groupBy(\"tag\").agg(countDistinct(\"event.author.id\").alias(\"nb_author\")).orderBy(desc(\"nb_author\"))\n",
        "\n",
        "authors_per_tag.show()"
      ],
      "execution_count": 19,
      "outputs": [
        {
          "output_type": "stream",
          "name": "stdout",
          "text": [
            "+-----------+---------+\n",
            "|        tag|nb_author|\n",
            "+-----------+---------+\n",
            "|      putin|    15673|\n",
            "|   grudinin|     6207|\n",
            "|    navalny|     2580|\n",
            "|    sobchak|     2288|\n",
            "|zhirinovsky|     1214|\n",
            "|      titov|      572|\n",
            "|  yavlinsky|      347|\n",
            "+-----------+---------+\n",
            "\n"
          ]
        }
      ]
    },
    {
      "cell_type": "markdown",
      "metadata": {
        "application/vnd.databricks.v1+cell": {
          "title": "",
          "showTitle": false,
          "inputWidgets": {},
          "nuid": "6f0f1299-a899-4c97-b6e2-3d1b85d40e1e"
        },
        "id": "DsEFVAeuprxm"
      },
      "source": [
        "#### Fact-checking using Wikipedia"
      ]
    },
    {
      "cell_type": "markdown",
      "metadata": {
        "application/vnd.databricks.v1+cell": {
          "title": "",
          "showTitle": false,
          "inputWidgets": {},
          "nuid": "41cc71ca-f30b-4d32-b0ea-b2f07dedc4f8"
        },
        "id": "_3SSnBlEprxm"
      },
      "source": [
        "Observe that each tag corresponds to a candidate of the RU2018 Elections (Putin, Titov, etc).\n",
        "We would like to check the relationship between the count of tags per author and the number of votes associated to each candidate.\n",
        "We collect, from Wikipedia, the number of votes per candidates and make it available though the dataset `votes` defined as follows."
      ]
    },
    {
      "cell_type": "code",
      "metadata": {
        "application/vnd.databricks.v1+cell": {
          "title": "",
          "showTitle": false,
          "inputWidgets": {},
          "nuid": "ce0daa76-7f39-4ace-8aee-84d700748bf5"
        },
        "colab": {
          "base_uri": "https://localhost:8080/"
        },
        "id": "LQi20X-Dprxm",
        "outputId": "a95844c6-2115-4cae-c3ba-1bd13972556c"
      },
      "source": [
        "from pyspark.sql.types import *\n",
        "\n",
        "schema_votes = StructType([StructField(\"name\", StringType()),\\\n",
        "                     StructField(\"party\", StringType()),\\\n",
        "                     StructField(\"votes\", LongType())])\n",
        "\n",
        "\n",
        "raw_votes = [(\"putin\", \"Independent\", 56430712),\\\n",
        "             (\"grudinin\", \"Communist\",8659206), \\\n",
        "             (\"zhirinovsky\",\"Liberal Democratic Party\",4154985),\\\n",
        "             (\"sobchak\",\"Civic Initiative\",1238031),\\\n",
        "             (\"yavlinsky\",\"Yabloko\",769644), \\\n",
        "             (\"titov\",\"Party of Growth\",556801)\\\n",
        "            ]\n",
        "\n",
        "votes = spark.createDataFrame(raw_votes,schema_votes)\n",
        "votes.show()"
      ],
      "execution_count": 20,
      "outputs": [
        {
          "output_type": "stream",
          "name": "stdout",
          "text": [
            "+-----------+--------------------+--------+\n",
            "|       name|               party|   votes|\n",
            "+-----------+--------------------+--------+\n",
            "|      putin|         Independent|56430712|\n",
            "|   grudinin|           Communist| 8659206|\n",
            "|zhirinovsky|Liberal Democrati...| 4154985|\n",
            "|    sobchak|    Civic Initiative| 1238031|\n",
            "|  yavlinsky|             Yabloko|  769644|\n",
            "|      titov|     Party of Growth|  556801|\n",
            "+-----------+--------------------+--------+\n",
            "\n"
          ]
        }
      ]
    },
    {
      "cell_type": "markdown",
      "metadata": {
        "application/vnd.databricks.v1+cell": {
          "title": "",
          "showTitle": false,
          "inputWidgets": {},
          "nuid": "1eb8c379-a81d-44f4-837d-a5baa1607c51"
        },
        "id": "EZQD2DaVprxn"
      },
      "source": [
        "#### Return for each candidate the number of its votes and the number of authors who tagged it. What do you observe?"
      ]
    },
    {
      "cell_type": "code",
      "metadata": {
        "application/vnd.databricks.v1+cell": {
          "title": "",
          "showTitle": false,
          "inputWidgets": {},
          "nuid": "5fded003-44f8-4190-8565-bd1ecda28970"
        },
        "colab": {
          "base_uri": "https://localhost:8080/"
        },
        "id": "yACkv643prxn",
        "outputId": "aa4356af-c9fa-4c35-ec1f-1b010785f499"
      },
      "source": [
        "votes_count = votes.join(authors_per_tag).where(\"tag=name\").drop(\"party\", \"tag\")\n",
        "votes_count.show()"
      ],
      "execution_count": 21,
      "outputs": [
        {
          "output_type": "stream",
          "name": "stdout",
          "text": [
            "+-----------+--------+---------+\n",
            "|       name|   votes|nb_author|\n",
            "+-----------+--------+---------+\n",
            "|      putin|56430712|    15673|\n",
            "|   grudinin| 8659206|     6207|\n",
            "|zhirinovsky| 4154985|     1214|\n",
            "|    sobchak| 1238031|     2288|\n",
            "|  yavlinsky|  769644|      347|\n",
            "|      titov|  556801|      572|\n",
            "+-----------+--------+---------+\n",
            "\n"
          ]
        }
      ]
    },
    {
      "cell_type": "markdown",
      "metadata": {
        "application/vnd.databricks.v1+cell": {
          "title": "",
          "showTitle": false,
          "inputWidgets": {},
          "nuid": "d74a6e5a-d7c8-41cc-a06a-b794a9bb0a15"
        },
        "id": "AOW_KUIJprxo"
      },
      "source": [
        "### Window function"
      ]
    },
    {
      "cell_type": "markdown",
      "metadata": {
        "application/vnd.databricks.v1+cell": {
          "title": "",
          "showTitle": false,
          "inputWidgets": {},
          "nuid": "6f0f9048-910d-4359-a682-9ce918bdff95"
        },
        "id": "Ybq-IKfQprxo"
      },
      "source": [
        "Read about the windowing functions https://databricks.com/blog/2015/07/15/introducing-window-functions-in-spark-sql.html."
      ]
    },
    {
      "cell_type": "code",
      "metadata": {
        "application/vnd.databricks.v1+cell": {
          "title": "",
          "showTitle": false,
          "inputWidgets": {},
          "nuid": "1440237b-2101-4d45-acd8-ac94b3eb2b08"
        },
        "id": "uDk75DiJprxo"
      },
      "source": [
        "from pyspark.sql.window import Window\n",
        "from pyspark.sql.functions import rank\n"
      ],
      "execution_count": 22,
      "outputs": []
    },
    {
      "cell_type": "markdown",
      "metadata": {
        "application/vnd.databricks.v1+cell": {
          "title": "",
          "showTitle": false,
          "inputWidgets": {},
          "nuid": "69982c0c-5118-4c62-9012-de5b9170fc69"
        },
        "id": "Gm9jTAX6prxo"
      },
      "source": [
        "Define a window specification for the `votes` and `nb_authors` columns"
      ]
    },
    {
      "cell_type": "code",
      "metadata": {
        "application/vnd.databricks.v1+cell": {
          "title": "",
          "showTitle": false,
          "inputWidgets": {},
          "nuid": "551bfdc6-16b5-4fad-a246-74d53989f9f0"
        },
        "id": "lTlVzx3Dprxo"
      },
      "source": [
        "windowSpecVotes = Window .partitionBy(votes_count['nb_author']).orderBy(votes_count['nb_author'].desc())\n",
        "windowSpecCount = Window .partitionBy(votes_count['nb_author']).orderBy(votes_count['nb_author'].desc())\n"
      ],
      "execution_count": 23,
      "outputs": []
    },
    {
      "cell_type": "code",
      "source": [
        "windowSpecVotes = Window .orderBy(votes_count['nb_author'].desc())\n",
        "windowSpecCount = Window .orderBy(votes_count['nb_author'].desc())"
      ],
      "metadata": {
        "id": "dONlrDqXBroz"
      },
      "execution_count": 24,
      "outputs": []
    },
    {
      "cell_type": "markdown",
      "metadata": {
        "application/vnd.databricks.v1+cell": {
          "title": "",
          "showTitle": false,
          "inputWidgets": {},
          "nuid": "f4fe4e90-7d17-4358-b2dc-c5710fa4778d"
        },
        "id": "0PcS3Rs_prxp"
      },
      "source": [
        "Using the window specifications, augment `votes_count` with two attributes, `votes_rank` and `nbAuths_ranks`, which rank each candidate  based on the number of votes he received  and the number of authors who tagged a post with his name.\n",
        "\n",
        "Hint. The window spans the entire data and does not use any partitioning."
      ]
    },
    {
      "cell_type": "code",
      "metadata": {
        "application/vnd.databricks.v1+cell": {
          "title": "",
          "showTitle": false,
          "inputWidgets": {},
          "nuid": "5c8a1790-8ffc-443d-b5f3-6778220d204a"
        },
        "colab": {
          "base_uri": "https://localhost:8080/"
        },
        "id": "_8L6qWl7prxp",
        "outputId": "18c9c1a1-239e-488d-d65b-af5d404ace49"
      },
      "source": [
        "compare = votes_count\\\n",
        "        .withColumn(\"votes_rank\", rank().over(windowSpecVotes))\\\n",
        "        .withColumn(\"nb_authors_rank\", rank().over(windowSpecCount))\\\n",
        "\n",
        "compare.show()\n"
      ],
      "execution_count": 25,
      "outputs": [
        {
          "output_type": "stream",
          "name": "stdout",
          "text": [
            "+-----------+--------+---------+----------+---------------+\n",
            "|       name|   votes|nb_author|votes_rank|nb_authors_rank|\n",
            "+-----------+--------+---------+----------+---------------+\n",
            "|      putin|56430712|    15673|         1|              1|\n",
            "|   grudinin| 8659206|     6207|         2|              2|\n",
            "|    sobchak| 1238031|     2288|         3|              3|\n",
            "|zhirinovsky| 4154985|     1214|         4|              4|\n",
            "|      titov|  556801|      572|         5|              5|\n",
            "|  yavlinsky|  769644|      347|         6|              6|\n",
            "+-----------+--------+---------+----------+---------------+\n",
            "\n"
          ]
        }
      ]
    },
    {
      "cell_type": "markdown",
      "metadata": {
        "application/vnd.databricks.v1+cell": {
          "title": "",
          "showTitle": false,
          "inputWidgets": {},
          "nuid": "d86e5ce3-4e27-42a3-95ca-b8c431a1e42d"
        },
        "id": "Tz4evj6Eprxp"
      },
      "source": [
        "### Multidimensional aggregation"
      ]
    },
    {
      "cell_type": "markdown",
      "metadata": {
        "application/vnd.databricks.v1+cell": {
          "title": "",
          "showTitle": false,
          "inputWidgets": {},
          "nuid": "b7fd0b2b-ab71-49a2-8370-f26c99275fc5"
        },
        "id": "ROc2mFViprxp"
      },
      "source": [
        "We want to create a cube with three dimensions: `tag`, `event_type` and `month`. While the first two attributes are already available, the month column must be extracted from the `creation_time` attribute using a built-in function.\n",
        "\n",
        "Create a dataset `dataTagMon` obtained by augmenting `data_with_tags` with an attribute `month` containing the month extracted from the `event.creation_time` attribute.\n",
        "\n",
        "Hint. You will notice that only months 1, 2 and 3 exist in the dataset."
      ]
    },
    {
      "cell_type": "code",
      "metadata": {
        "application/vnd.databricks.v1+cell": {
          "title": "",
          "showTitle": false,
          "inputWidgets": {},
          "nuid": "42c14658-4b38-4d4b-a224-801e28f96310"
        },
        "id": "46fAgW5Iprxp"
      },
      "source": [
        "from pyspark.sql.functions import from_unixtime\n",
        "from pyspark.sql.functions import month"
      ],
      "execution_count": 26,
      "outputs": []
    },
    {
      "cell_type": "code",
      "metadata": {
        "application/vnd.databricks.v1+cell": {
          "title": "",
          "showTitle": false,
          "inputWidgets": {},
          "nuid": "43ef7f36-eb23-4f5c-beea-773630e0b305"
        },
        "colab": {
          "base_uri": "https://localhost:8080/"
        },
        "id": "jG3Qc8RWprxq",
        "outputId": "a8526d06-a015-40a2-e0fb-6f2a128cb46e"
      },
      "source": [
        "\n",
        "data_tag_mon = data_with_tags.withColumn(\"month\", month(from_unixtime(data[\"event.creation_time\"])))\n",
        "\n",
        "data_tag_mon.select(\"month\").distinct().show()"
      ],
      "execution_count": 27,
      "outputs": [
        {
          "output_type": "stream",
          "name": "stdout",
          "text": [
            "+-----+\n",
            "|month|\n",
            "+-----+\n",
            "|    1|\n",
            "|    3|\n",
            "|    2|\n",
            "+-----+\n",
            "\n"
          ]
        }
      ]
    },
    {
      "cell_type": "markdown",
      "metadata": {
        "application/vnd.databricks.v1+cell": {
          "title": "",
          "showTitle": false,
          "inputWidgets": {},
          "nuid": "3c7ef8bb-55c3-4377-8f79-8bb92b66ed72"
        },
        "id": "R0O0F2UOprxq"
      },
      "source": [
        "#### For each combination of event_type, tag and month, count the nomber of distinct post_ids"
      ]
    },
    {
      "cell_type": "code",
      "metadata": {
        "application/vnd.databricks.v1+cell": {
          "title": "",
          "showTitle": false,
          "inputWidgets": {},
          "nuid": "9da69d76-00e1-462f-bbb1-d672d97a97ce"
        },
        "colab": {
          "base_uri": "https://localhost:8080/"
        },
        "id": "exoRM_dIprxq",
        "outputId": "5f3792ce-3b2d-4c3f-e7df-a8728a0281a9"
      },
      "source": [
        "from pyspark.sql.functions import approx_count_distinct\n",
        "from pyspark.sql.functions import col\n",
        "\n",
        "tag_event_month = data_tag_mon.withColumn(\"event_type\", col(\"event.event_type\"))\n",
        "tag_event_month = tag_event_month.withColumn(\"post_id\", col(\"event.event_id.post_id\"))\n",
        "tag_event_month = tag_event_month.select(\"event_type\", \"tag\", \"month\", 'post_id')\n",
        "tag_event_month = tag_event_month.groupBy(\"event_type\", \"tag\", \"month\").agg(countDistinct(\"post_id\").alias(\"count_dist_postids\"))\n",
        "\n",
        "tag_event_month.orderBy(desc(\"count_dist_postids\")).show()"
      ],
      "execution_count": 28,
      "outputs": [
        {
          "output_type": "stream",
          "name": "stdout",
          "text": [
            "+----------+--------+-----+------------------+\n",
            "|event_type|     tag|month|count_dist_postids|\n",
            "+----------+--------+-----+------------------+\n",
            "|   comment|   putin|    2|              4191|\n",
            "|   comment|   putin|    3|              3543|\n",
            "|      post|   putin|    2|              2963|\n",
            "|      post|   putin|    3|              2954|\n",
            "|   comment|grudinin|    2|              2012|\n",
            "|   comment|grudinin|    3|              1484|\n",
            "|      post|grudinin|    2|              1409|\n",
            "|   comment|   putin|    1|              1390|\n",
            "|      post|grudinin|    3|              1206|\n",
            "|      post|   putin|    1|              1104|\n",
            "|   comment| navalny|    2|               780|\n",
            "|   comment| sobchak|    3|               538|\n",
            "|      post| sobchak|    2|               503|\n",
            "|   comment| navalny|    1|               474|\n",
            "|      post| navalny|    2|               461|\n",
            "|   comment|grudinin|    1|               442|\n",
            "|   comment| sobchak|    2|               436|\n",
            "|      post| sobchak|    3|               425|\n",
            "|   comment| navalny|    3|               415|\n",
            "|      post|grudinin|    1|               372|\n",
            "+----------+--------+-----+------------------+\n",
            "only showing top 20 rows\n",
            "\n"
          ]
        }
      ]
    },
    {
      "cell_type": "markdown",
      "metadata": {
        "application/vnd.databricks.v1+cell": {
          "title": "",
          "showTitle": false,
          "inputWidgets": {},
          "nuid": "4a94979c-083c-4125-97bc-354eb779d510"
        },
        "id": "AoYXQ5Szprxq"
      },
      "source": [
        "### Pivot table"
      ]
    },
    {
      "cell_type": "markdown",
      "metadata": {
        "application/vnd.databricks.v1+cell": {
          "title": "",
          "showTitle": false,
          "inputWidgets": {},
          "nuid": "4ec557a8-081b-4875-b790-71c6aebc89d7"
        },
        "id": "ZMFl9INuprxq"
      },
      "source": [
        "#### Using the `tag_event_month` table, create a pivot table by reducing the dimensions to month and event type."
      ]
    },
    {
      "cell_type": "code",
      "metadata": {
        "application/vnd.databricks.v1+cell": {
          "title": "",
          "showTitle": false,
          "inputWidgets": {},
          "nuid": "bf4f38d8-e5ee-4356-bd9f-dea177b94016"
        },
        "colab": {
          "base_uri": "https://localhost:8080/"
        },
        "id": "3jXrn7AZprxq",
        "outputId": "1b642073-437b-469b-deea-ca113ff913dc"
      },
      "source": [
        "from pyspark.sql import functions as F\n",
        "month_event_type = (tag_event_month.groupBy(\"month\").pivot(\"event_type\").agg(F.sum(\"count_dist_postids\"))).orderBy('month')\n",
        "month_event_type.printSchema()\n",
        "month_event_type.show()"
      ],
      "execution_count": 29,
      "outputs": [
        {
          "output_type": "stream",
          "name": "stdout",
          "text": [
            "root\n",
            " |-- month: integer (nullable = true)\n",
            " |-- comment: long (nullable = true)\n",
            " |-- post: long (nullable = true)\n",
            " |-- share: long (nullable = true)\n",
            "\n",
            "+-----+-------+----+-----+\n",
            "|month|comment|post|share|\n",
            "+-----+-------+----+-----+\n",
            "|    1|   2564|1986|  100|\n",
            "|    2|   7873|5863|  372|\n",
            "|    3|   6424|5328|  207|\n",
            "+-----+-------+----+-----+\n",
            "\n"
          ]
        }
      ]
    },
    {
      "cell_type": "markdown",
      "metadata": {
        "application/vnd.databricks.v1+cell": {
          "title": "",
          "showTitle": false,
          "inputWidgets": {},
          "nuid": "1f243674-9805-42b6-a042-a3bf81d8ba48"
        },
        "id": "yTF9tW-Uprxr"
      },
      "source": [
        "###  Tag co-occurrence matrix"
      ]
    },
    {
      "cell_type": "markdown",
      "metadata": {
        "application/vnd.databricks.v1+cell": {
          "title": "",
          "showTitle": false,
          "inputWidgets": {},
          "nuid": "5736e929-621d-47ea-aa09-c7a627efccf8"
        },
        "id": "Lpre-U_5prxr"
      },
      "source": [
        "#### create a dataframe indicating for each pair of distinct tags the author that uses both of them."
      ]
    },
    {
      "cell_type": "code",
      "source": [
        "auth_tag = data_with_tags.select(\"tag\",\"event.author.id\")\n",
        "tag_co_occur = auth_tag.alias('a').join(auth_tag.alias('b'),['id'])\n",
        "tag_co_occur = tag_co_occur.select(col(\"a.id\"), col('a.tag'), col('b.tag').alias('otherTag'))\n",
        "tag_co_occur = tag_co_occur.filter(col(\"tag\") != col(\"otherTag\"))\n",
        "tag_co_occur.show()"
      ],
      "metadata": {
        "colab": {
          "base_uri": "https://localhost:8080/"
        },
        "id": "z8pP_LE3g75D",
        "outputId": "e0c7ce05-7bcc-4cd0-bc94-85998d67e4d1"
      },
      "execution_count": 48,
      "outputs": [
        {
          "output_type": "stream",
          "name": "stdout",
          "text": [
            "+---------+-----------+-----------+\n",
            "|       id|        tag|   otherTag|\n",
            "+---------+-----------+-----------+\n",
            "|  2000511|      putin|  yavlinsky|\n",
            "|  2000511|  yavlinsky|      putin|\n",
            "|121013525|      putin|   grudinin|\n",
            "|121013525|      putin|    navalny|\n",
            "|121013525|      putin|   grudinin|\n",
            "|121013525|      putin|   grudinin|\n",
            "|121013525|      putin|   grudinin|\n",
            "|121013525|      putin|   grudinin|\n",
            "| 67260949|      putin|    navalny|\n",
            "|469347470|   grudinin|      putin|\n",
            "|468277944|   grudinin|zhirinovsky|\n",
            "| 54818744|   grudinin|    navalny|\n",
            "| 54818744|   grudinin|zhirinovsky|\n",
            "| 54818744|zhirinovsky|    navalny|\n",
            "| 54818744|zhirinovsky|   grudinin|\n",
            "| 54818744|zhirinovsky|   grudinin|\n",
            "|329909622|   grudinin|      putin|\n",
            "|329909622|   grudinin|    navalny|\n",
            "|329909622|    navalny|      putin|\n",
            "|329909622|    navalny|   grudinin|\n",
            "+---------+-----------+-----------+\n",
            "only showing top 20 rows\n",
            "\n"
          ]
        }
      ]
    },
    {
      "cell_type": "code",
      "source": [
        "# équivalent à l'autre façon juste pour essayer\n",
        "auth_tag = data_with_tags.select(\"tag\",\"event.author.id\")\n",
        "tag_co_occur = auth_tag.alias('a').join(auth_tag.alias('b'), ((col('a.id') == col('b.id')) & (col('b.tag')!=col('b.tag'))))\n",
        "tag_co_occur = tag_co_occur.select(col(\"a.id\"), col('a.tag'), col('b.tag').alias('otherTag'))\n",
        "tag_co_occur.show()"
      ],
      "metadata": {
        "colab": {
          "base_uri": "https://localhost:8080/"
        },
        "id": "mcB5avm_mbEQ",
        "outputId": "c4bb84c9-11da-4612-b2fb-ba57a9f954b8"
      },
      "execution_count": 49,
      "outputs": [
        {
          "output_type": "stream",
          "name": "stdout",
          "text": [
            "+---------+-----------+-----------+\n",
            "|       id|        tag|   otherTag|\n",
            "+---------+-----------+-----------+\n",
            "|  2000511|      putin|  yavlinsky|\n",
            "|  2000511|  yavlinsky|      putin|\n",
            "|121013525|      putin|   grudinin|\n",
            "|121013525|      putin|    navalny|\n",
            "|121013525|      putin|   grudinin|\n",
            "|121013525|      putin|   grudinin|\n",
            "|121013525|      putin|   grudinin|\n",
            "|121013525|      putin|   grudinin|\n",
            "| 67260949|      putin|    navalny|\n",
            "|469347470|   grudinin|      putin|\n",
            "|468277944|   grudinin|zhirinovsky|\n",
            "| 54818744|   grudinin|    navalny|\n",
            "| 54818744|   grudinin|zhirinovsky|\n",
            "| 54818744|zhirinovsky|    navalny|\n",
            "| 54818744|zhirinovsky|   grudinin|\n",
            "| 54818744|zhirinovsky|   grudinin|\n",
            "|329909622|   grudinin|      putin|\n",
            "|329909622|   grudinin|    navalny|\n",
            "|329909622|    navalny|      putin|\n",
            "|329909622|    navalny|   grudinin|\n",
            "+---------+-----------+-----------+\n",
            "only showing top 20 rows\n",
            "\n"
          ]
        }
      ]
    },
    {
      "cell_type": "markdown",
      "metadata": {
        "application/vnd.databricks.v1+cell": {
          "title": "",
          "showTitle": false,
          "inputWidgets": {},
          "nuid": "f19b8b38-060d-4530-9852-2dbc79190a76"
        },
        "id": "N3qnJ3nhprxr"
      },
      "source": [
        "#### Build the tag co-occurence matrix indicating for each pair of tags the number of authors that use them"
      ]
    },
    {
      "cell_type": "code",
      "source": [
        "co_occur_mat = tag_co_occur.groupBy('Tag').pivot('otherTag').count()\n",
        "\n",
        "co_occur_mat.show()"
      ],
      "metadata": {
        "colab": {
          "base_uri": "https://localhost:8080/"
        },
        "id": "pZwHXdmAj0br",
        "outputId": "44c13fb7-7d4b-45e0-816d-2719747edb15"
      },
      "execution_count": 50,
      "outputs": [
        {
          "output_type": "stream",
          "name": "stdout",
          "text": [
            "+-----------+--------+-------+-----+-------+-----+---------+-----------+\n",
            "|        Tag|grudinin|navalny|putin|sobchak|titov|yavlinsky|zhirinovsky|\n",
            "+-----------+--------+-------+-----+-------+-----+---------+-----------+\n",
            "|  yavlinsky|     210|     60|  355|    199|   94|     NULL|        145|\n",
            "|   grudinin|    NULL|   1113| 7267|    722|  140|      210|        714|\n",
            "|      titov|     140|     21|  246|    111| NULL|       94|         90|\n",
            "|    navalny|    1113|   NULL| 1806|    300|   21|       60|         90|\n",
            "|    sobchak|     722|    300| 1299|   NULL|  111|      199|        439|\n",
            "|zhirinovsky|     714|     90|  901|    439|   90|      145|       NULL|\n",
            "|      putin|    7267|   1806| NULL|   1299|  246|      355|        901|\n",
            "+-----------+--------+-------+-----+-------+-----+---------+-----------+\n",
            "\n"
          ]
        }
      ]
    },
    {
      "cell_type": "markdown",
      "metadata": {
        "application/vnd.databricks.v1+cell": {
          "title": "",
          "showTitle": false,
          "inputWidgets": {},
          "nuid": "6a57e4d1-fc45-4fe9-88e5-0a9b441396e7"
        },
        "id": "E5R5AHi-prxt"
      },
      "source": [
        "## END"
      ]
    }
  ]
}