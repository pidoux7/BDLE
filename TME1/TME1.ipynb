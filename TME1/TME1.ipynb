{
  "nbformat": 4,
  "nbformat_minor": 0,
  "metadata": {
    "colab": {
      "provenance": [],
      "toc_visible": true
    },
    "kernelspec": {
      "name": "python3",
      "display_name": "Python 3"
    },
    "language_info": {
      "name": "python"
    }
  },
  "cells": [
    {
      "cell_type": "markdown",
      "metadata": {
        "application/vnd.databricks.v1+cell": {
          "title": "",
          "showTitle": false,
          "inputWidgets": {},
          "nuid": "2fcea654-56eb-4219-a555-b7635dc8ec23"
        },
        "id": "5T30y-4iGpLZ"
      },
      "source": [
        "BDLE 2023\n",
        "\n",
        "date du document  :  18/09/2023"
      ]
    },
    {
      "cell_type": "markdown",
      "metadata": {
        "application/vnd.databricks.v1+cell": {
          "title": "",
          "showTitle": false,
          "inputWidgets": {},
          "nuid": "538800ba-6d08-40a7-b6b6-829b40085742"
        },
        "id": "L_q0KahUGpLc"
      },
      "source": [
        "# TP1 2023 Préparation de données  (ETUDIANT)\n",
        "\n",
        "\n",
        "Préparation de données\n"
      ]
    },
    {
      "cell_type": "markdown",
      "metadata": {
        "application/vnd.databricks.v1+cell": {
          "title": "",
          "showTitle": false,
          "inputWidgets": {},
          "nuid": "b15737ae-19bd-4b9f-b9f3-52388cc5e50e"
        },
        "id": "levNDESpS1hT"
      },
      "source": [
        "## Préparation du TP"
      ]
    },
    {
      "cell_type": "markdown",
      "metadata": {
        "application/vnd.databricks.v1+cell": {
          "title": "",
          "showTitle": false,
          "inputWidgets": {},
          "nuid": "b6afe82e-35d6-4358-9b79-8f56074e0908"
        },
        "id": "4pZBsez9S1hT"
      },
      "source": [
        "Vérifier que des ressources de calcul sont allouées à votre notebook  (cf RAM  de disque indiqués en haut à droite) . Sinon cliquer sur le bouton connecter pour obtenir des ressources.\n",
        "\n",
        "\n"
      ]
    },
    {
      "cell_type": "markdown",
      "metadata": {
        "id": "CEjerqQ6Ink6"
      },
      "source": [
        "Pour accéder directement aux fichiers stockées sur votre google drive. Renseigner le code d'authentification lorsqu'il est demandé\n",
        "\n",
        "Ajuster le nom de votre dossier : MyDrive/ens/bdle/TP1"
      ]
    },
    {
      "cell_type": "code",
      "metadata": {
        "id": "g7Dv93rsImuM",
        "colab": {
          "base_uri": "https://localhost:8080/"
        },
        "outputId": "dbf2cddc-19f4-4f54-9e73-5f279f490939"
      },
      "source": [
        "import os\n",
        "from google.colab import drive\n",
        "drive.mount(\"/content/drive\")\n",
        "\n",
        "drive_dir = \"/content/drive/MyDrive/ens/bdle/TP1\"\n",
        "os.makedirs(drive_dir, exist_ok=True)\n",
        "os.listdir(drive_dir)"
      ],
      "execution_count": null,
      "outputs": [
        {
          "output_type": "stream",
          "name": "stdout",
          "text": [
            "Drive already mounted at /content/drive; to attempt to forcibly remount, call drive.mount(\"/content/drive\", force_remount=True).\n"
          ]
        },
        {
          "output_type": "execute_result",
          "data": {
            "text/plain": [
              "[]"
            ]
          },
          "metadata": {},
          "execution_count": 50
        }
      ]
    },
    {
      "cell_type": "markdown",
      "metadata": {
        "id": "7v9EXMl8aPZC"
      },
      "source": [
        "Installer pyspark et findspark (durée 1'):\n"
      ]
    },
    {
      "cell_type": "code",
      "metadata": {
        "id": "3zlwNHy1S8C2"
      },
      "source": [
        "!pip install -q pyspark\n",
        "!pip install -q findspark"
      ],
      "execution_count": null,
      "outputs": []
    },
    {
      "cell_type": "markdown",
      "metadata": {
        "id": "PnEmOd_zOUo0"
      },
      "source": [
        "Démarrer la session spark"
      ]
    },
    {
      "cell_type": "code",
      "metadata": {
        "id": "W0ADH0J-VW7i",
        "colab": {
          "base_uri": "https://localhost:8080/"
        },
        "outputId": "bb3de4a0-dc9b-4706-ae54-c25fef1a2ce3"
      },
      "source": [
        "import os\n",
        "import glob\n",
        "\n",
        "pyspark_dir = glob.glob('/usr/local/lib/python*/dist-packages/pyspark')[0]\n",
        "print(\"pyspark directory is\", pyspark_dir)\n",
        "os.environ[\"SPARK_HOME\"] = pyspark_dir\n",
        "os.environ[\"JAVA_HOME\"] = \"/usr\""
      ],
      "execution_count": null,
      "outputs": [
        {
          "output_type": "stream",
          "name": "stdout",
          "text": [
            "pyspark directory is /usr/local/lib/python3.10/dist-packages/pyspark\n"
          ]
        }
      ]
    },
    {
      "cell_type": "code",
      "metadata": {
        "id": "Q_WxQZB7TaUC",
        "colab": {
          "base_uri": "https://localhost:8080/"
        },
        "outputId": "7c68ff45-d891-46a1-c57d-bc6909ce2370"
      },
      "source": [
        "# Principaux import\n",
        "import findspark\n",
        "from pyspark.sql import SparkSession\n",
        "from pyspark import SparkConf\n",
        "\n",
        "# pour les dataframe et udf\n",
        "from pyspark.sql import *\n",
        "from pyspark.sql.functions import *\n",
        "from pyspark.sql.types import *\n",
        "from datetime import *\n",
        "\n",
        "# pour le chronomètre\n",
        "import time\n",
        "\n",
        "# initialise les variables d'environnement pour spark\n",
        "findspark.init()\n",
        "\n",
        "# Démarrage session spark\n",
        "# --------------------------\n",
        "def demarrer_spark():\n",
        "  local = \"local[*]\"\n",
        "  appName = \"TP\"\n",
        "  configLocale = SparkConf().setAppName(appName).setMaster(local).\\\n",
        "  set(\"spark.executor.memory\", \"6G\").\\\n",
        "  set(\"spark.driver.memory\",\"6G\").\\\n",
        "  set(\"spark.sql.catalogImplementation\",\"in-memory\")\n",
        "\n",
        "  spark = SparkSession.builder.config(conf = configLocale).getOrCreate()\n",
        "  sc = spark.sparkContext\n",
        "  sc.setLogLevel(\"ERROR\")\n",
        "\n",
        "  spark.conf.set(\"spark.sql.autoBroadcastJoinThreshold\",\"-1\")\n",
        "\n",
        "  # On ajuste l'environnement d'exécution des requêtes à la taille du cluster (4 coeurs)\n",
        "  spark.conf.set(\"spark.sql.shuffle.partitions\",\"4\")\n",
        "  print(\"session démarrée, son id est \", sc.applicationId)\n",
        "  return spark\n",
        "spark = demarrer_spark()"
      ],
      "execution_count": null,
      "outputs": [
        {
          "output_type": "stream",
          "name": "stdout",
          "text": [
            "session démarrée, son id est  local-1695812866972\n"
          ]
        }
      ]
    },
    {
      "cell_type": "code",
      "metadata": {
        "application/vnd.databricks.v1+cell": {
          "title": "",
          "showTitle": false,
          "inputWidgets": {},
          "nuid": "852847c4-bd45-4f9c-ae8b-2c704f389cf9"
        },
        "id": "fj9pUgrmGpLe",
        "colab": {
          "base_uri": "https://localhost:8080/"
        },
        "outputId": "a0b7c497-aec5-49d3-af49-a93140bc556b"
      },
      "source": [
        "# on utilise 8 partitions au lieu de 200 par défaut\n",
        "spark.conf.set(\"spark.sql.shuffle.partitions\", \"8\")\n",
        "print(\"Nombre de partitions utilisées : \", spark.conf.get(\"spark.sql.shuffle.partitions\"))"
      ],
      "execution_count": null,
      "outputs": [
        {
          "output_type": "stream",
          "name": "stdout",
          "text": [
            "Nombre de partitions utilisées :  8\n"
          ]
        }
      ]
    },
    {
      "cell_type": "code",
      "metadata": {
        "id": "wDs-7bQnatJ4"
      },
      "source": [
        "# Optionnel :\n",
        "# pour l'accès à spark UI : voir https://www.analyticsvidhya.com/blog/2020/11/a-must-read-guide-on-how-to-work-with-pyspark-on-google-colab-for-data-scientists/\n",
        "# !wget https://bin.equinox.io/c/4VmDzA7iaHb/ngrok-stable-linux-amd64.zip\n",
        "# !unzip ngrok-stable-linux-amd64.zip\n",
        "# get_ipython().system_raw('./ngrok http 4050 &')\n",
        "# !curl -s http://localhost:4040/api/tunnels"
      ],
      "execution_count": null,
      "outputs": []
    },
    {
      "cell_type": "markdown",
      "metadata": {
        "id": "6PPivNNpOcBT"
      },
      "source": [
        "Redéfinir la fonction **display** pour afficher le resutltat des requêtes dans un tableau"
      ]
    },
    {
      "cell_type": "code",
      "metadata": {
        "id": "FFu44fW7LRgC"
      },
      "source": [
        "import pandas as pd\n",
        "from google.colab import data_table\n",
        "\n",
        "# alternatives to Databricks display function.\n",
        "\n",
        "def display(df, n=100):\n",
        "  return data_table.DataTable(df.limit(n).toPandas(), include_index=False, num_rows_per_page=10)\n",
        "\n",
        "def display2(df, n=20):\n",
        "  pd.set_option('max_columns', None)\n",
        "  pd.set_option('max_colwidth', None)\n",
        "  return df.limit(n).toPandas()\n"
      ],
      "execution_count": null,
      "outputs": []
    },
    {
      "cell_type": "markdown",
      "metadata": {
        "id": "I0-keRafUD5N"
      },
      "source": [
        "Définir le tag **%%sql** pour pouvoir écrire plus simplement des requêtes en SQL dans une cellule"
      ]
    },
    {
      "cell_type": "code",
      "metadata": {
        "id": "eJ7aiRS-gaVF"
      },
      "source": [
        "from IPython.core.magic import (register_line_magic, register_cell_magic, register_line_cell_magic)\n",
        "\n",
        "def removeComments(query):\n",
        "  result = \"\"\n",
        "  for line in query.split('\\n'):\n",
        "    if not(line.strip().startswith(\"--\")):\n",
        "      result += line + \"\\n\"\n",
        "  return result\n",
        "\n",
        "@register_line_cell_magic\n",
        "def sql(line, cell=None):\n",
        "    \"To run a sql query. Use:  %%sql\"\n",
        "    val = cell if cell is not None else line\n",
        "    tabRequetes = removeComments(val).split(\";\")\n",
        "    derniere = None\n",
        "    est_requete = False\n",
        "    for r in tabRequetes:\n",
        "        r = r.strip()\n",
        "        if len(r) > 2:\n",
        "          derniere = spark.sql(r)\n",
        "          est_requete = ( r.lower().startswith('select')or r.lower().startswith('with'))\n",
        "    if(est_requete):\n",
        "      return display(derniere)\n",
        "    else:\n",
        "      return print('ok')"
      ],
      "execution_count": null,
      "outputs": []
    },
    {
      "cell_type": "code",
      "metadata": {
        "id": "6jfVOKdrKTDG"
      },
      "source": [
        "# facultatif (à ne pas utiliser)\n",
        "# %load_ext google.colab.data_table\n",
        "# %unload_ext google.colab.data_table"
      ],
      "execution_count": null,
      "outputs": []
    },
    {
      "cell_type": "markdown",
      "metadata": {
        "application/vnd.databricks.v1+cell": {
          "title": "",
          "showTitle": false,
          "inputWidgets": {},
          "nuid": "b15737ae-19bd-4b9f-b9f3-52388cc5e50e"
        },
        "id": "sIeeBKU2GpLc"
      },
      "source": [
        "## Accès aux données"
      ]
    },
    {
      "cell_type": "markdown",
      "metadata": {
        "application/vnd.databricks.v1+cell": {
          "title": "",
          "showTitle": false,
          "inputWidgets": {},
          "nuid": "9b13d583-eac5-414c-b544-43024c76c144"
        },
        "id": "NqVvf8iLGpLf"
      },
      "source": [
        "### URL pour l'accès aux datasets"
      ]
    },
    {
      "cell_type": "code",
      "metadata": {
        "application/vnd.databricks.v1+cell": {
          "title": "",
          "showTitle": false,
          "inputWidgets": {},
          "nuid": "8a1fead0-61e4-4d04-a2c0-7858f767b0a1"
        },
        "id": "8g6iWNvES1hW",
        "colab": {
          "base_uri": "https://localhost:8080/"
        },
        "outputId": "70b14d2d-09d2-4ce9-ea51-52e0e213e945"
      },
      "source": [
        "# URL du dossier PUBLIC_DATASET contenant des fichiers de données pour les TP\n",
        "# ---------------------------------------------------------------------------\n",
        "# en cas de problème avec le téléchargement des datasets, aller directement sur l'URL ci-dessous\n",
        "PUBLIC_DATASET_URL = \"https://nuage.lip6.fr/s/H3bpyRGgnCq2NR4\"\n",
        "PUBLIC_DATASET=PUBLIC_DATASET_URL + \"/download?path=\"\n",
        "\n",
        "print(\"URL du dossier contenant les datasets \", PUBLIC_DATASET_URL)"
      ],
      "execution_count": null,
      "outputs": [
        {
          "output_type": "stream",
          "name": "stdout",
          "text": [
            "URL du dossier contenant les datasets  https://nuage.lip6.fr/s/H3bpyRGgnCq2NR4\n"
          ]
        }
      ]
    },
    {
      "cell_type": "markdown",
      "source": [
        "### Données de mobilité"
      ],
      "metadata": {
        "id": "IIZzFLxu7d-z"
      }
    },
    {
      "cell_type": "markdown",
      "source": [
        "Données issues du dataset YFCC"
      ],
      "metadata": {
        "id": "D7O1KY6QBSsN"
      }
    },
    {
      "cell_type": "code",
      "source": [
        "local_dir = \"/local/data\"\n",
        "os.makedirs(local_dir, exist_ok=True)\n",
        "os.listdir(local_dir)"
      ],
      "metadata": {
        "colab": {
          "base_uri": "https://localhost:8080/"
        },
        "id": "9sPqSsqS5Vjq",
        "outputId": "1e068243-8158-4523-82bf-b728bf0dc9bc"
      },
      "execution_count": null,
      "outputs": [
        {
          "output_type": "execute_result",
          "data": {
            "text/plain": [
              "['POI-Toro.csv', 'userVisits-Toro.csv', 'allCountries.zip', 'allCountries.txt']"
            ]
          },
          "metadata": {},
          "execution_count": 60
        }
      ]
    },
    {
      "cell_type": "code",
      "source": [
        "from urllib import request\n",
        "\n",
        "# download dataset if not already donwloaded\n",
        "def download_file(web_dir, local_dir, file):\n",
        "  local_file = local_dir + \"/\" + file\n",
        "  web_file = web_dir + \"/\" + file\n",
        "  if(os.path.isfile(local_file)):\n",
        "    print(file, \"is already stored\")\n",
        "  else:\n",
        "    print(\"downloading from URL: \", web_file , \"save in : \" + local_file)\n",
        "    request.urlretrieve(web_file , local_file)\n",
        "\n",
        "# user visits\n",
        "web_dir = PUBLIC_DATASET + \"YFCC_POI_dataset_K_H_LIM/dataset_IJCAI_2015/data-ijcai15/userVisits-ijcai15\"\n",
        "download_file(web_dir, local_dir, \"userVisits-Toro.csv\")\n",
        "\n",
        "# poi\n",
        "web_dir = PUBLIC_DATASET + \"YFCC_POI_dataset_K_H_LIM/dataset_IJCAI_2015/data-ijcai15/poiList-ijcai15\"\n",
        "download_file(web_dir, local_dir, \"POI-Toro.csv\")\n",
        "\n",
        "\n",
        "\n",
        "os.listdir(local_dir)"
      ],
      "metadata": {
        "colab": {
          "base_uri": "https://localhost:8080/"
        },
        "id": "gzNZ7fIO8L-y",
        "outputId": "336076d7-c120-468c-b0d0-a35f2b2527a4"
      },
      "execution_count": null,
      "outputs": [
        {
          "output_type": "stream",
          "name": "stdout",
          "text": [
            "userVisits-Toro.csv is already stored\n",
            "POI-Toro.csv is already stored\n"
          ]
        },
        {
          "output_type": "execute_result",
          "data": {
            "text/plain": [
              "['POI-Toro.csv', 'userVisits-Toro.csv', 'allCountries.zip', 'allCountries.txt']"
            ]
          },
          "metadata": {},
          "execution_count": 61
        }
      ]
    },
    {
      "cell_type": "markdown",
      "source": [
        "### Les visites"
      ],
      "metadata": {
        "id": "tkjftQnIDx8u"
      }
    },
    {
      "cell_type": "markdown",
      "source": [
        "Lire les 2 premières lignes du  fichier csv en python.\n",
        "Est ce que le fichier a une ligne d'entête ?\n",
        "Quel caractère délimite deux valeurs consécutives dans une ligne de données ?"
      ],
      "metadata": {
        "id": "tl73T_2Y45Yq"
      }
    },
    {
      "cell_type": "code",
      "source": [
        "f = open(local_dir + \"/\" + \"userVisits-Toro.csv\", \"r\")\n",
        "print(f.readline()); print(f.readline())"
      ],
      "metadata": {
        "colab": {
          "base_uri": "https://localhost:8080/"
        },
        "id": "eWwcNwTR4Y_M",
        "outputId": "0210e018-9df3-44f8-b1d1-45585b61b57d"
      },
      "execution_count": null,
      "outputs": [
        {
          "output_type": "stream",
          "name": "stdout",
          "text": [
            "\"photoID\";\"userID\";\"dateTaken\";\"poiID\";\"poiTheme\";\"poiFreq\";\"seqID\"\n",
            "\n",
            "7941504100;\"10007579@N00\";1346844688;30;\"Structure\";1538;1\n",
            "\n"
          ]
        }
      ]
    },
    {
      "cell_type": "markdown",
      "source": [
        "Lire le fichier des visites *sans* préciser le type des attributs.\n",
        "Par défaut, tous les attributs sont considérés comme étant de type string."
      ],
      "metadata": {
        "id": "-yuRfs1cBvCG"
      }
    },
    {
      "cell_type": "code",
      "source": [
        "user_visits = spark.read.option(\"header\", \"True\").option(\"delimiter\", \";\").format(\"csv\").load(local_dir + \"/\" + \"userVisits-Toro.csv\")\n",
        "user_visits.show(3)\n",
        "user_visits.printSchema()"
      ],
      "metadata": {
        "colab": {
          "base_uri": "https://localhost:8080/"
        },
        "id": "EnEfpcDwBa3m",
        "outputId": "13ab7b79-a4c0-4e74-d78b-346808b09d63"
      },
      "execution_count": null,
      "outputs": [
        {
          "output_type": "stream",
          "name": "stdout",
          "text": [
            "+----------+------------+----------+-----+---------+-------+-----+\n",
            "|   photoID|      userID| dateTaken|poiID| poiTheme|poiFreq|seqID|\n",
            "+----------+------------+----------+-----+---------+-------+-----+\n",
            "|7941504100|10007579@N00|1346844688|   30|Structure|   1538|    1|\n",
            "|4886005532|10012675@N05|1142731848|    6| Cultural|    986|    2|\n",
            "|4886006468|10012675@N05|1142732248|    6| Cultural|    986|    2|\n",
            "+----------+------------+----------+-----+---------+-------+-----+\n",
            "only showing top 3 rows\n",
            "\n",
            "root\n",
            " |-- photoID: string (nullable = true)\n",
            " |-- userID: string (nullable = true)\n",
            " |-- dateTaken: string (nullable = true)\n",
            " |-- poiID: string (nullable = true)\n",
            " |-- poiTheme: string (nullable = true)\n",
            " |-- poiFreq: string (nullable = true)\n",
            " |-- seqID: string (nullable = true)\n",
            "\n"
          ]
        }
      ]
    },
    {
      "cell_type": "markdown",
      "source": [
        "Lire le fichier en précisant le schéma : nom et type des attributs"
      ],
      "metadata": {
        "id": "tOKVS5T2B5xd"
      }
    },
    {
      "cell_type": "code",
      "source": [
        "schema = \"photoID long, userID String, date Long, poiID int, poiTheme String, poiFreq int, seqID int\"\n",
        "\n",
        "user_visits = spark.read.option(\"header\", \"True\").option(\"delimiter\", \";\").csv(local_dir + \"/\" + \"userVisits-Toro.csv\", schema = schema)\n",
        "user_visits.persist()\n",
        "user_visits.createOrReplaceTempView(\"user_visits\")\n",
        "user_visits.show(10)\n",
        "user_visits.printSchema()"
      ],
      "metadata": {
        "colab": {
          "base_uri": "https://localhost:8080/"
        },
        "id": "7KFQLcGpFySS",
        "outputId": "2c4ed92e-65bf-4d60-8e8a-3bc4eec6ec0e"
      },
      "execution_count": null,
      "outputs": [
        {
          "output_type": "stream",
          "name": "stdout",
          "text": [
            "+----------+------------+----------+-----+---------+-------+-----+\n",
            "|   photoID|      userID|      date|poiID| poiTheme|poiFreq|seqID|\n",
            "+----------+------------+----------+-----+---------+-------+-----+\n",
            "|7941504100|10007579@N00|1346844688|   30|Structure|   1538|    1|\n",
            "|4886005532|10012675@N05|1142731848|    6| Cultural|    986|    2|\n",
            "|4886006468|10012675@N05|1142732248|    6| Cultural|    986|    2|\n",
            "|4885404441|10012675@N05|1142732373|    6| Cultural|    986|    2|\n",
            "|4886008334|10012675@N05|1142732445|    6| Cultural|    986|    2|\n",
            "|4886009150|10012675@N05|1142916492|    6| Cultural|    986|    3|\n",
            "|7054481539|10012675@N05|1319327174|   13| Cultural|    964|    4|\n",
            "|6908387594|10012675@N05|1319328255|   13| Cultural|    964|    4|\n",
            "|6908381912|10012675@N05|1319331463|   13| Cultural|    964|    4|\n",
            "|6908398496|10012675@N05|1319331886|   13| Cultural|    964|    4|\n",
            "+----------+------------+----------+-----+---------+-------+-----+\n",
            "only showing top 10 rows\n",
            "\n",
            "root\n",
            " |-- photoID: long (nullable = true)\n",
            " |-- userID: string (nullable = true)\n",
            " |-- date: long (nullable = true)\n",
            " |-- poiID: integer (nullable = true)\n",
            " |-- poiTheme: string (nullable = true)\n",
            " |-- poiFreq: integer (nullable = true)\n",
            " |-- seqID: integer (nullable = true)\n",
            "\n"
          ]
        }
      ]
    },
    {
      "cell_type": "markdown",
      "source": [
        "Vérifier qu'il n'y a pas de date nulle"
      ],
      "metadata": {
        "id": "kpCZV_kezFPD"
      }
    },
    {
      "cell_type": "code",
      "source": [
        "%%sql\n",
        "select count(1) as nb_dates_nulles\n",
        "from user_visits\n",
        "where date is null\n",
        "\n",
        "-- autre solution avec \"case\"\n",
        "--select count(case when isnull(date) then date end) as nb_date_nulles\n",
        "--from user_visits"
      ],
      "metadata": {
        "colab": {
          "base_uri": "https://localhost:8080/",
          "height": 143
        },
        "id": "g4Xs3emr90fU",
        "outputId": "d42e39a9-a184-467e-a248-e3ba32af2101"
      },
      "execution_count": null,
      "outputs": [
        {
          "output_type": "execute_result",
          "data": {
            "text/html": [
              "<div>\n",
              "<style scoped>\n",
              "    .dataframe tbody tr th:only-of-type {\n",
              "        vertical-align: middle;\n",
              "    }\n",
              "\n",
              "    .dataframe tbody tr th {\n",
              "        vertical-align: top;\n",
              "    }\n",
              "\n",
              "    .dataframe thead th {\n",
              "        text-align: right;\n",
              "    }\n",
              "</style>\n",
              "<table border=\"1\" class=\"dataframe\">\n",
              "  <thead>\n",
              "    <tr style=\"text-align: right;\">\n",
              "      <th></th>\n",
              "      <th>nb_dates_nulles</th>\n",
              "    </tr>\n",
              "  </thead>\n",
              "  <tbody>\n",
              "    <tr>\n",
              "      <th>0</th>\n",
              "      <td>0</td>\n",
              "    </tr>\n",
              "  </tbody>\n",
              "</table>\n",
              "</div>"
            ],
            "application/vnd.google.colaboratory.module+javascript": "\n      import \"https://ssl.gstatic.com/colaboratory/data_table/881c4a0d49046431/data_table.js\";\n\n      const table = window.createDataTable({\n        data: [[{\n            'v': 0,\n            'f': \"0\",\n        }]],\n        columns: [[\"number\", \"nb_dates_nulles\"]],\n        columnOptions: [],\n        rowsPerPage: 10,\n        helpUrl: \"https://colab.research.google.com/notebooks/data_table.ipynb\",\n        suppressOutputScrolling: true,\n        minimumWidth: undefined,\n      });\n\n      function appendQuickchartButton(parentElement) {\n        let quickchartButtonContainerElement = document.createElement('div');\n        quickchartButtonContainerElement.innerHTML = `\n<div id=\"df-8286cd4e-225e-4fbd-9e01-22806a1e8852\">\n  <button class=\"colab-df-quickchart\" onclick=\"quickchart('df-8286cd4e-225e-4fbd-9e01-22806a1e8852')\"\n            title=\"Suggest charts.\"\n            style=\"display:none;\">\n    \n<svg xmlns=\"http://www.w3.org/2000/svg\" height=\"24px\"viewBox=\"0 0 24 24\"\n     width=\"24px\">\n    <g>\n        <path d=\"M19 3H5c-1.1 0-2 .9-2 2v14c0 1.1.9 2 2 2h14c1.1 0 2-.9 2-2V5c0-1.1-.9-2-2-2zM9 17H7v-7h2v7zm4 0h-2V7h2v10zm4 0h-2v-4h2v4z\"/>\n    </g>\n</svg>\n  </button>\n  \n<style>\n  .colab-df-quickchart {\n      --bg-color: #E8F0FE;\n      --fill-color: #1967D2;\n      --hover-bg-color: #E2EBFA;\n      --hover-fill-color: #174EA6;\n      --disabled-fill-color: #AAA;\n      --disabled-bg-color: #DDD;\n  }\n\n  [theme=dark] .colab-df-quickchart {\n      --bg-color: #3B4455;\n      --fill-color: #D2E3FC;\n      --hover-bg-color: #434B5C;\n      --hover-fill-color: #FFFFFF;\n      --disabled-bg-color: #3B4455;\n      --disabled-fill-color: #666;\n  }\n\n  .colab-df-quickchart {\n    background-color: var(--bg-color);\n    border: none;\n    border-radius: 50%;\n    cursor: pointer;\n    display: none;\n    fill: var(--fill-color);\n    height: 32px;\n    padding: 0;\n    width: 32px;\n  }\n\n  .colab-df-quickchart:hover {\n    background-color: var(--hover-bg-color);\n    box-shadow: 0 1px 2px rgba(60, 64, 67, 0.3), 0 1px 3px 1px rgba(60, 64, 67, 0.15);\n    fill: var(--button-hover-fill-color);\n  }\n\n  .colab-df-quickchart-complete:disabled,\n  .colab-df-quickchart-complete:disabled:hover {\n    background-color: var(--disabled-bg-color);\n    fill: var(--disabled-fill-color);\n    box-shadow: none;\n  }\n\n  .colab-df-spinner {\n    border: 2px solid var(--fill-color);\n    border-color: transparent;\n    border-bottom-color: var(--fill-color);\n    animation:\n      spin 1s steps(1) infinite;\n  }\n\n  @keyframes spin {\n    0% {\n      border-color: transparent;\n      border-bottom-color: var(--fill-color);\n      border-left-color: var(--fill-color);\n    }\n    20% {\n      border-color: transparent;\n      border-left-color: var(--fill-color);\n      border-top-color: var(--fill-color);\n    }\n    30% {\n      border-color: transparent;\n      border-left-color: var(--fill-color);\n      border-top-color: var(--fill-color);\n      border-right-color: var(--fill-color);\n    }\n    40% {\n      border-color: transparent;\n      border-right-color: var(--fill-color);\n      border-top-color: var(--fill-color);\n    }\n    60% {\n      border-color: transparent;\n      border-right-color: var(--fill-color);\n    }\n    80% {\n      border-color: transparent;\n      border-right-color: var(--fill-color);\n      border-bottom-color: var(--fill-color);\n    }\n    90% {\n      border-color: transparent;\n      border-bottom-color: var(--fill-color);\n    }\n  }\n</style>\n\n  <script>\n    async function quickchart(key) {\n      const quickchartButtonEl =\n        document.querySelector('#' + key + ' button');\n      quickchartButtonEl.disabled = true;  // To prevent multiple clicks.\n      quickchartButtonEl.classList.add('colab-df-spinner');\n      try {\n        const charts = await google.colab.kernel.invokeFunction(\n            'suggestCharts', [key], {});\n      } catch (error) {\n        console.error('Error during call to suggestCharts:', error);\n      }\n      quickchartButtonEl.classList.remove('colab-df-spinner');\n      quickchartButtonEl.classList.add('colab-df-quickchart-complete');\n    }\n    (() => {\n      let quickchartButtonEl =\n        document.querySelector('#df-8286cd4e-225e-4fbd-9e01-22806a1e8852 button');\n      quickchartButtonEl.style.display =\n        google.colab.kernel.accessAllowed ? 'block' : 'none';\n    })();\n  </script>\n</div>`;\n        parentElement.appendChild(quickchartButtonContainerElement);\n      }\n\n      appendQuickchartButton(table);\n    ",
            "text/plain": [
              "<google.colab.data_table.DataTable object>"
            ]
          },
          "metadata": {},
          "execution_count": 65
        }
      ]
    },
    {
      "cell_type": "markdown",
      "source": [
        "\n",
        "Vérifier qu'il n'y a aucune séquence associée à plusieurs utilisateurs"
      ],
      "metadata": {
        "id": "SsuPFy54S1x_"
      }
    },
    {
      "cell_type": "code",
      "source": [
        "%%sql\n",
        "select seqID\n",
        "from user_visits\n",
        "group by seqID\n",
        "having count(distinct userID) > 1"
      ],
      "metadata": {
        "colab": {
          "base_uri": "https://localhost:8080/",
          "height": 122
        },
        "id": "Etb5c2LzRy3S",
        "outputId": "f9d3399d-047b-4476-d9e7-74b728120964"
      },
      "execution_count": null,
      "outputs": [
        {
          "output_type": "execute_result",
          "data": {
            "text/html": [
              "<div>\n",
              "<style scoped>\n",
              "    .dataframe tbody tr th:only-of-type {\n",
              "        vertical-align: middle;\n",
              "    }\n",
              "\n",
              "    .dataframe tbody tr th {\n",
              "        vertical-align: top;\n",
              "    }\n",
              "\n",
              "    .dataframe thead th {\n",
              "        text-align: right;\n",
              "    }\n",
              "</style>\n",
              "<table border=\"1\" class=\"dataframe\">\n",
              "  <thead>\n",
              "    <tr style=\"text-align: right;\">\n",
              "      <th></th>\n",
              "      <th>seqID</th>\n",
              "    </tr>\n",
              "  </thead>\n",
              "  <tbody>\n",
              "  </tbody>\n",
              "</table>\n",
              "</div>"
            ],
            "application/vnd.google.colaboratory.module+javascript": "\n      import \"https://ssl.gstatic.com/colaboratory/data_table/881c4a0d49046431/data_table.js\";\n\n      const table = window.createDataTable({\n        data: [],\n        columns: [[\"number\", \"seqID\"]],\n        columnOptions: [],\n        rowsPerPage: 10,\n        helpUrl: \"https://colab.research.google.com/notebooks/data_table.ipynb\",\n        suppressOutputScrolling: true,\n        minimumWidth: undefined,\n      });\n\n      function appendQuickchartButton(parentElement) {\n        let quickchartButtonContainerElement = document.createElement('div');\n        quickchartButtonContainerElement.innerHTML = `\n<div id=\"df-e5687489-0118-457a-950c-3a6ec8a8497d\">\n  <button class=\"colab-df-quickchart\" onclick=\"quickchart('df-e5687489-0118-457a-950c-3a6ec8a8497d')\"\n            title=\"Suggest charts.\"\n            style=\"display:none;\">\n    \n<svg xmlns=\"http://www.w3.org/2000/svg\" height=\"24px\"viewBox=\"0 0 24 24\"\n     width=\"24px\">\n    <g>\n        <path d=\"M19 3H5c-1.1 0-2 .9-2 2v14c0 1.1.9 2 2 2h14c1.1 0 2-.9 2-2V5c0-1.1-.9-2-2-2zM9 17H7v-7h2v7zm4 0h-2V7h2v10zm4 0h-2v-4h2v4z\"/>\n    </g>\n</svg>\n  </button>\n  \n<style>\n  .colab-df-quickchart {\n      --bg-color: #E8F0FE;\n      --fill-color: #1967D2;\n      --hover-bg-color: #E2EBFA;\n      --hover-fill-color: #174EA6;\n      --disabled-fill-color: #AAA;\n      --disabled-bg-color: #DDD;\n  }\n\n  [theme=dark] .colab-df-quickchart {\n      --bg-color: #3B4455;\n      --fill-color: #D2E3FC;\n      --hover-bg-color: #434B5C;\n      --hover-fill-color: #FFFFFF;\n      --disabled-bg-color: #3B4455;\n      --disabled-fill-color: #666;\n  }\n\n  .colab-df-quickchart {\n    background-color: var(--bg-color);\n    border: none;\n    border-radius: 50%;\n    cursor: pointer;\n    display: none;\n    fill: var(--fill-color);\n    height: 32px;\n    padding: 0;\n    width: 32px;\n  }\n\n  .colab-df-quickchart:hover {\n    background-color: var(--hover-bg-color);\n    box-shadow: 0 1px 2px rgba(60, 64, 67, 0.3), 0 1px 3px 1px rgba(60, 64, 67, 0.15);\n    fill: var(--button-hover-fill-color);\n  }\n\n  .colab-df-quickchart-complete:disabled,\n  .colab-df-quickchart-complete:disabled:hover {\n    background-color: var(--disabled-bg-color);\n    fill: var(--disabled-fill-color);\n    box-shadow: none;\n  }\n\n  .colab-df-spinner {\n    border: 2px solid var(--fill-color);\n    border-color: transparent;\n    border-bottom-color: var(--fill-color);\n    animation:\n      spin 1s steps(1) infinite;\n  }\n\n  @keyframes spin {\n    0% {\n      border-color: transparent;\n      border-bottom-color: var(--fill-color);\n      border-left-color: var(--fill-color);\n    }\n    20% {\n      border-color: transparent;\n      border-left-color: var(--fill-color);\n      border-top-color: var(--fill-color);\n    }\n    30% {\n      border-color: transparent;\n      border-left-color: var(--fill-color);\n      border-top-color: var(--fill-color);\n      border-right-color: var(--fill-color);\n    }\n    40% {\n      border-color: transparent;\n      border-right-color: var(--fill-color);\n      border-top-color: var(--fill-color);\n    }\n    60% {\n      border-color: transparent;\n      border-right-color: var(--fill-color);\n    }\n    80% {\n      border-color: transparent;\n      border-right-color: var(--fill-color);\n      border-bottom-color: var(--fill-color);\n    }\n    90% {\n      border-color: transparent;\n      border-bottom-color: var(--fill-color);\n    }\n  }\n</style>\n\n  <script>\n    async function quickchart(key) {\n      const quickchartButtonEl =\n        document.querySelector('#' + key + ' button');\n      quickchartButtonEl.disabled = true;  // To prevent multiple clicks.\n      quickchartButtonEl.classList.add('colab-df-spinner');\n      try {\n        const charts = await google.colab.kernel.invokeFunction(\n            'suggestCharts', [key], {});\n      } catch (error) {\n        console.error('Error during call to suggestCharts:', error);\n      }\n      quickchartButtonEl.classList.remove('colab-df-spinner');\n      quickchartButtonEl.classList.add('colab-df-quickchart-complete');\n    }\n    (() => {\n      let quickchartButtonEl =\n        document.querySelector('#df-e5687489-0118-457a-950c-3a6ec8a8497d button');\n      quickchartButtonEl.style.display =\n        google.colab.kernel.accessAllowed ? 'block' : 'none';\n    })();\n  </script>\n</div>`;\n        parentElement.appendChild(quickchartButtonContainerElement);\n      }\n\n      appendQuickchartButton(table);\n    ",
            "text/plain": [
              "<google.colab.data_table.DataTable object>"
            ]
          },
          "metadata": {},
          "execution_count": 66
        }
      ]
    },
    {
      "cell_type": "markdown",
      "source": [
        "\n",
        "#### POI_sequence\n",
        "\n",
        "La table **POI_sequence**(seqID, poiID). Les POI visités durant une séquence.\n",
        "Pour simplifier on compte chaque POI une seule fois par séquence et on ne considère pas l'ordre de visite des POI.\n",
        "\n",
        "Rmq: il n'est pas nécessaire de préciser le userID pour identifier une séquence."
      ],
      "metadata": {
        "id": "6yN_LHZo1TtA"
      }
    },
    {
      "cell_type": "code",
      "source": [
        "%%sql\n",
        "create or replace temp view POI_sequence as\n",
        "select distinct seqID, poiID\n",
        "from user_visits;\n",
        "\n",
        "select * from POI_sequence"
      ],
      "metadata": {
        "colab": {
          "base_uri": "https://localhost:8080/",
          "height": 347
        },
        "id": "7XDLgVgqPayh",
        "outputId": "f4d515af-6d14-4e43-a00e-4ca5eb1cbe53"
      },
      "execution_count": null,
      "outputs": [
        {
          "output_type": "execute_result",
          "data": {
            "text/html": [
              "<div>\n",
              "<style scoped>\n",
              "    .dataframe tbody tr th:only-of-type {\n",
              "        vertical-align: middle;\n",
              "    }\n",
              "\n",
              "    .dataframe tbody tr th {\n",
              "        vertical-align: top;\n",
              "    }\n",
              "\n",
              "    .dataframe thead th {\n",
              "        text-align: right;\n",
              "    }\n",
              "</style>\n",
              "<table border=\"1\" class=\"dataframe\">\n",
              "  <thead>\n",
              "    <tr style=\"text-align: right;\">\n",
              "      <th></th>\n",
              "      <th>seqID</th>\n",
              "      <th>poiID</th>\n",
              "    </tr>\n",
              "  </thead>\n",
              "  <tbody>\n",
              "    <tr>\n",
              "      <th>0</th>\n",
              "      <td>9</td>\n",
              "      <td>24</td>\n",
              "    </tr>\n",
              "    <tr>\n",
              "      <th>1</th>\n",
              "      <td>16</td>\n",
              "      <td>24</td>\n",
              "    </tr>\n",
              "    <tr>\n",
              "      <th>2</th>\n",
              "      <td>26</td>\n",
              "      <td>22</td>\n",
              "    </tr>\n",
              "    <tr>\n",
              "      <th>3</th>\n",
              "      <td>29</td>\n",
              "      <td>25</td>\n",
              "    </tr>\n",
              "    <tr>\n",
              "      <th>4</th>\n",
              "      <td>54</td>\n",
              "      <td>25</td>\n",
              "    </tr>\n",
              "    <tr>\n",
              "      <th>...</th>\n",
              "      <td>...</td>\n",
              "      <td>...</td>\n",
              "    </tr>\n",
              "    <tr>\n",
              "      <th>95</th>\n",
              "      <td>624</td>\n",
              "      <td>23</td>\n",
              "    </tr>\n",
              "    <tr>\n",
              "      <th>96</th>\n",
              "      <td>634</td>\n",
              "      <td>22</td>\n",
              "    </tr>\n",
              "    <tr>\n",
              "      <th>97</th>\n",
              "      <td>638</td>\n",
              "      <td>4</td>\n",
              "    </tr>\n",
              "    <tr>\n",
              "      <th>98</th>\n",
              "      <td>641</td>\n",
              "      <td>30</td>\n",
              "    </tr>\n",
              "    <tr>\n",
              "      <th>99</th>\n",
              "      <td>658</td>\n",
              "      <td>22</td>\n",
              "    </tr>\n",
              "  </tbody>\n",
              "</table>\n",
              "<p>100 rows × 2 columns</p>\n",
              "</div>"
            ],
            "application/vnd.google.colaboratory.module+javascript": "\n      import \"https://ssl.gstatic.com/colaboratory/data_table/881c4a0d49046431/data_table.js\";\n\n      const table = window.createDataTable({\n        data: [[{\n            'v': 9,\n            'f': \"9\",\n        },\n{\n            'v': 24,\n            'f': \"24\",\n        }],\n [{\n            'v': 16,\n            'f': \"16\",\n        },\n{\n            'v': 24,\n            'f': \"24\",\n        }],\n [{\n            'v': 26,\n            'f': \"26\",\n        },\n{\n            'v': 22,\n            'f': \"22\",\n        }],\n [{\n            'v': 29,\n            'f': \"29\",\n        },\n{\n            'v': 25,\n            'f': \"25\",\n        }],\n [{\n            'v': 54,\n            'f': \"54\",\n        },\n{\n            'v': 25,\n            'f': \"25\",\n        }],\n [{\n            'v': 58,\n            'f': \"58\",\n        },\n{\n            'v': 27,\n            'f': \"27\",\n        }],\n [{\n            'v': 60,\n            'f': \"60\",\n        },\n{\n            'v': 7,\n            'f': \"7\",\n        }],\n [{\n            'v': 103,\n            'f': \"103\",\n        },\n{\n            'v': 7,\n            'f': \"7\",\n        }],\n [{\n            'v': 106,\n            'f': \"106\",\n        },\n{\n            'v': 30,\n            'f': \"30\",\n        }],\n [{\n            'v': 107,\n            'f': \"107\",\n        },\n{\n            'v': 30,\n            'f': \"30\",\n        }],\n [{\n            'v': 114,\n            'f': \"114\",\n        },\n{\n            'v': 20,\n            'f': \"20\",\n        }],\n [{\n            'v': 115,\n            'f': \"115\",\n        },\n{\n            'v': 1,\n            'f': \"1\",\n        }],\n [{\n            'v': 119,\n            'f': \"119\",\n        },\n{\n            'v': 8,\n            'f': \"8\",\n        }],\n [{\n            'v': 130,\n            'f': \"130\",\n        },\n{\n            'v': 28,\n            'f': \"28\",\n        }],\n [{\n            'v': 136,\n            'f': \"136\",\n        },\n{\n            'v': 3,\n            'f': \"3\",\n        }],\n [{\n            'v': 142,\n            'f': \"142\",\n        },\n{\n            'v': 3,\n            'f': \"3\",\n        }],\n [{\n            'v': 157,\n            'f': \"157\",\n        },\n{\n            'v': 27,\n            'f': \"27\",\n        }],\n [{\n            'v': 162,\n            'f': \"162\",\n        },\n{\n            'v': 7,\n            'f': \"7\",\n        }],\n [{\n            'v': 166,\n            'f': \"166\",\n        },\n{\n            'v': 22,\n            'f': \"22\",\n        }],\n [{\n            'v': 174,\n            'f': \"174\",\n        },\n{\n            'v': 16,\n            'f': \"16\",\n        }],\n [{\n            'v': 175,\n            'f': \"175\",\n        },\n{\n            'v': 30,\n            'f': \"30\",\n        }],\n [{\n            'v': 205,\n            'f': \"205\",\n        },\n{\n            'v': 21,\n            'f': \"21\",\n        }],\n [{\n            'v': 210,\n            'f': \"210\",\n        },\n{\n            'v': 21,\n            'f': \"21\",\n        }],\n [{\n            'v': 213,\n            'f': \"213\",\n        },\n{\n            'v': 26,\n            'f': \"26\",\n        }],\n [{\n            'v': 233,\n            'f': \"233\",\n        },\n{\n            'v': 6,\n            'f': \"6\",\n        }],\n [{\n            'v': 247,\n            'f': \"247\",\n        },\n{\n            'v': 3,\n            'f': \"3\",\n        }],\n [{\n            'v': 250,\n            'f': \"250\",\n        },\n{\n            'v': 4,\n            'f': \"4\",\n        }],\n [{\n            'v': 259,\n            'f': \"259\",\n        },\n{\n            'v': 4,\n            'f': \"4\",\n        }],\n [{\n            'v': 260,\n            'f': \"260\",\n        },\n{\n            'v': 4,\n            'f': \"4\",\n        }],\n [{\n            'v': 261,\n            'f': \"261\",\n        },\n{\n            'v': 4,\n            'f': \"4\",\n        }],\n [{\n            'v': 281,\n            'f': \"281\",\n        },\n{\n            'v': 22,\n            'f': \"22\",\n        }],\n [{\n            'v': 285,\n            'f': \"285\",\n        },\n{\n            'v': 16,\n            'f': \"16\",\n        }],\n [{\n            'v': 287,\n            'f': \"287\",\n        },\n{\n            'v': 7,\n            'f': \"7\",\n        }],\n [{\n            'v': 294,\n            'f': \"294\",\n        },\n{\n            'v': 16,\n            'f': \"16\",\n        }],\n [{\n            'v': 296,\n            'f': \"296\",\n        },\n{\n            'v': 21,\n            'f': \"21\",\n        }],\n [{\n            'v': 298,\n            'f': \"298\",\n        },\n{\n            'v': 23,\n            'f': \"23\",\n        }],\n [{\n            'v': 298,\n            'f': \"298\",\n        },\n{\n            'v': 30,\n            'f': \"30\",\n        }],\n [{\n            'v': 298,\n            'f': \"298\",\n        },\n{\n            'v': 8,\n            'f': \"8\",\n        }],\n [{\n            'v': 299,\n            'f': \"299\",\n        },\n{\n            'v': 23,\n            'f': \"23\",\n        }],\n [{\n            'v': 328,\n            'f': \"328\",\n        },\n{\n            'v': 11,\n            'f': \"11\",\n        }],\n [{\n            'v': 329,\n            'f': \"329\",\n        },\n{\n            'v': 24,\n            'f': \"24\",\n        }],\n [{\n            'v': 329,\n            'f': \"329\",\n        },\n{\n            'v': 21,\n            'f': \"21\",\n        }],\n [{\n            'v': 334,\n            'f': \"334\",\n        },\n{\n            'v': 8,\n            'f': \"8\",\n        }],\n [{\n            'v': 363,\n            'f': \"363\",\n        },\n{\n            'v': 16,\n            'f': \"16\",\n        }],\n [{\n            'v': 367,\n            'f': \"367\",\n        },\n{\n            'v': 16,\n            'f': \"16\",\n        }],\n [{\n            'v': 370,\n            'f': \"370\",\n        },\n{\n            'v': 25,\n            'f': \"25\",\n        }],\n [{\n            'v': 371,\n            'f': \"371\",\n        },\n{\n            'v': 7,\n            'f': \"7\",\n        }],\n [{\n            'v': 382,\n            'f': \"382\",\n        },\n{\n            'v': 22,\n            'f': \"22\",\n        }],\n [{\n            'v': 382,\n            'f': \"382\",\n        },\n{\n            'v': 28,\n            'f': \"28\",\n        }],\n [{\n            'v': 408,\n            'f': \"408\",\n        },\n{\n            'v': 16,\n            'f': \"16\",\n        }],\n [{\n            'v': 409,\n            'f': \"409\",\n        },\n{\n            'v': 22,\n            'f': \"22\",\n        }],\n [{\n            'v': 417,\n            'f': \"417\",\n        },\n{\n            'v': 23,\n            'f': \"23\",\n        }],\n [{\n            'v': 420,\n            'f': \"420\",\n        },\n{\n            'v': 22,\n            'f': \"22\",\n        }],\n [{\n            'v': 424,\n            'f': \"424\",\n        },\n{\n            'v': 11,\n            'f': \"11\",\n        }],\n [{\n            'v': 427,\n            'f': \"427\",\n        },\n{\n            'v': 15,\n            'f': \"15\",\n        }],\n [{\n            'v': 438,\n            'f': \"438\",\n        },\n{\n            'v': 22,\n            'f': \"22\",\n        }],\n [{\n            'v': 439,\n            'f': \"439\",\n        },\n{\n            'v': 23,\n            'f': \"23\",\n        }],\n [{\n            'v': 444,\n            'f': \"444\",\n        },\n{\n            'v': 16,\n            'f': \"16\",\n        }],\n [{\n            'v': 445,\n            'f': \"445\",\n        },\n{\n            'v': 13,\n            'f': \"13\",\n        }],\n [{\n            'v': 448,\n            'f': \"448\",\n        },\n{\n            'v': 23,\n            'f': \"23\",\n        }],\n [{\n            'v': 453,\n            'f': \"453\",\n        },\n{\n            'v': 28,\n            'f': \"28\",\n        }],\n [{\n            'v': 459,\n            'f': \"459\",\n        },\n{\n            'v': 25,\n            'f': \"25\",\n        }],\n [{\n            'v': 459,\n            'f': \"459\",\n        },\n{\n            'v': 11,\n            'f': \"11\",\n        }],\n [{\n            'v': 460,\n            'f': \"460\",\n        },\n{\n            'v': 25,\n            'f': \"25\",\n        }],\n [{\n            'v': 464,\n            'f': \"464\",\n        },\n{\n            'v': 21,\n            'f': \"21\",\n        }],\n [{\n            'v': 466,\n            'f': \"466\",\n        },\n{\n            'v': 3,\n            'f': \"3\",\n        }],\n [{\n            'v': 472,\n            'f': \"472\",\n        },\n{\n            'v': 14,\n            'f': \"14\",\n        }],\n [{\n            'v': 474,\n            'f': \"474\",\n        },\n{\n            'v': 23,\n            'f': \"23\",\n        }],\n [{\n            'v': 477,\n            'f': \"477\",\n        },\n{\n            'v': 16,\n            'f': \"16\",\n        }],\n [{\n            'v': 486,\n            'f': \"486\",\n        },\n{\n            'v': 23,\n            'f': \"23\",\n        }],\n [{\n            'v': 490,\n            'f': \"490\",\n        },\n{\n            'v': 30,\n            'f': \"30\",\n        }],\n [{\n            'v': 509,\n            'f': \"509\",\n        },\n{\n            'v': 22,\n            'f': \"22\",\n        }],\n [{\n            'v': 512,\n            'f': \"512\",\n        },\n{\n            'v': 7,\n            'f': \"7\",\n        }],\n [{\n            'v': 513,\n            'f': \"513\",\n        },\n{\n            'v': 23,\n            'f': \"23\",\n        }],\n [{\n            'v': 515,\n            'f': \"515\",\n        },\n{\n            'v': 11,\n            'f': \"11\",\n        }],\n [{\n            'v': 518,\n            'f': \"518\",\n        },\n{\n            'v': 21,\n            'f': \"21\",\n        }],\n [{\n            'v': 525,\n            'f': \"525\",\n        },\n{\n            'v': 7,\n            'f': \"7\",\n        }],\n [{\n            'v': 529,\n            'f': \"529\",\n        },\n{\n            'v': 8,\n            'f': \"8\",\n        }],\n [{\n            'v': 547,\n            'f': \"547\",\n        },\n{\n            'v': 28,\n            'f': \"28\",\n        }],\n [{\n            'v': 548,\n            'f': \"548\",\n        },\n{\n            'v': 21,\n            'f': \"21\",\n        }],\n [{\n            'v': 549,\n            'f': \"549\",\n        },\n{\n            'v': 1,\n            'f': \"1\",\n        }],\n [{\n            'v': 549,\n            'f': \"549\",\n        },\n{\n            'v': 8,\n            'f': \"8\",\n        }],\n [{\n            'v': 549,\n            'f': \"549\",\n        },\n{\n            'v': 21,\n            'f': \"21\",\n        }],\n [{\n            'v': 550,\n            'f': \"550\",\n        },\n{\n            'v': 1,\n            'f': \"1\",\n        }],\n [{\n            'v': 551,\n            'f': \"551\",\n        },\n{\n            'v': 22,\n            'f': \"22\",\n        }],\n [{\n            'v': 553,\n            'f': \"553\",\n        },\n{\n            'v': 22,\n            'f': \"22\",\n        }],\n [{\n            'v': 555,\n            'f': \"555\",\n        },\n{\n            'v': 30,\n            'f': \"30\",\n        }],\n [{\n            'v': 560,\n            'f': \"560\",\n        },\n{\n            'v': 24,\n            'f': \"24\",\n        }],\n [{\n            'v': 562,\n            'f': \"562\",\n        },\n{\n            'v': 22,\n            'f': \"22\",\n        }],\n [{\n            'v': 564,\n            'f': \"564\",\n        },\n{\n            'v': 23,\n            'f': \"23\",\n        }],\n [{\n            'v': 574,\n            'f': \"574\",\n        },\n{\n            'v': 6,\n            'f': \"6\",\n        }],\n [{\n            'v': 587,\n            'f': \"587\",\n        },\n{\n            'v': 2,\n            'f': \"2\",\n        }],\n [{\n            'v': 588,\n            'f': \"588\",\n        },\n{\n            'v': 6,\n            'f': \"6\",\n        }],\n [{\n            'v': 608,\n            'f': \"608\",\n        },\n{\n            'v': 16,\n            'f': \"16\",\n        }],\n [{\n            'v': 612,\n            'f': \"612\",\n        },\n{\n            'v': 7,\n            'f': \"7\",\n        }],\n [{\n            'v': 624,\n            'f': \"624\",\n        },\n{\n            'v': 23,\n            'f': \"23\",\n        }],\n [{\n            'v': 634,\n            'f': \"634\",\n        },\n{\n            'v': 22,\n            'f': \"22\",\n        }],\n [{\n            'v': 638,\n            'f': \"638\",\n        },\n{\n            'v': 4,\n            'f': \"4\",\n        }],\n [{\n            'v': 641,\n            'f': \"641\",\n        },\n{\n            'v': 30,\n            'f': \"30\",\n        }],\n [{\n            'v': 658,\n            'f': \"658\",\n        },\n{\n            'v': 22,\n            'f': \"22\",\n        }]],\n        columns: [[\"number\", \"seqID\"], [\"number\", \"poiID\"]],\n        columnOptions: [],\n        rowsPerPage: 10,\n        helpUrl: \"https://colab.research.google.com/notebooks/data_table.ipynb\",\n        suppressOutputScrolling: true,\n        minimumWidth: undefined,\n      });\n\n      function appendQuickchartButton(parentElement) {\n        let quickchartButtonContainerElement = document.createElement('div');\n        quickchartButtonContainerElement.innerHTML = `\n<div id=\"df-01e0bccd-4810-4305-8788-4e2de54a4482\">\n  <button class=\"colab-df-quickchart\" onclick=\"quickchart('df-01e0bccd-4810-4305-8788-4e2de54a4482')\"\n            title=\"Suggest charts.\"\n            style=\"display:none;\">\n    \n<svg xmlns=\"http://www.w3.org/2000/svg\" height=\"24px\"viewBox=\"0 0 24 24\"\n     width=\"24px\">\n    <g>\n        <path d=\"M19 3H5c-1.1 0-2 .9-2 2v14c0 1.1.9 2 2 2h14c1.1 0 2-.9 2-2V5c0-1.1-.9-2-2-2zM9 17H7v-7h2v7zm4 0h-2V7h2v10zm4 0h-2v-4h2v4z\"/>\n    </g>\n</svg>\n  </button>\n  \n<style>\n  .colab-df-quickchart {\n      --bg-color: #E8F0FE;\n      --fill-color: #1967D2;\n      --hover-bg-color: #E2EBFA;\n      --hover-fill-color: #174EA6;\n      --disabled-fill-color: #AAA;\n      --disabled-bg-color: #DDD;\n  }\n\n  [theme=dark] .colab-df-quickchart {\n      --bg-color: #3B4455;\n      --fill-color: #D2E3FC;\n      --hover-bg-color: #434B5C;\n      --hover-fill-color: #FFFFFF;\n      --disabled-bg-color: #3B4455;\n      --disabled-fill-color: #666;\n  }\n\n  .colab-df-quickchart {\n    background-color: var(--bg-color);\n    border: none;\n    border-radius: 50%;\n    cursor: pointer;\n    display: none;\n    fill: var(--fill-color);\n    height: 32px;\n    padding: 0;\n    width: 32px;\n  }\n\n  .colab-df-quickchart:hover {\n    background-color: var(--hover-bg-color);\n    box-shadow: 0 1px 2px rgba(60, 64, 67, 0.3), 0 1px 3px 1px rgba(60, 64, 67, 0.15);\n    fill: var(--button-hover-fill-color);\n  }\n\n  .colab-df-quickchart-complete:disabled,\n  .colab-df-quickchart-complete:disabled:hover {\n    background-color: var(--disabled-bg-color);\n    fill: var(--disabled-fill-color);\n    box-shadow: none;\n  }\n\n  .colab-df-spinner {\n    border: 2px solid var(--fill-color);\n    border-color: transparent;\n    border-bottom-color: var(--fill-color);\n    animation:\n      spin 1s steps(1) infinite;\n  }\n\n  @keyframes spin {\n    0% {\n      border-color: transparent;\n      border-bottom-color: var(--fill-color);\n      border-left-color: var(--fill-color);\n    }\n    20% {\n      border-color: transparent;\n      border-left-color: var(--fill-color);\n      border-top-color: var(--fill-color);\n    }\n    30% {\n      border-color: transparent;\n      border-left-color: var(--fill-color);\n      border-top-color: var(--fill-color);\n      border-right-color: var(--fill-color);\n    }\n    40% {\n      border-color: transparent;\n      border-right-color: var(--fill-color);\n      border-top-color: var(--fill-color);\n    }\n    60% {\n      border-color: transparent;\n      border-right-color: var(--fill-color);\n    }\n    80% {\n      border-color: transparent;\n      border-right-color: var(--fill-color);\n      border-bottom-color: var(--fill-color);\n    }\n    90% {\n      border-color: transparent;\n      border-bottom-color: var(--fill-color);\n    }\n  }\n</style>\n\n  <script>\n    async function quickchart(key) {\n      const quickchartButtonEl =\n        document.querySelector('#' + key + ' button');\n      quickchartButtonEl.disabled = true;  // To prevent multiple clicks.\n      quickchartButtonEl.classList.add('colab-df-spinner');\n      try {\n        const charts = await google.colab.kernel.invokeFunction(\n            'suggestCharts', [key], {});\n      } catch (error) {\n        console.error('Error during call to suggestCharts:', error);\n      }\n      quickchartButtonEl.classList.remove('colab-df-spinner');\n      quickchartButtonEl.classList.add('colab-df-quickchart-complete');\n    }\n    (() => {\n      let quickchartButtonEl =\n        document.querySelector('#df-01e0bccd-4810-4305-8788-4e2de54a4482 button');\n      quickchartButtonEl.style.display =\n        google.colab.kernel.accessAllowed ? 'block' : 'none';\n    })();\n  </script>\n</div>`;\n        parentElement.appendChild(quickchartButtonContainerElement);\n      }\n\n      appendQuickchartButton(table);\n    ",
            "text/plain": [
              "<google.colab.data_table.DataTable object>"
            ]
          },
          "metadata": {},
          "execution_count": 67
        }
      ]
    },
    {
      "cell_type": "markdown",
      "source": [
        "### Les lieux visités : POI\n",
        "Ils sont appelés *Point Of Interest*"
      ],
      "metadata": {
        "id": "ZWSe1Q_KCH4T"
      }
    },
    {
      "cell_type": "code",
      "source": [
        "poi_schema = \"poiID long, poiName String, latitude double, longitude double, theme String\"\n",
        "\n",
        "poi = spark.read.option(\"header\", \"True\").option(\"delimiter\", \";\").csv(local_dir + \"/\" + \"POI-Toro.csv\", schema = poi_schema)\n",
        "poi.show(3)\n",
        "poi.printSchema()\n",
        "poi.createOrReplaceTempView(\"POI\")"
      ],
      "metadata": {
        "id": "e-9XGdbAA5Qq",
        "colab": {
          "base_uri": "https://localhost:8080/"
        },
        "outputId": "a26429c6-e2df-45d8-9712-61f40926f6d7"
      },
      "execution_count": null,
      "outputs": [
        {
          "output_type": "stream",
          "name": "stdout",
          "text": [
            "+-----+------------------+--------+---------+-----+\n",
            "|poiID|           poiName|latitude|longitude|theme|\n",
            "+-----+------------------+--------+---------+-----+\n",
            "|    1| Air_Canada_Centre|43.64333|-79.37917|Sport|\n",
            "|    2|         BMO_Field|43.63278|-79.41861|Sport|\n",
            "|    3|Maple_Leaf_Gardens|43.66222|-79.38028|Sport|\n",
            "+-----+------------------+--------+---------+-----+\n",
            "only showing top 3 rows\n",
            "\n",
            "root\n",
            " |-- poiID: long (nullable = true)\n",
            " |-- poiName: string (nullable = true)\n",
            " |-- latitude: double (nullable = true)\n",
            " |-- longitude: double (nullable = true)\n",
            " |-- theme: string (nullable = true)\n",
            "\n"
          ]
        }
      ]
    },
    {
      "cell_type": "code",
      "source": [
        "%%sql\n",
        "cache table POI;\n",
        "\n",
        "SELECT *\n",
        "FROM POI"
      ],
      "metadata": {
        "id": "bGeoQ73VeylD",
        "colab": {
          "base_uri": "https://localhost:8080/",
          "height": 347
        },
        "outputId": "433f7611-1583-4cab-f04d-790bc8ab7d28"
      },
      "execution_count": null,
      "outputs": [
        {
          "output_type": "execute_result",
          "data": {
            "text/html": [
              "<div>\n",
              "<style scoped>\n",
              "    .dataframe tbody tr th:only-of-type {\n",
              "        vertical-align: middle;\n",
              "    }\n",
              "\n",
              "    .dataframe tbody tr th {\n",
              "        vertical-align: top;\n",
              "    }\n",
              "\n",
              "    .dataframe thead th {\n",
              "        text-align: right;\n",
              "    }\n",
              "</style>\n",
              "<table border=\"1\" class=\"dataframe\">\n",
              "  <thead>\n",
              "    <tr style=\"text-align: right;\">\n",
              "      <th></th>\n",
              "      <th>poiID</th>\n",
              "      <th>poiName</th>\n",
              "      <th>latitude</th>\n",
              "      <th>longitude</th>\n",
              "      <th>theme</th>\n",
              "    </tr>\n",
              "  </thead>\n",
              "  <tbody>\n",
              "    <tr>\n",
              "      <th>0</th>\n",
              "      <td>1</td>\n",
              "      <td>Air_Canada_Centre</td>\n",
              "      <td>43.643330</td>\n",
              "      <td>-79.379170</td>\n",
              "      <td>Sport</td>\n",
              "    </tr>\n",
              "    <tr>\n",
              "      <th>1</th>\n",
              "      <td>2</td>\n",
              "      <td>BMO_Field</td>\n",
              "      <td>43.632780</td>\n",
              "      <td>-79.418610</td>\n",
              "      <td>Sport</td>\n",
              "    </tr>\n",
              "    <tr>\n",
              "      <th>2</th>\n",
              "      <td>3</td>\n",
              "      <td>Maple_Leaf_Gardens</td>\n",
              "      <td>43.662220</td>\n",
              "      <td>-79.380280</td>\n",
              "      <td>Sport</td>\n",
              "    </tr>\n",
              "    <tr>\n",
              "      <th>3</th>\n",
              "      <td>4</td>\n",
              "      <td>Rogers_Centre</td>\n",
              "      <td>43.641390</td>\n",
              "      <td>-79.389170</td>\n",
              "      <td>Sport</td>\n",
              "    </tr>\n",
              "    <tr>\n",
              "      <th>4</th>\n",
              "      <td>5</td>\n",
              "      <td>Woodbine_Racetrack</td>\n",
              "      <td>43.712525</td>\n",
              "      <td>-79.602042</td>\n",
              "      <td>Sport</td>\n",
              "    </tr>\n",
              "    <tr>\n",
              "      <th>5</th>\n",
              "      <td>6</td>\n",
              "      <td>Art_Gallery_of_Ontario</td>\n",
              "      <td>43.653890</td>\n",
              "      <td>-79.392780</td>\n",
              "      <td>Cultural</td>\n",
              "    </tr>\n",
              "    <tr>\n",
              "      <th>6</th>\n",
              "      <td>7</td>\n",
              "      <td>Hockey_Hall_of_Fame</td>\n",
              "      <td>43.646976</td>\n",
              "      <td>-79.377253</td>\n",
              "      <td>Cultural</td>\n",
              "    </tr>\n",
              "    <tr>\n",
              "      <th>7</th>\n",
              "      <td>8</td>\n",
              "      <td>Ripley%27s_Aquarium_of_Canada</td>\n",
              "      <td>43.642481</td>\n",
              "      <td>-79.386050</td>\n",
              "      <td>Cultural</td>\n",
              "    </tr>\n",
              "    <tr>\n",
              "      <th>8</th>\n",
              "      <td>9</td>\n",
              "      <td>Ontario_Science_Centre</td>\n",
              "      <td>43.716670</td>\n",
              "      <td>-79.338330</td>\n",
              "      <td>Cultural</td>\n",
              "    </tr>\n",
              "    <tr>\n",
              "      <th>9</th>\n",
              "      <td>10</td>\n",
              "      <td>Riverdale_Farm</td>\n",
              "      <td>43.667111</td>\n",
              "      <td>-79.361294</td>\n",
              "      <td>Cultural</td>\n",
              "    </tr>\n",
              "    <tr>\n",
              "      <th>10</th>\n",
              "      <td>11</td>\n",
              "      <td>Royal_Ontario_Museum</td>\n",
              "      <td>43.667500</td>\n",
              "      <td>-79.394170</td>\n",
              "      <td>Cultural</td>\n",
              "    </tr>\n",
              "    <tr>\n",
              "      <th>11</th>\n",
              "      <td>12</td>\n",
              "      <td>Toronto_Zoo</td>\n",
              "      <td>43.820278</td>\n",
              "      <td>-79.182778</td>\n",
              "      <td>Cultural</td>\n",
              "    </tr>\n",
              "    <tr>\n",
              "      <th>12</th>\n",
              "      <td>13</td>\n",
              "      <td>Casa_Loma</td>\n",
              "      <td>43.678100</td>\n",
              "      <td>-79.409500</td>\n",
              "      <td>Cultural</td>\n",
              "    </tr>\n",
              "    <tr>\n",
              "      <th>13</th>\n",
              "      <td>14</td>\n",
              "      <td>Canadian_National_Exhibition</td>\n",
              "      <td>43.633330</td>\n",
              "      <td>-79.416670</td>\n",
              "      <td>Amusement</td>\n",
              "    </tr>\n",
              "    <tr>\n",
              "      <th>14</th>\n",
              "      <td>15</td>\n",
              "      <td>Centreville_Amusement_Park</td>\n",
              "      <td>43.620308</td>\n",
              "      <td>-79.373678</td>\n",
              "      <td>Amusement</td>\n",
              "    </tr>\n",
              "    <tr>\n",
              "      <th>15</th>\n",
              "      <td>16</td>\n",
              "      <td>CN_Tower</td>\n",
              "      <td>43.642600</td>\n",
              "      <td>-79.387100</td>\n",
              "      <td>Amusement</td>\n",
              "    </tr>\n",
              "    <tr>\n",
              "      <th>16</th>\n",
              "      <td>17</td>\n",
              "      <td>Exhibition_Place</td>\n",
              "      <td>43.632780</td>\n",
              "      <td>-79.416110</td>\n",
              "      <td>Amusement</td>\n",
              "    </tr>\n",
              "    <tr>\n",
              "      <th>17</th>\n",
              "      <td>18</td>\n",
              "      <td>Sunnyside_Amusement_Park</td>\n",
              "      <td>43.637923</td>\n",
              "      <td>-79.450786</td>\n",
              "      <td>Amusement</td>\n",
              "    </tr>\n",
              "    <tr>\n",
              "      <th>18</th>\n",
              "      <td>19</td>\n",
              "      <td>Toronto_Islands</td>\n",
              "      <td>43.620830</td>\n",
              "      <td>-79.378610</td>\n",
              "      <td>Beach</td>\n",
              "    </tr>\n",
              "    <tr>\n",
              "      <th>19</th>\n",
              "      <td>20</td>\n",
              "      <td>High_Park</td>\n",
              "      <td>43.646821</td>\n",
              "      <td>-79.462996</td>\n",
              "      <td>Beach</td>\n",
              "    </tr>\n",
              "    <tr>\n",
              "      <th>20</th>\n",
              "      <td>21</td>\n",
              "      <td>Yonge-Dundas_Square</td>\n",
              "      <td>43.656110</td>\n",
              "      <td>-79.380280</td>\n",
              "      <td>Beach</td>\n",
              "    </tr>\n",
              "    <tr>\n",
              "      <th>21</th>\n",
              "      <td>22</td>\n",
              "      <td>Nathan_Phillips_Square</td>\n",
              "      <td>43.652500</td>\n",
              "      <td>-79.383610</td>\n",
              "      <td>Beach</td>\n",
              "    </tr>\n",
              "    <tr>\n",
              "      <th>22</th>\n",
              "      <td>23</td>\n",
              "      <td>Toronto_Eaton_Centre</td>\n",
              "      <td>43.653982</td>\n",
              "      <td>-79.380319</td>\n",
              "      <td>Shopping</td>\n",
              "    </tr>\n",
              "    <tr>\n",
              "      <th>23</th>\n",
              "      <td>24</td>\n",
              "      <td>Harbourfront_Centre</td>\n",
              "      <td>43.638490</td>\n",
              "      <td>-79.382068</td>\n",
              "      <td>Shopping</td>\n",
              "    </tr>\n",
              "    <tr>\n",
              "      <th>24</th>\n",
              "      <td>25</td>\n",
              "      <td>Kensington_Market</td>\n",
              "      <td>43.654772</td>\n",
              "      <td>-79.400678</td>\n",
              "      <td>Shopping</td>\n",
              "    </tr>\n",
              "    <tr>\n",
              "      <th>25</th>\n",
              "      <td>26</td>\n",
              "      <td>Yorkdale_Shopping_Centre</td>\n",
              "      <td>43.725599</td>\n",
              "      <td>-79.452696</td>\n",
              "      <td>Shopping</td>\n",
              "    </tr>\n",
              "    <tr>\n",
              "      <th>26</th>\n",
              "      <td>27</td>\n",
              "      <td>Yorkville,_Toronto</td>\n",
              "      <td>43.670280</td>\n",
              "      <td>-79.391110</td>\n",
              "      <td>Shopping</td>\n",
              "    </tr>\n",
              "    <tr>\n",
              "      <th>27</th>\n",
              "      <td>28</td>\n",
              "      <td>Old_City_Hall_(Toronto)</td>\n",
              "      <td>43.652500</td>\n",
              "      <td>-79.381670</td>\n",
              "      <td>Structure</td>\n",
              "    </tr>\n",
              "    <tr>\n",
              "      <th>28</th>\n",
              "      <td>29</td>\n",
              "      <td>Ontario_Legislative_Building</td>\n",
              "      <td>43.662447</td>\n",
              "      <td>-79.391708</td>\n",
              "      <td>Structure</td>\n",
              "    </tr>\n",
              "    <tr>\n",
              "      <th>29</th>\n",
              "      <td>30</td>\n",
              "      <td>Union_Station_(Toronto)</td>\n",
              "      <td>43.645280</td>\n",
              "      <td>-79.380560</td>\n",
              "      <td>Structure</td>\n",
              "    </tr>\n",
              "  </tbody>\n",
              "</table>\n",
              "</div>"
            ],
            "application/vnd.google.colaboratory.module+javascript": "\n      import \"https://ssl.gstatic.com/colaboratory/data_table/881c4a0d49046431/data_table.js\";\n\n      const table = window.createDataTable({\n        data: [[{\n            'v': 1,\n            'f': \"1\",\n        },\n\"Air_Canada_Centre\",\n{\n            'v': 43.64333,\n            'f': \"43.64333\",\n        },\n{\n            'v': -79.37917,\n            'f': \"-79.37917\",\n        },\n\"Sport\"],\n [{\n            'v': 2,\n            'f': \"2\",\n        },\n\"BMO_Field\",\n{\n            'v': 43.63278,\n            'f': \"43.63278\",\n        },\n{\n            'v': -79.41861,\n            'f': \"-79.41861\",\n        },\n\"Sport\"],\n [{\n            'v': 3,\n            'f': \"3\",\n        },\n\"Maple_Leaf_Gardens\",\n{\n            'v': 43.66222,\n            'f': \"43.66222\",\n        },\n{\n            'v': -79.38028,\n            'f': \"-79.38028\",\n        },\n\"Sport\"],\n [{\n            'v': 4,\n            'f': \"4\",\n        },\n\"Rogers_Centre\",\n{\n            'v': 43.64139,\n            'f': \"43.64139\",\n        },\n{\n            'v': -79.38917,\n            'f': \"-79.38917\",\n        },\n\"Sport\"],\n [{\n            'v': 5,\n            'f': \"5\",\n        },\n\"Woodbine_Racetrack\",\n{\n            'v': 43.712525,\n            'f': \"43.712525\",\n        },\n{\n            'v': -79.6020417,\n            'f': \"-79.6020417\",\n        },\n\"Sport\"],\n [{\n            'v': 6,\n            'f': \"6\",\n        },\n\"Art_Gallery_of_Ontario\",\n{\n            'v': 43.65389,\n            'f': \"43.65389\",\n        },\n{\n            'v': -79.39278,\n            'f': \"-79.39278\",\n        },\n\"Cultural\"],\n [{\n            'v': 7,\n            'f': \"7\",\n        },\n\"Hockey_Hall_of_Fame\",\n{\n            'v': 43.646976,\n            'f': \"43.646976\",\n        },\n{\n            'v': -79.377253,\n            'f': \"-79.377253\",\n        },\n\"Cultural\"],\n [{\n            'v': 8,\n            'f': \"8\",\n        },\n\"Ripley%27s_Aquarium_of_Canada\",\n{\n            'v': 43.642481,\n            'f': \"43.642481\",\n        },\n{\n            'v': -79.38605,\n            'f': \"-79.38605\",\n        },\n\"Cultural\"],\n [{\n            'v': 9,\n            'f': \"9\",\n        },\n\"Ontario_Science_Centre\",\n{\n            'v': 43.71667,\n            'f': \"43.71667\",\n        },\n{\n            'v': -79.33833,\n            'f': \"-79.33833\",\n        },\n\"Cultural\"],\n [{\n            'v': 10,\n            'f': \"10\",\n        },\n\"Riverdale_Farm\",\n{\n            'v': 43.667111,\n            'f': \"43.667111\",\n        },\n{\n            'v': -79.361294,\n            'f': \"-79.361294\",\n        },\n\"Cultural\"],\n [{\n            'v': 11,\n            'f': \"11\",\n        },\n\"Royal_Ontario_Museum\",\n{\n            'v': 43.6675,\n            'f': \"43.6675\",\n        },\n{\n            'v': -79.39417,\n            'f': \"-79.39417\",\n        },\n\"Cultural\"],\n [{\n            'v': 12,\n            'f': \"12\",\n        },\n\"Toronto_Zoo\",\n{\n            'v': 43.8202778,\n            'f': \"43.8202778\",\n        },\n{\n            'v': -79.1827778,\n            'f': \"-79.1827778\",\n        },\n\"Cultural\"],\n [{\n            'v': 13,\n            'f': \"13\",\n        },\n\"Casa_Loma\",\n{\n            'v': 43.6781,\n            'f': \"43.6781\",\n        },\n{\n            'v': -79.4095,\n            'f': \"-79.4095\",\n        },\n\"Cultural\"],\n [{\n            'v': 14,\n            'f': \"14\",\n        },\n\"Canadian_National_Exhibition\",\n{\n            'v': 43.63333,\n            'f': \"43.63333\",\n        },\n{\n            'v': -79.41667,\n            'f': \"-79.41667\",\n        },\n\"Amusement\"],\n [{\n            'v': 15,\n            'f': \"15\",\n        },\n\"Centreville_Amusement_Park\",\n{\n            'v': 43.6203083,\n            'f': \"43.6203083\",\n        },\n{\n            'v': -79.3736778,\n            'f': \"-79.3736778\",\n        },\n\"Amusement\"],\n [{\n            'v': 16,\n            'f': \"16\",\n        },\n\"CN_Tower\",\n{\n            'v': 43.6426,\n            'f': \"43.6426\",\n        },\n{\n            'v': -79.3871,\n            'f': \"-79.3871\",\n        },\n\"Amusement\"],\n [{\n            'v': 17,\n            'f': \"17\",\n        },\n\"Exhibition_Place\",\n{\n            'v': 43.63278,\n            'f': \"43.63278\",\n        },\n{\n            'v': -79.41611,\n            'f': \"-79.41611\",\n        },\n\"Amusement\"],\n [{\n            'v': 18,\n            'f': \"18\",\n        },\n\"Sunnyside_Amusement_Park\",\n{\n            'v': 43.637923,\n            'f': \"43.637923\",\n        },\n{\n            'v': -79.450786,\n            'f': \"-79.450786\",\n        },\n\"Amusement\"],\n [{\n            'v': 19,\n            'f': \"19\",\n        },\n\"Toronto_Islands\",\n{\n            'v': 43.62083,\n            'f': \"43.62083\",\n        },\n{\n            'v': -79.37861,\n            'f': \"-79.37861\",\n        },\n\"Beach\"],\n [{\n            'v': 20,\n            'f': \"20\",\n        },\n\"High_Park\",\n{\n            'v': 43.646821,\n            'f': \"43.646821\",\n        },\n{\n            'v': -79.462996,\n            'f': \"-79.462996\",\n        },\n\"Beach\"],\n [{\n            'v': 21,\n            'f': \"21\",\n        },\n\"Yonge-Dundas_Square\",\n{\n            'v': 43.65611,\n            'f': \"43.65611\",\n        },\n{\n            'v': -79.38028,\n            'f': \"-79.38028\",\n        },\n\"Beach\"],\n [{\n            'v': 22,\n            'f': \"22\",\n        },\n\"Nathan_Phillips_Square\",\n{\n            'v': 43.6525,\n            'f': \"43.6525\",\n        },\n{\n            'v': -79.38361,\n            'f': \"-79.38361\",\n        },\n\"Beach\"],\n [{\n            'v': 23,\n            'f': \"23\",\n        },\n\"Toronto_Eaton_Centre\",\n{\n            'v': 43.653982,\n            'f': \"43.653982\",\n        },\n{\n            'v': -79.380319,\n            'f': \"-79.380319\",\n        },\n\"Shopping\"],\n [{\n            'v': 24,\n            'f': \"24\",\n        },\n\"Harbourfront_Centre\",\n{\n            'v': 43.63849,\n            'f': \"43.63849\",\n        },\n{\n            'v': -79.382068,\n            'f': \"-79.382068\",\n        },\n\"Shopping\"],\n [{\n            'v': 25,\n            'f': \"25\",\n        },\n\"Kensington_Market\",\n{\n            'v': 43.6547722,\n            'f': \"43.6547722\",\n        },\n{\n            'v': -79.4006778,\n            'f': \"-79.4006778\",\n        },\n\"Shopping\"],\n [{\n            'v': 26,\n            'f': \"26\",\n        },\n\"Yorkdale_Shopping_Centre\",\n{\n            'v': 43.725599,\n            'f': \"43.725599\",\n        },\n{\n            'v': -79.452696,\n            'f': \"-79.452696\",\n        },\n\"Shopping\"],\n [{\n            'v': 27,\n            'f': \"27\",\n        },\n\"Yorkville,_Toronto\",\n{\n            'v': 43.67028,\n            'f': \"43.67028\",\n        },\n{\n            'v': -79.39111,\n            'f': \"-79.39111\",\n        },\n\"Shopping\"],\n [{\n            'v': 28,\n            'f': \"28\",\n        },\n\"Old_City_Hall_(Toronto)\",\n{\n            'v': 43.6525,\n            'f': \"43.6525\",\n        },\n{\n            'v': -79.38167,\n            'f': \"-79.38167\",\n        },\n\"Structure\"],\n [{\n            'v': 29,\n            'f': \"29\",\n        },\n\"Ontario_Legislative_Building\",\n{\n            'v': 43.662447,\n            'f': \"43.662447\",\n        },\n{\n            'v': -79.391708,\n            'f': \"-79.391708\",\n        },\n\"Structure\"],\n [{\n            'v': 30,\n            'f': \"30\",\n        },\n\"Union_Station_(Toronto)\",\n{\n            'v': 43.64528,\n            'f': \"43.64528\",\n        },\n{\n            'v': -79.38056,\n            'f': \"-79.38056\",\n        },\n\"Structure\"]],\n        columns: [[\"number\", \"poiID\"], [\"string\", \"poiName\"], [\"number\", \"latitude\"], [\"number\", \"longitude\"], [\"string\", \"theme\"]],\n        columnOptions: [],\n        rowsPerPage: 10,\n        helpUrl: \"https://colab.research.google.com/notebooks/data_table.ipynb\",\n        suppressOutputScrolling: true,\n        minimumWidth: undefined,\n      });\n\n      function appendQuickchartButton(parentElement) {\n        let quickchartButtonContainerElement = document.createElement('div');\n        quickchartButtonContainerElement.innerHTML = `\n<div id=\"df-f4a1913c-78c0-465d-8e96-bbb46436cec7\">\n  <button class=\"colab-df-quickchart\" onclick=\"quickchart('df-f4a1913c-78c0-465d-8e96-bbb46436cec7')\"\n            title=\"Suggest charts.\"\n            style=\"display:none;\">\n    \n<svg xmlns=\"http://www.w3.org/2000/svg\" height=\"24px\"viewBox=\"0 0 24 24\"\n     width=\"24px\">\n    <g>\n        <path d=\"M19 3H5c-1.1 0-2 .9-2 2v14c0 1.1.9 2 2 2h14c1.1 0 2-.9 2-2V5c0-1.1-.9-2-2-2zM9 17H7v-7h2v7zm4 0h-2V7h2v10zm4 0h-2v-4h2v4z\"/>\n    </g>\n</svg>\n  </button>\n  \n<style>\n  .colab-df-quickchart {\n      --bg-color: #E8F0FE;\n      --fill-color: #1967D2;\n      --hover-bg-color: #E2EBFA;\n      --hover-fill-color: #174EA6;\n      --disabled-fill-color: #AAA;\n      --disabled-bg-color: #DDD;\n  }\n\n  [theme=dark] .colab-df-quickchart {\n      --bg-color: #3B4455;\n      --fill-color: #D2E3FC;\n      --hover-bg-color: #434B5C;\n      --hover-fill-color: #FFFFFF;\n      --disabled-bg-color: #3B4455;\n      --disabled-fill-color: #666;\n  }\n\n  .colab-df-quickchart {\n    background-color: var(--bg-color);\n    border: none;\n    border-radius: 50%;\n    cursor: pointer;\n    display: none;\n    fill: var(--fill-color);\n    height: 32px;\n    padding: 0;\n    width: 32px;\n  }\n\n  .colab-df-quickchart:hover {\n    background-color: var(--hover-bg-color);\n    box-shadow: 0 1px 2px rgba(60, 64, 67, 0.3), 0 1px 3px 1px rgba(60, 64, 67, 0.15);\n    fill: var(--button-hover-fill-color);\n  }\n\n  .colab-df-quickchart-complete:disabled,\n  .colab-df-quickchart-complete:disabled:hover {\n    background-color: var(--disabled-bg-color);\n    fill: var(--disabled-fill-color);\n    box-shadow: none;\n  }\n\n  .colab-df-spinner {\n    border: 2px solid var(--fill-color);\n    border-color: transparent;\n    border-bottom-color: var(--fill-color);\n    animation:\n      spin 1s steps(1) infinite;\n  }\n\n  @keyframes spin {\n    0% {\n      border-color: transparent;\n      border-bottom-color: var(--fill-color);\n      border-left-color: var(--fill-color);\n    }\n    20% {\n      border-color: transparent;\n      border-left-color: var(--fill-color);\n      border-top-color: var(--fill-color);\n    }\n    30% {\n      border-color: transparent;\n      border-left-color: var(--fill-color);\n      border-top-color: var(--fill-color);\n      border-right-color: var(--fill-color);\n    }\n    40% {\n      border-color: transparent;\n      border-right-color: var(--fill-color);\n      border-top-color: var(--fill-color);\n    }\n    60% {\n      border-color: transparent;\n      border-right-color: var(--fill-color);\n    }\n    80% {\n      border-color: transparent;\n      border-right-color: var(--fill-color);\n      border-bottom-color: var(--fill-color);\n    }\n    90% {\n      border-color: transparent;\n      border-bottom-color: var(--fill-color);\n    }\n  }\n</style>\n\n  <script>\n    async function quickchart(key) {\n      const quickchartButtonEl =\n        document.querySelector('#' + key + ' button');\n      quickchartButtonEl.disabled = true;  // To prevent multiple clicks.\n      quickchartButtonEl.classList.add('colab-df-spinner');\n      try {\n        const charts = await google.colab.kernel.invokeFunction(\n            'suggestCharts', [key], {});\n      } catch (error) {\n        console.error('Error during call to suggestCharts:', error);\n      }\n      quickchartButtonEl.classList.remove('colab-df-spinner');\n      quickchartButtonEl.classList.add('colab-df-quickchart-complete');\n    }\n    (() => {\n      let quickchartButtonEl =\n        document.querySelector('#df-f4a1913c-78c0-465d-8e96-bbb46436cec7 button');\n      quickchartButtonEl.style.display =\n        google.colab.kernel.accessAllowed ? 'block' : 'none';\n    })();\n  </script>\n</div>`;\n        parentElement.appendChild(quickchartButtonContainerElement);\n      }\n\n      appendQuickchartButton(table);\n    ",
            "text/plain": [
              "<google.colab.data_table.DataTable object>"
            ]
          },
          "metadata": {},
          "execution_count": 69
        }
      ]
    },
    {
      "cell_type": "markdown",
      "source": [
        "la liste des thèmes"
      ],
      "metadata": {
        "id": "yTyTy_DVd_Ld"
      }
    },
    {
      "cell_type": "code",
      "source": [
        "%%sql\n",
        "create or replace temp view themes as\n",
        "select distinct theme\n",
        "from POI\n",
        "order by theme;\n",
        "\n",
        "cache table themes;\n",
        "\n",
        "select *\n",
        "from themes"
      ],
      "metadata": {
        "id": "DhBjBGf5IUer",
        "colab": {
          "base_uri": "https://localhost:8080/",
          "height": 251
        },
        "outputId": "ef7facbb-24e1-407c-d267-8f2f5ca91fd2"
      },
      "execution_count": null,
      "outputs": [
        {
          "output_type": "execute_result",
          "data": {
            "text/html": [
              "<div>\n",
              "<style scoped>\n",
              "    .dataframe tbody tr th:only-of-type {\n",
              "        vertical-align: middle;\n",
              "    }\n",
              "\n",
              "    .dataframe tbody tr th {\n",
              "        vertical-align: top;\n",
              "    }\n",
              "\n",
              "    .dataframe thead th {\n",
              "        text-align: right;\n",
              "    }\n",
              "</style>\n",
              "<table border=\"1\" class=\"dataframe\">\n",
              "  <thead>\n",
              "    <tr style=\"text-align: right;\">\n",
              "      <th></th>\n",
              "      <th>theme</th>\n",
              "    </tr>\n",
              "  </thead>\n",
              "  <tbody>\n",
              "    <tr>\n",
              "      <th>0</th>\n",
              "      <td>Amusement</td>\n",
              "    </tr>\n",
              "    <tr>\n",
              "      <th>1</th>\n",
              "      <td>Beach</td>\n",
              "    </tr>\n",
              "    <tr>\n",
              "      <th>2</th>\n",
              "      <td>Cultural</td>\n",
              "    </tr>\n",
              "    <tr>\n",
              "      <th>3</th>\n",
              "      <td>Shopping</td>\n",
              "    </tr>\n",
              "    <tr>\n",
              "      <th>4</th>\n",
              "      <td>Sport</td>\n",
              "    </tr>\n",
              "    <tr>\n",
              "      <th>5</th>\n",
              "      <td>Structure</td>\n",
              "    </tr>\n",
              "  </tbody>\n",
              "</table>\n",
              "</div>"
            ],
            "application/vnd.google.colaboratory.module+javascript": "\n      import \"https://ssl.gstatic.com/colaboratory/data_table/881c4a0d49046431/data_table.js\";\n\n      const table = window.createDataTable({\n        data: [[\"Amusement\"],\n [\"Beach\"],\n [\"Cultural\"],\n [\"Shopping\"],\n [\"Sport\"],\n [\"Structure\"]],\n        columns: [[\"string\", \"theme\"]],\n        columnOptions: [],\n        rowsPerPage: 10,\n        helpUrl: \"https://colab.research.google.com/notebooks/data_table.ipynb\",\n        suppressOutputScrolling: true,\n        minimumWidth: undefined,\n      });\n\n      function appendQuickchartButton(parentElement) {\n        let quickchartButtonContainerElement = document.createElement('div');\n        quickchartButtonContainerElement.innerHTML = `\n<div id=\"df-8a97de15-dbc8-4dd2-9e96-069168638e15\">\n  <button class=\"colab-df-quickchart\" onclick=\"quickchart('df-8a97de15-dbc8-4dd2-9e96-069168638e15')\"\n            title=\"Suggest charts.\"\n            style=\"display:none;\">\n    \n<svg xmlns=\"http://www.w3.org/2000/svg\" height=\"24px\"viewBox=\"0 0 24 24\"\n     width=\"24px\">\n    <g>\n        <path d=\"M19 3H5c-1.1 0-2 .9-2 2v14c0 1.1.9 2 2 2h14c1.1 0 2-.9 2-2V5c0-1.1-.9-2-2-2zM9 17H7v-7h2v7zm4 0h-2V7h2v10zm4 0h-2v-4h2v4z\"/>\n    </g>\n</svg>\n  </button>\n  \n<style>\n  .colab-df-quickchart {\n      --bg-color: #E8F0FE;\n      --fill-color: #1967D2;\n      --hover-bg-color: #E2EBFA;\n      --hover-fill-color: #174EA6;\n      --disabled-fill-color: #AAA;\n      --disabled-bg-color: #DDD;\n  }\n\n  [theme=dark] .colab-df-quickchart {\n      --bg-color: #3B4455;\n      --fill-color: #D2E3FC;\n      --hover-bg-color: #434B5C;\n      --hover-fill-color: #FFFFFF;\n      --disabled-bg-color: #3B4455;\n      --disabled-fill-color: #666;\n  }\n\n  .colab-df-quickchart {\n    background-color: var(--bg-color);\n    border: none;\n    border-radius: 50%;\n    cursor: pointer;\n    display: none;\n    fill: var(--fill-color);\n    height: 32px;\n    padding: 0;\n    width: 32px;\n  }\n\n  .colab-df-quickchart:hover {\n    background-color: var(--hover-bg-color);\n    box-shadow: 0 1px 2px rgba(60, 64, 67, 0.3), 0 1px 3px 1px rgba(60, 64, 67, 0.15);\n    fill: var(--button-hover-fill-color);\n  }\n\n  .colab-df-quickchart-complete:disabled,\n  .colab-df-quickchart-complete:disabled:hover {\n    background-color: var(--disabled-bg-color);\n    fill: var(--disabled-fill-color);\n    box-shadow: none;\n  }\n\n  .colab-df-spinner {\n    border: 2px solid var(--fill-color);\n    border-color: transparent;\n    border-bottom-color: var(--fill-color);\n    animation:\n      spin 1s steps(1) infinite;\n  }\n\n  @keyframes spin {\n    0% {\n      border-color: transparent;\n      border-bottom-color: var(--fill-color);\n      border-left-color: var(--fill-color);\n    }\n    20% {\n      border-color: transparent;\n      border-left-color: var(--fill-color);\n      border-top-color: var(--fill-color);\n    }\n    30% {\n      border-color: transparent;\n      border-left-color: var(--fill-color);\n      border-top-color: var(--fill-color);\n      border-right-color: var(--fill-color);\n    }\n    40% {\n      border-color: transparent;\n      border-right-color: var(--fill-color);\n      border-top-color: var(--fill-color);\n    }\n    60% {\n      border-color: transparent;\n      border-right-color: var(--fill-color);\n    }\n    80% {\n      border-color: transparent;\n      border-right-color: var(--fill-color);\n      border-bottom-color: var(--fill-color);\n    }\n    90% {\n      border-color: transparent;\n      border-bottom-color: var(--fill-color);\n    }\n  }\n</style>\n\n  <script>\n    async function quickchart(key) {\n      const quickchartButtonEl =\n        document.querySelector('#' + key + ' button');\n      quickchartButtonEl.disabled = true;  // To prevent multiple clicks.\n      quickchartButtonEl.classList.add('colab-df-spinner');\n      try {\n        const charts = await google.colab.kernel.invokeFunction(\n            'suggestCharts', [key], {});\n      } catch (error) {\n        console.error('Error during call to suggestCharts:', error);\n      }\n      quickchartButtonEl.classList.remove('colab-df-spinner');\n      quickchartButtonEl.classList.add('colab-df-quickchart-complete');\n    }\n    (() => {\n      let quickchartButtonEl =\n        document.querySelector('#df-8a97de15-dbc8-4dd2-9e96-069168638e15 button');\n      quickchartButtonEl.style.display =\n        google.colab.kernel.accessAllowed ? 'block' : 'none';\n    })();\n  </script>\n</div>`;\n        parentElement.appendChild(quickchartButtonContainerElement);\n      }\n\n      appendQuickchartButton(table);\n    ",
            "text/plain": [
              "<google.colab.data_table.DataTable object>"
            ]
          },
          "metadata": {},
          "execution_count": 70
        }
      ]
    },
    {
      "cell_type": "markdown",
      "metadata": {
        "application/vnd.databricks.v1+cell": {
          "title": "",
          "showTitle": false,
          "inputWidgets": {},
          "nuid": "2df59fb1-4bd6-4d74-9ca4-d4959934dd9d"
        },
        "id": "qkCz6l14GpLo"
      },
      "source": [
        "## Exercice 1"
      ]
    },
    {
      "cell_type": "markdown",
      "source": [
        "#### 1) Les 10 POI les plus photographiés\n",
        "indications: on peut compléter une requête SQL avec *LIMIT 10* pour borner la taille résultat (partiel) souhaité."
      ],
      "metadata": {
        "id": "TCXIej13EfHx"
      }
    },
    {
      "cell_type": "code",
      "source": [
        "%%sql\n",
        "SELECT poiID, count(*) as fq\n",
        "FROM user_visits\n",
        "GROUP BY poiID\n",
        "Order by fq desc\n",
        "limit 10\n"
      ],
      "metadata": {
        "id": "1RZRrj0TIHAB",
        "colab": {
          "base_uri": "https://localhost:8080/",
          "height": 337
        },
        "outputId": "612d8033-21bf-4335-9983-38f9ace385ad"
      },
      "execution_count": null,
      "outputs": [
        {
          "output_type": "execute_result",
          "data": {
            "text/html": [
              "<div>\n",
              "<style scoped>\n",
              "    .dataframe tbody tr th:only-of-type {\n",
              "        vertical-align: middle;\n",
              "    }\n",
              "\n",
              "    .dataframe tbody tr th {\n",
              "        vertical-align: top;\n",
              "    }\n",
              "\n",
              "    .dataframe thead th {\n",
              "        text-align: right;\n",
              "    }\n",
              "</style>\n",
              "<table border=\"1\" class=\"dataframe\">\n",
              "  <thead>\n",
              "    <tr style=\"text-align: right;\">\n",
              "      <th></th>\n",
              "      <th>poiID</th>\n",
              "      <th>fq</th>\n",
              "    </tr>\n",
              "  </thead>\n",
              "  <tbody>\n",
              "    <tr>\n",
              "      <th>0</th>\n",
              "      <td>11</td>\n",
              "      <td>4139</td>\n",
              "    </tr>\n",
              "    <tr>\n",
              "      <th>1</th>\n",
              "      <td>22</td>\n",
              "      <td>3603</td>\n",
              "    </tr>\n",
              "    <tr>\n",
              "      <th>2</th>\n",
              "      <td>21</td>\n",
              "      <td>3591</td>\n",
              "    </tr>\n",
              "    <tr>\n",
              "      <th>3</th>\n",
              "      <td>16</td>\n",
              "      <td>3553</td>\n",
              "    </tr>\n",
              "    <tr>\n",
              "      <th>4</th>\n",
              "      <td>1</td>\n",
              "      <td>3506</td>\n",
              "    </tr>\n",
              "    <tr>\n",
              "      <th>5</th>\n",
              "      <td>4</td>\n",
              "      <td>3056</td>\n",
              "    </tr>\n",
              "    <tr>\n",
              "      <th>6</th>\n",
              "      <td>7</td>\n",
              "      <td>2053</td>\n",
              "    </tr>\n",
              "    <tr>\n",
              "      <th>7</th>\n",
              "      <td>23</td>\n",
              "      <td>1866</td>\n",
              "    </tr>\n",
              "    <tr>\n",
              "      <th>8</th>\n",
              "      <td>8</td>\n",
              "      <td>1736</td>\n",
              "    </tr>\n",
              "    <tr>\n",
              "      <th>9</th>\n",
              "      <td>25</td>\n",
              "      <td>1701</td>\n",
              "    </tr>\n",
              "  </tbody>\n",
              "</table>\n",
              "</div>"
            ],
            "application/vnd.google.colaboratory.module+javascript": "\n      import \"https://ssl.gstatic.com/colaboratory/data_table/881c4a0d49046431/data_table.js\";\n\n      const table = window.createDataTable({\n        data: [[{\n            'v': 11,\n            'f': \"11\",\n        },\n{\n            'v': 4139,\n            'f': \"4139\",\n        }],\n [{\n            'v': 22,\n            'f': \"22\",\n        },\n{\n            'v': 3603,\n            'f': \"3603\",\n        }],\n [{\n            'v': 21,\n            'f': \"21\",\n        },\n{\n            'v': 3591,\n            'f': \"3591\",\n        }],\n [{\n            'v': 16,\n            'f': \"16\",\n        },\n{\n            'v': 3553,\n            'f': \"3553\",\n        }],\n [{\n            'v': 1,\n            'f': \"1\",\n        },\n{\n            'v': 3506,\n            'f': \"3506\",\n        }],\n [{\n            'v': 4,\n            'f': \"4\",\n        },\n{\n            'v': 3056,\n            'f': \"3056\",\n        }],\n [{\n            'v': 7,\n            'f': \"7\",\n        },\n{\n            'v': 2053,\n            'f': \"2053\",\n        }],\n [{\n            'v': 23,\n            'f': \"23\",\n        },\n{\n            'v': 1866,\n            'f': \"1866\",\n        }],\n [{\n            'v': 8,\n            'f': \"8\",\n        },\n{\n            'v': 1736,\n            'f': \"1736\",\n        }],\n [{\n            'v': 25,\n            'f': \"25\",\n        },\n{\n            'v': 1701,\n            'f': \"1701\",\n        }]],\n        columns: [[\"number\", \"poiID\"], [\"number\", \"fq\"]],\n        columnOptions: [],\n        rowsPerPage: 10,\n        helpUrl: \"https://colab.research.google.com/notebooks/data_table.ipynb\",\n        suppressOutputScrolling: true,\n        minimumWidth: undefined,\n      });\n\n      function appendQuickchartButton(parentElement) {\n        let quickchartButtonContainerElement = document.createElement('div');\n        quickchartButtonContainerElement.innerHTML = `\n<div id=\"df-2d03011b-ad16-46de-a065-efd2c0f1a59b\">\n  <button class=\"colab-df-quickchart\" onclick=\"quickchart('df-2d03011b-ad16-46de-a065-efd2c0f1a59b')\"\n            title=\"Suggest charts.\"\n            style=\"display:none;\">\n    \n<svg xmlns=\"http://www.w3.org/2000/svg\" height=\"24px\"viewBox=\"0 0 24 24\"\n     width=\"24px\">\n    <g>\n        <path d=\"M19 3H5c-1.1 0-2 .9-2 2v14c0 1.1.9 2 2 2h14c1.1 0 2-.9 2-2V5c0-1.1-.9-2-2-2zM9 17H7v-7h2v7zm4 0h-2V7h2v10zm4 0h-2v-4h2v4z\"/>\n    </g>\n</svg>\n  </button>\n  \n<style>\n  .colab-df-quickchart {\n      --bg-color: #E8F0FE;\n      --fill-color: #1967D2;\n      --hover-bg-color: #E2EBFA;\n      --hover-fill-color: #174EA6;\n      --disabled-fill-color: #AAA;\n      --disabled-bg-color: #DDD;\n  }\n\n  [theme=dark] .colab-df-quickchart {\n      --bg-color: #3B4455;\n      --fill-color: #D2E3FC;\n      --hover-bg-color: #434B5C;\n      --hover-fill-color: #FFFFFF;\n      --disabled-bg-color: #3B4455;\n      --disabled-fill-color: #666;\n  }\n\n  .colab-df-quickchart {\n    background-color: var(--bg-color);\n    border: none;\n    border-radius: 50%;\n    cursor: pointer;\n    display: none;\n    fill: var(--fill-color);\n    height: 32px;\n    padding: 0;\n    width: 32px;\n  }\n\n  .colab-df-quickchart:hover {\n    background-color: var(--hover-bg-color);\n    box-shadow: 0 1px 2px rgba(60, 64, 67, 0.3), 0 1px 3px 1px rgba(60, 64, 67, 0.15);\n    fill: var(--button-hover-fill-color);\n  }\n\n  .colab-df-quickchart-complete:disabled,\n  .colab-df-quickchart-complete:disabled:hover {\n    background-color: var(--disabled-bg-color);\n    fill: var(--disabled-fill-color);\n    box-shadow: none;\n  }\n\n  .colab-df-spinner {\n    border: 2px solid var(--fill-color);\n    border-color: transparent;\n    border-bottom-color: var(--fill-color);\n    animation:\n      spin 1s steps(1) infinite;\n  }\n\n  @keyframes spin {\n    0% {\n      border-color: transparent;\n      border-bottom-color: var(--fill-color);\n      border-left-color: var(--fill-color);\n    }\n    20% {\n      border-color: transparent;\n      border-left-color: var(--fill-color);\n      border-top-color: var(--fill-color);\n    }\n    30% {\n      border-color: transparent;\n      border-left-color: var(--fill-color);\n      border-top-color: var(--fill-color);\n      border-right-color: var(--fill-color);\n    }\n    40% {\n      border-color: transparent;\n      border-right-color: var(--fill-color);\n      border-top-color: var(--fill-color);\n    }\n    60% {\n      border-color: transparent;\n      border-right-color: var(--fill-color);\n    }\n    80% {\n      border-color: transparent;\n      border-right-color: var(--fill-color);\n      border-bottom-color: var(--fill-color);\n    }\n    90% {\n      border-color: transparent;\n      border-bottom-color: var(--fill-color);\n    }\n  }\n</style>\n\n  <script>\n    async function quickchart(key) {\n      const quickchartButtonEl =\n        document.querySelector('#' + key + ' button');\n      quickchartButtonEl.disabled = true;  // To prevent multiple clicks.\n      quickchartButtonEl.classList.add('colab-df-spinner');\n      try {\n        const charts = await google.colab.kernel.invokeFunction(\n            'suggestCharts', [key], {});\n      } catch (error) {\n        console.error('Error during call to suggestCharts:', error);\n      }\n      quickchartButtonEl.classList.remove('colab-df-spinner');\n      quickchartButtonEl.classList.add('colab-df-quickchart-complete');\n    }\n    (() => {\n      let quickchartButtonEl =\n        document.querySelector('#df-2d03011b-ad16-46de-a065-efd2c0f1a59b button');\n      quickchartButtonEl.style.display =\n        google.colab.kernel.accessAllowed ? 'block' : 'none';\n    })();\n  </script>\n</div>`;\n        parentElement.appendChild(quickchartButtonContainerElement);\n      }\n\n      appendQuickchartButton(table);\n    ",
            "text/plain": [
              "<google.colab.data_table.DataTable object>"
            ]
          },
          "metadata": {},
          "execution_count": 71
        }
      ]
    },
    {
      "cell_type": "markdown",
      "source": [
        "#### 2) Les visites avec date détaillée\n",
        "Définir la table Visite_date(userID, seqID, poiID, date, annee, mois, jour, heure) contenant les visites avec la date détaillée composée des attributs : année, mois, jour, heure.\n",
        "Indication : la date est initialement au format \"unix\". Voir la fonction de conversion de date from_unixtime et la fonction extract."
      ],
      "metadata": {
        "id": "IIEN0viEFl2A"
      }
    },
    {
      "cell_type": "code",
      "source": [
        "%%sql\n",
        "SELECT *\n",
        "FROM user_visits\n",
        "limit 10"
      ],
      "metadata": {
        "colab": {
          "base_uri": "https://localhost:8080/",
          "height": 337
        },
        "id": "bQ2UDH9wJchc",
        "outputId": "0a5340a1-f901-4d04-daad-17cf13007254"
      },
      "execution_count": null,
      "outputs": [
        {
          "output_type": "execute_result",
          "data": {
            "text/html": [
              "<div>\n",
              "<style scoped>\n",
              "    .dataframe tbody tr th:only-of-type {\n",
              "        vertical-align: middle;\n",
              "    }\n",
              "\n",
              "    .dataframe tbody tr th {\n",
              "        vertical-align: top;\n",
              "    }\n",
              "\n",
              "    .dataframe thead th {\n",
              "        text-align: right;\n",
              "    }\n",
              "</style>\n",
              "<table border=\"1\" class=\"dataframe\">\n",
              "  <thead>\n",
              "    <tr style=\"text-align: right;\">\n",
              "      <th></th>\n",
              "      <th>photoID</th>\n",
              "      <th>userID</th>\n",
              "      <th>date</th>\n",
              "      <th>poiID</th>\n",
              "      <th>poiTheme</th>\n",
              "      <th>poiFreq</th>\n",
              "      <th>seqID</th>\n",
              "    </tr>\n",
              "  </thead>\n",
              "  <tbody>\n",
              "    <tr>\n",
              "      <th>0</th>\n",
              "      <td>7941504100</td>\n",
              "      <td>10007579@N00</td>\n",
              "      <td>1346844688</td>\n",
              "      <td>30</td>\n",
              "      <td>Structure</td>\n",
              "      <td>1538</td>\n",
              "      <td>1</td>\n",
              "    </tr>\n",
              "    <tr>\n",
              "      <th>1</th>\n",
              "      <td>4886005532</td>\n",
              "      <td>10012675@N05</td>\n",
              "      <td>1142731848</td>\n",
              "      <td>6</td>\n",
              "      <td>Cultural</td>\n",
              "      <td>986</td>\n",
              "      <td>2</td>\n",
              "    </tr>\n",
              "    <tr>\n",
              "      <th>2</th>\n",
              "      <td>4886006468</td>\n",
              "      <td>10012675@N05</td>\n",
              "      <td>1142732248</td>\n",
              "      <td>6</td>\n",
              "      <td>Cultural</td>\n",
              "      <td>986</td>\n",
              "      <td>2</td>\n",
              "    </tr>\n",
              "    <tr>\n",
              "      <th>3</th>\n",
              "      <td>4885404441</td>\n",
              "      <td>10012675@N05</td>\n",
              "      <td>1142732373</td>\n",
              "      <td>6</td>\n",
              "      <td>Cultural</td>\n",
              "      <td>986</td>\n",
              "      <td>2</td>\n",
              "    </tr>\n",
              "    <tr>\n",
              "      <th>4</th>\n",
              "      <td>4886008334</td>\n",
              "      <td>10012675@N05</td>\n",
              "      <td>1142732445</td>\n",
              "      <td>6</td>\n",
              "      <td>Cultural</td>\n",
              "      <td>986</td>\n",
              "      <td>2</td>\n",
              "    </tr>\n",
              "    <tr>\n",
              "      <th>5</th>\n",
              "      <td>4886009150</td>\n",
              "      <td>10012675@N05</td>\n",
              "      <td>1142916492</td>\n",
              "      <td>6</td>\n",
              "      <td>Cultural</td>\n",
              "      <td>986</td>\n",
              "      <td>3</td>\n",
              "    </tr>\n",
              "    <tr>\n",
              "      <th>6</th>\n",
              "      <td>7054481539</td>\n",
              "      <td>10012675@N05</td>\n",
              "      <td>1319327174</td>\n",
              "      <td>13</td>\n",
              "      <td>Cultural</td>\n",
              "      <td>964</td>\n",
              "      <td>4</td>\n",
              "    </tr>\n",
              "    <tr>\n",
              "      <th>7</th>\n",
              "      <td>6908387594</td>\n",
              "      <td>10012675@N05</td>\n",
              "      <td>1319328255</td>\n",
              "      <td>13</td>\n",
              "      <td>Cultural</td>\n",
              "      <td>964</td>\n",
              "      <td>4</td>\n",
              "    </tr>\n",
              "    <tr>\n",
              "      <th>8</th>\n",
              "      <td>6908381912</td>\n",
              "      <td>10012675@N05</td>\n",
              "      <td>1319331463</td>\n",
              "      <td>13</td>\n",
              "      <td>Cultural</td>\n",
              "      <td>964</td>\n",
              "      <td>4</td>\n",
              "    </tr>\n",
              "    <tr>\n",
              "      <th>9</th>\n",
              "      <td>6908398496</td>\n",
              "      <td>10012675@N05</td>\n",
              "      <td>1319331886</td>\n",
              "      <td>13</td>\n",
              "      <td>Cultural</td>\n",
              "      <td>964</td>\n",
              "      <td>4</td>\n",
              "    </tr>\n",
              "  </tbody>\n",
              "</table>\n",
              "</div>"
            ],
            "application/vnd.google.colaboratory.module+javascript": "\n      import \"https://ssl.gstatic.com/colaboratory/data_table/881c4a0d49046431/data_table.js\";\n\n      const table = window.createDataTable({\n        data: [[{\n            'v': 7941504100,\n            'f': \"7941504100\",\n        },\n\"10007579@N00\",\n{\n            'v': 1346844688,\n            'f': \"1346844688\",\n        },\n{\n            'v': 30,\n            'f': \"30\",\n        },\n\"Structure\",\n{\n            'v': 1538,\n            'f': \"1538\",\n        },\n{\n            'v': 1,\n            'f': \"1\",\n        }],\n [{\n            'v': 4886005532,\n            'f': \"4886005532\",\n        },\n\"10012675@N05\",\n{\n            'v': 1142731848,\n            'f': \"1142731848\",\n        },\n{\n            'v': 6,\n            'f': \"6\",\n        },\n\"Cultural\",\n{\n            'v': 986,\n            'f': \"986\",\n        },\n{\n            'v': 2,\n            'f': \"2\",\n        }],\n [{\n            'v': 4886006468,\n            'f': \"4886006468\",\n        },\n\"10012675@N05\",\n{\n            'v': 1142732248,\n            'f': \"1142732248\",\n        },\n{\n            'v': 6,\n            'f': \"6\",\n        },\n\"Cultural\",\n{\n            'v': 986,\n            'f': \"986\",\n        },\n{\n            'v': 2,\n            'f': \"2\",\n        }],\n [{\n            'v': 4885404441,\n            'f': \"4885404441\",\n        },\n\"10012675@N05\",\n{\n            'v': 1142732373,\n            'f': \"1142732373\",\n        },\n{\n            'v': 6,\n            'f': \"6\",\n        },\n\"Cultural\",\n{\n            'v': 986,\n            'f': \"986\",\n        },\n{\n            'v': 2,\n            'f': \"2\",\n        }],\n [{\n            'v': 4886008334,\n            'f': \"4886008334\",\n        },\n\"10012675@N05\",\n{\n            'v': 1142732445,\n            'f': \"1142732445\",\n        },\n{\n            'v': 6,\n            'f': \"6\",\n        },\n\"Cultural\",\n{\n            'v': 986,\n            'f': \"986\",\n        },\n{\n            'v': 2,\n            'f': \"2\",\n        }],\n [{\n            'v': 4886009150,\n            'f': \"4886009150\",\n        },\n\"10012675@N05\",\n{\n            'v': 1142916492,\n            'f': \"1142916492\",\n        },\n{\n            'v': 6,\n            'f': \"6\",\n        },\n\"Cultural\",\n{\n            'v': 986,\n            'f': \"986\",\n        },\n{\n            'v': 3,\n            'f': \"3\",\n        }],\n [{\n            'v': 7054481539,\n            'f': \"7054481539\",\n        },\n\"10012675@N05\",\n{\n            'v': 1319327174,\n            'f': \"1319327174\",\n        },\n{\n            'v': 13,\n            'f': \"13\",\n        },\n\"Cultural\",\n{\n            'v': 964,\n            'f': \"964\",\n        },\n{\n            'v': 4,\n            'f': \"4\",\n        }],\n [{\n            'v': 6908387594,\n            'f': \"6908387594\",\n        },\n\"10012675@N05\",\n{\n            'v': 1319328255,\n            'f': \"1319328255\",\n        },\n{\n            'v': 13,\n            'f': \"13\",\n        },\n\"Cultural\",\n{\n            'v': 964,\n            'f': \"964\",\n        },\n{\n            'v': 4,\n            'f': \"4\",\n        }],\n [{\n            'v': 6908381912,\n            'f': \"6908381912\",\n        },\n\"10012675@N05\",\n{\n            'v': 1319331463,\n            'f': \"1319331463\",\n        },\n{\n            'v': 13,\n            'f': \"13\",\n        },\n\"Cultural\",\n{\n            'v': 964,\n            'f': \"964\",\n        },\n{\n            'v': 4,\n            'f': \"4\",\n        }],\n [{\n            'v': 6908398496,\n            'f': \"6908398496\",\n        },\n\"10012675@N05\",\n{\n            'v': 1319331886,\n            'f': \"1319331886\",\n        },\n{\n            'v': 13,\n            'f': \"13\",\n        },\n\"Cultural\",\n{\n            'v': 964,\n            'f': \"964\",\n        },\n{\n            'v': 4,\n            'f': \"4\",\n        }]],\n        columns: [[\"number\", \"photoID\"], [\"string\", \"userID\"], [\"number\", \"date\"], [\"number\", \"poiID\"], [\"string\", \"poiTheme\"], [\"number\", \"poiFreq\"], [\"number\", \"seqID\"]],\n        columnOptions: [],\n        rowsPerPage: 10,\n        helpUrl: \"https://colab.research.google.com/notebooks/data_table.ipynb\",\n        suppressOutputScrolling: true,\n        minimumWidth: undefined,\n      });\n\n      function appendQuickchartButton(parentElement) {\n        let quickchartButtonContainerElement = document.createElement('div');\n        quickchartButtonContainerElement.innerHTML = `\n<div id=\"df-24a8dc39-d9b9-4fe7-9d09-d0d9c2ef9cc6\">\n  <button class=\"colab-df-quickchart\" onclick=\"quickchart('df-24a8dc39-d9b9-4fe7-9d09-d0d9c2ef9cc6')\"\n            title=\"Suggest charts.\"\n            style=\"display:none;\">\n    \n<svg xmlns=\"http://www.w3.org/2000/svg\" height=\"24px\"viewBox=\"0 0 24 24\"\n     width=\"24px\">\n    <g>\n        <path d=\"M19 3H5c-1.1 0-2 .9-2 2v14c0 1.1.9 2 2 2h14c1.1 0 2-.9 2-2V5c0-1.1-.9-2-2-2zM9 17H7v-7h2v7zm4 0h-2V7h2v10zm4 0h-2v-4h2v4z\"/>\n    </g>\n</svg>\n  </button>\n  \n<style>\n  .colab-df-quickchart {\n      --bg-color: #E8F0FE;\n      --fill-color: #1967D2;\n      --hover-bg-color: #E2EBFA;\n      --hover-fill-color: #174EA6;\n      --disabled-fill-color: #AAA;\n      --disabled-bg-color: #DDD;\n  }\n\n  [theme=dark] .colab-df-quickchart {\n      --bg-color: #3B4455;\n      --fill-color: #D2E3FC;\n      --hover-bg-color: #434B5C;\n      --hover-fill-color: #FFFFFF;\n      --disabled-bg-color: #3B4455;\n      --disabled-fill-color: #666;\n  }\n\n  .colab-df-quickchart {\n    background-color: var(--bg-color);\n    border: none;\n    border-radius: 50%;\n    cursor: pointer;\n    display: none;\n    fill: var(--fill-color);\n    height: 32px;\n    padding: 0;\n    width: 32px;\n  }\n\n  .colab-df-quickchart:hover {\n    background-color: var(--hover-bg-color);\n    box-shadow: 0 1px 2px rgba(60, 64, 67, 0.3), 0 1px 3px 1px rgba(60, 64, 67, 0.15);\n    fill: var(--button-hover-fill-color);\n  }\n\n  .colab-df-quickchart-complete:disabled,\n  .colab-df-quickchart-complete:disabled:hover {\n    background-color: var(--disabled-bg-color);\n    fill: var(--disabled-fill-color);\n    box-shadow: none;\n  }\n\n  .colab-df-spinner {\n    border: 2px solid var(--fill-color);\n    border-color: transparent;\n    border-bottom-color: var(--fill-color);\n    animation:\n      spin 1s steps(1) infinite;\n  }\n\n  @keyframes spin {\n    0% {\n      border-color: transparent;\n      border-bottom-color: var(--fill-color);\n      border-left-color: var(--fill-color);\n    }\n    20% {\n      border-color: transparent;\n      border-left-color: var(--fill-color);\n      border-top-color: var(--fill-color);\n    }\n    30% {\n      border-color: transparent;\n      border-left-color: var(--fill-color);\n      border-top-color: var(--fill-color);\n      border-right-color: var(--fill-color);\n    }\n    40% {\n      border-color: transparent;\n      border-right-color: var(--fill-color);\n      border-top-color: var(--fill-color);\n    }\n    60% {\n      border-color: transparent;\n      border-right-color: var(--fill-color);\n    }\n    80% {\n      border-color: transparent;\n      border-right-color: var(--fill-color);\n      border-bottom-color: var(--fill-color);\n    }\n    90% {\n      border-color: transparent;\n      border-bottom-color: var(--fill-color);\n    }\n  }\n</style>\n\n  <script>\n    async function quickchart(key) {\n      const quickchartButtonEl =\n        document.querySelector('#' + key + ' button');\n      quickchartButtonEl.disabled = true;  // To prevent multiple clicks.\n      quickchartButtonEl.classList.add('colab-df-spinner');\n      try {\n        const charts = await google.colab.kernel.invokeFunction(\n            'suggestCharts', [key], {});\n      } catch (error) {\n        console.error('Error during call to suggestCharts:', error);\n      }\n      quickchartButtonEl.classList.remove('colab-df-spinner');\n      quickchartButtonEl.classList.add('colab-df-quickchart-complete');\n    }\n    (() => {\n      let quickchartButtonEl =\n        document.querySelector('#df-24a8dc39-d9b9-4fe7-9d09-d0d9c2ef9cc6 button');\n      quickchartButtonEl.style.display =\n        google.colab.kernel.accessAllowed ? 'block' : 'none';\n    })();\n  </script>\n</div>`;\n        parentElement.appendChild(quickchartButtonContainerElement);\n      }\n\n      appendQuickchartButton(table);\n    ",
            "text/plain": [
              "<google.colab.data_table.DataTable object>"
            ]
          },
          "metadata": {},
          "execution_count": 72
        }
      ]
    },
    {
      "cell_type": "code",
      "source": [
        "%%sql\n",
        "SELECT *\n",
        "FROM POI\n",
        "limit 10"
      ],
      "metadata": {
        "colab": {
          "base_uri": "https://localhost:8080/",
          "height": 337
        },
        "id": "dmFR3qowJ0FD",
        "outputId": "8c7543b5-e95d-4eec-e423-ebc0578f2ff6"
      },
      "execution_count": null,
      "outputs": [
        {
          "output_type": "execute_result",
          "data": {
            "text/html": [
              "<div>\n",
              "<style scoped>\n",
              "    .dataframe tbody tr th:only-of-type {\n",
              "        vertical-align: middle;\n",
              "    }\n",
              "\n",
              "    .dataframe tbody tr th {\n",
              "        vertical-align: top;\n",
              "    }\n",
              "\n",
              "    .dataframe thead th {\n",
              "        text-align: right;\n",
              "    }\n",
              "</style>\n",
              "<table border=\"1\" class=\"dataframe\">\n",
              "  <thead>\n",
              "    <tr style=\"text-align: right;\">\n",
              "      <th></th>\n",
              "      <th>poiID</th>\n",
              "      <th>poiName</th>\n",
              "      <th>latitude</th>\n",
              "      <th>longitude</th>\n",
              "      <th>theme</th>\n",
              "    </tr>\n",
              "  </thead>\n",
              "  <tbody>\n",
              "    <tr>\n",
              "      <th>0</th>\n",
              "      <td>1</td>\n",
              "      <td>Air_Canada_Centre</td>\n",
              "      <td>43.643330</td>\n",
              "      <td>-79.379170</td>\n",
              "      <td>Sport</td>\n",
              "    </tr>\n",
              "    <tr>\n",
              "      <th>1</th>\n",
              "      <td>2</td>\n",
              "      <td>BMO_Field</td>\n",
              "      <td>43.632780</td>\n",
              "      <td>-79.418610</td>\n",
              "      <td>Sport</td>\n",
              "    </tr>\n",
              "    <tr>\n",
              "      <th>2</th>\n",
              "      <td>3</td>\n",
              "      <td>Maple_Leaf_Gardens</td>\n",
              "      <td>43.662220</td>\n",
              "      <td>-79.380280</td>\n",
              "      <td>Sport</td>\n",
              "    </tr>\n",
              "    <tr>\n",
              "      <th>3</th>\n",
              "      <td>4</td>\n",
              "      <td>Rogers_Centre</td>\n",
              "      <td>43.641390</td>\n",
              "      <td>-79.389170</td>\n",
              "      <td>Sport</td>\n",
              "    </tr>\n",
              "    <tr>\n",
              "      <th>4</th>\n",
              "      <td>5</td>\n",
              "      <td>Woodbine_Racetrack</td>\n",
              "      <td>43.712525</td>\n",
              "      <td>-79.602042</td>\n",
              "      <td>Sport</td>\n",
              "    </tr>\n",
              "    <tr>\n",
              "      <th>5</th>\n",
              "      <td>6</td>\n",
              "      <td>Art_Gallery_of_Ontario</td>\n",
              "      <td>43.653890</td>\n",
              "      <td>-79.392780</td>\n",
              "      <td>Cultural</td>\n",
              "    </tr>\n",
              "    <tr>\n",
              "      <th>6</th>\n",
              "      <td>7</td>\n",
              "      <td>Hockey_Hall_of_Fame</td>\n",
              "      <td>43.646976</td>\n",
              "      <td>-79.377253</td>\n",
              "      <td>Cultural</td>\n",
              "    </tr>\n",
              "    <tr>\n",
              "      <th>7</th>\n",
              "      <td>8</td>\n",
              "      <td>Ripley%27s_Aquarium_of_Canada</td>\n",
              "      <td>43.642481</td>\n",
              "      <td>-79.386050</td>\n",
              "      <td>Cultural</td>\n",
              "    </tr>\n",
              "    <tr>\n",
              "      <th>8</th>\n",
              "      <td>9</td>\n",
              "      <td>Ontario_Science_Centre</td>\n",
              "      <td>43.716670</td>\n",
              "      <td>-79.338330</td>\n",
              "      <td>Cultural</td>\n",
              "    </tr>\n",
              "    <tr>\n",
              "      <th>9</th>\n",
              "      <td>10</td>\n",
              "      <td>Riverdale_Farm</td>\n",
              "      <td>43.667111</td>\n",
              "      <td>-79.361294</td>\n",
              "      <td>Cultural</td>\n",
              "    </tr>\n",
              "  </tbody>\n",
              "</table>\n",
              "</div>"
            ],
            "application/vnd.google.colaboratory.module+javascript": "\n      import \"https://ssl.gstatic.com/colaboratory/data_table/881c4a0d49046431/data_table.js\";\n\n      const table = window.createDataTable({\n        data: [[{\n            'v': 1,\n            'f': \"1\",\n        },\n\"Air_Canada_Centre\",\n{\n            'v': 43.64333,\n            'f': \"43.64333\",\n        },\n{\n            'v': -79.37917,\n            'f': \"-79.37917\",\n        },\n\"Sport\"],\n [{\n            'v': 2,\n            'f': \"2\",\n        },\n\"BMO_Field\",\n{\n            'v': 43.63278,\n            'f': \"43.63278\",\n        },\n{\n            'v': -79.41861,\n            'f': \"-79.41861\",\n        },\n\"Sport\"],\n [{\n            'v': 3,\n            'f': \"3\",\n        },\n\"Maple_Leaf_Gardens\",\n{\n            'v': 43.66222,\n            'f': \"43.66222\",\n        },\n{\n            'v': -79.38028,\n            'f': \"-79.38028\",\n        },\n\"Sport\"],\n [{\n            'v': 4,\n            'f': \"4\",\n        },\n\"Rogers_Centre\",\n{\n            'v': 43.64139,\n            'f': \"43.64139\",\n        },\n{\n            'v': -79.38917,\n            'f': \"-79.38917\",\n        },\n\"Sport\"],\n [{\n            'v': 5,\n            'f': \"5\",\n        },\n\"Woodbine_Racetrack\",\n{\n            'v': 43.712525,\n            'f': \"43.712525\",\n        },\n{\n            'v': -79.6020417,\n            'f': \"-79.6020417\",\n        },\n\"Sport\"],\n [{\n            'v': 6,\n            'f': \"6\",\n        },\n\"Art_Gallery_of_Ontario\",\n{\n            'v': 43.65389,\n            'f': \"43.65389\",\n        },\n{\n            'v': -79.39278,\n            'f': \"-79.39278\",\n        },\n\"Cultural\"],\n [{\n            'v': 7,\n            'f': \"7\",\n        },\n\"Hockey_Hall_of_Fame\",\n{\n            'v': 43.646976,\n            'f': \"43.646976\",\n        },\n{\n            'v': -79.377253,\n            'f': \"-79.377253\",\n        },\n\"Cultural\"],\n [{\n            'v': 8,\n            'f': \"8\",\n        },\n\"Ripley%27s_Aquarium_of_Canada\",\n{\n            'v': 43.642481,\n            'f': \"43.642481\",\n        },\n{\n            'v': -79.38605,\n            'f': \"-79.38605\",\n        },\n\"Cultural\"],\n [{\n            'v': 9,\n            'f': \"9\",\n        },\n\"Ontario_Science_Centre\",\n{\n            'v': 43.71667,\n            'f': \"43.71667\",\n        },\n{\n            'v': -79.33833,\n            'f': \"-79.33833\",\n        },\n\"Cultural\"],\n [{\n            'v': 10,\n            'f': \"10\",\n        },\n\"Riverdale_Farm\",\n{\n            'v': 43.667111,\n            'f': \"43.667111\",\n        },\n{\n            'v': -79.361294,\n            'f': \"-79.361294\",\n        },\n\"Cultural\"]],\n        columns: [[\"number\", \"poiID\"], [\"string\", \"poiName\"], [\"number\", \"latitude\"], [\"number\", \"longitude\"], [\"string\", \"theme\"]],\n        columnOptions: [],\n        rowsPerPage: 10,\n        helpUrl: \"https://colab.research.google.com/notebooks/data_table.ipynb\",\n        suppressOutputScrolling: true,\n        minimumWidth: undefined,\n      });\n\n      function appendQuickchartButton(parentElement) {\n        let quickchartButtonContainerElement = document.createElement('div');\n        quickchartButtonContainerElement.innerHTML = `\n<div id=\"df-85bc40da-24b3-4a53-919c-ef74cf877229\">\n  <button class=\"colab-df-quickchart\" onclick=\"quickchart('df-85bc40da-24b3-4a53-919c-ef74cf877229')\"\n            title=\"Suggest charts.\"\n            style=\"display:none;\">\n    \n<svg xmlns=\"http://www.w3.org/2000/svg\" height=\"24px\"viewBox=\"0 0 24 24\"\n     width=\"24px\">\n    <g>\n        <path d=\"M19 3H5c-1.1 0-2 .9-2 2v14c0 1.1.9 2 2 2h14c1.1 0 2-.9 2-2V5c0-1.1-.9-2-2-2zM9 17H7v-7h2v7zm4 0h-2V7h2v10zm4 0h-2v-4h2v4z\"/>\n    </g>\n</svg>\n  </button>\n  \n<style>\n  .colab-df-quickchart {\n      --bg-color: #E8F0FE;\n      --fill-color: #1967D2;\n      --hover-bg-color: #E2EBFA;\n      --hover-fill-color: #174EA6;\n      --disabled-fill-color: #AAA;\n      --disabled-bg-color: #DDD;\n  }\n\n  [theme=dark] .colab-df-quickchart {\n      --bg-color: #3B4455;\n      --fill-color: #D2E3FC;\n      --hover-bg-color: #434B5C;\n      --hover-fill-color: #FFFFFF;\n      --disabled-bg-color: #3B4455;\n      --disabled-fill-color: #666;\n  }\n\n  .colab-df-quickchart {\n    background-color: var(--bg-color);\n    border: none;\n    border-radius: 50%;\n    cursor: pointer;\n    display: none;\n    fill: var(--fill-color);\n    height: 32px;\n    padding: 0;\n    width: 32px;\n  }\n\n  .colab-df-quickchart:hover {\n    background-color: var(--hover-bg-color);\n    box-shadow: 0 1px 2px rgba(60, 64, 67, 0.3), 0 1px 3px 1px rgba(60, 64, 67, 0.15);\n    fill: var(--button-hover-fill-color);\n  }\n\n  .colab-df-quickchart-complete:disabled,\n  .colab-df-quickchart-complete:disabled:hover {\n    background-color: var(--disabled-bg-color);\n    fill: var(--disabled-fill-color);\n    box-shadow: none;\n  }\n\n  .colab-df-spinner {\n    border: 2px solid var(--fill-color);\n    border-color: transparent;\n    border-bottom-color: var(--fill-color);\n    animation:\n      spin 1s steps(1) infinite;\n  }\n\n  @keyframes spin {\n    0% {\n      border-color: transparent;\n      border-bottom-color: var(--fill-color);\n      border-left-color: var(--fill-color);\n    }\n    20% {\n      border-color: transparent;\n      border-left-color: var(--fill-color);\n      border-top-color: var(--fill-color);\n    }\n    30% {\n      border-color: transparent;\n      border-left-color: var(--fill-color);\n      border-top-color: var(--fill-color);\n      border-right-color: var(--fill-color);\n    }\n    40% {\n      border-color: transparent;\n      border-right-color: var(--fill-color);\n      border-top-color: var(--fill-color);\n    }\n    60% {\n      border-color: transparent;\n      border-right-color: var(--fill-color);\n    }\n    80% {\n      border-color: transparent;\n      border-right-color: var(--fill-color);\n      border-bottom-color: var(--fill-color);\n    }\n    90% {\n      border-color: transparent;\n      border-bottom-color: var(--fill-color);\n    }\n  }\n</style>\n\n  <script>\n    async function quickchart(key) {\n      const quickchartButtonEl =\n        document.querySelector('#' + key + ' button');\n      quickchartButtonEl.disabled = true;  // To prevent multiple clicks.\n      quickchartButtonEl.classList.add('colab-df-spinner');\n      try {\n        const charts = await google.colab.kernel.invokeFunction(\n            'suggestCharts', [key], {});\n      } catch (error) {\n        console.error('Error during call to suggestCharts:', error);\n      }\n      quickchartButtonEl.classList.remove('colab-df-spinner');\n      quickchartButtonEl.classList.add('colab-df-quickchart-complete');\n    }\n    (() => {\n      let quickchartButtonEl =\n        document.querySelector('#df-85bc40da-24b3-4a53-919c-ef74cf877229 button');\n      quickchartButtonEl.style.display =\n        google.colab.kernel.accessAllowed ? 'block' : 'none';\n    })();\n  </script>\n</div>`;\n        parentElement.appendChild(quickchartButtonContainerElement);\n      }\n\n      appendQuickchartButton(table);\n    ",
            "text/plain": [
              "<google.colab.data_table.DataTable object>"
            ]
          },
          "metadata": {},
          "execution_count": 73
        }
      ]
    },
    {
      "cell_type": "code",
      "source": [
        "%%sql\n",
        "create or replace temp view Visite_Date as\n",
        "select userID, seqID, poiID, from_unixtime(date) as date, year(from_unixtime(date)) as annee, month(from_unixtime(date)) as mois, day(from_unixtime(date)) as jour, hour(from_unixtime(date)) as heure, minute(from_unixtime(date)) as minutes\n",
        "from user_visits\n",
        ";\n",
        "\n",
        "select * from Visite_Date"
      ],
      "metadata": {
        "id": "NXPLRlC4IGOz",
        "colab": {
          "base_uri": "https://localhost:8080/",
          "height": 347
        },
        "outputId": "e75a07c0-bd59-4117-f0af-aac6bf0d9817"
      },
      "execution_count": null,
      "outputs": [
        {
          "output_type": "execute_result",
          "data": {
            "text/html": [
              "<div>\n",
              "<style scoped>\n",
              "    .dataframe tbody tr th:only-of-type {\n",
              "        vertical-align: middle;\n",
              "    }\n",
              "\n",
              "    .dataframe tbody tr th {\n",
              "        vertical-align: top;\n",
              "    }\n",
              "\n",
              "    .dataframe thead th {\n",
              "        text-align: right;\n",
              "    }\n",
              "</style>\n",
              "<table border=\"1\" class=\"dataframe\">\n",
              "  <thead>\n",
              "    <tr style=\"text-align: right;\">\n",
              "      <th></th>\n",
              "      <th>userID</th>\n",
              "      <th>seqID</th>\n",
              "      <th>poiID</th>\n",
              "      <th>date</th>\n",
              "      <th>annee</th>\n",
              "      <th>mois</th>\n",
              "      <th>jour</th>\n",
              "      <th>heure</th>\n",
              "      <th>minutes</th>\n",
              "    </tr>\n",
              "  </thead>\n",
              "  <tbody>\n",
              "    <tr>\n",
              "      <th>0</th>\n",
              "      <td>10007579@N00</td>\n",
              "      <td>1</td>\n",
              "      <td>30</td>\n",
              "      <td>2012-09-05 11:31:28</td>\n",
              "      <td>2012</td>\n",
              "      <td>9</td>\n",
              "      <td>5</td>\n",
              "      <td>11</td>\n",
              "      <td>31</td>\n",
              "    </tr>\n",
              "    <tr>\n",
              "      <th>1</th>\n",
              "      <td>10012675@N05</td>\n",
              "      <td>2</td>\n",
              "      <td>6</td>\n",
              "      <td>2006-03-19 01:30:48</td>\n",
              "      <td>2006</td>\n",
              "      <td>3</td>\n",
              "      <td>19</td>\n",
              "      <td>1</td>\n",
              "      <td>30</td>\n",
              "    </tr>\n",
              "    <tr>\n",
              "      <th>2</th>\n",
              "      <td>10012675@N05</td>\n",
              "      <td>2</td>\n",
              "      <td>6</td>\n",
              "      <td>2006-03-19 01:37:28</td>\n",
              "      <td>2006</td>\n",
              "      <td>3</td>\n",
              "      <td>19</td>\n",
              "      <td>1</td>\n",
              "      <td>37</td>\n",
              "    </tr>\n",
              "    <tr>\n",
              "      <th>3</th>\n",
              "      <td>10012675@N05</td>\n",
              "      <td>2</td>\n",
              "      <td>6</td>\n",
              "      <td>2006-03-19 01:39:33</td>\n",
              "      <td>2006</td>\n",
              "      <td>3</td>\n",
              "      <td>19</td>\n",
              "      <td>1</td>\n",
              "      <td>39</td>\n",
              "    </tr>\n",
              "    <tr>\n",
              "      <th>4</th>\n",
              "      <td>10012675@N05</td>\n",
              "      <td>2</td>\n",
              "      <td>6</td>\n",
              "      <td>2006-03-19 01:40:45</td>\n",
              "      <td>2006</td>\n",
              "      <td>3</td>\n",
              "      <td>19</td>\n",
              "      <td>1</td>\n",
              "      <td>40</td>\n",
              "    </tr>\n",
              "    <tr>\n",
              "      <th>...</th>\n",
              "      <td>...</td>\n",
              "      <td>...</td>\n",
              "      <td>...</td>\n",
              "      <td>...</td>\n",
              "      <td>...</td>\n",
              "      <td>...</td>\n",
              "      <td>...</td>\n",
              "      <td>...</td>\n",
              "      <td>...</td>\n",
              "    </tr>\n",
              "    <tr>\n",
              "      <th>95</th>\n",
              "      <td>10014440@N06</td>\n",
              "      <td>10</td>\n",
              "      <td>25</td>\n",
              "      <td>2008-07-09 08:53:33</td>\n",
              "      <td>2008</td>\n",
              "      <td>7</td>\n",
              "      <td>9</td>\n",
              "      <td>8</td>\n",
              "      <td>53</td>\n",
              "    </tr>\n",
              "    <tr>\n",
              "      <th>96</th>\n",
              "      <td>10014440@N06</td>\n",
              "      <td>10</td>\n",
              "      <td>25</td>\n",
              "      <td>2008-07-09 08:53:54</td>\n",
              "      <td>2008</td>\n",
              "      <td>7</td>\n",
              "      <td>9</td>\n",
              "      <td>8</td>\n",
              "      <td>53</td>\n",
              "    </tr>\n",
              "    <tr>\n",
              "      <th>97</th>\n",
              "      <td>10014440@N06</td>\n",
              "      <td>10</td>\n",
              "      <td>25</td>\n",
              "      <td>2008-07-09 08:54:10</td>\n",
              "      <td>2008</td>\n",
              "      <td>7</td>\n",
              "      <td>9</td>\n",
              "      <td>8</td>\n",
              "      <td>54</td>\n",
              "    </tr>\n",
              "    <tr>\n",
              "      <th>98</th>\n",
              "      <td>10014440@N06</td>\n",
              "      <td>10</td>\n",
              "      <td>25</td>\n",
              "      <td>2008-07-09 08:54:15</td>\n",
              "      <td>2008</td>\n",
              "      <td>7</td>\n",
              "      <td>9</td>\n",
              "      <td>8</td>\n",
              "      <td>54</td>\n",
              "    </tr>\n",
              "    <tr>\n",
              "      <th>99</th>\n",
              "      <td>10014440@N06</td>\n",
              "      <td>10</td>\n",
              "      <td>25</td>\n",
              "      <td>2008-07-09 08:54:34</td>\n",
              "      <td>2008</td>\n",
              "      <td>7</td>\n",
              "      <td>9</td>\n",
              "      <td>8</td>\n",
              "      <td>54</td>\n",
              "    </tr>\n",
              "  </tbody>\n",
              "</table>\n",
              "<p>100 rows × 9 columns</p>\n",
              "</div>"
            ],
            "application/vnd.google.colaboratory.module+javascript": "\n      import \"https://ssl.gstatic.com/colaboratory/data_table/881c4a0d49046431/data_table.js\";\n\n      const table = window.createDataTable({\n        data: [[\"10007579@N00\",\n{\n            'v': 1,\n            'f': \"1\",\n        },\n{\n            'v': 30,\n            'f': \"30\",\n        },\n\"2012-09-05 11:31:28\",\n{\n            'v': 2012,\n            'f': \"2012\",\n        },\n{\n            'v': 9,\n            'f': \"9\",\n        },\n{\n            'v': 5,\n            'f': \"5\",\n        },\n{\n            'v': 11,\n            'f': \"11\",\n        },\n{\n            'v': 31,\n            'f': \"31\",\n        }],\n [\"10012675@N05\",\n{\n            'v': 2,\n            'f': \"2\",\n        },\n{\n            'v': 6,\n            'f': \"6\",\n        },\n\"2006-03-19 01:30:48\",\n{\n            'v': 2006,\n            'f': \"2006\",\n        },\n{\n            'v': 3,\n            'f': \"3\",\n        },\n{\n            'v': 19,\n            'f': \"19\",\n        },\n{\n            'v': 1,\n            'f': \"1\",\n        },\n{\n            'v': 30,\n            'f': \"30\",\n        }],\n [\"10012675@N05\",\n{\n            'v': 2,\n            'f': \"2\",\n        },\n{\n            'v': 6,\n            'f': \"6\",\n        },\n\"2006-03-19 01:37:28\",\n{\n            'v': 2006,\n            'f': \"2006\",\n        },\n{\n            'v': 3,\n            'f': \"3\",\n        },\n{\n            'v': 19,\n            'f': \"19\",\n        },\n{\n            'v': 1,\n            'f': \"1\",\n        },\n{\n            'v': 37,\n            'f': \"37\",\n        }],\n [\"10012675@N05\",\n{\n            'v': 2,\n            'f': \"2\",\n        },\n{\n            'v': 6,\n            'f': \"6\",\n        },\n\"2006-03-19 01:39:33\",\n{\n            'v': 2006,\n            'f': \"2006\",\n        },\n{\n            'v': 3,\n            'f': \"3\",\n        },\n{\n            'v': 19,\n            'f': \"19\",\n        },\n{\n            'v': 1,\n            'f': \"1\",\n        },\n{\n            'v': 39,\n            'f': \"39\",\n        }],\n [\"10012675@N05\",\n{\n            'v': 2,\n            'f': \"2\",\n        },\n{\n            'v': 6,\n            'f': \"6\",\n        },\n\"2006-03-19 01:40:45\",\n{\n            'v': 2006,\n            'f': \"2006\",\n        },\n{\n            'v': 3,\n            'f': \"3\",\n        },\n{\n            'v': 19,\n            'f': \"19\",\n        },\n{\n            'v': 1,\n            'f': \"1\",\n        },\n{\n            'v': 40,\n            'f': \"40\",\n        }],\n [\"10012675@N05\",\n{\n            'v': 3,\n            'f': \"3\",\n        },\n{\n            'v': 6,\n            'f': \"6\",\n        },\n\"2006-03-21 04:48:12\",\n{\n            'v': 2006,\n            'f': \"2006\",\n        },\n{\n            'v': 3,\n            'f': \"3\",\n        },\n{\n            'v': 21,\n            'f': \"21\",\n        },\n{\n            'v': 4,\n            'f': \"4\",\n        },\n{\n            'v': 48,\n            'f': \"48\",\n        }],\n [\"10012675@N05\",\n{\n            'v': 4,\n            'f': \"4\",\n        },\n{\n            'v': 13,\n            'f': \"13\",\n        },\n\"2011-10-22 23:46:14\",\n{\n            'v': 2011,\n            'f': \"2011\",\n        },\n{\n            'v': 10,\n            'f': \"10\",\n        },\n{\n            'v': 22,\n            'f': \"22\",\n        },\n{\n            'v': 23,\n            'f': \"23\",\n        },\n{\n            'v': 46,\n            'f': \"46\",\n        }],\n [\"10012675@N05\",\n{\n            'v': 4,\n            'f': \"4\",\n        },\n{\n            'v': 13,\n            'f': \"13\",\n        },\n\"2011-10-23 00:04:15\",\n{\n            'v': 2011,\n            'f': \"2011\",\n        },\n{\n            'v': 10,\n            'f': \"10\",\n        },\n{\n            'v': 23,\n            'f': \"23\",\n        },\n{\n            'v': 0,\n            'f': \"0\",\n        },\n{\n            'v': 4,\n            'f': \"4\",\n        }],\n [\"10012675@N05\",\n{\n            'v': 4,\n            'f': \"4\",\n        },\n{\n            'v': 13,\n            'f': \"13\",\n        },\n\"2011-10-23 00:57:43\",\n{\n            'v': 2011,\n            'f': \"2011\",\n        },\n{\n            'v': 10,\n            'f': \"10\",\n        },\n{\n            'v': 23,\n            'f': \"23\",\n        },\n{\n            'v': 0,\n            'f': \"0\",\n        },\n{\n            'v': 57,\n            'f': \"57\",\n        }],\n [\"10012675@N05\",\n{\n            'v': 4,\n            'f': \"4\",\n        },\n{\n            'v': 13,\n            'f': \"13\",\n        },\n\"2011-10-23 01:04:46\",\n{\n            'v': 2011,\n            'f': \"2011\",\n        },\n{\n            'v': 10,\n            'f': \"10\",\n        },\n{\n            'v': 23,\n            'f': \"23\",\n        },\n{\n            'v': 1,\n            'f': \"1\",\n        },\n{\n            'v': 4,\n            'f': \"4\",\n        }],\n [\"10012675@N05\",\n{\n            'v': 4,\n            'f': \"4\",\n        },\n{\n            'v': 13,\n            'f': \"13\",\n        },\n\"2011-10-23 01:06:25\",\n{\n            'v': 2011,\n            'f': \"2011\",\n        },\n{\n            'v': 10,\n            'f': \"10\",\n        },\n{\n            'v': 23,\n            'f': \"23\",\n        },\n{\n            'v': 1,\n            'f': \"1\",\n        },\n{\n            'v': 6,\n            'f': \"6\",\n        }],\n [\"10012675@N05\",\n{\n            'v': 4,\n            'f': \"4\",\n        },\n{\n            'v': 13,\n            'f': \"13\",\n        },\n\"2011-10-23 01:10:00\",\n{\n            'v': 2011,\n            'f': \"2011\",\n        },\n{\n            'v': 10,\n            'f': \"10\",\n        },\n{\n            'v': 23,\n            'f': \"23\",\n        },\n{\n            'v': 1,\n            'f': \"1\",\n        },\n{\n            'v': 10,\n            'f': \"10\",\n        }],\n [\"10012675@N05\",\n{\n            'v': 4,\n            'f': \"4\",\n        },\n{\n            'v': 13,\n            'f': \"13\",\n        },\n\"2011-10-23 01:16:49\",\n{\n            'v': 2011,\n            'f': \"2011\",\n        },\n{\n            'v': 10,\n            'f': \"10\",\n        },\n{\n            'v': 23,\n            'f': \"23\",\n        },\n{\n            'v': 1,\n            'f': \"1\",\n        },\n{\n            'v': 16,\n            'f': \"16\",\n        }],\n [\"10012675@N05\",\n{\n            'v': 4,\n            'f': \"4\",\n        },\n{\n            'v': 13,\n            'f': \"13\",\n        },\n\"2011-10-23 01:19:38\",\n{\n            'v': 2011,\n            'f': \"2011\",\n        },\n{\n            'v': 10,\n            'f': \"10\",\n        },\n{\n            'v': 23,\n            'f': \"23\",\n        },\n{\n            'v': 1,\n            'f': \"1\",\n        },\n{\n            'v': 19,\n            'f': \"19\",\n        }],\n [\"10012675@N05\",\n{\n            'v': 4,\n            'f': \"4\",\n        },\n{\n            'v': 13,\n            'f': \"13\",\n        },\n\"2011-10-23 01:20:48\",\n{\n            'v': 2011,\n            'f': \"2011\",\n        },\n{\n            'v': 10,\n            'f': \"10\",\n        },\n{\n            'v': 23,\n            'f': \"23\",\n        },\n{\n            'v': 1,\n            'f': \"1\",\n        },\n{\n            'v': 20,\n            'f': \"20\",\n        }],\n [\"10014440@N06\",\n{\n            'v': 5,\n            'f': \"5\",\n        },\n{\n            'v': 24,\n            'f': \"24\",\n        },\n\"2007-11-27 01:57:01\",\n{\n            'v': 2007,\n            'f': \"2007\",\n        },\n{\n            'v': 11,\n            'f': \"11\",\n        },\n{\n            'v': 27,\n            'f': \"27\",\n        },\n{\n            'v': 1,\n            'f': \"1\",\n        },\n{\n            'v': 57,\n            'f': \"57\",\n        }],\n [\"10014440@N06\",\n{\n            'v': 5,\n            'f': \"5\",\n        },\n{\n            'v': 24,\n            'f': \"24\",\n        },\n\"2007-11-27 01:58:57\",\n{\n            'v': 2007,\n            'f': \"2007\",\n        },\n{\n            'v': 11,\n            'f': \"11\",\n        },\n{\n            'v': 27,\n            'f': \"27\",\n        },\n{\n            'v': 1,\n            'f': \"1\",\n        },\n{\n            'v': 58,\n            'f': \"58\",\n        }],\n [\"10014440@N06\",\n{\n            'v': 5,\n            'f': \"5\",\n        },\n{\n            'v': 24,\n            'f': \"24\",\n        },\n\"2007-11-27 02:01:18\",\n{\n            'v': 2007,\n            'f': \"2007\",\n        },\n{\n            'v': 11,\n            'f': \"11\",\n        },\n{\n            'v': 27,\n            'f': \"27\",\n        },\n{\n            'v': 2,\n            'f': \"2\",\n        },\n{\n            'v': 1,\n            'f': \"1\",\n        }],\n [\"10014440@N06\",\n{\n            'v': 6,\n            'f': \"6\",\n        },\n{\n            'v': 23,\n            'f': \"23\",\n        },\n\"2007-12-19 08:09:27\",\n{\n            'v': 2007,\n            'f': \"2007\",\n        },\n{\n            'v': 12,\n            'f': \"12\",\n        },\n{\n            'v': 19,\n            'f': \"19\",\n        },\n{\n            'v': 8,\n            'f': \"8\",\n        },\n{\n            'v': 9,\n            'f': \"9\",\n        }],\n [\"10014440@N06\",\n{\n            'v': 6,\n            'f': \"6\",\n        },\n{\n            'v': 23,\n            'f': \"23\",\n        },\n\"2007-12-19 08:10:39\",\n{\n            'v': 2007,\n            'f': \"2007\",\n        },\n{\n            'v': 12,\n            'f': \"12\",\n        },\n{\n            'v': 19,\n            'f': \"19\",\n        },\n{\n            'v': 8,\n            'f': \"8\",\n        },\n{\n            'v': 10,\n            'f': \"10\",\n        }],\n [\"10014440@N06\",\n{\n            'v': 6,\n            'f': \"6\",\n        },\n{\n            'v': 23,\n            'f': \"23\",\n        },\n\"2007-12-19 08:15:42\",\n{\n            'v': 2007,\n            'f': \"2007\",\n        },\n{\n            'v': 12,\n            'f': \"12\",\n        },\n{\n            'v': 19,\n            'f': \"19\",\n        },\n{\n            'v': 8,\n            'f': \"8\",\n        },\n{\n            'v': 15,\n            'f': \"15\",\n        }],\n [\"10014440@N06\",\n{\n            'v': 6,\n            'f': \"6\",\n        },\n{\n            'v': 23,\n            'f': \"23\",\n        },\n\"2007-12-19 08:15:57\",\n{\n            'v': 2007,\n            'f': \"2007\",\n        },\n{\n            'v': 12,\n            'f': \"12\",\n        },\n{\n            'v': 19,\n            'f': \"19\",\n        },\n{\n            'v': 8,\n            'f': \"8\",\n        },\n{\n            'v': 15,\n            'f': \"15\",\n        }],\n [\"10014440@N06\",\n{\n            'v': 6,\n            'f': \"6\",\n        },\n{\n            'v': 23,\n            'f': \"23\",\n        },\n\"2007-12-19 08:16:47\",\n{\n            'v': 2007,\n            'f': \"2007\",\n        },\n{\n            'v': 12,\n            'f': \"12\",\n        },\n{\n            'v': 19,\n            'f': \"19\",\n        },\n{\n            'v': 8,\n            'f': \"8\",\n        },\n{\n            'v': 16,\n            'f': \"16\",\n        }],\n [\"10014440@N06\",\n{\n            'v': 6,\n            'f': \"6\",\n        },\n{\n            'v': 23,\n            'f': \"23\",\n        },\n\"2007-12-19 08:17:24\",\n{\n            'v': 2007,\n            'f': \"2007\",\n        },\n{\n            'v': 12,\n            'f': \"12\",\n        },\n{\n            'v': 19,\n            'f': \"19\",\n        },\n{\n            'v': 8,\n            'f': \"8\",\n        },\n{\n            'v': 17,\n            'f': \"17\",\n        }],\n [\"10014440@N06\",\n{\n            'v': 6,\n            'f': \"6\",\n        },\n{\n            'v': 23,\n            'f': \"23\",\n        },\n\"2007-12-19 08:19:14\",\n{\n            'v': 2007,\n            'f': \"2007\",\n        },\n{\n            'v': 12,\n            'f': \"12\",\n        },\n{\n            'v': 19,\n            'f': \"19\",\n        },\n{\n            'v': 8,\n            'f': \"8\",\n        },\n{\n            'v': 19,\n            'f': \"19\",\n        }],\n [\"10014440@N06\",\n{\n            'v': 6,\n            'f': \"6\",\n        },\n{\n            'v': 23,\n            'f': \"23\",\n        },\n\"2007-12-19 08:21:44\",\n{\n            'v': 2007,\n            'f': \"2007\",\n        },\n{\n            'v': 12,\n            'f': \"12\",\n        },\n{\n            'v': 19,\n            'f': \"19\",\n        },\n{\n            'v': 8,\n            'f': \"8\",\n        },\n{\n            'v': 21,\n            'f': \"21\",\n        }],\n [\"10014440@N06\",\n{\n            'v': 6,\n            'f': \"6\",\n        },\n{\n            'v': 23,\n            'f': \"23\",\n        },\n\"2007-12-19 08:22:06\",\n{\n            'v': 2007,\n            'f': \"2007\",\n        },\n{\n            'v': 12,\n            'f': \"12\",\n        },\n{\n            'v': 19,\n            'f': \"19\",\n        },\n{\n            'v': 8,\n            'f': \"8\",\n        },\n{\n            'v': 22,\n            'f': \"22\",\n        }],\n [\"10014440@N06\",\n{\n            'v': 6,\n            'f': \"6\",\n        },\n{\n            'v': 23,\n            'f': \"23\",\n        },\n\"2007-12-19 08:22:18\",\n{\n            'v': 2007,\n            'f': \"2007\",\n        },\n{\n            'v': 12,\n            'f': \"12\",\n        },\n{\n            'v': 19,\n            'f': \"19\",\n        },\n{\n            'v': 8,\n            'f': \"8\",\n        },\n{\n            'v': 22,\n            'f': \"22\",\n        }],\n [\"10014440@N06\",\n{\n            'v': 6,\n            'f': \"6\",\n        },\n{\n            'v': 23,\n            'f': \"23\",\n        },\n\"2007-12-19 08:25:54\",\n{\n            'v': 2007,\n            'f': \"2007\",\n        },\n{\n            'v': 12,\n            'f': \"12\",\n        },\n{\n            'v': 19,\n            'f': \"19\",\n        },\n{\n            'v': 8,\n            'f': \"8\",\n        },\n{\n            'v': 25,\n            'f': \"25\",\n        }],\n [\"10014440@N06\",\n{\n            'v': 6,\n            'f': \"6\",\n        },\n{\n            'v': 23,\n            'f': \"23\",\n        },\n\"2007-12-19 08:27:12\",\n{\n            'v': 2007,\n            'f': \"2007\",\n        },\n{\n            'v': 12,\n            'f': \"12\",\n        },\n{\n            'v': 19,\n            'f': \"19\",\n        },\n{\n            'v': 8,\n            'f': \"8\",\n        },\n{\n            'v': 27,\n            'f': \"27\",\n        }],\n [\"10014440@N06\",\n{\n            'v': 7,\n            'f': \"7\",\n        },\n{\n            'v': 23,\n            'f': \"23\",\n        },\n\"2007-12-25 23:57:05\",\n{\n            'v': 2007,\n            'f': \"2007\",\n        },\n{\n            'v': 12,\n            'f': \"12\",\n        },\n{\n            'v': 25,\n            'f': \"25\",\n        },\n{\n            'v': 23,\n            'f': \"23\",\n        },\n{\n            'v': 57,\n            'f': \"57\",\n        }],\n [\"10014440@N06\",\n{\n            'v': 7,\n            'f': \"7\",\n        },\n{\n            'v': 23,\n            'f': \"23\",\n        },\n\"2007-12-26 00:00:29\",\n{\n            'v': 2007,\n            'f': \"2007\",\n        },\n{\n            'v': 12,\n            'f': \"12\",\n        },\n{\n            'v': 26,\n            'f': \"26\",\n        },\n{\n            'v': 0,\n            'f': \"0\",\n        },\n{\n            'v': 0,\n            'f': \"0\",\n        }],\n [\"10014440@N06\",\n{\n            'v': 7,\n            'f': \"7\",\n        },\n{\n            'v': 23,\n            'f': \"23\",\n        },\n\"2007-12-26 00:02:41\",\n{\n            'v': 2007,\n            'f': \"2007\",\n        },\n{\n            'v': 12,\n            'f': \"12\",\n        },\n{\n            'v': 26,\n            'f': \"26\",\n        },\n{\n            'v': 0,\n            'f': \"0\",\n        },\n{\n            'v': 2,\n            'f': \"2\",\n        }],\n [\"10014440@N06\",\n{\n            'v': 7,\n            'f': \"7\",\n        },\n{\n            'v': 23,\n            'f': \"23\",\n        },\n\"2007-12-26 00:06:30\",\n{\n            'v': 2007,\n            'f': \"2007\",\n        },\n{\n            'v': 12,\n            'f': \"12\",\n        },\n{\n            'v': 26,\n            'f': \"26\",\n        },\n{\n            'v': 0,\n            'f': \"0\",\n        },\n{\n            'v': 6,\n            'f': \"6\",\n        }],\n [\"10014440@N06\",\n{\n            'v': 7,\n            'f': \"7\",\n        },\n{\n            'v': 23,\n            'f': \"23\",\n        },\n\"2007-12-26 00:06:38\",\n{\n            'v': 2007,\n            'f': \"2007\",\n        },\n{\n            'v': 12,\n            'f': \"12\",\n        },\n{\n            'v': 26,\n            'f': \"26\",\n        },\n{\n            'v': 0,\n            'f': \"0\",\n        },\n{\n            'v': 6,\n            'f': \"6\",\n        }],\n [\"10014440@N06\",\n{\n            'v': 8,\n            'f': \"8\",\n        },\n{\n            'v': 23,\n            'f': \"23\",\n        },\n\"2008-03-22 05:34:47\",\n{\n            'v': 2008,\n            'f': \"2008\",\n        },\n{\n            'v': 3,\n            'f': \"3\",\n        },\n{\n            'v': 22,\n            'f': \"22\",\n        },\n{\n            'v': 5,\n            'f': \"5\",\n        },\n{\n            'v': 34,\n            'f': \"34\",\n        }],\n [\"10014440@N06\",\n{\n            'v': 8,\n            'f': \"8\",\n        },\n{\n            'v': 23,\n            'f': \"23\",\n        },\n\"2008-03-22 05:39:05\",\n{\n            'v': 2008,\n            'f': \"2008\",\n        },\n{\n            'v': 3,\n            'f': \"3\",\n        },\n{\n            'v': 22,\n            'f': \"22\",\n        },\n{\n            'v': 5,\n            'f': \"5\",\n        },\n{\n            'v': 39,\n            'f': \"39\",\n        }],\n [\"10014440@N06\",\n{\n            'v': 8,\n            'f': \"8\",\n        },\n{\n            'v': 23,\n            'f': \"23\",\n        },\n\"2008-03-22 05:39:19\",\n{\n            'v': 2008,\n            'f': \"2008\",\n        },\n{\n            'v': 3,\n            'f': \"3\",\n        },\n{\n            'v': 22,\n            'f': \"22\",\n        },\n{\n            'v': 5,\n            'f': \"5\",\n        },\n{\n            'v': 39,\n            'f': \"39\",\n        }],\n [\"10014440@N06\",\n{\n            'v': 8,\n            'f': \"8\",\n        },\n{\n            'v': 23,\n            'f': \"23\",\n        },\n\"2008-03-22 05:40:41\",\n{\n            'v': 2008,\n            'f': \"2008\",\n        },\n{\n            'v': 3,\n            'f': \"3\",\n        },\n{\n            'v': 22,\n            'f': \"22\",\n        },\n{\n            'v': 5,\n            'f': \"5\",\n        },\n{\n            'v': 40,\n            'f': \"40\",\n        }],\n [\"10014440@N06\",\n{\n            'v': 8,\n            'f': \"8\",\n        },\n{\n            'v': 23,\n            'f': \"23\",\n        },\n\"2008-03-22 05:44:42\",\n{\n            'v': 2008,\n            'f': \"2008\",\n        },\n{\n            'v': 3,\n            'f': \"3\",\n        },\n{\n            'v': 22,\n            'f': \"22\",\n        },\n{\n            'v': 5,\n            'f': \"5\",\n        },\n{\n            'v': 44,\n            'f': \"44\",\n        }],\n [\"10014440@N06\",\n{\n            'v': 8,\n            'f': \"8\",\n        },\n{\n            'v': 23,\n            'f': \"23\",\n        },\n\"2008-03-22 05:45:52\",\n{\n            'v': 2008,\n            'f': \"2008\",\n        },\n{\n            'v': 3,\n            'f': \"3\",\n        },\n{\n            'v': 22,\n            'f': \"22\",\n        },\n{\n            'v': 5,\n            'f': \"5\",\n        },\n{\n            'v': 45,\n            'f': \"45\",\n        }],\n [\"10014440@N06\",\n{\n            'v': 8,\n            'f': \"8\",\n        },\n{\n            'v': 23,\n            'f': \"23\",\n        },\n\"2008-03-22 05:46:53\",\n{\n            'v': 2008,\n            'f': \"2008\",\n        },\n{\n            'v': 3,\n            'f': \"3\",\n        },\n{\n            'v': 22,\n            'f': \"22\",\n        },\n{\n            'v': 5,\n            'f': \"5\",\n        },\n{\n            'v': 46,\n            'f': \"46\",\n        }],\n [\"10014440@N06\",\n{\n            'v': 8,\n            'f': \"8\",\n        },\n{\n            'v': 23,\n            'f': \"23\",\n        },\n\"2008-03-22 05:54:35\",\n{\n            'v': 2008,\n            'f': \"2008\",\n        },\n{\n            'v': 3,\n            'f': \"3\",\n        },\n{\n            'v': 22,\n            'f': \"22\",\n        },\n{\n            'v': 5,\n            'f': \"5\",\n        },\n{\n            'v': 54,\n            'f': \"54\",\n        }],\n [\"10014440@N06\",\n{\n            'v': 8,\n            'f': \"8\",\n        },\n{\n            'v': 23,\n            'f': \"23\",\n        },\n\"2008-03-22 05:54:38\",\n{\n            'v': 2008,\n            'f': \"2008\",\n        },\n{\n            'v': 3,\n            'f': \"3\",\n        },\n{\n            'v': 22,\n            'f': \"22\",\n        },\n{\n            'v': 5,\n            'f': \"5\",\n        },\n{\n            'v': 54,\n            'f': \"54\",\n        }],\n [\"10014440@N06\",\n{\n            'v': 8,\n            'f': \"8\",\n        },\n{\n            'v': 23,\n            'f': \"23\",\n        },\n\"2008-03-22 06:01:42\",\n{\n            'v': 2008,\n            'f': \"2008\",\n        },\n{\n            'v': 3,\n            'f': \"3\",\n        },\n{\n            'v': 22,\n            'f': \"22\",\n        },\n{\n            'v': 6,\n            'f': \"6\",\n        },\n{\n            'v': 1,\n            'f': \"1\",\n        }],\n [\"10014440@N06\",\n{\n            'v': 8,\n            'f': \"8\",\n        },\n{\n            'v': 24,\n            'f': \"24\",\n        },\n\"2008-03-22 06:51:13\",\n{\n            'v': 2008,\n            'f': \"2008\",\n        },\n{\n            'v': 3,\n            'f': \"3\",\n        },\n{\n            'v': 22,\n            'f': \"22\",\n        },\n{\n            'v': 6,\n            'f': \"6\",\n        },\n{\n            'v': 51,\n            'f': \"51\",\n        }],\n [\"10014440@N06\",\n{\n            'v': 8,\n            'f': \"8\",\n        },\n{\n            'v': 24,\n            'f': \"24\",\n        },\n\"2008-03-22 06:57:15\",\n{\n            'v': 2008,\n            'f': \"2008\",\n        },\n{\n            'v': 3,\n            'f': \"3\",\n        },\n{\n            'v': 22,\n            'f': \"22\",\n        },\n{\n            'v': 6,\n            'f': \"6\",\n        },\n{\n            'v': 57,\n            'f': \"57\",\n        }],\n [\"10014440@N06\",\n{\n            'v': 8,\n            'f': \"8\",\n        },\n{\n            'v': 24,\n            'f': \"24\",\n        },\n\"2008-03-22 06:57:38\",\n{\n            'v': 2008,\n            'f': \"2008\",\n        },\n{\n            'v': 3,\n            'f': \"3\",\n        },\n{\n            'v': 22,\n            'f': \"22\",\n        },\n{\n            'v': 6,\n            'f': \"6\",\n        },\n{\n            'v': 57,\n            'f': \"57\",\n        }],\n [\"10014440@N06\",\n{\n            'v': 8,\n            'f': \"8\",\n        },\n{\n            'v': 24,\n            'f': \"24\",\n        },\n\"2008-03-22 07:01:00\",\n{\n            'v': 2008,\n            'f': \"2008\",\n        },\n{\n            'v': 3,\n            'f': \"3\",\n        },\n{\n            'v': 22,\n            'f': \"22\",\n        },\n{\n            'v': 7,\n            'f': \"7\",\n        },\n{\n            'v': 1,\n            'f': \"1\",\n        }],\n [\"10014440@N06\",\n{\n            'v': 8,\n            'f': \"8\",\n        },\n{\n            'v': 24,\n            'f': \"24\",\n        },\n\"2008-03-22 07:01:31\",\n{\n            'v': 2008,\n            'f': \"2008\",\n        },\n{\n            'v': 3,\n            'f': \"3\",\n        },\n{\n            'v': 22,\n            'f': \"22\",\n        },\n{\n            'v': 7,\n            'f': \"7\",\n        },\n{\n            'v': 1,\n            'f': \"1\",\n        }],\n [\"10014440@N06\",\n{\n            'v': 8,\n            'f': \"8\",\n        },\n{\n            'v': 24,\n            'f': \"24\",\n        },\n\"2008-03-22 07:02:44\",\n{\n            'v': 2008,\n            'f': \"2008\",\n        },\n{\n            'v': 3,\n            'f': \"3\",\n        },\n{\n            'v': 22,\n            'f': \"22\",\n        },\n{\n            'v': 7,\n            'f': \"7\",\n        },\n{\n            'v': 2,\n            'f': \"2\",\n        }],\n [\"10014440@N06\",\n{\n            'v': 8,\n            'f': \"8\",\n        },\n{\n            'v': 24,\n            'f': \"24\",\n        },\n\"2008-03-22 07:03:00\",\n{\n            'v': 2008,\n            'f': \"2008\",\n        },\n{\n            'v': 3,\n            'f': \"3\",\n        },\n{\n            'v': 22,\n            'f': \"22\",\n        },\n{\n            'v': 7,\n            'f': \"7\",\n        },\n{\n            'v': 3,\n            'f': \"3\",\n        }],\n [\"10014440@N06\",\n{\n            'v': 8,\n            'f': \"8\",\n        },\n{\n            'v': 24,\n            'f': \"24\",\n        },\n\"2008-03-22 07:03:25\",\n{\n            'v': 2008,\n            'f': \"2008\",\n        },\n{\n            'v': 3,\n            'f': \"3\",\n        },\n{\n            'v': 22,\n            'f': \"22\",\n        },\n{\n            'v': 7,\n            'f': \"7\",\n        },\n{\n            'v': 3,\n            'f': \"3\",\n        }],\n [\"10014440@N06\",\n{\n            'v': 8,\n            'f': \"8\",\n        },\n{\n            'v': 24,\n            'f': \"24\",\n        },\n\"2008-03-22 07:04:10\",\n{\n            'v': 2008,\n            'f': \"2008\",\n        },\n{\n            'v': 3,\n            'f': \"3\",\n        },\n{\n            'v': 22,\n            'f': \"22\",\n        },\n{\n            'v': 7,\n            'f': \"7\",\n        },\n{\n            'v': 4,\n            'f': \"4\",\n        }],\n [\"10014440@N06\",\n{\n            'v': 8,\n            'f': \"8\",\n        },\n{\n            'v': 24,\n            'f': \"24\",\n        },\n\"2008-03-22 07:05:18\",\n{\n            'v': 2008,\n            'f': \"2008\",\n        },\n{\n            'v': 3,\n            'f': \"3\",\n        },\n{\n            'v': 22,\n            'f': \"22\",\n        },\n{\n            'v': 7,\n            'f': \"7\",\n        },\n{\n            'v': 5,\n            'f': \"5\",\n        }],\n [\"10014440@N06\",\n{\n            'v': 8,\n            'f': \"8\",\n        },\n{\n            'v': 24,\n            'f': \"24\",\n        },\n\"2008-03-22 07:06:57\",\n{\n            'v': 2008,\n            'f': \"2008\",\n        },\n{\n            'v': 3,\n            'f': \"3\",\n        },\n{\n            'v': 22,\n            'f': \"22\",\n        },\n{\n            'v': 7,\n            'f': \"7\",\n        },\n{\n            'v': 6,\n            'f': \"6\",\n        }],\n [\"10014440@N06\",\n{\n            'v': 8,\n            'f': \"8\",\n        },\n{\n            'v': 24,\n            'f': \"24\",\n        },\n\"2008-03-22 07:08:32\",\n{\n            'v': 2008,\n            'f': \"2008\",\n        },\n{\n            'v': 3,\n            'f': \"3\",\n        },\n{\n            'v': 22,\n            'f': \"22\",\n        },\n{\n            'v': 7,\n            'f': \"7\",\n        },\n{\n            'v': 8,\n            'f': \"8\",\n        }],\n [\"10014440@N06\",\n{\n            'v': 8,\n            'f': \"8\",\n        },\n{\n            'v': 24,\n            'f': \"24\",\n        },\n\"2008-03-22 07:11:27\",\n{\n            'v': 2008,\n            'f': \"2008\",\n        },\n{\n            'v': 3,\n            'f': \"3\",\n        },\n{\n            'v': 22,\n            'f': \"22\",\n        },\n{\n            'v': 7,\n            'f': \"7\",\n        },\n{\n            'v': 11,\n            'f': \"11\",\n        }],\n [\"10014440@N06\",\n{\n            'v': 8,\n            'f': \"8\",\n        },\n{\n            'v': 24,\n            'f': \"24\",\n        },\n\"2008-03-22 07:12:00\",\n{\n            'v': 2008,\n            'f': \"2008\",\n        },\n{\n            'v': 3,\n            'f': \"3\",\n        },\n{\n            'v': 22,\n            'f': \"22\",\n        },\n{\n            'v': 7,\n            'f': \"7\",\n        },\n{\n            'v': 12,\n            'f': \"12\",\n        }],\n [\"10014440@N06\",\n{\n            'v': 8,\n            'f': \"8\",\n        },\n{\n            'v': 24,\n            'f': \"24\",\n        },\n\"2008-03-22 07:12:26\",\n{\n            'v': 2008,\n            'f': \"2008\",\n        },\n{\n            'v': 3,\n            'f': \"3\",\n        },\n{\n            'v': 22,\n            'f': \"22\",\n        },\n{\n            'v': 7,\n            'f': \"7\",\n        },\n{\n            'v': 12,\n            'f': \"12\",\n        }],\n [\"10014440@N06\",\n{\n            'v': 8,\n            'f': \"8\",\n        },\n{\n            'v': 24,\n            'f': \"24\",\n        },\n\"2008-03-22 07:13:52\",\n{\n            'v': 2008,\n            'f': \"2008\",\n        },\n{\n            'v': 3,\n            'f': \"3\",\n        },\n{\n            'v': 22,\n            'f': \"22\",\n        },\n{\n            'v': 7,\n            'f': \"7\",\n        },\n{\n            'v': 13,\n            'f': \"13\",\n        }],\n [\"10014440@N06\",\n{\n            'v': 9,\n            'f': \"9\",\n        },\n{\n            'v': 24,\n            'f': \"24\",\n        },\n\"2008-07-01 05:29:26\",\n{\n            'v': 2008,\n            'f': \"2008\",\n        },\n{\n            'v': 7,\n            'f': \"7\",\n        },\n{\n            'v': 1,\n            'f': \"1\",\n        },\n{\n            'v': 5,\n            'f': \"5\",\n        },\n{\n            'v': 29,\n            'f': \"29\",\n        }],\n [\"10014440@N06\",\n{\n            'v': 9,\n            'f': \"9\",\n        },\n{\n            'v': 24,\n            'f': \"24\",\n        },\n\"2008-07-01 05:29:44\",\n{\n            'v': 2008,\n            'f': \"2008\",\n        },\n{\n            'v': 7,\n            'f': \"7\",\n        },\n{\n            'v': 1,\n            'f': \"1\",\n        },\n{\n            'v': 5,\n            'f': \"5\",\n        },\n{\n            'v': 29,\n            'f': \"29\",\n        }],\n [\"10014440@N06\",\n{\n            'v': 9,\n            'f': \"9\",\n        },\n{\n            'v': 24,\n            'f': \"24\",\n        },\n\"2008-07-01 05:30:03\",\n{\n            'v': 2008,\n            'f': \"2008\",\n        },\n{\n            'v': 7,\n            'f': \"7\",\n        },\n{\n            'v': 1,\n            'f': \"1\",\n        },\n{\n            'v': 5,\n            'f': \"5\",\n        },\n{\n            'v': 30,\n            'f': \"30\",\n        }],\n [\"10014440@N06\",\n{\n            'v': 9,\n            'f': \"9\",\n        },\n{\n            'v': 24,\n            'f': \"24\",\n        },\n\"2008-07-01 05:31:10\",\n{\n            'v': 2008,\n            'f': \"2008\",\n        },\n{\n            'v': 7,\n            'f': \"7\",\n        },\n{\n            'v': 1,\n            'f': \"1\",\n        },\n{\n            'v': 5,\n            'f': \"5\",\n        },\n{\n            'v': 31,\n            'f': \"31\",\n        }],\n [\"10014440@N06\",\n{\n            'v': 9,\n            'f': \"9\",\n        },\n{\n            'v': 24,\n            'f': \"24\",\n        },\n\"2008-07-01 05:31:17\",\n{\n            'v': 2008,\n            'f': \"2008\",\n        },\n{\n            'v': 7,\n            'f': \"7\",\n        },\n{\n            'v': 1,\n            'f': \"1\",\n        },\n{\n            'v': 5,\n            'f': \"5\",\n        },\n{\n            'v': 31,\n            'f': \"31\",\n        }],\n [\"10014440@N06\",\n{\n            'v': 9,\n            'f': \"9\",\n        },\n{\n            'v': 24,\n            'f': \"24\",\n        },\n\"2008-07-01 05:34:22\",\n{\n            'v': 2008,\n            'f': \"2008\",\n        },\n{\n            'v': 7,\n            'f': \"7\",\n        },\n{\n            'v': 1,\n            'f': \"1\",\n        },\n{\n            'v': 5,\n            'f': \"5\",\n        },\n{\n            'v': 34,\n            'f': \"34\",\n        }],\n [\"10014440@N06\",\n{\n            'v': 10,\n            'f': \"10\",\n        },\n{\n            'v': 25,\n            'f': \"25\",\n        },\n\"2008-07-09 08:29:18\",\n{\n            'v': 2008,\n            'f': \"2008\",\n        },\n{\n            'v': 7,\n            'f': \"7\",\n        },\n{\n            'v': 9,\n            'f': \"9\",\n        },\n{\n            'v': 8,\n            'f': \"8\",\n        },\n{\n            'v': 29,\n            'f': \"29\",\n        }],\n [\"10014440@N06\",\n{\n            'v': 10,\n            'f': \"10\",\n        },\n{\n            'v': 25,\n            'f': \"25\",\n        },\n\"2008-07-09 08:29:31\",\n{\n            'v': 2008,\n            'f': \"2008\",\n        },\n{\n            'v': 7,\n            'f': \"7\",\n        },\n{\n            'v': 9,\n            'f': \"9\",\n        },\n{\n            'v': 8,\n            'f': \"8\",\n        },\n{\n            'v': 29,\n            'f': \"29\",\n        }],\n [\"10014440@N06\",\n{\n            'v': 10,\n            'f': \"10\",\n        },\n{\n            'v': 25,\n            'f': \"25\",\n        },\n\"2008-07-09 08:29:39\",\n{\n            'v': 2008,\n            'f': \"2008\",\n        },\n{\n            'v': 7,\n            'f': \"7\",\n        },\n{\n            'v': 9,\n            'f': \"9\",\n        },\n{\n            'v': 8,\n            'f': \"8\",\n        },\n{\n            'v': 29,\n            'f': \"29\",\n        }],\n [\"10014440@N06\",\n{\n            'v': 10,\n            'f': \"10\",\n        },\n{\n            'v': 25,\n            'f': \"25\",\n        },\n\"2008-07-09 08:29:51\",\n{\n            'v': 2008,\n            'f': \"2008\",\n        },\n{\n            'v': 7,\n            'f': \"7\",\n        },\n{\n            'v': 9,\n            'f': \"9\",\n        },\n{\n            'v': 8,\n            'f': \"8\",\n        },\n{\n            'v': 29,\n            'f': \"29\",\n        }],\n [\"10014440@N06\",\n{\n            'v': 10,\n            'f': \"10\",\n        },\n{\n            'v': 25,\n            'f': \"25\",\n        },\n\"2008-07-09 08:30:01\",\n{\n            'v': 2008,\n            'f': \"2008\",\n        },\n{\n            'v': 7,\n            'f': \"7\",\n        },\n{\n            'v': 9,\n            'f': \"9\",\n        },\n{\n            'v': 8,\n            'f': \"8\",\n        },\n{\n            'v': 30,\n            'f': \"30\",\n        }],\n [\"10014440@N06\",\n{\n            'v': 10,\n            'f': \"10\",\n        },\n{\n            'v': 25,\n            'f': \"25\",\n        },\n\"2008-07-09 08:30:07\",\n{\n            'v': 2008,\n            'f': \"2008\",\n        },\n{\n            'v': 7,\n            'f': \"7\",\n        },\n{\n            'v': 9,\n            'f': \"9\",\n        },\n{\n            'v': 8,\n            'f': \"8\",\n        },\n{\n            'v': 30,\n            'f': \"30\",\n        }],\n [\"10014440@N06\",\n{\n            'v': 10,\n            'f': \"10\",\n        },\n{\n            'v': 25,\n            'f': \"25\",\n        },\n\"2008-07-09 08:30:20\",\n{\n            'v': 2008,\n            'f': \"2008\",\n        },\n{\n            'v': 7,\n            'f': \"7\",\n        },\n{\n            'v': 9,\n            'f': \"9\",\n        },\n{\n            'v': 8,\n            'f': \"8\",\n        },\n{\n            'v': 30,\n            'f': \"30\",\n        }],\n [\"10014440@N06\",\n{\n            'v': 10,\n            'f': \"10\",\n        },\n{\n            'v': 25,\n            'f': \"25\",\n        },\n\"2008-07-09 08:30:44\",\n{\n            'v': 2008,\n            'f': \"2008\",\n        },\n{\n            'v': 7,\n            'f': \"7\",\n        },\n{\n            'v': 9,\n            'f': \"9\",\n        },\n{\n            'v': 8,\n            'f': \"8\",\n        },\n{\n            'v': 30,\n            'f': \"30\",\n        }],\n [\"10014440@N06\",\n{\n            'v': 10,\n            'f': \"10\",\n        },\n{\n            'v': 25,\n            'f': \"25\",\n        },\n\"2008-07-09 08:30:47\",\n{\n            'v': 2008,\n            'f': \"2008\",\n        },\n{\n            'v': 7,\n            'f': \"7\",\n        },\n{\n            'v': 9,\n            'f': \"9\",\n        },\n{\n            'v': 8,\n            'f': \"8\",\n        },\n{\n            'v': 30,\n            'f': \"30\",\n        }],\n [\"10014440@N06\",\n{\n            'v': 10,\n            'f': \"10\",\n        },\n{\n            'v': 25,\n            'f': \"25\",\n        },\n\"2008-07-09 08:30:48\",\n{\n            'v': 2008,\n            'f': \"2008\",\n        },\n{\n            'v': 7,\n            'f': \"7\",\n        },\n{\n            'v': 9,\n            'f': \"9\",\n        },\n{\n            'v': 8,\n            'f': \"8\",\n        },\n{\n            'v': 30,\n            'f': \"30\",\n        }],\n [\"10014440@N06\",\n{\n            'v': 10,\n            'f': \"10\",\n        },\n{\n            'v': 25,\n            'f': \"25\",\n        },\n\"2008-07-09 08:46:50\",\n{\n            'v': 2008,\n            'f': \"2008\",\n        },\n{\n            'v': 7,\n            'f': \"7\",\n        },\n{\n            'v': 9,\n            'f': \"9\",\n        },\n{\n            'v': 8,\n            'f': \"8\",\n        },\n{\n            'v': 46,\n            'f': \"46\",\n        }],\n [\"10014440@N06\",\n{\n            'v': 10,\n            'f': \"10\",\n        },\n{\n            'v': 25,\n            'f': \"25\",\n        },\n\"2008-07-09 08:47:37\",\n{\n            'v': 2008,\n            'f': \"2008\",\n        },\n{\n            'v': 7,\n            'f': \"7\",\n        },\n{\n            'v': 9,\n            'f': \"9\",\n        },\n{\n            'v': 8,\n            'f': \"8\",\n        },\n{\n            'v': 47,\n            'f': \"47\",\n        }],\n [\"10014440@N06\",\n{\n            'v': 10,\n            'f': \"10\",\n        },\n{\n            'v': 25,\n            'f': \"25\",\n        },\n\"2008-07-09 08:47:41\",\n{\n            'v': 2008,\n            'f': \"2008\",\n        },\n{\n            'v': 7,\n            'f': \"7\",\n        },\n{\n            'v': 9,\n            'f': \"9\",\n        },\n{\n            'v': 8,\n            'f': \"8\",\n        },\n{\n            'v': 47,\n            'f': \"47\",\n        }],\n [\"10014440@N06\",\n{\n            'v': 10,\n            'f': \"10\",\n        },\n{\n            'v': 25,\n            'f': \"25\",\n        },\n\"2008-07-09 08:48:25\",\n{\n            'v': 2008,\n            'f': \"2008\",\n        },\n{\n            'v': 7,\n            'f': \"7\",\n        },\n{\n            'v': 9,\n            'f': \"9\",\n        },\n{\n            'v': 8,\n            'f': \"8\",\n        },\n{\n            'v': 48,\n            'f': \"48\",\n        }],\n [\"10014440@N06\",\n{\n            'v': 10,\n            'f': \"10\",\n        },\n{\n            'v': 25,\n            'f': \"25\",\n        },\n\"2008-07-09 08:48:28\",\n{\n            'v': 2008,\n            'f': \"2008\",\n        },\n{\n            'v': 7,\n            'f': \"7\",\n        },\n{\n            'v': 9,\n            'f': \"9\",\n        },\n{\n            'v': 8,\n            'f': \"8\",\n        },\n{\n            'v': 48,\n            'f': \"48\",\n        }],\n [\"10014440@N06\",\n{\n            'v': 10,\n            'f': \"10\",\n        },\n{\n            'v': 25,\n            'f': \"25\",\n        },\n\"2008-07-09 08:48:49\",\n{\n            'v': 2008,\n            'f': \"2008\",\n        },\n{\n            'v': 7,\n            'f': \"7\",\n        },\n{\n            'v': 9,\n            'f': \"9\",\n        },\n{\n            'v': 8,\n            'f': \"8\",\n        },\n{\n            'v': 48,\n            'f': \"48\",\n        }],\n [\"10014440@N06\",\n{\n            'v': 10,\n            'f': \"10\",\n        },\n{\n            'v': 25,\n            'f': \"25\",\n        },\n\"2008-07-09 08:49:25\",\n{\n            'v': 2008,\n            'f': \"2008\",\n        },\n{\n            'v': 7,\n            'f': \"7\",\n        },\n{\n            'v': 9,\n            'f': \"9\",\n        },\n{\n            'v': 8,\n            'f': \"8\",\n        },\n{\n            'v': 49,\n            'f': \"49\",\n        }],\n [\"10014440@N06\",\n{\n            'v': 10,\n            'f': \"10\",\n        },\n{\n            'v': 25,\n            'f': \"25\",\n        },\n\"2008-07-09 08:49:56\",\n{\n            'v': 2008,\n            'f': \"2008\",\n        },\n{\n            'v': 7,\n            'f': \"7\",\n        },\n{\n            'v': 9,\n            'f': \"9\",\n        },\n{\n            'v': 8,\n            'f': \"8\",\n        },\n{\n            'v': 49,\n            'f': \"49\",\n        }],\n [\"10014440@N06\",\n{\n            'v': 10,\n            'f': \"10\",\n        },\n{\n            'v': 25,\n            'f': \"25\",\n        },\n\"2008-07-09 08:50:02\",\n{\n            'v': 2008,\n            'f': \"2008\",\n        },\n{\n            'v': 7,\n            'f': \"7\",\n        },\n{\n            'v': 9,\n            'f': \"9\",\n        },\n{\n            'v': 8,\n            'f': \"8\",\n        },\n{\n            'v': 50,\n            'f': \"50\",\n        }],\n [\"10014440@N06\",\n{\n            'v': 10,\n            'f': \"10\",\n        },\n{\n            'v': 25,\n            'f': \"25\",\n        },\n\"2008-07-09 08:50:35\",\n{\n            'v': 2008,\n            'f': \"2008\",\n        },\n{\n            'v': 7,\n            'f': \"7\",\n        },\n{\n            'v': 9,\n            'f': \"9\",\n        },\n{\n            'v': 8,\n            'f': \"8\",\n        },\n{\n            'v': 50,\n            'f': \"50\",\n        }],\n [\"10014440@N06\",\n{\n            'v': 10,\n            'f': \"10\",\n        },\n{\n            'v': 25,\n            'f': \"25\",\n        },\n\"2008-07-09 08:50:41\",\n{\n            'v': 2008,\n            'f': \"2008\",\n        },\n{\n            'v': 7,\n            'f': \"7\",\n        },\n{\n            'v': 9,\n            'f': \"9\",\n        },\n{\n            'v': 8,\n            'f': \"8\",\n        },\n{\n            'v': 50,\n            'f': \"50\",\n        }],\n [\"10014440@N06\",\n{\n            'v': 10,\n            'f': \"10\",\n        },\n{\n            'v': 25,\n            'f': \"25\",\n        },\n\"2008-07-09 08:51:03\",\n{\n            'v': 2008,\n            'f': \"2008\",\n        },\n{\n            'v': 7,\n            'f': \"7\",\n        },\n{\n            'v': 9,\n            'f': \"9\",\n        },\n{\n            'v': 8,\n            'f': \"8\",\n        },\n{\n            'v': 51,\n            'f': \"51\",\n        }],\n [\"10014440@N06\",\n{\n            'v': 10,\n            'f': \"10\",\n        },\n{\n            'v': 25,\n            'f': \"25\",\n        },\n\"2008-07-09 08:51:33\",\n{\n            'v': 2008,\n            'f': \"2008\",\n        },\n{\n            'v': 7,\n            'f': \"7\",\n        },\n{\n            'v': 9,\n            'f': \"9\",\n        },\n{\n            'v': 8,\n            'f': \"8\",\n        },\n{\n            'v': 51,\n            'f': \"51\",\n        }],\n [\"10014440@N06\",\n{\n            'v': 10,\n            'f': \"10\",\n        },\n{\n            'v': 25,\n            'f': \"25\",\n        },\n\"2008-07-09 08:51:39\",\n{\n            'v': 2008,\n            'f': \"2008\",\n        },\n{\n            'v': 7,\n            'f': \"7\",\n        },\n{\n            'v': 9,\n            'f': \"9\",\n        },\n{\n            'v': 8,\n            'f': \"8\",\n        },\n{\n            'v': 51,\n            'f': \"51\",\n        }],\n [\"10014440@N06\",\n{\n            'v': 10,\n            'f': \"10\",\n        },\n{\n            'v': 25,\n            'f': \"25\",\n        },\n\"2008-07-09 08:52:22\",\n{\n            'v': 2008,\n            'f': \"2008\",\n        },\n{\n            'v': 7,\n            'f': \"7\",\n        },\n{\n            'v': 9,\n            'f': \"9\",\n        },\n{\n            'v': 8,\n            'f': \"8\",\n        },\n{\n            'v': 52,\n            'f': \"52\",\n        }],\n [\"10014440@N06\",\n{\n            'v': 10,\n            'f': \"10\",\n        },\n{\n            'v': 25,\n            'f': \"25\",\n        },\n\"2008-07-09 08:52:22\",\n{\n            'v': 2008,\n            'f': \"2008\",\n        },\n{\n            'v': 7,\n            'f': \"7\",\n        },\n{\n            'v': 9,\n            'f': \"9\",\n        },\n{\n            'v': 8,\n            'f': \"8\",\n        },\n{\n            'v': 52,\n            'f': \"52\",\n        }],\n [\"10014440@N06\",\n{\n            'v': 10,\n            'f': \"10\",\n        },\n{\n            'v': 25,\n            'f': \"25\",\n        },\n\"2008-07-09 08:52:57\",\n{\n            'v': 2008,\n            'f': \"2008\",\n        },\n{\n            'v': 7,\n            'f': \"7\",\n        },\n{\n            'v': 9,\n            'f': \"9\",\n        },\n{\n            'v': 8,\n            'f': \"8\",\n        },\n{\n            'v': 52,\n            'f': \"52\",\n        }],\n [\"10014440@N06\",\n{\n            'v': 10,\n            'f': \"10\",\n        },\n{\n            'v': 25,\n            'f': \"25\",\n        },\n\"2008-07-09 08:53:01\",\n{\n            'v': 2008,\n            'f': \"2008\",\n        },\n{\n            'v': 7,\n            'f': \"7\",\n        },\n{\n            'v': 9,\n            'f': \"9\",\n        },\n{\n            'v': 8,\n            'f': \"8\",\n        },\n{\n            'v': 53,\n            'f': \"53\",\n        }],\n [\"10014440@N06\",\n{\n            'v': 10,\n            'f': \"10\",\n        },\n{\n            'v': 25,\n            'f': \"25\",\n        },\n\"2008-07-09 08:53:33\",\n{\n            'v': 2008,\n            'f': \"2008\",\n        },\n{\n            'v': 7,\n            'f': \"7\",\n        },\n{\n            'v': 9,\n            'f': \"9\",\n        },\n{\n            'v': 8,\n            'f': \"8\",\n        },\n{\n            'v': 53,\n            'f': \"53\",\n        }],\n [\"10014440@N06\",\n{\n            'v': 10,\n            'f': \"10\",\n        },\n{\n            'v': 25,\n            'f': \"25\",\n        },\n\"2008-07-09 08:53:54\",\n{\n            'v': 2008,\n            'f': \"2008\",\n        },\n{\n            'v': 7,\n            'f': \"7\",\n        },\n{\n            'v': 9,\n            'f': \"9\",\n        },\n{\n            'v': 8,\n            'f': \"8\",\n        },\n{\n            'v': 53,\n            'f': \"53\",\n        }],\n [\"10014440@N06\",\n{\n            'v': 10,\n            'f': \"10\",\n        },\n{\n            'v': 25,\n            'f': \"25\",\n        },\n\"2008-07-09 08:54:10\",\n{\n            'v': 2008,\n            'f': \"2008\",\n        },\n{\n            'v': 7,\n            'f': \"7\",\n        },\n{\n            'v': 9,\n            'f': \"9\",\n        },\n{\n            'v': 8,\n            'f': \"8\",\n        },\n{\n            'v': 54,\n            'f': \"54\",\n        }],\n [\"10014440@N06\",\n{\n            'v': 10,\n            'f': \"10\",\n        },\n{\n            'v': 25,\n            'f': \"25\",\n        },\n\"2008-07-09 08:54:15\",\n{\n            'v': 2008,\n            'f': \"2008\",\n        },\n{\n            'v': 7,\n            'f': \"7\",\n        },\n{\n            'v': 9,\n            'f': \"9\",\n        },\n{\n            'v': 8,\n            'f': \"8\",\n        },\n{\n            'v': 54,\n            'f': \"54\",\n        }],\n [\"10014440@N06\",\n{\n            'v': 10,\n            'f': \"10\",\n        },\n{\n            'v': 25,\n            'f': \"25\",\n        },\n\"2008-07-09 08:54:34\",\n{\n            'v': 2008,\n            'f': \"2008\",\n        },\n{\n            'v': 7,\n            'f': \"7\",\n        },\n{\n            'v': 9,\n            'f': \"9\",\n        },\n{\n            'v': 8,\n            'f': \"8\",\n        },\n{\n            'v': 54,\n            'f': \"54\",\n        }]],\n        columns: [[\"string\", \"userID\"], [\"number\", \"seqID\"], [\"number\", \"poiID\"], [\"string\", \"date\"], [\"number\", \"annee\"], [\"number\", \"mois\"], [\"number\", \"jour\"], [\"number\", \"heure\"], [\"number\", \"minutes\"]],\n        columnOptions: [],\n        rowsPerPage: 10,\n        helpUrl: \"https://colab.research.google.com/notebooks/data_table.ipynb\",\n        suppressOutputScrolling: true,\n        minimumWidth: undefined,\n      });\n\n      function appendQuickchartButton(parentElement) {\n        let quickchartButtonContainerElement = document.createElement('div');\n        quickchartButtonContainerElement.innerHTML = `\n<div id=\"df-991a7844-6b8e-4e29-aa96-b6e4db73f89a\">\n  <button class=\"colab-df-quickchart\" onclick=\"quickchart('df-991a7844-6b8e-4e29-aa96-b6e4db73f89a')\"\n            title=\"Suggest charts.\"\n            style=\"display:none;\">\n    \n<svg xmlns=\"http://www.w3.org/2000/svg\" height=\"24px\"viewBox=\"0 0 24 24\"\n     width=\"24px\">\n    <g>\n        <path d=\"M19 3H5c-1.1 0-2 .9-2 2v14c0 1.1.9 2 2 2h14c1.1 0 2-.9 2-2V5c0-1.1-.9-2-2-2zM9 17H7v-7h2v7zm4 0h-2V7h2v10zm4 0h-2v-4h2v4z\"/>\n    </g>\n</svg>\n  </button>\n  \n<style>\n  .colab-df-quickchart {\n      --bg-color: #E8F0FE;\n      --fill-color: #1967D2;\n      --hover-bg-color: #E2EBFA;\n      --hover-fill-color: #174EA6;\n      --disabled-fill-color: #AAA;\n      --disabled-bg-color: #DDD;\n  }\n\n  [theme=dark] .colab-df-quickchart {\n      --bg-color: #3B4455;\n      --fill-color: #D2E3FC;\n      --hover-bg-color: #434B5C;\n      --hover-fill-color: #FFFFFF;\n      --disabled-bg-color: #3B4455;\n      --disabled-fill-color: #666;\n  }\n\n  .colab-df-quickchart {\n    background-color: var(--bg-color);\n    border: none;\n    border-radius: 50%;\n    cursor: pointer;\n    display: none;\n    fill: var(--fill-color);\n    height: 32px;\n    padding: 0;\n    width: 32px;\n  }\n\n  .colab-df-quickchart:hover {\n    background-color: var(--hover-bg-color);\n    box-shadow: 0 1px 2px rgba(60, 64, 67, 0.3), 0 1px 3px 1px rgba(60, 64, 67, 0.15);\n    fill: var(--button-hover-fill-color);\n  }\n\n  .colab-df-quickchart-complete:disabled,\n  .colab-df-quickchart-complete:disabled:hover {\n    background-color: var(--disabled-bg-color);\n    fill: var(--disabled-fill-color);\n    box-shadow: none;\n  }\n\n  .colab-df-spinner {\n    border: 2px solid var(--fill-color);\n    border-color: transparent;\n    border-bottom-color: var(--fill-color);\n    animation:\n      spin 1s steps(1) infinite;\n  }\n\n  @keyframes spin {\n    0% {\n      border-color: transparent;\n      border-bottom-color: var(--fill-color);\n      border-left-color: var(--fill-color);\n    }\n    20% {\n      border-color: transparent;\n      border-left-color: var(--fill-color);\n      border-top-color: var(--fill-color);\n    }\n    30% {\n      border-color: transparent;\n      border-left-color: var(--fill-color);\n      border-top-color: var(--fill-color);\n      border-right-color: var(--fill-color);\n    }\n    40% {\n      border-color: transparent;\n      border-right-color: var(--fill-color);\n      border-top-color: var(--fill-color);\n    }\n    60% {\n      border-color: transparent;\n      border-right-color: var(--fill-color);\n    }\n    80% {\n      border-color: transparent;\n      border-right-color: var(--fill-color);\n      border-bottom-color: var(--fill-color);\n    }\n    90% {\n      border-color: transparent;\n      border-bottom-color: var(--fill-color);\n    }\n  }\n</style>\n\n  <script>\n    async function quickchart(key) {\n      const quickchartButtonEl =\n        document.querySelector('#' + key + ' button');\n      quickchartButtonEl.disabled = true;  // To prevent multiple clicks.\n      quickchartButtonEl.classList.add('colab-df-spinner');\n      try {\n        const charts = await google.colab.kernel.invokeFunction(\n            'suggestCharts', [key], {});\n      } catch (error) {\n        console.error('Error during call to suggestCharts:', error);\n      }\n      quickchartButtonEl.classList.remove('colab-df-spinner');\n      quickchartButtonEl.classList.add('colab-df-quickchart-complete');\n    }\n    (() => {\n      let quickchartButtonEl =\n        document.querySelector('#df-991a7844-6b8e-4e29-aa96-b6e4db73f89a button');\n      quickchartButtonEl.style.display =\n        google.colab.kernel.accessAllowed ? 'block' : 'none';\n    })();\n  </script>\n</div>`;\n        parentElement.appendChild(quickchartButtonContainerElement);\n      }\n\n      appendQuickchartButton(table);\n    ",
            "text/plain": [
              "<google.colab.data_table.DataTable object>"
            ]
          },
          "metadata": {},
          "execution_count": 74
        }
      ]
    },
    {
      "cell_type": "markdown",
      "source": [
        "#### 3a) Le nombre de POI par utilisateur\n",
        "Le résultat (userID, nbPOI) est trié par nombre décroissant de POI."
      ],
      "metadata": {
        "id": "2e9OrOG1FLJI"
      }
    },
    {
      "cell_type": "code",
      "source": [
        "%%sql\n",
        "SELECT userID, count(poiID) as nbpoi\n",
        "FROM user_visits\n",
        "GROUP BY userID\n",
        "ORDER BY nbpoi desc\n"
      ],
      "metadata": {
        "id": "vMal57aBGjd7",
        "colab": {
          "base_uri": "https://localhost:8080/",
          "height": 347
        },
        "outputId": "a8e6f6b9-9b1e-4a44-fca4-3e49e4f1848f"
      },
      "execution_count": null,
      "outputs": [
        {
          "output_type": "execute_result",
          "data": {
            "text/html": [
              "<div>\n",
              "<style scoped>\n",
              "    .dataframe tbody tr th:only-of-type {\n",
              "        vertical-align: middle;\n",
              "    }\n",
              "\n",
              "    .dataframe tbody tr th {\n",
              "        vertical-align: top;\n",
              "    }\n",
              "\n",
              "    .dataframe thead th {\n",
              "        text-align: right;\n",
              "    }\n",
              "</style>\n",
              "<table border=\"1\" class=\"dataframe\">\n",
              "  <thead>\n",
              "    <tr style=\"text-align: right;\">\n",
              "      <th></th>\n",
              "      <th>userID</th>\n",
              "      <th>nbpoi</th>\n",
              "    </tr>\n",
              "  </thead>\n",
              "  <tbody>\n",
              "    <tr>\n",
              "      <th>0</th>\n",
              "      <td>48784629@N00</td>\n",
              "      <td>3265</td>\n",
              "    </tr>\n",
              "    <tr>\n",
              "      <th>1</th>\n",
              "      <td>39460517@N03</td>\n",
              "      <td>1730</td>\n",
              "    </tr>\n",
              "    <tr>\n",
              "      <th>2</th>\n",
              "      <td>7616875@N04</td>\n",
              "      <td>1665</td>\n",
              "    </tr>\n",
              "    <tr>\n",
              "      <th>3</th>\n",
              "      <td>84987970@N00</td>\n",
              "      <td>1430</td>\n",
              "    </tr>\n",
              "    <tr>\n",
              "      <th>4</th>\n",
              "      <td>86822950@N03</td>\n",
              "      <td>1403</td>\n",
              "    </tr>\n",
              "    <tr>\n",
              "      <th>...</th>\n",
              "      <td>...</td>\n",
              "      <td>...</td>\n",
              "    </tr>\n",
              "    <tr>\n",
              "      <th>95</th>\n",
              "      <td>91008793@N00</td>\n",
              "      <td>68</td>\n",
              "    </tr>\n",
              "    <tr>\n",
              "      <th>96</th>\n",
              "      <td>70307237@N00</td>\n",
              "      <td>67</td>\n",
              "    </tr>\n",
              "    <tr>\n",
              "      <th>97</th>\n",
              "      <td>13833167@N00</td>\n",
              "      <td>66</td>\n",
              "    </tr>\n",
              "    <tr>\n",
              "      <th>98</th>\n",
              "      <td>27914970@N04</td>\n",
              "      <td>65</td>\n",
              "    </tr>\n",
              "    <tr>\n",
              "      <th>99</th>\n",
              "      <td>17643132@N00</td>\n",
              "      <td>65</td>\n",
              "    </tr>\n",
              "  </tbody>\n",
              "</table>\n",
              "<p>100 rows × 2 columns</p>\n",
              "</div>"
            ],
            "application/vnd.google.colaboratory.module+javascript": "\n      import \"https://ssl.gstatic.com/colaboratory/data_table/881c4a0d49046431/data_table.js\";\n\n      const table = window.createDataTable({\n        data: [[\"48784629@N00\",\n{\n            'v': 3265,\n            'f': \"3265\",\n        }],\n [\"39460517@N03\",\n{\n            'v': 1730,\n            'f': \"1730\",\n        }],\n [\"7616875@N04\",\n{\n            'v': 1665,\n            'f': \"1665\",\n        }],\n [\"84987970@N00\",\n{\n            'v': 1430,\n            'f': \"1430\",\n        }],\n [\"86822950@N03\",\n{\n            'v': 1403,\n            'f': \"1403\",\n        }],\n [\"60597745@N00\",\n{\n            'v': 1219,\n            'f': \"1219\",\n        }],\n [\"20741443@N00\",\n{\n            'v': 1207,\n            'f': \"1207\",\n        }],\n [\"34211328@N00\",\n{\n            'v': 724,\n            'f': \"724\",\n        }],\n [\"57756296@N06\",\n{\n            'v': 501,\n            'f': \"501\",\n        }],\n [\"43139087@N00\",\n{\n            'v': 442,\n            'f': \"442\",\n        }],\n [\"13907834@N00\",\n{\n            'v': 432,\n            'f': \"432\",\n        }],\n [\"10014440@N06\",\n{\n            'v': 430,\n            'f': \"430\",\n        }],\n [\"46769540@N00\",\n{\n            'v': 387,\n            'f': \"387\",\n        }],\n [\"24616128@N00\",\n{\n            'v': 383,\n            'f': \"383\",\n        }],\n [\"75511860@N00\",\n{\n            'v': 370,\n            'f': \"370\",\n        }],\n [\"16846345@N07\",\n{\n            'v': 365,\n            'f': \"365\",\n        }],\n [\"10627620@N06\",\n{\n            'v': 357,\n            'f': \"357\",\n        }],\n [\"9911655@N08\",\n{\n            'v': 351,\n            'f': \"351\",\n        }],\n [\"46708114@N07\",\n{\n            'v': 333,\n            'f': \"333\",\n        }],\n [\"45742513@N00\",\n{\n            'v': 307,\n            'f': \"307\",\n        }],\n [\"42228781@N00\",\n{\n            'v': 275,\n            'f': \"275\",\n        }],\n [\"54058873@N00\",\n{\n            'v': 252,\n            'f': \"252\",\n        }],\n [\"12316147@N05\",\n{\n            'v': 250,\n            'f': \"250\",\n        }],\n [\"23908938@N02\",\n{\n            'v': 229,\n            'f': \"229\",\n        }],\n [\"69754957@N00\",\n{\n            'v': 229,\n            'f': \"229\",\n        }],\n [\"51035555243@N01\",\n{\n            'v': 226,\n            'f': \"226\",\n        }],\n [\"91082225@N00\",\n{\n            'v': 222,\n            'f': \"222\",\n        }],\n [\"9449875@N03\",\n{\n            'v': 213,\n            'f': \"213\",\n        }],\n [\"12693966@N07\",\n{\n            'v': 211,\n            'f': \"211\",\n        }],\n [\"30624156@N00\",\n{\n            'v': 210,\n            'f': \"210\",\n        }],\n [\"37282294@N06\",\n{\n            'v': 207,\n            'f': \"207\",\n        }],\n [\"28721558@N07\",\n{\n            'v': 199,\n            'f': \"199\",\n        }],\n [\"31499593@N03\",\n{\n            'v': 193,\n            'f': \"193\",\n        }],\n [\"55289779@N00\",\n{\n            'v': 178,\n            'f': \"178\",\n        }],\n [\"39587684@N00\",\n{\n            'v': 175,\n            'f': \"175\",\n        }],\n [\"42536354@N00\",\n{\n            'v': 160,\n            'f': \"160\",\n        }],\n [\"60514173@N00\",\n{\n            'v': 159,\n            'f': \"159\",\n        }],\n [\"94064020@N00\",\n{\n            'v': 159,\n            'f': \"159\",\n        }],\n [\"37517876@N07\",\n{\n            'v': 151,\n            'f': \"151\",\n        }],\n [\"24854893@N00\",\n{\n            'v': 145,\n            'f': \"145\",\n        }],\n [\"78436447@N00\",\n{\n            'v': 143,\n            'f': \"143\",\n        }],\n [\"87533529@N00\",\n{\n            'v': 143,\n            'f': \"143\",\n        }],\n [\"91387326@N00\",\n{\n            'v': 142,\n            'f': \"142\",\n        }],\n [\"51035595117@N01\",\n{\n            'v': 140,\n            'f': \"140\",\n        }],\n [\"93645046@N00\",\n{\n            'v': 138,\n            'f': \"138\",\n        }],\n [\"10502709@N05\",\n{\n            'v': 133,\n            'f': \"133\",\n        }],\n [\"37663331@N00\",\n{\n            'v': 131,\n            'f': \"131\",\n        }],\n [\"7776449@N06\",\n{\n            'v': 130,\n            'f': \"130\",\n        }],\n [\"84711541@N00\",\n{\n            'v': 130,\n            'f': \"130\",\n        }],\n [\"36085412@N06\",\n{\n            'v': 124,\n            'f': \"124\",\n        }],\n [\"28621544@N00\",\n{\n            'v': 124,\n            'f': \"124\",\n        }],\n [\"33547369@N00\",\n{\n            'v': 119,\n            'f': \"119\",\n        }],\n [\"9985167@N04\",\n{\n            'v': 117,\n            'f': \"117\",\n        }],\n [\"34961066@N00\",\n{\n            'v': 116,\n            'f': \"116\",\n        }],\n [\"20456447@N03\",\n{\n            'v': 111,\n            'f': \"111\",\n        }],\n [\"14878709@N00\",\n{\n            'v': 106,\n            'f': \"106\",\n        }],\n [\"63125501@N00\",\n{\n            'v': 106,\n            'f': \"106\",\n        }],\n [\"7367375@N04\",\n{\n            'v': 106,\n            'f': \"106\",\n        }],\n [\"14036428@N00\",\n{\n            'v': 105,\n            'f': \"105\",\n        }],\n [\"63390929@N07\",\n{\n            'v': 104,\n            'f': \"104\",\n        }],\n [\"52078443@N06\",\n{\n            'v': 102,\n            'f': \"102\",\n        }],\n [\"30739892@N03\",\n{\n            'v': 101,\n            'f': \"101\",\n        }],\n [\"17728973@N00\",\n{\n            'v': 100,\n            'f': \"100\",\n        }],\n [\"18412989@N00\",\n{\n            'v': 99,\n            'f': \"99\",\n        }],\n [\"44124367252@N01\",\n{\n            'v': 94,\n            'f': \"94\",\n        }],\n [\"35981213@N00\",\n{\n            'v': 93,\n            'f': \"93\",\n        }],\n [\"65077953@N08\",\n{\n            'v': 91,\n            'f': \"91\",\n        }],\n [\"80988556@N00\",\n{\n            'v': 91,\n            'f': \"91\",\n        }],\n [\"18983894@N00\",\n{\n            'v': 91,\n            'f': \"91\",\n        }],\n [\"37804979@N00\",\n{\n            'v': 90,\n            'f': \"90\",\n        }],\n [\"15268840@N08\",\n{\n            'v': 90,\n            'f': \"90\",\n        }],\n [\"50034279@N00\",\n{\n            'v': 88,\n            'f': \"88\",\n        }],\n [\"89504146@N00\",\n{\n            'v': 87,\n            'f': \"87\",\n        }],\n [\"47275680@N00\",\n{\n            'v': 86,\n            'f': \"86\",\n        }],\n [\"24306356@N00\",\n{\n            'v': 82,\n            'f': \"82\",\n        }],\n [\"26125239@N00\",\n{\n            'v': 80,\n            'f': \"80\",\n        }],\n [\"89093444@N00\",\n{\n            'v': 80,\n            'f': \"80\",\n        }],\n [\"31911001@N00\",\n{\n            'v': 79,\n            'f': \"79\",\n        }],\n [\"33473816@N00\",\n{\n            'v': 78,\n            'f': \"78\",\n        }],\n [\"58502009@N00\",\n{\n            'v': 77,\n            'f': \"77\",\n        }],\n [\"23877016@N03\",\n{\n            'v': 76,\n            'f': \"76\",\n        }],\n [\"46989857@N00\",\n{\n            'v': 76,\n            'f': \"76\",\n        }],\n [\"92431035@N00\",\n{\n            'v': 74,\n            'f': \"74\",\n        }],\n [\"34427466731@N01\",\n{\n            'v': 73,\n            'f': \"73\",\n        }],\n [\"23987663@N00\",\n{\n            'v': 73,\n            'f': \"73\",\n        }],\n [\"33455071@N00\",\n{\n            'v': 73,\n            'f': \"73\",\n        }],\n [\"22607526@N00\",\n{\n            'v': 71,\n            'f': \"71\",\n        }],\n [\"50642338@N00\",\n{\n            'v': 71,\n            'f': \"71\",\n        }],\n [\"11090433@N05\",\n{\n            'v': 71,\n            'f': \"71\",\n        }],\n [\"12829633@N05\",\n{\n            'v': 71,\n            'f': \"71\",\n        }],\n [\"77112637@N00\",\n{\n            'v': 71,\n            'f': \"71\",\n        }],\n [\"32188688@N00\",\n{\n            'v': 70,\n            'f': \"70\",\n        }],\n [\"66762373@N04\",\n{\n            'v': 69,\n            'f': \"69\",\n        }],\n [\"63677124@N07\",\n{\n            'v': 69,\n            'f': \"69\",\n        }],\n [\"65846543@N00\",\n{\n            'v': 68,\n            'f': \"68\",\n        }],\n [\"91008793@N00\",\n{\n            'v': 68,\n            'f': \"68\",\n        }],\n [\"70307237@N00\",\n{\n            'v': 67,\n            'f': \"67\",\n        }],\n [\"13833167@N00\",\n{\n            'v': 66,\n            'f': \"66\",\n        }],\n [\"27914970@N04\",\n{\n            'v': 65,\n            'f': \"65\",\n        }],\n [\"17643132@N00\",\n{\n            'v': 65,\n            'f': \"65\",\n        }]],\n        columns: [[\"string\", \"userID\"], [\"number\", \"nbpoi\"]],\n        columnOptions: [],\n        rowsPerPage: 10,\n        helpUrl: \"https://colab.research.google.com/notebooks/data_table.ipynb\",\n        suppressOutputScrolling: true,\n        minimumWidth: undefined,\n      });\n\n      function appendQuickchartButton(parentElement) {\n        let quickchartButtonContainerElement = document.createElement('div');\n        quickchartButtonContainerElement.innerHTML = `\n<div id=\"df-1312b1f7-67ac-4c5b-b5b3-4579e71f81dd\">\n  <button class=\"colab-df-quickchart\" onclick=\"quickchart('df-1312b1f7-67ac-4c5b-b5b3-4579e71f81dd')\"\n            title=\"Suggest charts.\"\n            style=\"display:none;\">\n    \n<svg xmlns=\"http://www.w3.org/2000/svg\" height=\"24px\"viewBox=\"0 0 24 24\"\n     width=\"24px\">\n    <g>\n        <path d=\"M19 3H5c-1.1 0-2 .9-2 2v14c0 1.1.9 2 2 2h14c1.1 0 2-.9 2-2V5c0-1.1-.9-2-2-2zM9 17H7v-7h2v7zm4 0h-2V7h2v10zm4 0h-2v-4h2v4z\"/>\n    </g>\n</svg>\n  </button>\n  \n<style>\n  .colab-df-quickchart {\n      --bg-color: #E8F0FE;\n      --fill-color: #1967D2;\n      --hover-bg-color: #E2EBFA;\n      --hover-fill-color: #174EA6;\n      --disabled-fill-color: #AAA;\n      --disabled-bg-color: #DDD;\n  }\n\n  [theme=dark] .colab-df-quickchart {\n      --bg-color: #3B4455;\n      --fill-color: #D2E3FC;\n      --hover-bg-color: #434B5C;\n      --hover-fill-color: #FFFFFF;\n      --disabled-bg-color: #3B4455;\n      --disabled-fill-color: #666;\n  }\n\n  .colab-df-quickchart {\n    background-color: var(--bg-color);\n    border: none;\n    border-radius: 50%;\n    cursor: pointer;\n    display: none;\n    fill: var(--fill-color);\n    height: 32px;\n    padding: 0;\n    width: 32px;\n  }\n\n  .colab-df-quickchart:hover {\n    background-color: var(--hover-bg-color);\n    box-shadow: 0 1px 2px rgba(60, 64, 67, 0.3), 0 1px 3px 1px rgba(60, 64, 67, 0.15);\n    fill: var(--button-hover-fill-color);\n  }\n\n  .colab-df-quickchart-complete:disabled,\n  .colab-df-quickchart-complete:disabled:hover {\n    background-color: var(--disabled-bg-color);\n    fill: var(--disabled-fill-color);\n    box-shadow: none;\n  }\n\n  .colab-df-spinner {\n    border: 2px solid var(--fill-color);\n    border-color: transparent;\n    border-bottom-color: var(--fill-color);\n    animation:\n      spin 1s steps(1) infinite;\n  }\n\n  @keyframes spin {\n    0% {\n      border-color: transparent;\n      border-bottom-color: var(--fill-color);\n      border-left-color: var(--fill-color);\n    }\n    20% {\n      border-color: transparent;\n      border-left-color: var(--fill-color);\n      border-top-color: var(--fill-color);\n    }\n    30% {\n      border-color: transparent;\n      border-left-color: var(--fill-color);\n      border-top-color: var(--fill-color);\n      border-right-color: var(--fill-color);\n    }\n    40% {\n      border-color: transparent;\n      border-right-color: var(--fill-color);\n      border-top-color: var(--fill-color);\n    }\n    60% {\n      border-color: transparent;\n      border-right-color: var(--fill-color);\n    }\n    80% {\n      border-color: transparent;\n      border-right-color: var(--fill-color);\n      border-bottom-color: var(--fill-color);\n    }\n    90% {\n      border-color: transparent;\n      border-bottom-color: var(--fill-color);\n    }\n  }\n</style>\n\n  <script>\n    async function quickchart(key) {\n      const quickchartButtonEl =\n        document.querySelector('#' + key + ' button');\n      quickchartButtonEl.disabled = true;  // To prevent multiple clicks.\n      quickchartButtonEl.classList.add('colab-df-spinner');\n      try {\n        const charts = await google.colab.kernel.invokeFunction(\n            'suggestCharts', [key], {});\n      } catch (error) {\n        console.error('Error during call to suggestCharts:', error);\n      }\n      quickchartButtonEl.classList.remove('colab-df-spinner');\n      quickchartButtonEl.classList.add('colab-df-quickchart-complete');\n    }\n    (() => {\n      let quickchartButtonEl =\n        document.querySelector('#df-1312b1f7-67ac-4c5b-b5b3-4579e71f81dd button');\n      quickchartButtonEl.style.display =\n        google.colab.kernel.accessAllowed ? 'block' : 'none';\n    })();\n  </script>\n</div>`;\n        parentElement.appendChild(quickchartButtonContainerElement);\n      }\n\n      appendQuickchartButton(table);\n    ",
            "text/plain": [
              "<google.colab.data_table.DataTable object>"
            ]
          },
          "metadata": {},
          "execution_count": 75
        }
      ]
    },
    {
      "cell_type": "markdown",
      "source": [
        "#### 3b) Le nombre de POI par séquence\n",
        "Définir la table Seq3plus(seqID, nbPoi) correspondant aux séquences qui contiennent au moins 3 POI distincts.\n",
        "Afficher le résultat trié par nombre de POI décroissant puis numéro de séquence croissant.\n"
      ],
      "metadata": {
        "id": "WCv8lnB_9yYW"
      }
    },
    {
      "cell_type": "code",
      "source": [
        "%%sql\n",
        "create or replace temp view Seq3plus as\n",
        "SELECT SeqID, count(DISTINCT poiID) as nbpoi\n",
        "FROM user_visits\n",
        "GROUP BY seqID\n",
        "having nbpoi >= 3;\n",
        "\n",
        "\n",
        "select * from seq3plus\n",
        "order by nbPOI desc, seqID;"
      ],
      "metadata": {
        "id": "KuBohuZ79x3N",
        "colab": {
          "base_uri": "https://localhost:8080/",
          "height": 347
        },
        "outputId": "6ce27576-f949-4520-8e1a-fba9c3840270"
      },
      "execution_count": null,
      "outputs": [
        {
          "output_type": "execute_result",
          "data": {
            "text/html": [
              "<div>\n",
              "<style scoped>\n",
              "    .dataframe tbody tr th:only-of-type {\n",
              "        vertical-align: middle;\n",
              "    }\n",
              "\n",
              "    .dataframe tbody tr th {\n",
              "        vertical-align: top;\n",
              "    }\n",
              "\n",
              "    .dataframe thead th {\n",
              "        text-align: right;\n",
              "    }\n",
              "</style>\n",
              "<table border=\"1\" class=\"dataframe\">\n",
              "  <thead>\n",
              "    <tr style=\"text-align: right;\">\n",
              "      <th></th>\n",
              "      <th>SeqID</th>\n",
              "      <th>nbpoi</th>\n",
              "    </tr>\n",
              "  </thead>\n",
              "  <tbody>\n",
              "    <tr>\n",
              "      <th>0</th>\n",
              "      <td>298</td>\n",
              "      <td>13</td>\n",
              "    </tr>\n",
              "    <tr>\n",
              "      <th>1</th>\n",
              "      <td>4961</td>\n",
              "      <td>10</td>\n",
              "    </tr>\n",
              "    <tr>\n",
              "      <th>2</th>\n",
              "      <td>4351</td>\n",
              "      <td>9</td>\n",
              "    </tr>\n",
              "    <tr>\n",
              "      <th>3</th>\n",
              "      <td>5964</td>\n",
              "      <td>9</td>\n",
              "    </tr>\n",
              "    <tr>\n",
              "      <th>4</th>\n",
              "      <td>510</td>\n",
              "      <td>8</td>\n",
              "    </tr>\n",
              "    <tr>\n",
              "      <th>...</th>\n",
              "      <td>...</td>\n",
              "      <td>...</td>\n",
              "    </tr>\n",
              "    <tr>\n",
              "      <th>95</th>\n",
              "      <td>2377</td>\n",
              "      <td>4</td>\n",
              "    </tr>\n",
              "    <tr>\n",
              "      <th>96</th>\n",
              "      <td>2466</td>\n",
              "      <td>4</td>\n",
              "    </tr>\n",
              "    <tr>\n",
              "      <th>97</th>\n",
              "      <td>2472</td>\n",
              "      <td>4</td>\n",
              "    </tr>\n",
              "    <tr>\n",
              "      <th>98</th>\n",
              "      <td>2896</td>\n",
              "      <td>4</td>\n",
              "    </tr>\n",
              "    <tr>\n",
              "      <th>99</th>\n",
              "      <td>3493</td>\n",
              "      <td>4</td>\n",
              "    </tr>\n",
              "  </tbody>\n",
              "</table>\n",
              "<p>100 rows × 2 columns</p>\n",
              "</div>"
            ],
            "application/vnd.google.colaboratory.module+javascript": "\n      import \"https://ssl.gstatic.com/colaboratory/data_table/881c4a0d49046431/data_table.js\";\n\n      const table = window.createDataTable({\n        data: [[{\n            'v': 298,\n            'f': \"298\",\n        },\n{\n            'v': 13,\n            'f': \"13\",\n        }],\n [{\n            'v': 4961,\n            'f': \"4961\",\n        },\n{\n            'v': 10,\n            'f': \"10\",\n        }],\n [{\n            'v': 4351,\n            'f': \"4351\",\n        },\n{\n            'v': 9,\n            'f': \"9\",\n        }],\n [{\n            'v': 5964,\n            'f': \"5964\",\n        },\n{\n            'v': 9,\n            'f': \"9\",\n        }],\n [{\n            'v': 510,\n            'f': \"510\",\n        },\n{\n            'v': 8,\n            'f': \"8\",\n        }],\n [{\n            'v': 525,\n            'f': \"525\",\n        },\n{\n            'v': 8,\n            'f': \"8\",\n        }],\n [{\n            'v': 5369,\n            'f': \"5369\",\n        },\n{\n            'v': 8,\n            'f': \"8\",\n        }],\n [{\n            'v': 5981,\n            'f': \"5981\",\n        },\n{\n            'v': 8,\n            'f': \"8\",\n        }],\n [{\n            'v': 454,\n            'f': \"454\",\n        },\n{\n            'v': 7,\n            'f': \"7\",\n        }],\n [{\n            'v': 681,\n            'f': \"681\",\n        },\n{\n            'v': 7,\n            'f': \"7\",\n        }],\n [{\n            'v': 686,\n            'f': \"686\",\n        },\n{\n            'v': 7,\n            'f': \"7\",\n        }],\n [{\n            'v': 905,\n            'f': \"905\",\n        },\n{\n            'v': 7,\n            'f': \"7\",\n        }],\n [{\n            'v': 2072,\n            'f': \"2072\",\n        },\n{\n            'v': 7,\n            'f': \"7\",\n        }],\n [{\n            'v': 2252,\n            'f': \"2252\",\n        },\n{\n            'v': 7,\n            'f': \"7\",\n        }],\n [{\n            'v': 3052,\n            'f': \"3052\",\n        },\n{\n            'v': 7,\n            'f': \"7\",\n        }],\n [{\n            'v': 5254,\n            'f': \"5254\",\n        },\n{\n            'v': 7,\n            'f': \"7\",\n        }],\n [{\n            'v': 5263,\n            'f': \"5263\",\n        },\n{\n            'v': 7,\n            'f': \"7\",\n        }],\n [{\n            'v': 1281,\n            'f': \"1281\",\n        },\n{\n            'v': 6,\n            'f': \"6\",\n        }],\n [{\n            'v': 1358,\n            'f': \"1358\",\n        },\n{\n            'v': 6,\n            'f': \"6\",\n        }],\n [{\n            'v': 1786,\n            'f': \"1786\",\n        },\n{\n            'v': 6,\n            'f': \"6\",\n        }],\n [{\n            'v': 3504,\n            'f': \"3504\",\n        },\n{\n            'v': 6,\n            'f': \"6\",\n        }],\n [{\n            'v': 3636,\n            'f': \"3636\",\n        },\n{\n            'v': 6,\n            'f': \"6\",\n        }],\n [{\n            'v': 4493,\n            'f': \"4493\",\n        },\n{\n            'v': 6,\n            'f': \"6\",\n        }],\n [{\n            'v': 5250,\n            'f': \"5250\",\n        },\n{\n            'v': 6,\n            'f': \"6\",\n        }],\n [{\n            'v': 5276,\n            'f': \"5276\",\n        },\n{\n            'v': 6,\n            'f': \"6\",\n        }],\n [{\n            'v': 5277,\n            'f': \"5277\",\n        },\n{\n            'v': 6,\n            'f': \"6\",\n        }],\n [{\n            'v': 549,\n            'f': \"549\",\n        },\n{\n            'v': 5,\n            'f': \"5\",\n        }],\n [{\n            'v': 708,\n            'f': \"708\",\n        },\n{\n            'v': 5,\n            'f': \"5\",\n        }],\n [{\n            'v': 729,\n            'f': \"729\",\n        },\n{\n            'v': 5,\n            'f': \"5\",\n        }],\n [{\n            'v': 783,\n            'f': \"783\",\n        },\n{\n            'v': 5,\n            'f': \"5\",\n        }],\n [{\n            'v': 788,\n            'f': \"788\",\n        },\n{\n            'v': 5,\n            'f': \"5\",\n        }],\n [{\n            'v': 809,\n            'f': \"809\",\n        },\n{\n            'v': 5,\n            'f': \"5\",\n        }],\n [{\n            'v': 1598,\n            'f': \"1598\",\n        },\n{\n            'v': 5,\n            'f': \"5\",\n        }],\n [{\n            'v': 1912,\n            'f': \"1912\",\n        },\n{\n            'v': 5,\n            'f': \"5\",\n        }],\n [{\n            'v': 1940,\n            'f': \"1940\",\n        },\n{\n            'v': 5,\n            'f': \"5\",\n        }],\n [{\n            'v': 1968,\n            'f': \"1968\",\n        },\n{\n            'v': 5,\n            'f': \"5\",\n        }],\n [{\n            'v': 1993,\n            'f': \"1993\",\n        },\n{\n            'v': 5,\n            'f': \"5\",\n        }],\n [{\n            'v': 2069,\n            'f': \"2069\",\n        },\n{\n            'v': 5,\n            'f': \"5\",\n        }],\n [{\n            'v': 2196,\n            'f': \"2196\",\n        },\n{\n            'v': 5,\n            'f': \"5\",\n        }],\n [{\n            'v': 2207,\n            'f': \"2207\",\n        },\n{\n            'v': 5,\n            'f': \"5\",\n        }],\n [{\n            'v': 2705,\n            'f': \"2705\",\n        },\n{\n            'v': 5,\n            'f': \"5\",\n        }],\n [{\n            'v': 2916,\n            'f': \"2916\",\n        },\n{\n            'v': 5,\n            'f': \"5\",\n        }],\n [{\n            'v': 3149,\n            'f': \"3149\",\n        },\n{\n            'v': 5,\n            'f': \"5\",\n        }],\n [{\n            'v': 3501,\n            'f': \"3501\",\n        },\n{\n            'v': 5,\n            'f': \"5\",\n        }],\n [{\n            'v': 3767,\n            'f': \"3767\",\n        },\n{\n            'v': 5,\n            'f': \"5\",\n        }],\n [{\n            'v': 4408,\n            'f': \"4408\",\n        },\n{\n            'v': 5,\n            'f': \"5\",\n        }],\n [{\n            'v': 4450,\n            'f': \"4450\",\n        },\n{\n            'v': 5,\n            'f': \"5\",\n        }],\n [{\n            'v': 4578,\n            'f': \"4578\",\n        },\n{\n            'v': 5,\n            'f': \"5\",\n        }],\n [{\n            'v': 4758,\n            'f': \"4758\",\n        },\n{\n            'v': 5,\n            'f': \"5\",\n        }],\n [{\n            'v': 4782,\n            'f': \"4782\",\n        },\n{\n            'v': 5,\n            'f': \"5\",\n        }],\n [{\n            'v': 4997,\n            'f': \"4997\",\n        },\n{\n            'v': 5,\n            'f': \"5\",\n        }],\n [{\n            'v': 5099,\n            'f': \"5099\",\n        },\n{\n            'v': 5,\n            'f': \"5\",\n        }],\n [{\n            'v': 5214,\n            'f': \"5214\",\n        },\n{\n            'v': 5,\n            'f': \"5\",\n        }],\n [{\n            'v': 5337,\n            'f': \"5337\",\n        },\n{\n            'v': 5,\n            'f': \"5\",\n        }],\n [{\n            'v': 5377,\n            'f': \"5377\",\n        },\n{\n            'v': 5,\n            'f': \"5\",\n        }],\n [{\n            'v': 5541,\n            'f': \"5541\",\n        },\n{\n            'v': 5,\n            'f': \"5\",\n        }],\n [{\n            'v': 5555,\n            'f': \"5555\",\n        },\n{\n            'v': 5,\n            'f': \"5\",\n        }],\n [{\n            'v': 5556,\n            'f': \"5556\",\n        },\n{\n            'v': 5,\n            'f': \"5\",\n        }],\n [{\n            'v': 6028,\n            'f': \"6028\",\n        },\n{\n            'v': 5,\n            'f': \"5\",\n        }],\n [{\n            'v': 71,\n            'f': \"71\",\n        },\n{\n            'v': 4,\n            'f': \"4\",\n        }],\n [{\n            'v': 139,\n            'f': \"139\",\n        },\n{\n            'v': 4,\n            'f': \"4\",\n        }],\n [{\n            'v': 302,\n            'f': \"302\",\n        },\n{\n            'v': 4,\n            'f': \"4\",\n        }],\n [{\n            'v': 380,\n            'f': \"380\",\n        },\n{\n            'v': 4,\n            'f': \"4\",\n        }],\n [{\n            'v': 687,\n            'f': \"687\",\n        },\n{\n            'v': 4,\n            'f': \"4\",\n        }],\n [{\n            'v': 688,\n            'f': \"688\",\n        },\n{\n            'v': 4,\n            'f': \"4\",\n        }],\n [{\n            'v': 753,\n            'f': \"753\",\n        },\n{\n            'v': 4,\n            'f': \"4\",\n        }],\n [{\n            'v': 786,\n            'f': \"786\",\n        },\n{\n            'v': 4,\n            'f': \"4\",\n        }],\n [{\n            'v': 813,\n            'f': \"813\",\n        },\n{\n            'v': 4,\n            'f': \"4\",\n        }],\n [{\n            'v': 814,\n            'f': \"814\",\n        },\n{\n            'v': 4,\n            'f': \"4\",\n        }],\n [{\n            'v': 822,\n            'f': \"822\",\n        },\n{\n            'v': 4,\n            'f': \"4\",\n        }],\n [{\n            'v': 884,\n            'f': \"884\",\n        },\n{\n            'v': 4,\n            'f': \"4\",\n        }],\n [{\n            'v': 929,\n            'f': \"929\",\n        },\n{\n            'v': 4,\n            'f': \"4\",\n        }],\n [{\n            'v': 979,\n            'f': \"979\",\n        },\n{\n            'v': 4,\n            'f': \"4\",\n        }],\n [{\n            'v': 988,\n            'f': \"988\",\n        },\n{\n            'v': 4,\n            'f': \"4\",\n        }],\n [{\n            'v': 1066,\n            'f': \"1066\",\n        },\n{\n            'v': 4,\n            'f': \"4\",\n        }],\n [{\n            'v': 1082,\n            'f': \"1082\",\n        },\n{\n            'v': 4,\n            'f': \"4\",\n        }],\n [{\n            'v': 1118,\n            'f': \"1118\",\n        },\n{\n            'v': 4,\n            'f': \"4\",\n        }],\n [{\n            'v': 1123,\n            'f': \"1123\",\n        },\n{\n            'v': 4,\n            'f': \"4\",\n        }],\n [{\n            'v': 1128,\n            'f': \"1128\",\n        },\n{\n            'v': 4,\n            'f': \"4\",\n        }],\n [{\n            'v': 1237,\n            'f': \"1237\",\n        },\n{\n            'v': 4,\n            'f': \"4\",\n        }],\n [{\n            'v': 1259,\n            'f': \"1259\",\n        },\n{\n            'v': 4,\n            'f': \"4\",\n        }],\n [{\n            'v': 1270,\n            'f': \"1270\",\n        },\n{\n            'v': 4,\n            'f': \"4\",\n        }],\n [{\n            'v': 1283,\n            'f': \"1283\",\n        },\n{\n            'v': 4,\n            'f': \"4\",\n        }],\n [{\n            'v': 1312,\n            'f': \"1312\",\n        },\n{\n            'v': 4,\n            'f': \"4\",\n        }],\n [{\n            'v': 1321,\n            'f': \"1321\",\n        },\n{\n            'v': 4,\n            'f': \"4\",\n        }],\n [{\n            'v': 1523,\n            'f': \"1523\",\n        },\n{\n            'v': 4,\n            'f': \"4\",\n        }],\n [{\n            'v': 1591,\n            'f': \"1591\",\n        },\n{\n            'v': 4,\n            'f': \"4\",\n        }],\n [{\n            'v': 1592,\n            'f': \"1592\",\n        },\n{\n            'v': 4,\n            'f': \"4\",\n        }],\n [{\n            'v': 1792,\n            'f': \"1792\",\n        },\n{\n            'v': 4,\n            'f': \"4\",\n        }],\n [{\n            'v': 1802,\n            'f': \"1802\",\n        },\n{\n            'v': 4,\n            'f': \"4\",\n        }],\n [{\n            'v': 1938,\n            'f': \"1938\",\n        },\n{\n            'v': 4,\n            'f': \"4\",\n        }],\n [{\n            'v': 2158,\n            'f': \"2158\",\n        },\n{\n            'v': 4,\n            'f': \"4\",\n        }],\n [{\n            'v': 2275,\n            'f': \"2275\",\n        },\n{\n            'v': 4,\n            'f': \"4\",\n        }],\n [{\n            'v': 2334,\n            'f': \"2334\",\n        },\n{\n            'v': 4,\n            'f': \"4\",\n        }],\n [{\n            'v': 2340,\n            'f': \"2340\",\n        },\n{\n            'v': 4,\n            'f': \"4\",\n        }],\n [{\n            'v': 2377,\n            'f': \"2377\",\n        },\n{\n            'v': 4,\n            'f': \"4\",\n        }],\n [{\n            'v': 2466,\n            'f': \"2466\",\n        },\n{\n            'v': 4,\n            'f': \"4\",\n        }],\n [{\n            'v': 2472,\n            'f': \"2472\",\n        },\n{\n            'v': 4,\n            'f': \"4\",\n        }],\n [{\n            'v': 2896,\n            'f': \"2896\",\n        },\n{\n            'v': 4,\n            'f': \"4\",\n        }],\n [{\n            'v': 3493,\n            'f': \"3493\",\n        },\n{\n            'v': 4,\n            'f': \"4\",\n        }]],\n        columns: [[\"number\", \"SeqID\"], [\"number\", \"nbpoi\"]],\n        columnOptions: [],\n        rowsPerPage: 10,\n        helpUrl: \"https://colab.research.google.com/notebooks/data_table.ipynb\",\n        suppressOutputScrolling: true,\n        minimumWidth: undefined,\n      });\n\n      function appendQuickchartButton(parentElement) {\n        let quickchartButtonContainerElement = document.createElement('div');\n        quickchartButtonContainerElement.innerHTML = `\n<div id=\"df-5d9b50f1-d5e6-40df-b3e3-74d66addfb13\">\n  <button class=\"colab-df-quickchart\" onclick=\"quickchart('df-5d9b50f1-d5e6-40df-b3e3-74d66addfb13')\"\n            title=\"Suggest charts.\"\n            style=\"display:none;\">\n    \n<svg xmlns=\"http://www.w3.org/2000/svg\" height=\"24px\"viewBox=\"0 0 24 24\"\n     width=\"24px\">\n    <g>\n        <path d=\"M19 3H5c-1.1 0-2 .9-2 2v14c0 1.1.9 2 2 2h14c1.1 0 2-.9 2-2V5c0-1.1-.9-2-2-2zM9 17H7v-7h2v7zm4 0h-2V7h2v10zm4 0h-2v-4h2v4z\"/>\n    </g>\n</svg>\n  </button>\n  \n<style>\n  .colab-df-quickchart {\n      --bg-color: #E8F0FE;\n      --fill-color: #1967D2;\n      --hover-bg-color: #E2EBFA;\n      --hover-fill-color: #174EA6;\n      --disabled-fill-color: #AAA;\n      --disabled-bg-color: #DDD;\n  }\n\n  [theme=dark] .colab-df-quickchart {\n      --bg-color: #3B4455;\n      --fill-color: #D2E3FC;\n      --hover-bg-color: #434B5C;\n      --hover-fill-color: #FFFFFF;\n      --disabled-bg-color: #3B4455;\n      --disabled-fill-color: #666;\n  }\n\n  .colab-df-quickchart {\n    background-color: var(--bg-color);\n    border: none;\n    border-radius: 50%;\n    cursor: pointer;\n    display: none;\n    fill: var(--fill-color);\n    height: 32px;\n    padding: 0;\n    width: 32px;\n  }\n\n  .colab-df-quickchart:hover {\n    background-color: var(--hover-bg-color);\n    box-shadow: 0 1px 2px rgba(60, 64, 67, 0.3), 0 1px 3px 1px rgba(60, 64, 67, 0.15);\n    fill: var(--button-hover-fill-color);\n  }\n\n  .colab-df-quickchart-complete:disabled,\n  .colab-df-quickchart-complete:disabled:hover {\n    background-color: var(--disabled-bg-color);\n    fill: var(--disabled-fill-color);\n    box-shadow: none;\n  }\n\n  .colab-df-spinner {\n    border: 2px solid var(--fill-color);\n    border-color: transparent;\n    border-bottom-color: var(--fill-color);\n    animation:\n      spin 1s steps(1) infinite;\n  }\n\n  @keyframes spin {\n    0% {\n      border-color: transparent;\n      border-bottom-color: var(--fill-color);\n      border-left-color: var(--fill-color);\n    }\n    20% {\n      border-color: transparent;\n      border-left-color: var(--fill-color);\n      border-top-color: var(--fill-color);\n    }\n    30% {\n      border-color: transparent;\n      border-left-color: var(--fill-color);\n      border-top-color: var(--fill-color);\n      border-right-color: var(--fill-color);\n    }\n    40% {\n      border-color: transparent;\n      border-right-color: var(--fill-color);\n      border-top-color: var(--fill-color);\n    }\n    60% {\n      border-color: transparent;\n      border-right-color: var(--fill-color);\n    }\n    80% {\n      border-color: transparent;\n      border-right-color: var(--fill-color);\n      border-bottom-color: var(--fill-color);\n    }\n    90% {\n      border-color: transparent;\n      border-bottom-color: var(--fill-color);\n    }\n  }\n</style>\n\n  <script>\n    async function quickchart(key) {\n      const quickchartButtonEl =\n        document.querySelector('#' + key + ' button');\n      quickchartButtonEl.disabled = true;  // To prevent multiple clicks.\n      quickchartButtonEl.classList.add('colab-df-spinner');\n      try {\n        const charts = await google.colab.kernel.invokeFunction(\n            'suggestCharts', [key], {});\n      } catch (error) {\n        console.error('Error during call to suggestCharts:', error);\n      }\n      quickchartButtonEl.classList.remove('colab-df-spinner');\n      quickchartButtonEl.classList.add('colab-df-quickchart-complete');\n    }\n    (() => {\n      let quickchartButtonEl =\n        document.querySelector('#df-5d9b50f1-d5e6-40df-b3e3-74d66addfb13 button');\n      quickchartButtonEl.style.display =\n        google.colab.kernel.accessAllowed ? 'block' : 'none';\n    })();\n  </script>\n</div>`;\n        parentElement.appendChild(quickchartButtonContainerElement);\n      }\n\n      appendQuickchartButton(table);\n    ",
            "text/plain": [
              "<google.colab.data_table.DataTable object>"
            ]
          },
          "metadata": {},
          "execution_count": 76
        }
      ]
    },
    {
      "cell_type": "markdown",
      "source": [
        "#### 4) Trajectoire\n",
        "\n"
      ],
      "metadata": {
        "id": "Ji392nLBGmL-"
      }
    },
    {
      "cell_type": "markdown",
      "source": [
        "a) Définir une fonction qui prend en entrée une liste de couples (date, poi) et qui retourne une liste PoI triés par date croissante. Le resultat ne contient pas 2 PoI consécutifs identiques."
      ],
      "metadata": {
        "id": "N_ni-buhPVX0"
      }
    },
    {
      "cell_type": "code",
      "source": [
        "def trierPOI( L):\n",
        "  result = sorted (L, key = lambda x: x[0])\n",
        "\n",
        "  return [result[i][1] for i in range(len(result)) if i== 0 or result[i][1] != result[i-1][1]]\n",
        "\n",
        "spark.udf.register(\"trierPOI\", trierPOI, ArrayType(IntegerType()))\n",
        "\n",
        "##test local\n",
        "print(trierPOI([(13,0),(10,2), (12,1), (14,2),(11,2)]))"
      ],
      "metadata": {
        "id": "PdKv9p1VFuRR",
        "colab": {
          "base_uri": "https://localhost:8080/"
        },
        "outputId": "1f318b34-2f36-4351-a3b7-789968a1a24e"
      },
      "execution_count": null,
      "outputs": [
        {
          "output_type": "stream",
          "name": "stdout",
          "text": [
            "[2, 1, 0, 2]\n"
          ]
        }
      ]
    },
    {
      "cell_type": "markdown",
      "source": [
        "Définir la vue Trajectoire(userID, seqID, listPOI).\n",
        "\n",
        "listPOI est la liste des POI visités, pendant la séquence seqID, dans l'ordre chronologique\n",
        "\n",
        "Indications:\n",
        "pour la sequence 687 la listPOI est [7,16,4,8,4,16]"
      ],
      "metadata": {
        "id": "cilKMio1LXZS"
      }
    },
    {
      "cell_type": "code",
      "source": [
        "%%sql\n",
        "create or replace temp view Trajectoire as\n",
        "SELECT userID, seqID, trierPOI(collect_list((date, poiID))) as listePOI\n",
        "FROM user_visits\n",
        "GROUP BY userID, seqID\n",
        "\n",
        ";\n",
        "\n",
        "\n",
        "cache table Trajectoire;\n",
        "\n",
        "select * from Trajectoire\n",
        "where size(listePOI) =6\n",
        "order by seqID"
      ],
      "metadata": {
        "id": "FkptIs4nIIuY",
        "colab": {
          "base_uri": "https://localhost:8080/",
          "height": 347
        },
        "outputId": "c9936c3d-874a-4125-d2f6-68b1afa74081"
      },
      "execution_count": null,
      "outputs": [
        {
          "output_type": "execute_result",
          "data": {
            "text/html": [
              "<div>\n",
              "<style scoped>\n",
              "    .dataframe tbody tr th:only-of-type {\n",
              "        vertical-align: middle;\n",
              "    }\n",
              "\n",
              "    .dataframe tbody tr th {\n",
              "        vertical-align: top;\n",
              "    }\n",
              "\n",
              "    .dataframe thead th {\n",
              "        text-align: right;\n",
              "    }\n",
              "</style>\n",
              "<table border=\"1\" class=\"dataframe\">\n",
              "  <thead>\n",
              "    <tr style=\"text-align: right;\">\n",
              "      <th></th>\n",
              "      <th>userID</th>\n",
              "      <th>seqID</th>\n",
              "      <th>listePOI</th>\n",
              "    </tr>\n",
              "  </thead>\n",
              "  <tbody>\n",
              "    <tr>\n",
              "      <th>0</th>\n",
              "      <td>14617133@N05</td>\n",
              "      <td>384</td>\n",
              "      <td>[22, 28, 22, 28, 22, 28]</td>\n",
              "    </tr>\n",
              "    <tr>\n",
              "      <th>1</th>\n",
              "      <td>20456447@N03</td>\n",
              "      <td>687</td>\n",
              "      <td>[7, 16, 4, 8, 4, 16]</td>\n",
              "    </tr>\n",
              "    <tr>\n",
              "      <th>2</th>\n",
              "      <td>20741443@N00</td>\n",
              "      <td>729</td>\n",
              "      <td>[23, 21, 22, 7, 28, 23]</td>\n",
              "    </tr>\n",
              "    <tr>\n",
              "      <th>3</th>\n",
              "      <td>27168489@N00</td>\n",
              "      <td>1358</td>\n",
              "      <td>[16, 8, 28, 22, 23, 21]</td>\n",
              "    </tr>\n",
              "    <tr>\n",
              "      <th>4</th>\n",
              "      <td>29352917@N00</td>\n",
              "      <td>1524</td>\n",
              "      <td>[29, 30, 16, 29, 16, 29]</td>\n",
              "    </tr>\n",
              "    <tr>\n",
              "      <th>5</th>\n",
              "      <td>30624156@N00</td>\n",
              "      <td>1598</td>\n",
              "      <td>[28, 7, 30, 28, 22, 27]</td>\n",
              "    </tr>\n",
              "    <tr>\n",
              "      <th>6</th>\n",
              "      <td>32827327@N03</td>\n",
              "      <td>1786</td>\n",
              "      <td>[20, 6, 25, 11, 30, 24]</td>\n",
              "    </tr>\n",
              "    <tr>\n",
              "      <th>7</th>\n",
              "      <td>33547369@N00</td>\n",
              "      <td>1877</td>\n",
              "      <td>[23, 21, 23, 22, 23, 22]</td>\n",
              "    </tr>\n",
              "    <tr>\n",
              "      <th>8</th>\n",
              "      <td>34128007@N04</td>\n",
              "      <td>1912</td>\n",
              "      <td>[8, 16, 4, 1, 29, 16]</td>\n",
              "    </tr>\n",
              "    <tr>\n",
              "      <th>9</th>\n",
              "      <td>34314322@N00</td>\n",
              "      <td>1993</td>\n",
              "      <td>[30, 22, 28, 29, 30, 16]</td>\n",
              "    </tr>\n",
              "    <tr>\n",
              "      <th>10</th>\n",
              "      <td>35034347485@N01</td>\n",
              "      <td>2069</td>\n",
              "      <td>[6, 21, 23, 28, 22, 28]</td>\n",
              "    </tr>\n",
              "    <tr>\n",
              "      <th>11</th>\n",
              "      <td>35237095252@N01</td>\n",
              "      <td>2158</td>\n",
              "      <td>[30, 7, 30, 16, 4, 16]</td>\n",
              "    </tr>\n",
              "    <tr>\n",
              "      <th>12</th>\n",
              "      <td>44925192@N00</td>\n",
              "      <td>2916</td>\n",
              "      <td>[21, 7, 30, 16, 4, 16]</td>\n",
              "    </tr>\n",
              "    <tr>\n",
              "      <th>13</th>\n",
              "      <td>49503002894@N01</td>\n",
              "      <td>3401</td>\n",
              "      <td>[22, 8, 22, 8, 22, 3]</td>\n",
              "    </tr>\n",
              "    <tr>\n",
              "      <th>14</th>\n",
              "      <td>51035610516@N01</td>\n",
              "      <td>3501</td>\n",
              "      <td>[21, 30, 8, 16, 4, 16]</td>\n",
              "    </tr>\n",
              "    <tr>\n",
              "      <th>15</th>\n",
              "      <td>51035681908@N01</td>\n",
              "      <td>3504</td>\n",
              "      <td>[21, 22, 4, 16, 25, 11]</td>\n",
              "    </tr>\n",
              "    <tr>\n",
              "      <th>16</th>\n",
              "      <td>84987970@N00</td>\n",
              "      <td>5180</td>\n",
              "      <td>[22, 28, 22, 23, 21, 22]</td>\n",
              "    </tr>\n",
              "    <tr>\n",
              "      <th>17</th>\n",
              "      <td>84987970@N00</td>\n",
              "      <td>5250</td>\n",
              "      <td>[30, 23, 21, 22, 6, 16]</td>\n",
              "    </tr>\n",
              "    <tr>\n",
              "      <th>18</th>\n",
              "      <td>84987970@N00</td>\n",
              "      <td>5276</td>\n",
              "      <td>[6, 4, 30, 7, 28, 21]</td>\n",
              "    </tr>\n",
              "    <tr>\n",
              "      <th>19</th>\n",
              "      <td>86292040@N00</td>\n",
              "      <td>5377</td>\n",
              "      <td>[30, 1, 8, 16, 8, 23]</td>\n",
              "    </tr>\n",
              "  </tbody>\n",
              "</table>\n",
              "</div>"
            ],
            "application/vnd.google.colaboratory.module+javascript": "\n      import \"https://ssl.gstatic.com/colaboratory/data_table/881c4a0d49046431/data_table.js\";\n\n      const table = window.createDataTable({\n        data: [[\"14617133@N05\",\n{\n            'v': 384,\n            'f': \"384\",\n        },\n[22, 28, 22, 28, 22, 28]],\n [\"20456447@N03\",\n{\n            'v': 687,\n            'f': \"687\",\n        },\n[7, 16, 4, 8, 4, 16]],\n [\"20741443@N00\",\n{\n            'v': 729,\n            'f': \"729\",\n        },\n[23, 21, 22, 7, 28, 23]],\n [\"27168489@N00\",\n{\n            'v': 1358,\n            'f': \"1358\",\n        },\n[16, 8, 28, 22, 23, 21]],\n [\"29352917@N00\",\n{\n            'v': 1524,\n            'f': \"1524\",\n        },\n[29, 30, 16, 29, 16, 29]],\n [\"30624156@N00\",\n{\n            'v': 1598,\n            'f': \"1598\",\n        },\n[28, 7, 30, 28, 22, 27]],\n [\"32827327@N03\",\n{\n            'v': 1786,\n            'f': \"1786\",\n        },\n[20, 6, 25, 11, 30, 24]],\n [\"33547369@N00\",\n{\n            'v': 1877,\n            'f': \"1877\",\n        },\n[23, 21, 23, 22, 23, 22]],\n [\"34128007@N04\",\n{\n            'v': 1912,\n            'f': \"1912\",\n        },\n[8, 16, 4, 1, 29, 16]],\n [\"34314322@N00\",\n{\n            'v': 1993,\n            'f': \"1993\",\n        },\n[30, 22, 28, 29, 30, 16]],\n [\"35034347485@N01\",\n{\n            'v': 2069,\n            'f': \"2069\",\n        },\n[6, 21, 23, 28, 22, 28]],\n [\"35237095252@N01\",\n{\n            'v': 2158,\n            'f': \"2158\",\n        },\n[30, 7, 30, 16, 4, 16]],\n [\"44925192@N00\",\n{\n            'v': 2916,\n            'f': \"2916\",\n        },\n[21, 7, 30, 16, 4, 16]],\n [\"49503002894@N01\",\n{\n            'v': 3401,\n            'f': \"3401\",\n        },\n[22, 8, 22, 8, 22, 3]],\n [\"51035610516@N01\",\n{\n            'v': 3501,\n            'f': \"3501\",\n        },\n[21, 30, 8, 16, 4, 16]],\n [\"51035681908@N01\",\n{\n            'v': 3504,\n            'f': \"3504\",\n        },\n[21, 22, 4, 16, 25, 11]],\n [\"84987970@N00\",\n{\n            'v': 5180,\n            'f': \"5180\",\n        },\n[22, 28, 22, 23, 21, 22]],\n [\"84987970@N00\",\n{\n            'v': 5250,\n            'f': \"5250\",\n        },\n[30, 23, 21, 22, 6, 16]],\n [\"84987970@N00\",\n{\n            'v': 5276,\n            'f': \"5276\",\n        },\n[6, 4, 30, 7, 28, 21]],\n [\"86292040@N00\",\n{\n            'v': 5377,\n            'f': \"5377\",\n        },\n[30, 1, 8, 16, 8, 23]]],\n        columns: [[\"string\", \"userID\"], [\"number\", \"seqID\"], [\"string\", \"listePOI\"]],\n        columnOptions: [],\n        rowsPerPage: 10,\n        helpUrl: \"https://colab.research.google.com/notebooks/data_table.ipynb\",\n        suppressOutputScrolling: true,\n        minimumWidth: undefined,\n      });\n\n      function appendQuickchartButton(parentElement) {\n        let quickchartButtonContainerElement = document.createElement('div');\n        quickchartButtonContainerElement.innerHTML = `\n<div id=\"df-94ab4b98-4b88-42a0-b369-c1b666d607df\">\n  <button class=\"colab-df-quickchart\" onclick=\"quickchart('df-94ab4b98-4b88-42a0-b369-c1b666d607df')\"\n            title=\"Suggest charts.\"\n            style=\"display:none;\">\n    \n<svg xmlns=\"http://www.w3.org/2000/svg\" height=\"24px\"viewBox=\"0 0 24 24\"\n     width=\"24px\">\n    <g>\n        <path d=\"M19 3H5c-1.1 0-2 .9-2 2v14c0 1.1.9 2 2 2h14c1.1 0 2-.9 2-2V5c0-1.1-.9-2-2-2zM9 17H7v-7h2v7zm4 0h-2V7h2v10zm4 0h-2v-4h2v4z\"/>\n    </g>\n</svg>\n  </button>\n  \n<style>\n  .colab-df-quickchart {\n      --bg-color: #E8F0FE;\n      --fill-color: #1967D2;\n      --hover-bg-color: #E2EBFA;\n      --hover-fill-color: #174EA6;\n      --disabled-fill-color: #AAA;\n      --disabled-bg-color: #DDD;\n  }\n\n  [theme=dark] .colab-df-quickchart {\n      --bg-color: #3B4455;\n      --fill-color: #D2E3FC;\n      --hover-bg-color: #434B5C;\n      --hover-fill-color: #FFFFFF;\n      --disabled-bg-color: #3B4455;\n      --disabled-fill-color: #666;\n  }\n\n  .colab-df-quickchart {\n    background-color: var(--bg-color);\n    border: none;\n    border-radius: 50%;\n    cursor: pointer;\n    display: none;\n    fill: var(--fill-color);\n    height: 32px;\n    padding: 0;\n    width: 32px;\n  }\n\n  .colab-df-quickchart:hover {\n    background-color: var(--hover-bg-color);\n    box-shadow: 0 1px 2px rgba(60, 64, 67, 0.3), 0 1px 3px 1px rgba(60, 64, 67, 0.15);\n    fill: var(--button-hover-fill-color);\n  }\n\n  .colab-df-quickchart-complete:disabled,\n  .colab-df-quickchart-complete:disabled:hover {\n    background-color: var(--disabled-bg-color);\n    fill: var(--disabled-fill-color);\n    box-shadow: none;\n  }\n\n  .colab-df-spinner {\n    border: 2px solid var(--fill-color);\n    border-color: transparent;\n    border-bottom-color: var(--fill-color);\n    animation:\n      spin 1s steps(1) infinite;\n  }\n\n  @keyframes spin {\n    0% {\n      border-color: transparent;\n      border-bottom-color: var(--fill-color);\n      border-left-color: var(--fill-color);\n    }\n    20% {\n      border-color: transparent;\n      border-left-color: var(--fill-color);\n      border-top-color: var(--fill-color);\n    }\n    30% {\n      border-color: transparent;\n      border-left-color: var(--fill-color);\n      border-top-color: var(--fill-color);\n      border-right-color: var(--fill-color);\n    }\n    40% {\n      border-color: transparent;\n      border-right-color: var(--fill-color);\n      border-top-color: var(--fill-color);\n    }\n    60% {\n      border-color: transparent;\n      border-right-color: var(--fill-color);\n    }\n    80% {\n      border-color: transparent;\n      border-right-color: var(--fill-color);\n      border-bottom-color: var(--fill-color);\n    }\n    90% {\n      border-color: transparent;\n      border-bottom-color: var(--fill-color);\n    }\n  }\n</style>\n\n  <script>\n    async function quickchart(key) {\n      const quickchartButtonEl =\n        document.querySelector('#' + key + ' button');\n      quickchartButtonEl.disabled = true;  // To prevent multiple clicks.\n      quickchartButtonEl.classList.add('colab-df-spinner');\n      try {\n        const charts = await google.colab.kernel.invokeFunction(\n            'suggestCharts', [key], {});\n      } catch (error) {\n        console.error('Error during call to suggestCharts:', error);\n      }\n      quickchartButtonEl.classList.remove('colab-df-spinner');\n      quickchartButtonEl.classList.add('colab-df-quickchart-complete');\n    }\n    (() => {\n      let quickchartButtonEl =\n        document.querySelector('#df-94ab4b98-4b88-42a0-b369-c1b666d607df button');\n      quickchartButtonEl.style.display =\n        google.colab.kernel.accessAllowed ? 'block' : 'none';\n    })();\n  </script>\n</div>`;\n        parentElement.appendChild(quickchartButtonContainerElement);\n      }\n\n      appendQuickchartButton(table);\n    ",
            "text/plain": [
              "<google.colab.data_table.DataTable object>"
            ]
          },
          "metadata": {},
          "execution_count": 78
        }
      ]
    },
    {
      "cell_type": "markdown",
      "source": [
        "#### 5) Transitions\n",
        "5a) Définir la table Transitions(poi1, poi2, nbTrans) avec nbTrans étant le nombre de déplacements directs de poi1 à poi2.\n",
        "Indication: deux POI apparaissant successivement (poi1 suivi de poi2) dans une séquence forment un déplacement direct entre poi1 et poi2.\n",
        "Une séquence contenant un seul POI ne correspond à aucun déplacement."
      ],
      "metadata": {
        "id": "dVy-SWDmHDYU"
      }
    },
    {
      "cell_type": "code",
      "source": [
        "from collections import Counter\n",
        "\n",
        "def transition(listePOI):\n",
        "  L=[]\n",
        "  for i in range(1,len(listePOI)):\n",
        "    L.append((listePOI[i-1], listePOI[i]))\n",
        "  return L\n",
        "\n",
        "\n",
        "\n",
        "spark.udf.register(\"transition\", transition, ArrayType(StructType([StructField(\"poi1\", IntegerType() ), StructField(\"poi2\", IntegerType())] )))\n",
        "#, StructField(\"nb\", int)"
      ],
      "metadata": {
        "id": "cQ1cgj5DH3o2",
        "colab": {
          "base_uri": "https://localhost:8080/"
        },
        "outputId": "8da63aa5-7673-4e11-893c-c8b25536ccca"
      },
      "execution_count": null,
      "outputs": [
        {
          "output_type": "execute_result",
          "data": {
            "text/plain": [
              "<function __main__.transition(listePOI)>"
            ]
          },
          "metadata": {},
          "execution_count": 93
        }
      ]
    },
    {
      "cell_type": "code",
      "source": [],
      "metadata": {
        "id": "vtZma8V7f83d"
      },
      "execution_count": null,
      "outputs": []
    },
    {
      "cell_type": "code",
      "source": [
        "%%sql\n",
        "create or replace temp view Transition1 as\n",
        "SELECT poi1poi2.poi1 as poi1, poi1poi2.poi2 as poi2, count(*) as nbTrans\n",
        "FROM (SELECT explode(transition(listePOI)) as poi1poi2\n",
        "FROM Trajectoire\n",
        "WHERE size(listePOI) > 1 )\n",
        "GROUP BY poi1, poi2\n",
        ";\n",
        "\n",
        "cache table Transition1;\n",
        "\n",
        "select *\n",
        "from Transition1\n",
        "order by poi1"
      ],
      "metadata": {
        "id": "YmvXq9pzIFGw",
        "colab": {
          "base_uri": "https://localhost:8080/",
          "height": 347
        },
        "outputId": "427c204c-32d9-4e76-eca8-7056c0e77c07"
      },
      "execution_count": null,
      "outputs": [
        {
          "output_type": "execute_result",
          "data": {
            "text/html": [
              "<div>\n",
              "<style scoped>\n",
              "    .dataframe tbody tr th:only-of-type {\n",
              "        vertical-align: middle;\n",
              "    }\n",
              "\n",
              "    .dataframe tbody tr th {\n",
              "        vertical-align: top;\n",
              "    }\n",
              "\n",
              "    .dataframe thead th {\n",
              "        text-align: right;\n",
              "    }\n",
              "</style>\n",
              "<table border=\"1\" class=\"dataframe\">\n",
              "  <thead>\n",
              "    <tr style=\"text-align: right;\">\n",
              "      <th></th>\n",
              "      <th>poi1</th>\n",
              "      <th>poi2</th>\n",
              "      <th>nbTrans</th>\n",
              "    </tr>\n",
              "  </thead>\n",
              "  <tbody>\n",
              "    <tr>\n",
              "      <th>0</th>\n",
              "      <td>1</td>\n",
              "      <td>7</td>\n",
              "      <td>5</td>\n",
              "    </tr>\n",
              "    <tr>\n",
              "      <th>1</th>\n",
              "      <td>1</td>\n",
              "      <td>24</td>\n",
              "      <td>2</td>\n",
              "    </tr>\n",
              "    <tr>\n",
              "      <th>2</th>\n",
              "      <td>1</td>\n",
              "      <td>4</td>\n",
              "      <td>1</td>\n",
              "    </tr>\n",
              "    <tr>\n",
              "      <th>3</th>\n",
              "      <td>1</td>\n",
              "      <td>22</td>\n",
              "      <td>3</td>\n",
              "    </tr>\n",
              "    <tr>\n",
              "      <th>4</th>\n",
              "      <td>1</td>\n",
              "      <td>30</td>\n",
              "      <td>14</td>\n",
              "    </tr>\n",
              "    <tr>\n",
              "      <th>...</th>\n",
              "      <td>...</td>\n",
              "      <td>...</td>\n",
              "      <td>...</td>\n",
              "    </tr>\n",
              "    <tr>\n",
              "      <th>95</th>\n",
              "      <td>11</td>\n",
              "      <td>30</td>\n",
              "      <td>2</td>\n",
              "    </tr>\n",
              "    <tr>\n",
              "      <th>96</th>\n",
              "      <td>13</td>\n",
              "      <td>16</td>\n",
              "      <td>4</td>\n",
              "    </tr>\n",
              "    <tr>\n",
              "      <th>97</th>\n",
              "      <td>13</td>\n",
              "      <td>21</td>\n",
              "      <td>2</td>\n",
              "    </tr>\n",
              "    <tr>\n",
              "      <th>98</th>\n",
              "      <td>13</td>\n",
              "      <td>4</td>\n",
              "      <td>1</td>\n",
              "    </tr>\n",
              "    <tr>\n",
              "      <th>99</th>\n",
              "      <td>13</td>\n",
              "      <td>27</td>\n",
              "      <td>1</td>\n",
              "    </tr>\n",
              "  </tbody>\n",
              "</table>\n",
              "<p>100 rows × 3 columns</p>\n",
              "</div>"
            ],
            "application/vnd.google.colaboratory.module+javascript": "\n      import \"https://ssl.gstatic.com/colaboratory/data_table/881c4a0d49046431/data_table.js\";\n\n      const table = window.createDataTable({\n        data: [[{\n            'v': 1,\n            'f': \"1\",\n        },\n{\n            'v': 7,\n            'f': \"7\",\n        },\n{\n            'v': 5,\n            'f': \"5\",\n        }],\n [{\n            'v': 1,\n            'f': \"1\",\n        },\n{\n            'v': 24,\n            'f': \"24\",\n        },\n{\n            'v': 2,\n            'f': \"2\",\n        }],\n [{\n            'v': 1,\n            'f': \"1\",\n        },\n{\n            'v': 4,\n            'f': \"4\",\n        },\n{\n            'v': 1,\n            'f': \"1\",\n        }],\n [{\n            'v': 1,\n            'f': \"1\",\n        },\n{\n            'v': 22,\n            'f': \"22\",\n        },\n{\n            'v': 3,\n            'f': \"3\",\n        }],\n [{\n            'v': 1,\n            'f': \"1\",\n        },\n{\n            'v': 30,\n            'f': \"30\",\n        },\n{\n            'v': 14,\n            'f': \"14\",\n        }],\n [{\n            'v': 1,\n            'f': \"1\",\n        },\n{\n            'v': 16,\n            'f': \"16\",\n        },\n{\n            'v': 4,\n            'f': \"4\",\n        }],\n [{\n            'v': 1,\n            'f': \"1\",\n        },\n{\n            'v': 19,\n            'f': \"19\",\n        },\n{\n            'v': 1,\n            'f': \"1\",\n        }],\n [{\n            'v': 1,\n            'f': \"1\",\n        },\n{\n            'v': 8,\n            'f': \"8\",\n        },\n{\n            'v': 7,\n            'f': \"7\",\n        }],\n [{\n            'v': 1,\n            'f': \"1\",\n        },\n{\n            'v': 21,\n            'f': \"21\",\n        },\n{\n            'v': 4,\n            'f': \"4\",\n        }],\n [{\n            'v': 1,\n            'f': \"1\",\n        },\n{\n            'v': 23,\n            'f': \"23\",\n        },\n{\n            'v': 1,\n            'f': \"1\",\n        }],\n [{\n            'v': 1,\n            'f': \"1\",\n        },\n{\n            'v': 15,\n            'f': \"15\",\n        },\n{\n            'v': 1,\n            'f': \"1\",\n        }],\n [{\n            'v': 1,\n            'f': \"1\",\n        },\n{\n            'v': 29,\n            'f': \"29\",\n        },\n{\n            'v': 2,\n            'f': \"2\",\n        }],\n [{\n            'v': 2,\n            'f': \"2\",\n        },\n{\n            'v': 14,\n            'f': \"14\",\n        },\n{\n            'v': 5,\n            'f': \"5\",\n        }],\n [{\n            'v': 2,\n            'f': \"2\",\n        },\n{\n            'v': 23,\n            'f': \"23\",\n        },\n{\n            'v': 1,\n            'f': \"1\",\n        }],\n [{\n            'v': 2,\n            'f': \"2\",\n        },\n{\n            'v': 17,\n            'f': \"17\",\n        },\n{\n            'v': 12,\n            'f': \"12\",\n        }],\n [{\n            'v': 3,\n            'f': \"3\",\n        },\n{\n            'v': 22,\n            'f': \"22\",\n        },\n{\n            'v': 1,\n            'f': \"1\",\n        }],\n [{\n            'v': 3,\n            'f': \"3\",\n        },\n{\n            'v': 30,\n            'f': \"30\",\n        },\n{\n            'v': 3,\n            'f': \"3\",\n        }],\n [{\n            'v': 3,\n            'f': \"3\",\n        },\n{\n            'v': 21,\n            'f': \"21\",\n        },\n{\n            'v': 12,\n            'f': \"12\",\n        }],\n [{\n            'v': 3,\n            'f': \"3\",\n        },\n{\n            'v': 23,\n            'f': \"23\",\n        },\n{\n            'v': 3,\n            'f': \"3\",\n        }],\n [{\n            'v': 3,\n            'f': \"3\",\n        },\n{\n            'v': 29,\n            'f': \"29\",\n        },\n{\n            'v': 2,\n            'f': \"2\",\n        }],\n [{\n            'v': 3,\n            'f': \"3\",\n        },\n{\n            'v': 6,\n            'f': \"6\",\n        },\n{\n            'v': 1,\n            'f': \"1\",\n        }],\n [{\n            'v': 3,\n            'f': \"3\",\n        },\n{\n            'v': 4,\n            'f': \"4\",\n        },\n{\n            'v': 1,\n            'f': \"1\",\n        }],\n [{\n            'v': 3,\n            'f': \"3\",\n        },\n{\n            'v': 24,\n            'f': \"24\",\n        },\n{\n            'v': 1,\n            'f': \"1\",\n        }],\n [{\n            'v': 4,\n            'f': \"4\",\n        },\n{\n            'v': 1,\n            'f': \"1\",\n        },\n{\n            'v': 2,\n            'f': \"2\",\n        }],\n [{\n            'v': 4,\n            'f': \"4\",\n        },\n{\n            'v': 22,\n            'f': \"22\",\n        },\n{\n            'v': 4,\n            'f': \"4\",\n        }],\n [{\n            'v': 4,\n            'f': \"4\",\n        },\n{\n            'v': 6,\n            'f': \"6\",\n        },\n{\n            'v': 1,\n            'f': \"1\",\n        }],\n [{\n            'v': 4,\n            'f': \"4\",\n        },\n{\n            'v': 16,\n            'f': \"16\",\n        },\n{\n            'v': 37,\n            'f': \"37\",\n        }],\n [{\n            'v': 4,\n            'f': \"4\",\n        },\n{\n            'v': 21,\n            'f': \"21\",\n        },\n{\n            'v': 1,\n            'f': \"1\",\n        }],\n [{\n            'v': 4,\n            'f': \"4\",\n        },\n{\n            'v': 30,\n            'f': \"30\",\n        },\n{\n            'v': 6,\n            'f': \"6\",\n        }],\n [{\n            'v': 4,\n            'f': \"4\",\n        },\n{\n            'v': 8,\n            'f': \"8\",\n        },\n{\n            'v': 5,\n            'f': \"5\",\n        }],\n [{\n            'v': 4,\n            'f': \"4\",\n        },\n{\n            'v': 10,\n            'f': \"10\",\n        },\n{\n            'v': 1,\n            'f': \"1\",\n        }],\n [{\n            'v': 4,\n            'f': \"4\",\n        },\n{\n            'v': 2,\n            'f': \"2\",\n        },\n{\n            'v': 1,\n            'f': \"1\",\n        }],\n [{\n            'v': 4,\n            'f': \"4\",\n        },\n{\n            'v': 24,\n            'f': \"24\",\n        },\n{\n            'v': 3,\n            'f': \"3\",\n        }],\n [{\n            'v': 6,\n            'f': \"6\",\n        },\n{\n            'v': 13,\n            'f': \"13\",\n        },\n{\n            'v': 1,\n            'f': \"1\",\n        }],\n [{\n            'v': 6,\n            'f': \"6\",\n        },\n{\n            'v': 27,\n            'f': \"27\",\n        },\n{\n            'v': 1,\n            'f': \"1\",\n        }],\n [{\n            'v': 6,\n            'f': \"6\",\n        },\n{\n            'v': 30,\n            'f': \"30\",\n        },\n{\n            'v': 2,\n            'f': \"2\",\n        }],\n [{\n            'v': 6,\n            'f': \"6\",\n        },\n{\n            'v': 3,\n            'f': \"3\",\n        },\n{\n            'v': 1,\n            'f': \"1\",\n        }],\n [{\n            'v': 6,\n            'f': \"6\",\n        },\n{\n            'v': 24,\n            'f': \"24\",\n        },\n{\n            'v': 1,\n            'f': \"1\",\n        }],\n [{\n            'v': 6,\n            'f': \"6\",\n        },\n{\n            'v': 21,\n            'f': \"21\",\n        },\n{\n            'v': 8,\n            'f': \"8\",\n        }],\n [{\n            'v': 6,\n            'f': \"6\",\n        },\n{\n            'v': 22,\n            'f': \"22\",\n        },\n{\n            'v': 13,\n            'f': \"13\",\n        }],\n [{\n            'v': 6,\n            'f': \"6\",\n        },\n{\n            'v': 29,\n            'f': \"29\",\n        },\n{\n            'v': 2,\n            'f': \"2\",\n        }],\n [{\n            'v': 6,\n            'f': \"6\",\n        },\n{\n            'v': 25,\n            'f': \"25\",\n        },\n{\n            'v': 10,\n            'f': \"10\",\n        }],\n [{\n            'v': 6,\n            'f': \"6\",\n        },\n{\n            'v': 11,\n            'f': \"11\",\n        },\n{\n            'v': 8,\n            'f': \"8\",\n        }],\n [{\n            'v': 6,\n            'f': \"6\",\n        },\n{\n            'v': 23,\n            'f': \"23\",\n        },\n{\n            'v': 3,\n            'f': \"3\",\n        }],\n [{\n            'v': 6,\n            'f': \"6\",\n        },\n{\n            'v': 16,\n            'f': \"16\",\n        },\n{\n            'v': 5,\n            'f': \"5\",\n        }],\n [{\n            'v': 6,\n            'f': \"6\",\n        },\n{\n            'v': 4,\n            'f': \"4\",\n        },\n{\n            'v': 1,\n            'f': \"1\",\n        }],\n [{\n            'v': 6,\n            'f': \"6\",\n        },\n{\n            'v': 28,\n            'f': \"28\",\n        },\n{\n            'v': 3,\n            'f': \"3\",\n        }],\n [{\n            'v': 6,\n            'f': \"6\",\n        },\n{\n            'v': 7,\n            'f': \"7\",\n        },\n{\n            'v': 2,\n            'f': \"2\",\n        }],\n [{\n            'v': 7,\n            'f': \"7\",\n        },\n{\n            'v': 25,\n            'f': \"25\",\n        },\n{\n            'v': 1,\n            'f': \"1\",\n        }],\n [{\n            'v': 7,\n            'f': \"7\",\n        },\n{\n            'v': 30,\n            'f': \"30\",\n        },\n{\n            'v': 57,\n            'f': \"57\",\n        }],\n [{\n            'v': 7,\n            'f': \"7\",\n        },\n{\n            'v': 4,\n            'f': \"4\",\n        },\n{\n            'v': 1,\n            'f': \"1\",\n        }],\n [{\n            'v': 7,\n            'f': \"7\",\n        },\n{\n            'v': 23,\n            'f': \"23\",\n        },\n{\n            'v': 15,\n            'f': \"15\",\n        }],\n [{\n            'v': 7,\n            'f': \"7\",\n        },\n{\n            'v': 6,\n            'f': \"6\",\n        },\n{\n            'v': 3,\n            'f': \"3\",\n        }],\n [{\n            'v': 7,\n            'f': \"7\",\n        },\n{\n            'v': 24,\n            'f': \"24\",\n        },\n{\n            'v': 3,\n            'f': \"3\",\n        }],\n [{\n            'v': 7,\n            'f': \"7\",\n        },\n{\n            'v': 19,\n            'f': \"19\",\n        },\n{\n            'v': 1,\n            'f': \"1\",\n        }],\n [{\n            'v': 7,\n            'f': \"7\",\n        },\n{\n            'v': 1,\n            'f': \"1\",\n        },\n{\n            'v': 7,\n            'f': \"7\",\n        }],\n [{\n            'v': 7,\n            'f': \"7\",\n        },\n{\n            'v': 27,\n            'f': \"27\",\n        },\n{\n            'v': 2,\n            'f': \"2\",\n        }],\n [{\n            'v': 7,\n            'f': \"7\",\n        },\n{\n            'v': 11,\n            'f': \"11\",\n        },\n{\n            'v': 4,\n            'f': \"4\",\n        }],\n [{\n            'v': 7,\n            'f': \"7\",\n        },\n{\n            'v': 21,\n            'f': \"21\",\n        },\n{\n            'v': 14,\n            'f': \"14\",\n        }],\n [{\n            'v': 7,\n            'f': \"7\",\n        },\n{\n            'v': 8,\n            'f': \"8\",\n        },\n{\n            'v': 2,\n            'f': \"2\",\n        }],\n [{\n            'v': 7,\n            'f': \"7\",\n        },\n{\n            'v': 3,\n            'f': \"3\",\n        },\n{\n            'v': 1,\n            'f': \"1\",\n        }],\n [{\n            'v': 7,\n            'f': \"7\",\n        },\n{\n            'v': 16,\n            'f': \"16\",\n        },\n{\n            'v': 12,\n            'f': \"12\",\n        }],\n [{\n            'v': 7,\n            'f': \"7\",\n        },\n{\n            'v': 15,\n            'f': \"15\",\n        },\n{\n            'v': 1,\n            'f': \"1\",\n        }],\n [{\n            'v': 7,\n            'f': \"7\",\n        },\n{\n            'v': 13,\n            'f': \"13\",\n        },\n{\n            'v': 1,\n            'f': \"1\",\n        }],\n [{\n            'v': 7,\n            'f': \"7\",\n        },\n{\n            'v': 28,\n            'f': \"28\",\n        },\n{\n            'v': 17,\n            'f': \"17\",\n        }],\n [{\n            'v': 7,\n            'f': \"7\",\n        },\n{\n            'v': 22,\n            'f': \"22\",\n        },\n{\n            'v': 11,\n            'f': \"11\",\n        }],\n [{\n            'v': 8,\n            'f': \"8\",\n        },\n{\n            'v': 19,\n            'f': \"19\",\n        },\n{\n            'v': 1,\n            'f': \"1\",\n        }],\n [{\n            'v': 8,\n            'f': \"8\",\n        },\n{\n            'v': 24,\n            'f': \"24\",\n        },\n{\n            'v': 4,\n            'f': \"4\",\n        }],\n [{\n            'v': 8,\n            'f': \"8\",\n        },\n{\n            'v': 7,\n            'f': \"7\",\n        },\n{\n            'v': 4,\n            'f': \"4\",\n        }],\n [{\n            'v': 8,\n            'f': \"8\",\n        },\n{\n            'v': 30,\n            'f': \"30\",\n        },\n{\n            'v': 17,\n            'f': \"17\",\n        }],\n [{\n            'v': 8,\n            'f': \"8\",\n        },\n{\n            'v': 4,\n            'f': \"4\",\n        },\n{\n            'v': 8,\n            'f': \"8\",\n        }],\n [{\n            'v': 8,\n            'f': \"8\",\n        },\n{\n            'v': 23,\n            'f': \"23\",\n        },\n{\n            'v': 3,\n            'f': \"3\",\n        }],\n [{\n            'v': 8,\n            'f': \"8\",\n        },\n{\n            'v': 21,\n            'f': \"21\",\n        },\n{\n            'v': 4,\n            'f': \"4\",\n        }],\n [{\n            'v': 8,\n            'f': \"8\",\n        },\n{\n            'v': 29,\n            'f': \"29\",\n        },\n{\n            'v': 1,\n            'f': \"1\",\n        }],\n [{\n            'v': 8,\n            'f': \"8\",\n        },\n{\n            'v': 28,\n            'f': \"28\",\n        },\n{\n            'v': 3,\n            'f': \"3\",\n        }],\n [{\n            'v': 8,\n            'f': \"8\",\n        },\n{\n            'v': 16,\n            'f': \"16\",\n        },\n{\n            'v': 41,\n            'f': \"41\",\n        }],\n [{\n            'v': 8,\n            'f': \"8\",\n        },\n{\n            'v': 22,\n            'f': \"22\",\n        },\n{\n            'v': 6,\n            'f': \"6\",\n        }],\n [{\n            'v': 8,\n            'f': \"8\",\n        },\n{\n            'v': 1,\n            'f': \"1\",\n        },\n{\n            'v': 1,\n            'f': \"1\",\n        }],\n [{\n            'v': 9,\n            'f': \"9\",\n        },\n{\n            'v': 11,\n            'f': \"11\",\n        },\n{\n            'v': 1,\n            'f': \"1\",\n        }],\n [{\n            'v': 10,\n            'f': \"10\",\n        },\n{\n            'v': 1,\n            'f': \"1\",\n        },\n{\n            'v': 1,\n            'f': \"1\",\n        }],\n [{\n            'v': 10,\n            'f': \"10\",\n        },\n{\n            'v': 21,\n            'f': \"21\",\n        },\n{\n            'v': 3,\n            'f': \"3\",\n        }],\n [{\n            'v': 11,\n            'f': \"11\",\n        },\n{\n            'v': 27,\n            'f': \"27\",\n        },\n{\n            'v': 26,\n            'f': \"26\",\n        }],\n [{\n            'v': 11,\n            'f': \"11\",\n        },\n{\n            'v': 19,\n            'f': \"19\",\n        },\n{\n            'v': 1,\n            'f': \"1\",\n        }],\n [{\n            'v': 11,\n            'f': \"11\",\n        },\n{\n            'v': 26,\n            'f': \"26\",\n        },\n{\n            'v': 1,\n            'f': \"1\",\n        }],\n [{\n            'v': 11,\n            'f': \"11\",\n        },\n{\n            'v': 6,\n            'f': \"6\",\n        },\n{\n            'v': 1,\n            'f': \"1\",\n        }],\n [{\n            'v': 11,\n            'f': \"11\",\n        },\n{\n            'v': 8,\n            'f': \"8\",\n        },\n{\n            'v': 2,\n            'f': \"2\",\n        }],\n [{\n            'v': 11,\n            'f': \"11\",\n        },\n{\n            'v': 24,\n            'f': \"24\",\n        },\n{\n            'v': 2,\n            'f': \"2\",\n        }],\n [{\n            'v': 11,\n            'f': \"11\",\n        },\n{\n            'v': 7,\n            'f': \"7\",\n        },\n{\n            'v': 2,\n            'f': \"2\",\n        }],\n [{\n            'v': 11,\n            'f': \"11\",\n        },\n{\n            'v': 25,\n            'f': \"25\",\n        },\n{\n            'v': 4,\n            'f': \"4\",\n        }],\n [{\n            'v': 11,\n            'f': \"11\",\n        },\n{\n            'v': 13,\n            'f': \"13\",\n        },\n{\n            'v': 2,\n            'f': \"2\",\n        }],\n [{\n            'v': 11,\n            'f': \"11\",\n        },\n{\n            'v': 16,\n            'f': \"16\",\n        },\n{\n            'v': 4,\n            'f': \"4\",\n        }],\n [{\n            'v': 11,\n            'f': \"11\",\n        },\n{\n            'v': 23,\n            'f': \"23\",\n        },\n{\n            'v': 3,\n            'f': \"3\",\n        }],\n [{\n            'v': 11,\n            'f': \"11\",\n        },\n{\n            'v': 21,\n            'f': \"21\",\n        },\n{\n            'v': 8,\n            'f': \"8\",\n        }],\n [{\n            'v': 11,\n            'f': \"11\",\n        },\n{\n            'v': 22,\n            'f': \"22\",\n        },\n{\n            'v': 2,\n            'f': \"2\",\n        }],\n [{\n            'v': 11,\n            'f': \"11\",\n        },\n{\n            'v': 29,\n            'f': \"29\",\n        },\n{\n            'v': 8,\n            'f': \"8\",\n        }],\n [{\n            'v': 11,\n            'f': \"11\",\n        },\n{\n            'v': 30,\n            'f': \"30\",\n        },\n{\n            'v': 2,\n            'f': \"2\",\n        }],\n [{\n            'v': 13,\n            'f': \"13\",\n        },\n{\n            'v': 16,\n            'f': \"16\",\n        },\n{\n            'v': 4,\n            'f': \"4\",\n        }],\n [{\n            'v': 13,\n            'f': \"13\",\n        },\n{\n            'v': 21,\n            'f': \"21\",\n        },\n{\n            'v': 2,\n            'f': \"2\",\n        }],\n [{\n            'v': 13,\n            'f': \"13\",\n        },\n{\n            'v': 4,\n            'f': \"4\",\n        },\n{\n            'v': 1,\n            'f': \"1\",\n        }],\n [{\n            'v': 13,\n            'f': \"13\",\n        },\n{\n            'v': 27,\n            'f': \"27\",\n        },\n{\n            'v': 1,\n            'f': \"1\",\n        }]],\n        columns: [[\"number\", \"poi1\"], [\"number\", \"poi2\"], [\"number\", \"nbTrans\"]],\n        columnOptions: [],\n        rowsPerPage: 10,\n        helpUrl: \"https://colab.research.google.com/notebooks/data_table.ipynb\",\n        suppressOutputScrolling: true,\n        minimumWidth: undefined,\n      });\n\n      function appendQuickchartButton(parentElement) {\n        let quickchartButtonContainerElement = document.createElement('div');\n        quickchartButtonContainerElement.innerHTML = `\n<div id=\"df-73f5c629-b78f-4e98-b572-15f26d1c86a4\">\n  <button class=\"colab-df-quickchart\" onclick=\"quickchart('df-73f5c629-b78f-4e98-b572-15f26d1c86a4')\"\n            title=\"Suggest charts.\"\n            style=\"display:none;\">\n    \n<svg xmlns=\"http://www.w3.org/2000/svg\" height=\"24px\"viewBox=\"0 0 24 24\"\n     width=\"24px\">\n    <g>\n        <path d=\"M19 3H5c-1.1 0-2 .9-2 2v14c0 1.1.9 2 2 2h14c1.1 0 2-.9 2-2V5c0-1.1-.9-2-2-2zM9 17H7v-7h2v7zm4 0h-2V7h2v10zm4 0h-2v-4h2v4z\"/>\n    </g>\n</svg>\n  </button>\n  \n<style>\n  .colab-df-quickchart {\n      --bg-color: #E8F0FE;\n      --fill-color: #1967D2;\n      --hover-bg-color: #E2EBFA;\n      --hover-fill-color: #174EA6;\n      --disabled-fill-color: #AAA;\n      --disabled-bg-color: #DDD;\n  }\n\n  [theme=dark] .colab-df-quickchart {\n      --bg-color: #3B4455;\n      --fill-color: #D2E3FC;\n      --hover-bg-color: #434B5C;\n      --hover-fill-color: #FFFFFF;\n      --disabled-bg-color: #3B4455;\n      --disabled-fill-color: #666;\n  }\n\n  .colab-df-quickchart {\n    background-color: var(--bg-color);\n    border: none;\n    border-radius: 50%;\n    cursor: pointer;\n    display: none;\n    fill: var(--fill-color);\n    height: 32px;\n    padding: 0;\n    width: 32px;\n  }\n\n  .colab-df-quickchart:hover {\n    background-color: var(--hover-bg-color);\n    box-shadow: 0 1px 2px rgba(60, 64, 67, 0.3), 0 1px 3px 1px rgba(60, 64, 67, 0.15);\n    fill: var(--button-hover-fill-color);\n  }\n\n  .colab-df-quickchart-complete:disabled,\n  .colab-df-quickchart-complete:disabled:hover {\n    background-color: var(--disabled-bg-color);\n    fill: var(--disabled-fill-color);\n    box-shadow: none;\n  }\n\n  .colab-df-spinner {\n    border: 2px solid var(--fill-color);\n    border-color: transparent;\n    border-bottom-color: var(--fill-color);\n    animation:\n      spin 1s steps(1) infinite;\n  }\n\n  @keyframes spin {\n    0% {\n      border-color: transparent;\n      border-bottom-color: var(--fill-color);\n      border-left-color: var(--fill-color);\n    }\n    20% {\n      border-color: transparent;\n      border-left-color: var(--fill-color);\n      border-top-color: var(--fill-color);\n    }\n    30% {\n      border-color: transparent;\n      border-left-color: var(--fill-color);\n      border-top-color: var(--fill-color);\n      border-right-color: var(--fill-color);\n    }\n    40% {\n      border-color: transparent;\n      border-right-color: var(--fill-color);\n      border-top-color: var(--fill-color);\n    }\n    60% {\n      border-color: transparent;\n      border-right-color: var(--fill-color);\n    }\n    80% {\n      border-color: transparent;\n      border-right-color: var(--fill-color);\n      border-bottom-color: var(--fill-color);\n    }\n    90% {\n      border-color: transparent;\n      border-bottom-color: var(--fill-color);\n    }\n  }\n</style>\n\n  <script>\n    async function quickchart(key) {\n      const quickchartButtonEl =\n        document.querySelector('#' + key + ' button');\n      quickchartButtonEl.disabled = true;  // To prevent multiple clicks.\n      quickchartButtonEl.classList.add('colab-df-spinner');\n      try {\n        const charts = await google.colab.kernel.invokeFunction(\n            'suggestCharts', [key], {});\n      } catch (error) {\n        console.error('Error during call to suggestCharts:', error);\n      }\n      quickchartButtonEl.classList.remove('colab-df-spinner');\n      quickchartButtonEl.classList.add('colab-df-quickchart-complete');\n    }\n    (() => {\n      let quickchartButtonEl =\n        document.querySelector('#df-73f5c629-b78f-4e98-b572-15f26d1c86a4 button');\n      quickchartButtonEl.style.display =\n        google.colab.kernel.accessAllowed ? 'block' : 'none';\n    })();\n  </script>\n</div>`;\n        parentElement.appendChild(quickchartButtonContainerElement);\n      }\n\n      appendQuickchartButton(table);\n    ",
            "text/plain": [
              "<google.colab.data_table.DataTable object>"
            ]
          },
          "metadata": {},
          "execution_count": 81
        }
      ]
    },
    {
      "cell_type": "markdown",
      "source": [
        "b) Definir la vue\n",
        "Transition_relative avec des valeurs de transition relatives au nombre total de transition partant d'un POI.\n",
        "\n",
        "Indication: créer une vue donnant le nombre total de transitions par poi."
      ],
      "metadata": {
        "id": "M5-7PFtuU9Oc"
      }
    },
    {
      "cell_type": "code",
      "source": [
        "%%sql\n",
        "create or replace temp view Total_transition as\n",
        "SELECT poi1, sum(nbTrans) as nbTransTot\n",
        "FROM Transition1\n",
        "GROUP BY poi1\n",
        "\n",
        ";\n",
        "\n",
        "cache table Total_transition ;\n",
        "\n",
        "select *\n",
        "from Total_transition\n",
        "order by poi1"
      ],
      "metadata": {
        "id": "PJ90Pm8lR72L",
        "colab": {
          "base_uri": "https://localhost:8080/",
          "height": 347
        },
        "outputId": "e410dcf2-d98d-4ef5-b56f-a77a48321a5c"
      },
      "execution_count": null,
      "outputs": [
        {
          "output_type": "execute_result",
          "data": {
            "text/html": [
              "<div>\n",
              "<style scoped>\n",
              "    .dataframe tbody tr th:only-of-type {\n",
              "        vertical-align: middle;\n",
              "    }\n",
              "\n",
              "    .dataframe tbody tr th {\n",
              "        vertical-align: top;\n",
              "    }\n",
              "\n",
              "    .dataframe thead th {\n",
              "        text-align: right;\n",
              "    }\n",
              "</style>\n",
              "<table border=\"1\" class=\"dataframe\">\n",
              "  <thead>\n",
              "    <tr style=\"text-align: right;\">\n",
              "      <th></th>\n",
              "      <th>poi1</th>\n",
              "      <th>nbTransTot</th>\n",
              "    </tr>\n",
              "  </thead>\n",
              "  <tbody>\n",
              "    <tr>\n",
              "      <th>0</th>\n",
              "      <td>1</td>\n",
              "      <td>45</td>\n",
              "    </tr>\n",
              "    <tr>\n",
              "      <th>1</th>\n",
              "      <td>2</td>\n",
              "      <td>18</td>\n",
              "    </tr>\n",
              "    <tr>\n",
              "      <th>2</th>\n",
              "      <td>3</td>\n",
              "      <td>24</td>\n",
              "    </tr>\n",
              "    <tr>\n",
              "      <th>3</th>\n",
              "      <td>4</td>\n",
              "      <td>61</td>\n",
              "    </tr>\n",
              "    <tr>\n",
              "      <th>4</th>\n",
              "      <td>6</td>\n",
              "      <td>61</td>\n",
              "    </tr>\n",
              "    <tr>\n",
              "      <th>5</th>\n",
              "      <td>7</td>\n",
              "      <td>153</td>\n",
              "    </tr>\n",
              "    <tr>\n",
              "      <th>6</th>\n",
              "      <td>8</td>\n",
              "      <td>93</td>\n",
              "    </tr>\n",
              "    <tr>\n",
              "      <th>7</th>\n",
              "      <td>9</td>\n",
              "      <td>1</td>\n",
              "    </tr>\n",
              "    <tr>\n",
              "      <th>8</th>\n",
              "      <td>10</td>\n",
              "      <td>4</td>\n",
              "    </tr>\n",
              "    <tr>\n",
              "      <th>9</th>\n",
              "      <td>11</td>\n",
              "      <td>68</td>\n",
              "    </tr>\n",
              "    <tr>\n",
              "      <th>10</th>\n",
              "      <td>13</td>\n",
              "      <td>20</td>\n",
              "    </tr>\n",
              "    <tr>\n",
              "      <th>11</th>\n",
              "      <td>14</td>\n",
              "      <td>16</td>\n",
              "    </tr>\n",
              "    <tr>\n",
              "      <th>12</th>\n",
              "      <td>15</td>\n",
              "      <td>8</td>\n",
              "    </tr>\n",
              "    <tr>\n",
              "      <th>13</th>\n",
              "      <td>16</td>\n",
              "      <td>166</td>\n",
              "    </tr>\n",
              "    <tr>\n",
              "      <th>14</th>\n",
              "      <td>17</td>\n",
              "      <td>12</td>\n",
              "    </tr>\n",
              "    <tr>\n",
              "      <th>15</th>\n",
              "      <td>19</td>\n",
              "      <td>12</td>\n",
              "    </tr>\n",
              "    <tr>\n",
              "      <th>16</th>\n",
              "      <td>20</td>\n",
              "      <td>2</td>\n",
              "    </tr>\n",
              "    <tr>\n",
              "      <th>17</th>\n",
              "      <td>21</td>\n",
              "      <td>166</td>\n",
              "    </tr>\n",
              "    <tr>\n",
              "      <th>18</th>\n",
              "      <td>22</td>\n",
              "      <td>211</td>\n",
              "    </tr>\n",
              "    <tr>\n",
              "      <th>19</th>\n",
              "      <td>23</td>\n",
              "      <td>211</td>\n",
              "    </tr>\n",
              "    <tr>\n",
              "      <th>20</th>\n",
              "      <td>24</td>\n",
              "      <td>40</td>\n",
              "    </tr>\n",
              "    <tr>\n",
              "      <th>21</th>\n",
              "      <td>25</td>\n",
              "      <td>41</td>\n",
              "    </tr>\n",
              "    <tr>\n",
              "      <th>22</th>\n",
              "      <td>26</td>\n",
              "      <td>2</td>\n",
              "    </tr>\n",
              "    <tr>\n",
              "      <th>23</th>\n",
              "      <td>27</td>\n",
              "      <td>36</td>\n",
              "    </tr>\n",
              "    <tr>\n",
              "      <th>24</th>\n",
              "      <td>28</td>\n",
              "      <td>166</td>\n",
              "    </tr>\n",
              "    <tr>\n",
              "      <th>25</th>\n",
              "      <td>29</td>\n",
              "      <td>41</td>\n",
              "    </tr>\n",
              "    <tr>\n",
              "      <th>26</th>\n",
              "      <td>30</td>\n",
              "      <td>159</td>\n",
              "    </tr>\n",
              "  </tbody>\n",
              "</table>\n",
              "</div>"
            ],
            "application/vnd.google.colaboratory.module+javascript": "\n      import \"https://ssl.gstatic.com/colaboratory/data_table/881c4a0d49046431/data_table.js\";\n\n      const table = window.createDataTable({\n        data: [[{\n            'v': 1,\n            'f': \"1\",\n        },\n{\n            'v': 45,\n            'f': \"45\",\n        }],\n [{\n            'v': 2,\n            'f': \"2\",\n        },\n{\n            'v': 18,\n            'f': \"18\",\n        }],\n [{\n            'v': 3,\n            'f': \"3\",\n        },\n{\n            'v': 24,\n            'f': \"24\",\n        }],\n [{\n            'v': 4,\n            'f': \"4\",\n        },\n{\n            'v': 61,\n            'f': \"61\",\n        }],\n [{\n            'v': 6,\n            'f': \"6\",\n        },\n{\n            'v': 61,\n            'f': \"61\",\n        }],\n [{\n            'v': 7,\n            'f': \"7\",\n        },\n{\n            'v': 153,\n            'f': \"153\",\n        }],\n [{\n            'v': 8,\n            'f': \"8\",\n        },\n{\n            'v': 93,\n            'f': \"93\",\n        }],\n [{\n            'v': 9,\n            'f': \"9\",\n        },\n{\n            'v': 1,\n            'f': \"1\",\n        }],\n [{\n            'v': 10,\n            'f': \"10\",\n        },\n{\n            'v': 4,\n            'f': \"4\",\n        }],\n [{\n            'v': 11,\n            'f': \"11\",\n        },\n{\n            'v': 68,\n            'f': \"68\",\n        }],\n [{\n            'v': 13,\n            'f': \"13\",\n        },\n{\n            'v': 20,\n            'f': \"20\",\n        }],\n [{\n            'v': 14,\n            'f': \"14\",\n        },\n{\n            'v': 16,\n            'f': \"16\",\n        }],\n [{\n            'v': 15,\n            'f': \"15\",\n        },\n{\n            'v': 8,\n            'f': \"8\",\n        }],\n [{\n            'v': 16,\n            'f': \"16\",\n        },\n{\n            'v': 166,\n            'f': \"166\",\n        }],\n [{\n            'v': 17,\n            'f': \"17\",\n        },\n{\n            'v': 12,\n            'f': \"12\",\n        }],\n [{\n            'v': 19,\n            'f': \"19\",\n        },\n{\n            'v': 12,\n            'f': \"12\",\n        }],\n [{\n            'v': 20,\n            'f': \"20\",\n        },\n{\n            'v': 2,\n            'f': \"2\",\n        }],\n [{\n            'v': 21,\n            'f': \"21\",\n        },\n{\n            'v': 166,\n            'f': \"166\",\n        }],\n [{\n            'v': 22,\n            'f': \"22\",\n        },\n{\n            'v': 211,\n            'f': \"211\",\n        }],\n [{\n            'v': 23,\n            'f': \"23\",\n        },\n{\n            'v': 211,\n            'f': \"211\",\n        }],\n [{\n            'v': 24,\n            'f': \"24\",\n        },\n{\n            'v': 40,\n            'f': \"40\",\n        }],\n [{\n            'v': 25,\n            'f': \"25\",\n        },\n{\n            'v': 41,\n            'f': \"41\",\n        }],\n [{\n            'v': 26,\n            'f': \"26\",\n        },\n{\n            'v': 2,\n            'f': \"2\",\n        }],\n [{\n            'v': 27,\n            'f': \"27\",\n        },\n{\n            'v': 36,\n            'f': \"36\",\n        }],\n [{\n            'v': 28,\n            'f': \"28\",\n        },\n{\n            'v': 166,\n            'f': \"166\",\n        }],\n [{\n            'v': 29,\n            'f': \"29\",\n        },\n{\n            'v': 41,\n            'f': \"41\",\n        }],\n [{\n            'v': 30,\n            'f': \"30\",\n        },\n{\n            'v': 159,\n            'f': \"159\",\n        }]],\n        columns: [[\"number\", \"poi1\"], [\"number\", \"nbTransTot\"]],\n        columnOptions: [],\n        rowsPerPage: 10,\n        helpUrl: \"https://colab.research.google.com/notebooks/data_table.ipynb\",\n        suppressOutputScrolling: true,\n        minimumWidth: undefined,\n      });\n\n      function appendQuickchartButton(parentElement) {\n        let quickchartButtonContainerElement = document.createElement('div');\n        quickchartButtonContainerElement.innerHTML = `\n<div id=\"df-b01621b6-6f0c-4782-a76d-4d74b5275cca\">\n  <button class=\"colab-df-quickchart\" onclick=\"quickchart('df-b01621b6-6f0c-4782-a76d-4d74b5275cca')\"\n            title=\"Suggest charts.\"\n            style=\"display:none;\">\n    \n<svg xmlns=\"http://www.w3.org/2000/svg\" height=\"24px\"viewBox=\"0 0 24 24\"\n     width=\"24px\">\n    <g>\n        <path d=\"M19 3H5c-1.1 0-2 .9-2 2v14c0 1.1.9 2 2 2h14c1.1 0 2-.9 2-2V5c0-1.1-.9-2-2-2zM9 17H7v-7h2v7zm4 0h-2V7h2v10zm4 0h-2v-4h2v4z\"/>\n    </g>\n</svg>\n  </button>\n  \n<style>\n  .colab-df-quickchart {\n      --bg-color: #E8F0FE;\n      --fill-color: #1967D2;\n      --hover-bg-color: #E2EBFA;\n      --hover-fill-color: #174EA6;\n      --disabled-fill-color: #AAA;\n      --disabled-bg-color: #DDD;\n  }\n\n  [theme=dark] .colab-df-quickchart {\n      --bg-color: #3B4455;\n      --fill-color: #D2E3FC;\n      --hover-bg-color: #434B5C;\n      --hover-fill-color: #FFFFFF;\n      --disabled-bg-color: #3B4455;\n      --disabled-fill-color: #666;\n  }\n\n  .colab-df-quickchart {\n    background-color: var(--bg-color);\n    border: none;\n    border-radius: 50%;\n    cursor: pointer;\n    display: none;\n    fill: var(--fill-color);\n    height: 32px;\n    padding: 0;\n    width: 32px;\n  }\n\n  .colab-df-quickchart:hover {\n    background-color: var(--hover-bg-color);\n    box-shadow: 0 1px 2px rgba(60, 64, 67, 0.3), 0 1px 3px 1px rgba(60, 64, 67, 0.15);\n    fill: var(--button-hover-fill-color);\n  }\n\n  .colab-df-quickchart-complete:disabled,\n  .colab-df-quickchart-complete:disabled:hover {\n    background-color: var(--disabled-bg-color);\n    fill: var(--disabled-fill-color);\n    box-shadow: none;\n  }\n\n  .colab-df-spinner {\n    border: 2px solid var(--fill-color);\n    border-color: transparent;\n    border-bottom-color: var(--fill-color);\n    animation:\n      spin 1s steps(1) infinite;\n  }\n\n  @keyframes spin {\n    0% {\n      border-color: transparent;\n      border-bottom-color: var(--fill-color);\n      border-left-color: var(--fill-color);\n    }\n    20% {\n      border-color: transparent;\n      border-left-color: var(--fill-color);\n      border-top-color: var(--fill-color);\n    }\n    30% {\n      border-color: transparent;\n      border-left-color: var(--fill-color);\n      border-top-color: var(--fill-color);\n      border-right-color: var(--fill-color);\n    }\n    40% {\n      border-color: transparent;\n      border-right-color: var(--fill-color);\n      border-top-color: var(--fill-color);\n    }\n    60% {\n      border-color: transparent;\n      border-right-color: var(--fill-color);\n    }\n    80% {\n      border-color: transparent;\n      border-right-color: var(--fill-color);\n      border-bottom-color: var(--fill-color);\n    }\n    90% {\n      border-color: transparent;\n      border-bottom-color: var(--fill-color);\n    }\n  }\n</style>\n\n  <script>\n    async function quickchart(key) {\n      const quickchartButtonEl =\n        document.querySelector('#' + key + ' button');\n      quickchartButtonEl.disabled = true;  // To prevent multiple clicks.\n      quickchartButtonEl.classList.add('colab-df-spinner');\n      try {\n        const charts = await google.colab.kernel.invokeFunction(\n            'suggestCharts', [key], {});\n      } catch (error) {\n        console.error('Error during call to suggestCharts:', error);\n      }\n      quickchartButtonEl.classList.remove('colab-df-spinner');\n      quickchartButtonEl.classList.add('colab-df-quickchart-complete');\n    }\n    (() => {\n      let quickchartButtonEl =\n        document.querySelector('#df-b01621b6-6f0c-4782-a76d-4d74b5275cca button');\n      quickchartButtonEl.style.display =\n        google.colab.kernel.accessAllowed ? 'block' : 'none';\n    })();\n  </script>\n</div>`;\n        parentElement.appendChild(quickchartButtonContainerElement);\n      }\n\n      appendQuickchartButton(table);\n    ",
            "text/plain": [
              "<google.colab.data_table.DataTable object>"
            ]
          },
          "metadata": {},
          "execution_count": 82
        }
      ]
    },
    {
      "cell_type": "code",
      "source": [
        "%%sql\n",
        "create or replace temp view Transition_relative as\n",
        "SELECT T1.poi1, T1.poi2, T1.nbTrans , T1.nbTrans/T2.nbTransTot as nbTransRel\n",
        "FROM Transition1 T1, Total_transition T2\n",
        "WHERE T1.poi1 = T2.poi1\n",
        ";\n",
        "\n",
        "select *\n",
        "from Transition_relative\n",
        "ORDER BY poi1"
      ],
      "metadata": {
        "id": "yED5O5sCVn3R",
        "colab": {
          "base_uri": "https://localhost:8080/",
          "height": 347
        },
        "outputId": "5ec7f885-5c77-4d3a-a4ee-74d3762ba5f6"
      },
      "execution_count": null,
      "outputs": [
        {
          "output_type": "execute_result",
          "data": {
            "text/html": [
              "<div>\n",
              "<style scoped>\n",
              "    .dataframe tbody tr th:only-of-type {\n",
              "        vertical-align: middle;\n",
              "    }\n",
              "\n",
              "    .dataframe tbody tr th {\n",
              "        vertical-align: top;\n",
              "    }\n",
              "\n",
              "    .dataframe thead th {\n",
              "        text-align: right;\n",
              "    }\n",
              "</style>\n",
              "<table border=\"1\" class=\"dataframe\">\n",
              "  <thead>\n",
              "    <tr style=\"text-align: right;\">\n",
              "      <th></th>\n",
              "      <th>poi1</th>\n",
              "      <th>poi2</th>\n",
              "      <th>nbTrans</th>\n",
              "      <th>nbTransRel</th>\n",
              "    </tr>\n",
              "  </thead>\n",
              "  <tbody>\n",
              "    <tr>\n",
              "      <th>0</th>\n",
              "      <td>1</td>\n",
              "      <td>7</td>\n",
              "      <td>5</td>\n",
              "      <td>0.111111</td>\n",
              "    </tr>\n",
              "    <tr>\n",
              "      <th>1</th>\n",
              "      <td>1</td>\n",
              "      <td>24</td>\n",
              "      <td>2</td>\n",
              "      <td>0.044444</td>\n",
              "    </tr>\n",
              "    <tr>\n",
              "      <th>2</th>\n",
              "      <td>1</td>\n",
              "      <td>4</td>\n",
              "      <td>1</td>\n",
              "      <td>0.022222</td>\n",
              "    </tr>\n",
              "    <tr>\n",
              "      <th>3</th>\n",
              "      <td>1</td>\n",
              "      <td>22</td>\n",
              "      <td>3</td>\n",
              "      <td>0.066667</td>\n",
              "    </tr>\n",
              "    <tr>\n",
              "      <th>4</th>\n",
              "      <td>1</td>\n",
              "      <td>30</td>\n",
              "      <td>14</td>\n",
              "      <td>0.311111</td>\n",
              "    </tr>\n",
              "    <tr>\n",
              "      <th>...</th>\n",
              "      <td>...</td>\n",
              "      <td>...</td>\n",
              "      <td>...</td>\n",
              "      <td>...</td>\n",
              "    </tr>\n",
              "    <tr>\n",
              "      <th>95</th>\n",
              "      <td>11</td>\n",
              "      <td>30</td>\n",
              "      <td>2</td>\n",
              "      <td>0.029412</td>\n",
              "    </tr>\n",
              "    <tr>\n",
              "      <th>96</th>\n",
              "      <td>13</td>\n",
              "      <td>16</td>\n",
              "      <td>4</td>\n",
              "      <td>0.200000</td>\n",
              "    </tr>\n",
              "    <tr>\n",
              "      <th>97</th>\n",
              "      <td>13</td>\n",
              "      <td>21</td>\n",
              "      <td>2</td>\n",
              "      <td>0.100000</td>\n",
              "    </tr>\n",
              "    <tr>\n",
              "      <th>98</th>\n",
              "      <td>13</td>\n",
              "      <td>4</td>\n",
              "      <td>1</td>\n",
              "      <td>0.050000</td>\n",
              "    </tr>\n",
              "    <tr>\n",
              "      <th>99</th>\n",
              "      <td>13</td>\n",
              "      <td>27</td>\n",
              "      <td>1</td>\n",
              "      <td>0.050000</td>\n",
              "    </tr>\n",
              "  </tbody>\n",
              "</table>\n",
              "<p>100 rows × 4 columns</p>\n",
              "</div>"
            ],
            "application/vnd.google.colaboratory.module+javascript": "\n      import \"https://ssl.gstatic.com/colaboratory/data_table/881c4a0d49046431/data_table.js\";\n\n      const table = window.createDataTable({\n        data: [[{\n            'v': 1,\n            'f': \"1\",\n        },\n{\n            'v': 7,\n            'f': \"7\",\n        },\n{\n            'v': 5,\n            'f': \"5\",\n        },\n{\n            'v': 0.1111111111111111,\n            'f': \"0.1111111111111111\",\n        }],\n [{\n            'v': 1,\n            'f': \"1\",\n        },\n{\n            'v': 24,\n            'f': \"24\",\n        },\n{\n            'v': 2,\n            'f': \"2\",\n        },\n{\n            'v': 0.044444444444444446,\n            'f': \"0.044444444444444446\",\n        }],\n [{\n            'v': 1,\n            'f': \"1\",\n        },\n{\n            'v': 4,\n            'f': \"4\",\n        },\n{\n            'v': 1,\n            'f': \"1\",\n        },\n{\n            'v': 0.022222222222222223,\n            'f': \"0.022222222222222223\",\n        }],\n [{\n            'v': 1,\n            'f': \"1\",\n        },\n{\n            'v': 22,\n            'f': \"22\",\n        },\n{\n            'v': 3,\n            'f': \"3\",\n        },\n{\n            'v': 0.06666666666666667,\n            'f': \"0.06666666666666667\",\n        }],\n [{\n            'v': 1,\n            'f': \"1\",\n        },\n{\n            'v': 30,\n            'f': \"30\",\n        },\n{\n            'v': 14,\n            'f': \"14\",\n        },\n{\n            'v': 0.3111111111111111,\n            'f': \"0.3111111111111111\",\n        }],\n [{\n            'v': 1,\n            'f': \"1\",\n        },\n{\n            'v': 16,\n            'f': \"16\",\n        },\n{\n            'v': 4,\n            'f': \"4\",\n        },\n{\n            'v': 0.08888888888888889,\n            'f': \"0.08888888888888889\",\n        }],\n [{\n            'v': 1,\n            'f': \"1\",\n        },\n{\n            'v': 19,\n            'f': \"19\",\n        },\n{\n            'v': 1,\n            'f': \"1\",\n        },\n{\n            'v': 0.022222222222222223,\n            'f': \"0.022222222222222223\",\n        }],\n [{\n            'v': 1,\n            'f': \"1\",\n        },\n{\n            'v': 8,\n            'f': \"8\",\n        },\n{\n            'v': 7,\n            'f': \"7\",\n        },\n{\n            'v': 0.15555555555555556,\n            'f': \"0.15555555555555556\",\n        }],\n [{\n            'v': 1,\n            'f': \"1\",\n        },\n{\n            'v': 21,\n            'f': \"21\",\n        },\n{\n            'v': 4,\n            'f': \"4\",\n        },\n{\n            'v': 0.08888888888888889,\n            'f': \"0.08888888888888889\",\n        }],\n [{\n            'v': 1,\n            'f': \"1\",\n        },\n{\n            'v': 23,\n            'f': \"23\",\n        },\n{\n            'v': 1,\n            'f': \"1\",\n        },\n{\n            'v': 0.022222222222222223,\n            'f': \"0.022222222222222223\",\n        }],\n [{\n            'v': 1,\n            'f': \"1\",\n        },\n{\n            'v': 15,\n            'f': \"15\",\n        },\n{\n            'v': 1,\n            'f': \"1\",\n        },\n{\n            'v': 0.022222222222222223,\n            'f': \"0.022222222222222223\",\n        }],\n [{\n            'v': 1,\n            'f': \"1\",\n        },\n{\n            'v': 29,\n            'f': \"29\",\n        },\n{\n            'v': 2,\n            'f': \"2\",\n        },\n{\n            'v': 0.044444444444444446,\n            'f': \"0.044444444444444446\",\n        }],\n [{\n            'v': 2,\n            'f': \"2\",\n        },\n{\n            'v': 14,\n            'f': \"14\",\n        },\n{\n            'v': 5,\n            'f': \"5\",\n        },\n{\n            'v': 0.2777777777777778,\n            'f': \"0.2777777777777778\",\n        }],\n [{\n            'v': 2,\n            'f': \"2\",\n        },\n{\n            'v': 23,\n            'f': \"23\",\n        },\n{\n            'v': 1,\n            'f': \"1\",\n        },\n{\n            'v': 0.05555555555555555,\n            'f': \"0.05555555555555555\",\n        }],\n [{\n            'v': 2,\n            'f': \"2\",\n        },\n{\n            'v': 17,\n            'f': \"17\",\n        },\n{\n            'v': 12,\n            'f': \"12\",\n        },\n{\n            'v': 0.6666666666666666,\n            'f': \"0.6666666666666666\",\n        }],\n [{\n            'v': 3,\n            'f': \"3\",\n        },\n{\n            'v': 22,\n            'f': \"22\",\n        },\n{\n            'v': 1,\n            'f': \"1\",\n        },\n{\n            'v': 0.041666666666666664,\n            'f': \"0.041666666666666664\",\n        }],\n [{\n            'v': 3,\n            'f': \"3\",\n        },\n{\n            'v': 30,\n            'f': \"30\",\n        },\n{\n            'v': 3,\n            'f': \"3\",\n        },\n{\n            'v': 0.125,\n            'f': \"0.125\",\n        }],\n [{\n            'v': 3,\n            'f': \"3\",\n        },\n{\n            'v': 21,\n            'f': \"21\",\n        },\n{\n            'v': 12,\n            'f': \"12\",\n        },\n{\n            'v': 0.5,\n            'f': \"0.5\",\n        }],\n [{\n            'v': 3,\n            'f': \"3\",\n        },\n{\n            'v': 23,\n            'f': \"23\",\n        },\n{\n            'v': 3,\n            'f': \"3\",\n        },\n{\n            'v': 0.125,\n            'f': \"0.125\",\n        }],\n [{\n            'v': 3,\n            'f': \"3\",\n        },\n{\n            'v': 29,\n            'f': \"29\",\n        },\n{\n            'v': 2,\n            'f': \"2\",\n        },\n{\n            'v': 0.08333333333333333,\n            'f': \"0.08333333333333333\",\n        }],\n [{\n            'v': 3,\n            'f': \"3\",\n        },\n{\n            'v': 6,\n            'f': \"6\",\n        },\n{\n            'v': 1,\n            'f': \"1\",\n        },\n{\n            'v': 0.041666666666666664,\n            'f': \"0.041666666666666664\",\n        }],\n [{\n            'v': 3,\n            'f': \"3\",\n        },\n{\n            'v': 4,\n            'f': \"4\",\n        },\n{\n            'v': 1,\n            'f': \"1\",\n        },\n{\n            'v': 0.041666666666666664,\n            'f': \"0.041666666666666664\",\n        }],\n [{\n            'v': 3,\n            'f': \"3\",\n        },\n{\n            'v': 24,\n            'f': \"24\",\n        },\n{\n            'v': 1,\n            'f': \"1\",\n        },\n{\n            'v': 0.041666666666666664,\n            'f': \"0.041666666666666664\",\n        }],\n [{\n            'v': 4,\n            'f': \"4\",\n        },\n{\n            'v': 16,\n            'f': \"16\",\n        },\n{\n            'v': 37,\n            'f': \"37\",\n        },\n{\n            'v': 0.6065573770491803,\n            'f': \"0.6065573770491803\",\n        }],\n [{\n            'v': 4,\n            'f': \"4\",\n        },\n{\n            'v': 8,\n            'f': \"8\",\n        },\n{\n            'v': 5,\n            'f': \"5\",\n        },\n{\n            'v': 0.08196721311475409,\n            'f': \"0.08196721311475409\",\n        }],\n [{\n            'v': 4,\n            'f': \"4\",\n        },\n{\n            'v': 22,\n            'f': \"22\",\n        },\n{\n            'v': 4,\n            'f': \"4\",\n        },\n{\n            'v': 0.06557377049180328,\n            'f': \"0.06557377049180328\",\n        }],\n [{\n            'v': 4,\n            'f': \"4\",\n        },\n{\n            'v': 6,\n            'f': \"6\",\n        },\n{\n            'v': 1,\n            'f': \"1\",\n        },\n{\n            'v': 0.01639344262295082,\n            'f': \"0.01639344262295082\",\n        }],\n [{\n            'v': 4,\n            'f': \"4\",\n        },\n{\n            'v': 1,\n            'f': \"1\",\n        },\n{\n            'v': 2,\n            'f': \"2\",\n        },\n{\n            'v': 0.03278688524590164,\n            'f': \"0.03278688524590164\",\n        }],\n [{\n            'v': 4,\n            'f': \"4\",\n        },\n{\n            'v': 21,\n            'f': \"21\",\n        },\n{\n            'v': 1,\n            'f': \"1\",\n        },\n{\n            'v': 0.01639344262295082,\n            'f': \"0.01639344262295082\",\n        }],\n [{\n            'v': 4,\n            'f': \"4\",\n        },\n{\n            'v': 30,\n            'f': \"30\",\n        },\n{\n            'v': 6,\n            'f': \"6\",\n        },\n{\n            'v': 0.09836065573770492,\n            'f': \"0.09836065573770492\",\n        }],\n [{\n            'v': 4,\n            'f': \"4\",\n        },\n{\n            'v': 10,\n            'f': \"10\",\n        },\n{\n            'v': 1,\n            'f': \"1\",\n        },\n{\n            'v': 0.01639344262295082,\n            'f': \"0.01639344262295082\",\n        }],\n [{\n            'v': 4,\n            'f': \"4\",\n        },\n{\n            'v': 2,\n            'f': \"2\",\n        },\n{\n            'v': 1,\n            'f': \"1\",\n        },\n{\n            'v': 0.01639344262295082,\n            'f': \"0.01639344262295082\",\n        }],\n [{\n            'v': 4,\n            'f': \"4\",\n        },\n{\n            'v': 24,\n            'f': \"24\",\n        },\n{\n            'v': 3,\n            'f': \"3\",\n        },\n{\n            'v': 0.04918032786885246,\n            'f': \"0.04918032786885246\",\n        }],\n [{\n            'v': 6,\n            'f': \"6\",\n        },\n{\n            'v': 27,\n            'f': \"27\",\n        },\n{\n            'v': 1,\n            'f': \"1\",\n        },\n{\n            'v': 0.01639344262295082,\n            'f': \"0.01639344262295082\",\n        }],\n [{\n            'v': 6,\n            'f': \"6\",\n        },\n{\n            'v': 30,\n            'f': \"30\",\n        },\n{\n            'v': 2,\n            'f': \"2\",\n        },\n{\n            'v': 0.03278688524590164,\n            'f': \"0.03278688524590164\",\n        }],\n [{\n            'v': 6,\n            'f': \"6\",\n        },\n{\n            'v': 3,\n            'f': \"3\",\n        },\n{\n            'v': 1,\n            'f': \"1\",\n        },\n{\n            'v': 0.01639344262295082,\n            'f': \"0.01639344262295082\",\n        }],\n [{\n            'v': 6,\n            'f': \"6\",\n        },\n{\n            'v': 13,\n            'f': \"13\",\n        },\n{\n            'v': 1,\n            'f': \"1\",\n        },\n{\n            'v': 0.01639344262295082,\n            'f': \"0.01639344262295082\",\n        }],\n [{\n            'v': 6,\n            'f': \"6\",\n        },\n{\n            'v': 24,\n            'f': \"24\",\n        },\n{\n            'v': 1,\n            'f': \"1\",\n        },\n{\n            'v': 0.01639344262295082,\n            'f': \"0.01639344262295082\",\n        }],\n [{\n            'v': 6,\n            'f': \"6\",\n        },\n{\n            'v': 22,\n            'f': \"22\",\n        },\n{\n            'v': 13,\n            'f': \"13\",\n        },\n{\n            'v': 0.21311475409836064,\n            'f': \"0.21311475409836064\",\n        }],\n [{\n            'v': 6,\n            'f': \"6\",\n        },\n{\n            'v': 29,\n            'f': \"29\",\n        },\n{\n            'v': 2,\n            'f': \"2\",\n        },\n{\n            'v': 0.03278688524590164,\n            'f': \"0.03278688524590164\",\n        }],\n [{\n            'v': 6,\n            'f': \"6\",\n        },\n{\n            'v': 25,\n            'f': \"25\",\n        },\n{\n            'v': 10,\n            'f': \"10\",\n        },\n{\n            'v': 0.16393442622950818,\n            'f': \"0.16393442622950818\",\n        }],\n [{\n            'v': 6,\n            'f': \"6\",\n        },\n{\n            'v': 11,\n            'f': \"11\",\n        },\n{\n            'v': 8,\n            'f': \"8\",\n        },\n{\n            'v': 0.13114754098360656,\n            'f': \"0.13114754098360656\",\n        }],\n [{\n            'v': 6,\n            'f': \"6\",\n        },\n{\n            'v': 21,\n            'f': \"21\",\n        },\n{\n            'v': 8,\n            'f': \"8\",\n        },\n{\n            'v': 0.13114754098360656,\n            'f': \"0.13114754098360656\",\n        }],\n [{\n            'v': 6,\n            'f': \"6\",\n        },\n{\n            'v': 23,\n            'f': \"23\",\n        },\n{\n            'v': 3,\n            'f': \"3\",\n        },\n{\n            'v': 0.04918032786885246,\n            'f': \"0.04918032786885246\",\n        }],\n [{\n            'v': 6,\n            'f': \"6\",\n        },\n{\n            'v': 16,\n            'f': \"16\",\n        },\n{\n            'v': 5,\n            'f': \"5\",\n        },\n{\n            'v': 0.08196721311475409,\n            'f': \"0.08196721311475409\",\n        }],\n [{\n            'v': 6,\n            'f': \"6\",\n        },\n{\n            'v': 4,\n            'f': \"4\",\n        },\n{\n            'v': 1,\n            'f': \"1\",\n        },\n{\n            'v': 0.01639344262295082,\n            'f': \"0.01639344262295082\",\n        }],\n [{\n            'v': 6,\n            'f': \"6\",\n        },\n{\n            'v': 28,\n            'f': \"28\",\n        },\n{\n            'v': 3,\n            'f': \"3\",\n        },\n{\n            'v': 0.04918032786885246,\n            'f': \"0.04918032786885246\",\n        }],\n [{\n            'v': 6,\n            'f': \"6\",\n        },\n{\n            'v': 7,\n            'f': \"7\",\n        },\n{\n            'v': 2,\n            'f': \"2\",\n        },\n{\n            'v': 0.03278688524590164,\n            'f': \"0.03278688524590164\",\n        }],\n [{\n            'v': 7,\n            'f': \"7\",\n        },\n{\n            'v': 4,\n            'f': \"4\",\n        },\n{\n            'v': 1,\n            'f': \"1\",\n        },\n{\n            'v': 0.006535947712418301,\n            'f': \"0.006535947712418301\",\n        }],\n [{\n            'v': 7,\n            'f': \"7\",\n        },\n{\n            'v': 25,\n            'f': \"25\",\n        },\n{\n            'v': 1,\n            'f': \"1\",\n        },\n{\n            'v': 0.006535947712418301,\n            'f': \"0.006535947712418301\",\n        }],\n [{\n            'v': 7,\n            'f': \"7\",\n        },\n{\n            'v': 30,\n            'f': \"30\",\n        },\n{\n            'v': 57,\n            'f': \"57\",\n        },\n{\n            'v': 0.37254901960784315,\n            'f': \"0.37254901960784315\",\n        }],\n [{\n            'v': 7,\n            'f': \"7\",\n        },\n{\n            'v': 23,\n            'f': \"23\",\n        },\n{\n            'v': 15,\n            'f': \"15\",\n        },\n{\n            'v': 0.09803921568627451,\n            'f': \"0.09803921568627451\",\n        }],\n [{\n            'v': 7,\n            'f': \"7\",\n        },\n{\n            'v': 6,\n            'f': \"6\",\n        },\n{\n            'v': 3,\n            'f': \"3\",\n        },\n{\n            'v': 0.0196078431372549,\n            'f': \"0.0196078431372549\",\n        }],\n [{\n            'v': 7,\n            'f': \"7\",\n        },\n{\n            'v': 24,\n            'f': \"24\",\n        },\n{\n            'v': 3,\n            'f': \"3\",\n        },\n{\n            'v': 0.0196078431372549,\n            'f': \"0.0196078431372549\",\n        }],\n [{\n            'v': 7,\n            'f': \"7\",\n        },\n{\n            'v': 19,\n            'f': \"19\",\n        },\n{\n            'v': 1,\n            'f': \"1\",\n        },\n{\n            'v': 0.006535947712418301,\n            'f': \"0.006535947712418301\",\n        }],\n [{\n            'v': 7,\n            'f': \"7\",\n        },\n{\n            'v': 1,\n            'f': \"1\",\n        },\n{\n            'v': 7,\n            'f': \"7\",\n        },\n{\n            'v': 0.0457516339869281,\n            'f': \"0.0457516339869281\",\n        }],\n [{\n            'v': 7,\n            'f': \"7\",\n        },\n{\n            'v': 11,\n            'f': \"11\",\n        },\n{\n            'v': 4,\n            'f': \"4\",\n        },\n{\n            'v': 0.026143790849673203,\n            'f': \"0.026143790849673203\",\n        }],\n [{\n            'v': 7,\n            'f': \"7\",\n        },\n{\n            'v': 21,\n            'f': \"21\",\n        },\n{\n            'v': 14,\n            'f': \"14\",\n        },\n{\n            'v': 0.0915032679738562,\n            'f': \"0.0915032679738562\",\n        }],\n [{\n            'v': 7,\n            'f': \"7\",\n        },\n{\n            'v': 8,\n            'f': \"8\",\n        },\n{\n            'v': 2,\n            'f': \"2\",\n        },\n{\n            'v': 0.013071895424836602,\n            'f': \"0.013071895424836602\",\n        }],\n [{\n            'v': 7,\n            'f': \"7\",\n        },\n{\n            'v': 3,\n            'f': \"3\",\n        },\n{\n            'v': 1,\n            'f': \"1\",\n        },\n{\n            'v': 0.006535947712418301,\n            'f': \"0.006535947712418301\",\n        }],\n [{\n            'v': 7,\n            'f': \"7\",\n        },\n{\n            'v': 16,\n            'f': \"16\",\n        },\n{\n            'v': 12,\n            'f': \"12\",\n        },\n{\n            'v': 0.0784313725490196,\n            'f': \"0.0784313725490196\",\n        }],\n [{\n            'v': 7,\n            'f': \"7\",\n        },\n{\n            'v': 15,\n            'f': \"15\",\n        },\n{\n            'v': 1,\n            'f': \"1\",\n        },\n{\n            'v': 0.006535947712418301,\n            'f': \"0.006535947712418301\",\n        }],\n [{\n            'v': 7,\n            'f': \"7\",\n        },\n{\n            'v': 27,\n            'f': \"27\",\n        },\n{\n            'v': 2,\n            'f': \"2\",\n        },\n{\n            'v': 0.013071895424836602,\n            'f': \"0.013071895424836602\",\n        }],\n [{\n            'v': 7,\n            'f': \"7\",\n        },\n{\n            'v': 13,\n            'f': \"13\",\n        },\n{\n            'v': 1,\n            'f': \"1\",\n        },\n{\n            'v': 0.006535947712418301,\n            'f': \"0.006535947712418301\",\n        }],\n [{\n            'v': 7,\n            'f': \"7\",\n        },\n{\n            'v': 28,\n            'f': \"28\",\n        },\n{\n            'v': 17,\n            'f': \"17\",\n        },\n{\n            'v': 0.1111111111111111,\n            'f': \"0.1111111111111111\",\n        }],\n [{\n            'v': 7,\n            'f': \"7\",\n        },\n{\n            'v': 22,\n            'f': \"22\",\n        },\n{\n            'v': 11,\n            'f': \"11\",\n        },\n{\n            'v': 0.0718954248366013,\n            'f': \"0.0718954248366013\",\n        }],\n [{\n            'v': 8,\n            'f': \"8\",\n        },\n{\n            'v': 24,\n            'f': \"24\",\n        },\n{\n            'v': 4,\n            'f': \"4\",\n        },\n{\n            'v': 0.043010752688172046,\n            'f': \"0.043010752688172046\",\n        }],\n [{\n            'v': 8,\n            'f': \"8\",\n        },\n{\n            'v': 21,\n            'f': \"21\",\n        },\n{\n            'v': 4,\n            'f': \"4\",\n        },\n{\n            'v': 0.043010752688172046,\n            'f': \"0.043010752688172046\",\n        }],\n [{\n            'v': 8,\n            'f': \"8\",\n        },\n{\n            'v': 30,\n            'f': \"30\",\n        },\n{\n            'v': 17,\n            'f': \"17\",\n        },\n{\n            'v': 0.1827956989247312,\n            'f': \"0.1827956989247312\",\n        }],\n [{\n            'v': 8,\n            'f': \"8\",\n        },\n{\n            'v': 7,\n            'f': \"7\",\n        },\n{\n            'v': 4,\n            'f': \"4\",\n        },\n{\n            'v': 0.043010752688172046,\n            'f': \"0.043010752688172046\",\n        }],\n [{\n            'v': 8,\n            'f': \"8\",\n        },\n{\n            'v': 19,\n            'f': \"19\",\n        },\n{\n            'v': 1,\n            'f': \"1\",\n        },\n{\n            'v': 0.010752688172043012,\n            'f': \"0.010752688172043012\",\n        }],\n [{\n            'v': 8,\n            'f': \"8\",\n        },\n{\n            'v': 4,\n            'f': \"4\",\n        },\n{\n            'v': 8,\n            'f': \"8\",\n        },\n{\n            'v': 0.08602150537634409,\n            'f': \"0.08602150537634409\",\n        }],\n [{\n            'v': 8,\n            'f': \"8\",\n        },\n{\n            'v': 23,\n            'f': \"23\",\n        },\n{\n            'v': 3,\n            'f': \"3\",\n        },\n{\n            'v': 0.03225806451612903,\n            'f': \"0.03225806451612903\",\n        }],\n [{\n            'v': 8,\n            'f': \"8\",\n        },\n{\n            'v': 29,\n            'f': \"29\",\n        },\n{\n            'v': 1,\n            'f': \"1\",\n        },\n{\n            'v': 0.010752688172043012,\n            'f': \"0.010752688172043012\",\n        }],\n [{\n            'v': 8,\n            'f': \"8\",\n        },\n{\n            'v': 28,\n            'f': \"28\",\n        },\n{\n            'v': 3,\n            'f': \"3\",\n        },\n{\n            'v': 0.03225806451612903,\n            'f': \"0.03225806451612903\",\n        }],\n [{\n            'v': 8,\n            'f': \"8\",\n        },\n{\n            'v': 16,\n            'f': \"16\",\n        },\n{\n            'v': 41,\n            'f': \"41\",\n        },\n{\n            'v': 0.44086021505376344,\n            'f': \"0.44086021505376344\",\n        }],\n [{\n            'v': 8,\n            'f': \"8\",\n        },\n{\n            'v': 22,\n            'f': \"22\",\n        },\n{\n            'v': 6,\n            'f': \"6\",\n        },\n{\n            'v': 0.06451612903225806,\n            'f': \"0.06451612903225806\",\n        }],\n [{\n            'v': 8,\n            'f': \"8\",\n        },\n{\n            'v': 1,\n            'f': \"1\",\n        },\n{\n            'v': 1,\n            'f': \"1\",\n        },\n{\n            'v': 0.010752688172043012,\n            'f': \"0.010752688172043012\",\n        }],\n [{\n            'v': 9,\n            'f': \"9\",\n        },\n{\n            'v': 11,\n            'f': \"11\",\n        },\n{\n            'v': 1,\n            'f': \"1\",\n        },\n{\n            'v': 1.0,\n            'f': \"1.0\",\n        }],\n [{\n            'v': 10,\n            'f': \"10\",\n        },\n{\n            'v': 1,\n            'f': \"1\",\n        },\n{\n            'v': 1,\n            'f': \"1\",\n        },\n{\n            'v': 0.25,\n            'f': \"0.25\",\n        }],\n [{\n            'v': 10,\n            'f': \"10\",\n        },\n{\n            'v': 21,\n            'f': \"21\",\n        },\n{\n            'v': 3,\n            'f': \"3\",\n        },\n{\n            'v': 0.75,\n            'f': \"0.75\",\n        }],\n [{\n            'v': 11,\n            'f': \"11\",\n        },\n{\n            'v': 27,\n            'f': \"27\",\n        },\n{\n            'v': 26,\n            'f': \"26\",\n        },\n{\n            'v': 0.38235294117647056,\n            'f': \"0.38235294117647056\",\n        }],\n [{\n            'v': 11,\n            'f': \"11\",\n        },\n{\n            'v': 19,\n            'f': \"19\",\n        },\n{\n            'v': 1,\n            'f': \"1\",\n        },\n{\n            'v': 0.014705882352941176,\n            'f': \"0.014705882352941176\",\n        }],\n [{\n            'v': 11,\n            'f': \"11\",\n        },\n{\n            'v': 8,\n            'f': \"8\",\n        },\n{\n            'v': 2,\n            'f': \"2\",\n        },\n{\n            'v': 0.029411764705882353,\n            'f': \"0.029411764705882353\",\n        }],\n [{\n            'v': 11,\n            'f': \"11\",\n        },\n{\n            'v': 7,\n            'f': \"7\",\n        },\n{\n            'v': 2,\n            'f': \"2\",\n        },\n{\n            'v': 0.029411764705882353,\n            'f': \"0.029411764705882353\",\n        }],\n [{\n            'v': 11,\n            'f': \"11\",\n        },\n{\n            'v': 23,\n            'f': \"23\",\n        },\n{\n            'v': 3,\n            'f': \"3\",\n        },\n{\n            'v': 0.04411764705882353,\n            'f': \"0.04411764705882353\",\n        }],\n [{\n            'v': 11,\n            'f': \"11\",\n        },\n{\n            'v': 26,\n            'f': \"26\",\n        },\n{\n            'v': 1,\n            'f': \"1\",\n        },\n{\n            'v': 0.014705882352941176,\n            'f': \"0.014705882352941176\",\n        }],\n [{\n            'v': 11,\n            'f': \"11\",\n        },\n{\n            'v': 6,\n            'f': \"6\",\n        },\n{\n            'v': 1,\n            'f': \"1\",\n        },\n{\n            'v': 0.014705882352941176,\n            'f': \"0.014705882352941176\",\n        }],\n [{\n            'v': 11,\n            'f': \"11\",\n        },\n{\n            'v': 24,\n            'f': \"24\",\n        },\n{\n            'v': 2,\n            'f': \"2\",\n        },\n{\n            'v': 0.029411764705882353,\n            'f': \"0.029411764705882353\",\n        }],\n [{\n            'v': 11,\n            'f': \"11\",\n        },\n{\n            'v': 25,\n            'f': \"25\",\n        },\n{\n            'v': 4,\n            'f': \"4\",\n        },\n{\n            'v': 0.058823529411764705,\n            'f': \"0.058823529411764705\",\n        }],\n [{\n            'v': 11,\n            'f': \"11\",\n        },\n{\n            'v': 13,\n            'f': \"13\",\n        },\n{\n            'v': 2,\n            'f': \"2\",\n        },\n{\n            'v': 0.029411764705882353,\n            'f': \"0.029411764705882353\",\n        }],\n [{\n            'v': 11,\n            'f': \"11\",\n        },\n{\n            'v': 16,\n            'f': \"16\",\n        },\n{\n            'v': 4,\n            'f': \"4\",\n        },\n{\n            'v': 0.058823529411764705,\n            'f': \"0.058823529411764705\",\n        }],\n [{\n            'v': 11,\n            'f': \"11\",\n        },\n{\n            'v': 21,\n            'f': \"21\",\n        },\n{\n            'v': 8,\n            'f': \"8\",\n        },\n{\n            'v': 0.11764705882352941,\n            'f': \"0.11764705882352941\",\n        }],\n [{\n            'v': 11,\n            'f': \"11\",\n        },\n{\n            'v': 22,\n            'f': \"22\",\n        },\n{\n            'v': 2,\n            'f': \"2\",\n        },\n{\n            'v': 0.029411764705882353,\n            'f': \"0.029411764705882353\",\n        }],\n [{\n            'v': 11,\n            'f': \"11\",\n        },\n{\n            'v': 29,\n            'f': \"29\",\n        },\n{\n            'v': 8,\n            'f': \"8\",\n        },\n{\n            'v': 0.11764705882352941,\n            'f': \"0.11764705882352941\",\n        }],\n [{\n            'v': 11,\n            'f': \"11\",\n        },\n{\n            'v': 30,\n            'f': \"30\",\n        },\n{\n            'v': 2,\n            'f': \"2\",\n        },\n{\n            'v': 0.029411764705882353,\n            'f': \"0.029411764705882353\",\n        }],\n [{\n            'v': 13,\n            'f': \"13\",\n        },\n{\n            'v': 16,\n            'f': \"16\",\n        },\n{\n            'v': 4,\n            'f': \"4\",\n        },\n{\n            'v': 0.2,\n            'f': \"0.2\",\n        }],\n [{\n            'v': 13,\n            'f': \"13\",\n        },\n{\n            'v': 21,\n            'f': \"21\",\n        },\n{\n            'v': 2,\n            'f': \"2\",\n        },\n{\n            'v': 0.1,\n            'f': \"0.1\",\n        }],\n [{\n            'v': 13,\n            'f': \"13\",\n        },\n{\n            'v': 4,\n            'f': \"4\",\n        },\n{\n            'v': 1,\n            'f': \"1\",\n        },\n{\n            'v': 0.05,\n            'f': \"0.05\",\n        }],\n [{\n            'v': 13,\n            'f': \"13\",\n        },\n{\n            'v': 27,\n            'f': \"27\",\n        },\n{\n            'v': 1,\n            'f': \"1\",\n        },\n{\n            'v': 0.05,\n            'f': \"0.05\",\n        }]],\n        columns: [[\"number\", \"poi1\"], [\"number\", \"poi2\"], [\"number\", \"nbTrans\"], [\"number\", \"nbTransRel\"]],\n        columnOptions: [],\n        rowsPerPage: 10,\n        helpUrl: \"https://colab.research.google.com/notebooks/data_table.ipynb\",\n        suppressOutputScrolling: true,\n        minimumWidth: undefined,\n      });\n\n      function appendQuickchartButton(parentElement) {\n        let quickchartButtonContainerElement = document.createElement('div');\n        quickchartButtonContainerElement.innerHTML = `\n<div id=\"df-c353b38b-ed83-4755-93fe-49038d19bafa\">\n  <button class=\"colab-df-quickchart\" onclick=\"quickchart('df-c353b38b-ed83-4755-93fe-49038d19bafa')\"\n            title=\"Suggest charts.\"\n            style=\"display:none;\">\n    \n<svg xmlns=\"http://www.w3.org/2000/svg\" height=\"24px\"viewBox=\"0 0 24 24\"\n     width=\"24px\">\n    <g>\n        <path d=\"M19 3H5c-1.1 0-2 .9-2 2v14c0 1.1.9 2 2 2h14c1.1 0 2-.9 2-2V5c0-1.1-.9-2-2-2zM9 17H7v-7h2v7zm4 0h-2V7h2v10zm4 0h-2v-4h2v4z\"/>\n    </g>\n</svg>\n  </button>\n  \n<style>\n  .colab-df-quickchart {\n      --bg-color: #E8F0FE;\n      --fill-color: #1967D2;\n      --hover-bg-color: #E2EBFA;\n      --hover-fill-color: #174EA6;\n      --disabled-fill-color: #AAA;\n      --disabled-bg-color: #DDD;\n  }\n\n  [theme=dark] .colab-df-quickchart {\n      --bg-color: #3B4455;\n      --fill-color: #D2E3FC;\n      --hover-bg-color: #434B5C;\n      --hover-fill-color: #FFFFFF;\n      --disabled-bg-color: #3B4455;\n      --disabled-fill-color: #666;\n  }\n\n  .colab-df-quickchart {\n    background-color: var(--bg-color);\n    border: none;\n    border-radius: 50%;\n    cursor: pointer;\n    display: none;\n    fill: var(--fill-color);\n    height: 32px;\n    padding: 0;\n    width: 32px;\n  }\n\n  .colab-df-quickchart:hover {\n    background-color: var(--hover-bg-color);\n    box-shadow: 0 1px 2px rgba(60, 64, 67, 0.3), 0 1px 3px 1px rgba(60, 64, 67, 0.15);\n    fill: var(--button-hover-fill-color);\n  }\n\n  .colab-df-quickchart-complete:disabled,\n  .colab-df-quickchart-complete:disabled:hover {\n    background-color: var(--disabled-bg-color);\n    fill: var(--disabled-fill-color);\n    box-shadow: none;\n  }\n\n  .colab-df-spinner {\n    border: 2px solid var(--fill-color);\n    border-color: transparent;\n    border-bottom-color: var(--fill-color);\n    animation:\n      spin 1s steps(1) infinite;\n  }\n\n  @keyframes spin {\n    0% {\n      border-color: transparent;\n      border-bottom-color: var(--fill-color);\n      border-left-color: var(--fill-color);\n    }\n    20% {\n      border-color: transparent;\n      border-left-color: var(--fill-color);\n      border-top-color: var(--fill-color);\n    }\n    30% {\n      border-color: transparent;\n      border-left-color: var(--fill-color);\n      border-top-color: var(--fill-color);\n      border-right-color: var(--fill-color);\n    }\n    40% {\n      border-color: transparent;\n      border-right-color: var(--fill-color);\n      border-top-color: var(--fill-color);\n    }\n    60% {\n      border-color: transparent;\n      border-right-color: var(--fill-color);\n    }\n    80% {\n      border-color: transparent;\n      border-right-color: var(--fill-color);\n      border-bottom-color: var(--fill-color);\n    }\n    90% {\n      border-color: transparent;\n      border-bottom-color: var(--fill-color);\n    }\n  }\n</style>\n\n  <script>\n    async function quickchart(key) {\n      const quickchartButtonEl =\n        document.querySelector('#' + key + ' button');\n      quickchartButtonEl.disabled = true;  // To prevent multiple clicks.\n      quickchartButtonEl.classList.add('colab-df-spinner');\n      try {\n        const charts = await google.colab.kernel.invokeFunction(\n            'suggestCharts', [key], {});\n      } catch (error) {\n        console.error('Error during call to suggestCharts:', error);\n      }\n      quickchartButtonEl.classList.remove('colab-df-spinner');\n      quickchartButtonEl.classList.add('colab-df-quickchart-complete');\n    }\n    (() => {\n      let quickchartButtonEl =\n        document.querySelector('#df-c353b38b-ed83-4755-93fe-49038d19bafa button');\n      quickchartButtonEl.style.display =\n        google.colab.kernel.accessAllowed ? 'block' : 'none';\n    })();\n  </script>\n</div>`;\n        parentElement.appendChild(quickchartButtonContainerElement);\n      }\n\n      appendQuickchartButton(table);\n    ",
            "text/plain": [
              "<google.colab.data_table.DataTable object>"
            ]
          },
          "metadata": {},
          "execution_count": 83
        }
      ]
    },
    {
      "cell_type": "markdown",
      "source": [
        "### 6) DuréeVisitePOI\n",
        "La durée moyenne de visite d'un POI.\n",
        "Indication, pour une série d'événements consécutifs associés à un même POI dans une séquence, la durée de visite est la différence de date entre le 1er et le dernier événement."
      ],
      "metadata": {
        "id": "6kCIQcFHHdsE"
      }
    },
    {
      "cell_type": "code",
      "source": [
        "def dureeVisite(liste_couples):\n",
        "  result =[]\n",
        "  d = 1\n",
        "  for i in range(1,len(liste_couples)):\n",
        "    if liste_couples[i][0] == liste_couples[i-1][0] and d==1:\n",
        "      debut = liste_couples[i-1][1]\n",
        "      d+=1\n",
        "    if d != 1 and liste_couples[i][0] != liste_couples[i-1][0]  :\n",
        "      result.append((liste_couples[i-1][0], liste_couples[i-1][1]-debut))\n",
        "      début = 0\n",
        "      d=1\n",
        "    if d != 1 and liste_couples[i] == liste_couples[-1]:\n",
        "      result.append((liste_couples[i][0], liste_couples[i][1]-debut))\n",
        "  return result\n",
        "\n",
        "spark.udf.register(\"dureeVisite\", dureeVisite, ArrayType(StructType([StructField(\"poi\", IntegerType()),StructField(\"duree\", IntegerType())] )))\n",
        "\n",
        "# # test local\n",
        "print(dureeVisite([(102,8), (102,11), (106,14) ,(101,15), (101,17), (102,20), (102,21), (102,24)]))"
      ],
      "metadata": {
        "id": "l_DwInkqbqKw",
        "colab": {
          "base_uri": "https://localhost:8080/"
        },
        "outputId": "b3461031-18df-4780-e07e-a50d1441ff4d"
      },
      "execution_count": null,
      "outputs": [
        {
          "output_type": "stream",
          "name": "stdout",
          "text": [
            "[(102, 3), (101, 2), (102, 4)]\n"
          ]
        }
      ]
    },
    {
      "cell_type": "code",
      "source": [
        "%%sql\n",
        "create or replace temp view DureeVisitePOI as\n",
        "SELECT userID, seqID, nupl.poi as poi, nupl.duree as duree\n",
        "FROM (\n",
        "SELECT userID, seqID, explode(listeDuree) as nupl\n",
        "FROM (\n",
        "SELECT  userID, seqID, dureeVisite(collect_list((poiID,date))) as listeDuree\n",
        "FROM user_visits\n",
        "GROUP BY userID, seqID\n",
        "having size(listeDuree) > 1\n",
        ")\n",
        ")\n",
        ";\n",
        "\n",
        "\n",
        "select *\n",
        "from DureeVisitePOI d\n",
        "order by userID, seqID"
      ],
      "metadata": {
        "id": "woYae_zTO180",
        "colab": {
          "base_uri": "https://localhost:8080/",
          "height": 347
        },
        "outputId": "edc5a5ce-a44d-4eca-a16e-3444b7ac0b26"
      },
      "execution_count": null,
      "outputs": [
        {
          "output_type": "execute_result",
          "data": {
            "text/html": [
              "<div>\n",
              "<style scoped>\n",
              "    .dataframe tbody tr th:only-of-type {\n",
              "        vertical-align: middle;\n",
              "    }\n",
              "\n",
              "    .dataframe tbody tr th {\n",
              "        vertical-align: top;\n",
              "    }\n",
              "\n",
              "    .dataframe thead th {\n",
              "        text-align: right;\n",
              "    }\n",
              "</style>\n",
              "<table border=\"1\" class=\"dataframe\">\n",
              "  <thead>\n",
              "    <tr style=\"text-align: right;\">\n",
              "      <th></th>\n",
              "      <th>userID</th>\n",
              "      <th>seqID</th>\n",
              "      <th>poi</th>\n",
              "      <th>duree</th>\n",
              "    </tr>\n",
              "  </thead>\n",
              "  <tbody>\n",
              "    <tr>\n",
              "      <th>0</th>\n",
              "      <td>10014440@N06</td>\n",
              "      <td>8</td>\n",
              "      <td>23</td>\n",
              "      <td>1615</td>\n",
              "    </tr>\n",
              "    <tr>\n",
              "      <th>1</th>\n",
              "      <td>10014440@N06</td>\n",
              "      <td>8</td>\n",
              "      <td>24</td>\n",
              "      <td>1359</td>\n",
              "    </tr>\n",
              "    <tr>\n",
              "      <th>2</th>\n",
              "      <td>10218635@N06</td>\n",
              "      <td>33</td>\n",
              "      <td>21</td>\n",
              "      <td>0</td>\n",
              "    </tr>\n",
              "    <tr>\n",
              "      <th>3</th>\n",
              "      <td>10218635@N06</td>\n",
              "      <td>33</td>\n",
              "      <td>25</td>\n",
              "      <td>4049</td>\n",
              "    </tr>\n",
              "    <tr>\n",
              "      <th>4</th>\n",
              "      <td>10502709@N05</td>\n",
              "      <td>58</td>\n",
              "      <td>7</td>\n",
              "      <td>5302</td>\n",
              "    </tr>\n",
              "    <tr>\n",
              "      <th>...</th>\n",
              "      <td>...</td>\n",
              "      <td>...</td>\n",
              "      <td>...</td>\n",
              "      <td>...</td>\n",
              "    </tr>\n",
              "    <tr>\n",
              "      <th>95</th>\n",
              "      <td>16125685@N04</td>\n",
              "      <td>512</td>\n",
              "      <td>7</td>\n",
              "      <td>1153</td>\n",
              "    </tr>\n",
              "    <tr>\n",
              "      <th>96</th>\n",
              "      <td>16125685@N04</td>\n",
              "      <td>512</td>\n",
              "      <td>21</td>\n",
              "      <td>1427</td>\n",
              "    </tr>\n",
              "    <tr>\n",
              "      <th>97</th>\n",
              "      <td>16125685@N04</td>\n",
              "      <td>513</td>\n",
              "      <td>23</td>\n",
              "      <td>148</td>\n",
              "    </tr>\n",
              "    <tr>\n",
              "      <th>98</th>\n",
              "      <td>16125685@N04</td>\n",
              "      <td>513</td>\n",
              "      <td>21</td>\n",
              "      <td>6876</td>\n",
              "    </tr>\n",
              "    <tr>\n",
              "      <th>99</th>\n",
              "      <td>16326397@N02</td>\n",
              "      <td>514</td>\n",
              "      <td>16</td>\n",
              "      <td>368</td>\n",
              "    </tr>\n",
              "  </tbody>\n",
              "</table>\n",
              "<p>100 rows × 4 columns</p>\n",
              "</div>"
            ],
            "application/vnd.google.colaboratory.module+javascript": "\n      import \"https://ssl.gstatic.com/colaboratory/data_table/881c4a0d49046431/data_table.js\";\n\n      const table = window.createDataTable({\n        data: [[\"10014440@N06\",\n{\n            'v': 8,\n            'f': \"8\",\n        },\n{\n            'v': 23,\n            'f': \"23\",\n        },\n{\n            'v': 1615,\n            'f': \"1615\",\n        }],\n [\"10014440@N06\",\n{\n            'v': 8,\n            'f': \"8\",\n        },\n{\n            'v': 24,\n            'f': \"24\",\n        },\n{\n            'v': 1359,\n            'f': \"1359\",\n        }],\n [\"10218635@N06\",\n{\n            'v': 33,\n            'f': \"33\",\n        },\n{\n            'v': 21,\n            'f': \"21\",\n        },\n{\n            'v': 0,\n            'f': \"0\",\n        }],\n [\"10218635@N06\",\n{\n            'v': 33,\n            'f': \"33\",\n        },\n{\n            'v': 25,\n            'f': \"25\",\n        },\n{\n            'v': 4049,\n            'f': \"4049\",\n        }],\n [\"10502709@N05\",\n{\n            'v': 58,\n            'f': \"58\",\n        },\n{\n            'v': 7,\n            'f': \"7\",\n        },\n{\n            'v': 5302,\n            'f': \"5302\",\n        }],\n [\"10502709@N05\",\n{\n            'v': 58,\n            'f': \"58\",\n        },\n{\n            'v': 27,\n            'f': \"27\",\n        },\n{\n            'v': 242,\n            'f': \"242\",\n        }],\n [\"10502709@N05\",\n{\n            'v': 59,\n            'f': \"59\",\n        },\n{\n            'v': 11,\n            'f': \"11\",\n        },\n{\n            'v': 106,\n            'f': \"106\",\n        }],\n [\"10502709@N05\",\n{\n            'v': 59,\n            'f': \"59\",\n        },\n{\n            'v': 27,\n            'f': \"27\",\n        },\n{\n            'v': 1354,\n            'f': \"1354\",\n        }],\n [\"10502709@N05\",\n{\n            'v': 67,\n            'f': \"67\",\n        },\n{\n            'v': 28,\n            'f': \"28\",\n        },\n{\n            'v': 7241,\n            'f': \"7241\",\n        }],\n [\"10502709@N05\",\n{\n            'v': 67,\n            'f': \"67\",\n        },\n{\n            'v': 23,\n            'f': \"23\",\n        },\n{\n            'v': 5133,\n            'f': \"5133\",\n        }],\n [\"10502709@N05\",\n{\n            'v': 67,\n            'f': \"67\",\n        },\n{\n            'v': 22,\n            'f': \"22\",\n        },\n{\n            'v': 2164,\n            'f': \"2164\",\n        }],\n [\"10627620@N06\",\n{\n            'v': 100,\n            'f': \"100\",\n        },\n{\n            'v': 21,\n            'f': \"21\",\n        },\n{\n            'v': 186,\n            'f': \"186\",\n        }],\n [\"10627620@N06\",\n{\n            'v': 100,\n            'f': \"100\",\n        },\n{\n            'v': 23,\n            'f': \"23\",\n        },\n{\n            'v': 185,\n            'f': \"185\",\n        }],\n [\"10627620@N06\",\n{\n            'v': 100,\n            'f': \"100\",\n        },\n{\n            'v': 30,\n            'f': \"30\",\n        },\n{\n            'v': 3306,\n            'f': \"3306\",\n        }],\n [\"10627620@N06\",\n{\n            'v': 103,\n            'f': \"103\",\n        },\n{\n            'v': 30,\n            'f': \"30\",\n        },\n{\n            'v': 178,\n            'f': \"178\",\n        }],\n [\"10627620@N06\",\n{\n            'v': 103,\n            'f': \"103\",\n        },\n{\n            'v': 7,\n            'f': \"7\",\n        },\n{\n            'v': 434,\n            'f': \"434\",\n        }],\n [\"10627620@N06\",\n{\n            'v': 103,\n            'f': \"103\",\n        },\n{\n            'v': 30,\n            'f': \"30\",\n        },\n{\n            'v': 526,\n            'f': \"526\",\n        }],\n [\"10627620@N06\",\n{\n            'v': 111,\n            'f': \"111\",\n        },\n{\n            'v': 30,\n            'f': \"30\",\n        },\n{\n            'v': 185,\n            'f': \"185\",\n        }],\n [\"10627620@N06\",\n{\n            'v': 111,\n            'f': \"111\",\n        },\n{\n            'v': 1,\n            'f': \"1\",\n        },\n{\n            'v': 1723,\n            'f': \"1723\",\n        }],\n [\"10627620@N06\",\n{\n            'v': 113,\n            'f': \"113\",\n        },\n{\n            'v': 7,\n            'f': \"7\",\n        },\n{\n            'v': 85,\n            'f': \"85\",\n        }],\n [\"10627620@N06\",\n{\n            'v': 113,\n            'f': \"113\",\n        },\n{\n            'v': 30,\n            'f': \"30\",\n        },\n{\n            'v': 62,\n            'f': \"62\",\n        }],\n [\"11090433@N05\",\n{\n            'v': 139,\n            'f': \"139\",\n        },\n{\n            'v': 3,\n            'f': \"3\",\n        },\n{\n            'v': 261,\n            'f': \"261\",\n        }],\n [\"11090433@N05\",\n{\n            'v': 139,\n            'f': \"139\",\n        },\n{\n            'v': 23,\n            'f': \"23\",\n        },\n{\n            'v': 145,\n            'f': \"145\",\n        }],\n [\"11090433@N05\",\n{\n            'v': 139,\n            'f': \"139\",\n        },\n{\n            'v': 22,\n            'f': \"22\",\n        },\n{\n            'v': 346,\n            'f': \"346\",\n        }],\n [\"11090433@N05\",\n{\n            'v': 139,\n            'f': \"139\",\n        },\n{\n            'v': 30,\n            'f': \"30\",\n        },\n{\n            'v': 21649,\n            'f': \"21649\",\n        }],\n [\"11191102@N07\",\n{\n            'v': 155,\n            'f': \"155\",\n        },\n{\n            'v': 16,\n            'f': \"16\",\n        },\n{\n            'v': 1105,\n            'f': \"1105\",\n        }],\n [\"11191102@N07\",\n{\n            'v': 155,\n            'f': \"155\",\n        },\n{\n            'v': 22,\n            'f': \"22\",\n        },\n{\n            'v': 391,\n            'f': \"391\",\n        }],\n [\"11191102@N07\",\n{\n            'v': 157,\n            'f': \"157\",\n        },\n{\n            'v': 27,\n            'f': \"27\",\n        },\n{\n            'v': 2488,\n            'f': \"2488\",\n        }],\n [\"11191102@N07\",\n{\n            'v': 157,\n            'f': \"157\",\n        },\n{\n            'v': 27,\n            'f': \"27\",\n        },\n{\n            'v': 3488,\n            'f': \"3488\",\n        }],\n [\"11191102@N07\",\n{\n            'v': 162,\n            'f': \"162\",\n        },\n{\n            'v': 7,\n            'f': \"7\",\n        },\n{\n            'v': 639,\n            'f': \"639\",\n        }],\n [\"11191102@N07\",\n{\n            'v': 162,\n            'f': \"162\",\n        },\n{\n            'v': 22,\n            'f': \"22\",\n        },\n{\n            'v': 1215,\n            'f': \"1215\",\n        }],\n [\"11191102@N07\",\n{\n            'v': 164,\n            'f': \"164\",\n        },\n{\n            'v': 29,\n            'f': \"29\",\n        },\n{\n            'v': 1225,\n            'f': \"1225\",\n        }],\n [\"11191102@N07\",\n{\n            'v': 164,\n            'f': \"164\",\n        },\n{\n            'v': 11,\n            'f': \"11\",\n        },\n{\n            'v': 160,\n            'f': \"160\",\n        }],\n [\"11241023@N03\",\n{\n            'v': 166,\n            'f': \"166\",\n        },\n{\n            'v': 7,\n            'f': \"7\",\n        },\n{\n            'v': 3197,\n            'f': \"3197\",\n        }],\n [\"11241023@N03\",\n{\n            'v': 166,\n            'f': \"166\",\n        },\n{\n            'v': 22,\n            'f': \"22\",\n        },\n{\n            'v': 14,\n            'f': \"14\",\n        }],\n [\"11241023@N03\",\n{\n            'v': 166,\n            'f': \"166\",\n        },\n{\n            'v': 28,\n            'f': \"28\",\n        },\n{\n            'v': 4183,\n            'f': \"4183\",\n        }],\n [\"11463621@N03\",\n{\n            'v': 187,\n            'f': \"187\",\n        },\n{\n            'v': 22,\n            'f': \"22\",\n        },\n{\n            'v': 2,\n            'f': \"2\",\n        }],\n [\"11463621@N03\",\n{\n            'v': 187,\n            'f': \"187\",\n        },\n{\n            'v': 22,\n            'f': \"22\",\n        },\n{\n            'v': 2,\n            'f': \"2\",\n        }],\n [\"11463621@N03\",\n{\n            'v': 187,\n            'f': \"187\",\n        },\n{\n            'v': 22,\n            'f': \"22\",\n        },\n{\n            'v': 2,\n            'f': \"2\",\n        }],\n [\"12316147@N05\",\n{\n            'v': 230,\n            'f': \"230\",\n        },\n{\n            'v': 16,\n            'f': \"16\",\n        },\n{\n            'v': 1870,\n            'f': \"1870\",\n        }],\n [\"12316147@N05\",\n{\n            'v': 230,\n            'f': \"230\",\n        },\n{\n            'v': 8,\n            'f': \"8\",\n        },\n{\n            'v': 2922,\n            'f': \"2922\",\n        }],\n [\"12316147@N05\",\n{\n            'v': 232,\n            'f': \"232\",\n        },\n{\n            'v': 14,\n            'f': \"14\",\n        },\n{\n            'v': 991,\n            'f': \"991\",\n        }],\n [\"12316147@N05\",\n{\n            'v': 232,\n            'f': \"232\",\n        },\n{\n            'v': 2,\n            'f': \"2\",\n        },\n{\n            'v': 2440,\n            'f': \"2440\",\n        }],\n [\"12316147@N05\",\n{\n            'v': 236,\n            'f': \"236\",\n        },\n{\n            'v': 16,\n            'f': \"16\",\n        },\n{\n            'v': 4577,\n            'f': \"4577\",\n        }],\n [\"12316147@N05\",\n{\n            'v': 236,\n            'f': \"236\",\n        },\n{\n            'v': 8,\n            'f': \"8\",\n        },\n{\n            'v': 3251,\n            'f': \"3251\",\n        }],\n [\"12641532@N00\",\n{\n            'v': 253,\n            'f': \"253\",\n        },\n{\n            'v': 24,\n            'f': \"24\",\n        },\n{\n            'v': 1508,\n            'f': \"1508\",\n        }],\n [\"12641532@N00\",\n{\n            'v': 253,\n            'f': \"253\",\n        },\n{\n            'v': 11,\n            'f': \"11\",\n        },\n{\n            'v': 172,\n            'f': \"172\",\n        }],\n [\"12693966@N07\",\n{\n            'v': 256,\n            'f': \"256\",\n        },\n{\n            'v': 7,\n            'f': \"7\",\n        },\n{\n            'v': 317,\n            'f': \"317\",\n        }],\n [\"12693966@N07\",\n{\n            'v': 256,\n            'f': \"256\",\n        },\n{\n            'v': 16,\n            'f': \"16\",\n        },\n{\n            'v': 10241,\n            'f': \"10241\",\n        }],\n [\"13453601@N03\",\n{\n            'v': 291,\n            'f': \"291\",\n        },\n{\n            'v': 11,\n            'f': \"11\",\n        },\n{\n            'v': 4289,\n            'f': \"4289\",\n        }],\n [\"13453601@N03\",\n{\n            'v': 291,\n            'f': \"291\",\n        },\n{\n            'v': 27,\n            'f': \"27\",\n        },\n{\n            'v': 158,\n            'f': \"158\",\n        }],\n [\"13644648@N03\",\n{\n            'v': 298,\n            'f': \"298\",\n        },\n{\n            'v': 22,\n            'f': \"22\",\n        },\n{\n            'v': 0,\n            'f': \"0\",\n        }],\n [\"13644648@N03\",\n{\n            'v': 298,\n            'f': \"298\",\n        },\n{\n            'v': 7,\n            'f': \"7\",\n        },\n{\n            'v': 1,\n            'f': \"1\",\n        }],\n [\"13644648@N03\",\n{\n            'v': 298,\n            'f': \"298\",\n        },\n{\n            'v': 28,\n            'f': \"28\",\n        },\n{\n            'v': 1,\n            'f': \"1\",\n        }],\n [\"13644648@N03\",\n{\n            'v': 298,\n            'f': \"298\",\n        },\n{\n            'v': 30,\n            'f': \"30\",\n        },\n{\n            'v': 2,\n            'f': \"2\",\n        }],\n [\"13644648@N03\",\n{\n            'v': 298,\n            'f': \"298\",\n        },\n{\n            'v': 28,\n            'f': \"28\",\n        },\n{\n            'v': 0,\n            'f': \"0\",\n        }],\n [\"13644648@N03\",\n{\n            'v': 298,\n            'f': \"298\",\n        },\n{\n            'v': 30,\n            'f': \"30\",\n        },\n{\n            'v': 0,\n            'f': \"0\",\n        }],\n [\"13644648@N03\",\n{\n            'v': 298,\n            'f': \"298\",\n        },\n{\n            'v': 4,\n            'f': \"4\",\n        },\n{\n            'v': 0,\n            'f': \"0\",\n        }],\n [\"13672753@N00\",\n{\n            'v': 302,\n            'f': \"302\",\n        },\n{\n            'v': 8,\n            'f': \"8\",\n        },\n{\n            'v': 237,\n            'f': \"237\",\n        }],\n [\"13672753@N00\",\n{\n            'v': 302,\n            'f': \"302\",\n        },\n{\n            'v': 16,\n            'f': \"16\",\n        },\n{\n            'v': 3272,\n            'f': \"3272\",\n        }],\n [\"13672753@N00\",\n{\n            'v': 302,\n            'f': \"302\",\n        },\n{\n            'v': 22,\n            'f': \"22\",\n        },\n{\n            'v': 78,\n            'f': \"78\",\n        }],\n [\"13907834@N00\",\n{\n            'v': 313,\n            'f': \"313\",\n        },\n{\n            'v': 16,\n            'f': \"16\",\n        },\n{\n            'v': 1,\n            'f': \"1\",\n        }],\n [\"13907834@N00\",\n{\n            'v': 313,\n            'f': \"313\",\n        },\n{\n            'v': 16,\n            'f': \"16\",\n        },\n{\n            'v': 1,\n            'f': \"1\",\n        }],\n [\"13907834@N00\",\n{\n            'v': 315,\n            'f': \"315\",\n        },\n{\n            'v': 16,\n            'f': \"16\",\n        },\n{\n            'v': 5794,\n            'f': \"5794\",\n        }],\n [\"13907834@N00\",\n{\n            'v': 315,\n            'f': \"315\",\n        },\n{\n            'v': 8,\n            'f': \"8\",\n        },\n{\n            'v': 655,\n            'f': \"655\",\n        }],\n [\"14036428@N00\",\n{\n            'v': 336,\n            'f': \"336\",\n        },\n{\n            'v': 19,\n            'f': \"19\",\n        },\n{\n            'v': 1753,\n            'f': \"1753\",\n        }],\n [\"14036428@N00\",\n{\n            'v': 336,\n            'f': \"336\",\n        },\n{\n            'v': 15,\n            'f': \"15\",\n        },\n{\n            'v': 139,\n            'f': \"139\",\n        }],\n [\"14391210@N00\",\n{\n            'v': 379,\n            'f': \"379\",\n        },\n{\n            'v': 22,\n            'f': \"22\",\n        },\n{\n            'v': 991,\n            'f': \"991\",\n        }],\n [\"14391210@N00\",\n{\n            'v': 379,\n            'f': \"379\",\n        },\n{\n            'v': 6,\n            'f': \"6\",\n        },\n{\n            'v': 329,\n            'f': \"329\",\n        }],\n [\"14391210@N00\",\n{\n            'v': 380,\n            'f': \"380\",\n        },\n{\n            'v': 28,\n            'f': \"28\",\n        },\n{\n            'v': 19,\n            'f': \"19\",\n        }],\n [\"14391210@N00\",\n{\n            'v': 380,\n            'f': \"380\",\n        },\n{\n            'v': 23,\n            'f': \"23\",\n        },\n{\n            'v': 82,\n            'f': \"82\",\n        }],\n [\"14617133@N05\",\n{\n            'v': 384,\n            'f': \"384\",\n        },\n{\n            'v': 22,\n            'f': \"22\",\n        },\n{\n            'v': 1764,\n            'f': \"1764\",\n        }],\n [\"14617133@N05\",\n{\n            'v': 384,\n            'f': \"384\",\n        },\n{\n            'v': 22,\n            'f': \"22\",\n        },\n{\n            'v': 23,\n            'f': \"23\",\n        }],\n [\"14617133@N05\",\n{\n            'v': 384,\n            'f': \"384\",\n        },\n{\n            'v': 28,\n            'f': \"28\",\n        },\n{\n            'v': 778,\n            'f': \"778\",\n        }],\n [\"14718163@N08\",\n{\n            'v': 390,\n            'f': \"390\",\n        },\n{\n            'v': 21,\n            'f': \"21\",\n        },\n{\n            'v': 0,\n            'f': \"0\",\n        }],\n [\"14718163@N08\",\n{\n            'v': 390,\n            'f': \"390\",\n        },\n{\n            'v': 21,\n            'f': \"21\",\n        },\n{\n            'v': 0,\n            'f': \"0\",\n        }],\n [\"14878709@N00\",\n{\n            'v': 453,\n            'f': \"453\",\n        },\n{\n            'v': 28,\n            'f': \"28\",\n        },\n{\n            'v': 177,\n            'f': \"177\",\n        }],\n [\"14878709@N00\",\n{\n            'v': 453,\n            'f': \"453\",\n        },\n{\n            'v': 16,\n            'f': \"16\",\n        },\n{\n            'v': 18352,\n            'f': \"18352\",\n        }],\n [\"14878709@N00\",\n{\n            'v': 454,\n            'f': \"454\",\n        },\n{\n            'v': 21,\n            'f': \"21\",\n        },\n{\n            'v': 157,\n            'f': \"157\",\n        }],\n [\"14878709@N00\",\n{\n            'v': 454,\n            'f': \"454\",\n        },\n{\n            'v': 23,\n            'f': \"23\",\n        },\n{\n            'v': 6,\n            'f': \"6\",\n        }],\n [\"14878709@N00\",\n{\n            'v': 454,\n            'f': \"454\",\n        },\n{\n            'v': 16,\n            'f': \"16\",\n        },\n{\n            'v': 501,\n            'f': \"501\",\n        }],\n [\"14878709@N00\",\n{\n            'v': 454,\n            'f': \"454\",\n        },\n{\n            'v': 8,\n            'f': \"8\",\n        },\n{\n            'v': 201,\n            'f': \"201\",\n        }],\n [\"14878709@N00\",\n{\n            'v': 454,\n            'f': \"454\",\n        },\n{\n            'v': 16,\n            'f': \"16\",\n        },\n{\n            'v': 9792,\n            'f': \"9792\",\n        }],\n [\"14878709@N00\",\n{\n            'v': 454,\n            'f': \"454\",\n        },\n{\n            'v': 8,\n            'f': \"8\",\n        },\n{\n            'v': 66,\n            'f': \"66\",\n        }],\n [\"14878709@N00\",\n{\n            'v': 454,\n            'f': \"454\",\n        },\n{\n            'v': 16,\n            'f': \"16\",\n        },\n{\n            'v': 17,\n            'f': \"17\",\n        }],\n [\"14878709@N00\",\n{\n            'v': 454,\n            'f': \"454\",\n        },\n{\n            'v': 28,\n            'f': \"28\",\n        },\n{\n            'v': 203,\n            'f': \"203\",\n        }],\n [\"14878709@N00\",\n{\n            'v': 454,\n            'f': \"454\",\n        },\n{\n            'v': 23,\n            'f': \"23\",\n        },\n{\n            'v': 2113,\n            'f': \"2113\",\n        }],\n [\"14878709@N00\",\n{\n            'v': 454,\n            'f': \"454\",\n        },\n{\n            'v': 27,\n            'f': \"27\",\n        },\n{\n            'v': 32,\n            'f': \"32\",\n        }],\n [\"15205252@N00\",\n{\n            'v': 472,\n            'f': \"472\",\n        },\n{\n            'v': 2,\n            'f': \"2\",\n        },\n{\n            'v': 40,\n            'f': \"40\",\n        }],\n [\"15205252@N00\",\n{\n            'v': 472,\n            'f': \"472\",\n        },\n{\n            'v': 14,\n            'f': \"14\",\n        },\n{\n            'v': 749,\n            'f': \"749\",\n        }],\n [\"16048448@N00\",\n{\n            'v': 510,\n            'f': \"510\",\n        },\n{\n            'v': 28,\n            'f': \"28\",\n        },\n{\n            'v': 241,\n            'f': \"241\",\n        }],\n [\"16048448@N00\",\n{\n            'v': 510,\n            'f': \"510\",\n        },\n{\n            'v': 22,\n            'f': \"22\",\n        },\n{\n            'v': 285,\n            'f': \"285\",\n        }],\n [\"16048448@N00\",\n{\n            'v': 510,\n            'f': \"510\",\n        },\n{\n            'v': 29,\n            'f': \"29\",\n        },\n{\n            'v': 400,\n            'f': \"400\",\n        }],\n [\"16048448@N00\",\n{\n            'v': 510,\n            'f': \"510\",\n        },\n{\n            'v': 16,\n            'f': \"16\",\n        },\n{\n            'v': 3647,\n            'f': \"3647\",\n        }],\n [\"16048448@N00\",\n{\n            'v': 510,\n            'f': \"510\",\n        },\n{\n            'v': 21,\n            'f': \"21\",\n        },\n{\n            'v': 9,\n            'f': \"9\",\n        }],\n [\"16125685@N04\",\n{\n            'v': 512,\n            'f': \"512\",\n        },\n{\n            'v': 7,\n            'f': \"7\",\n        },\n{\n            'v': 1153,\n            'f': \"1153\",\n        }],\n [\"16125685@N04\",\n{\n            'v': 512,\n            'f': \"512\",\n        },\n{\n            'v': 21,\n            'f': \"21\",\n        },\n{\n            'v': 1427,\n            'f': \"1427\",\n        }],\n [\"16125685@N04\",\n{\n            'v': 513,\n            'f': \"513\",\n        },\n{\n            'v': 23,\n            'f': \"23\",\n        },\n{\n            'v': 148,\n            'f': \"148\",\n        }],\n [\"16125685@N04\",\n{\n            'v': 513,\n            'f': \"513\",\n        },\n{\n            'v': 21,\n            'f': \"21\",\n        },\n{\n            'v': 6876,\n            'f': \"6876\",\n        }],\n [\"16326397@N02\",\n{\n            'v': 514,\n            'f': \"514\",\n        },\n{\n            'v': 16,\n            'f': \"16\",\n        },\n{\n            'v': 368,\n            'f': \"368\",\n        }]],\n        columns: [[\"string\", \"userID\"], [\"number\", \"seqID\"], [\"number\", \"poi\"], [\"number\", \"duree\"]],\n        columnOptions: [],\n        rowsPerPage: 10,\n        helpUrl: \"https://colab.research.google.com/notebooks/data_table.ipynb\",\n        suppressOutputScrolling: true,\n        minimumWidth: undefined,\n      });\n\n      function appendQuickchartButton(parentElement) {\n        let quickchartButtonContainerElement = document.createElement('div');\n        quickchartButtonContainerElement.innerHTML = `\n<div id=\"df-9f8d8b36-ee7f-42d7-8d08-480c39027812\">\n  <button class=\"colab-df-quickchart\" onclick=\"quickchart('df-9f8d8b36-ee7f-42d7-8d08-480c39027812')\"\n            title=\"Suggest charts.\"\n            style=\"display:none;\">\n    \n<svg xmlns=\"http://www.w3.org/2000/svg\" height=\"24px\"viewBox=\"0 0 24 24\"\n     width=\"24px\">\n    <g>\n        <path d=\"M19 3H5c-1.1 0-2 .9-2 2v14c0 1.1.9 2 2 2h14c1.1 0 2-.9 2-2V5c0-1.1-.9-2-2-2zM9 17H7v-7h2v7zm4 0h-2V7h2v10zm4 0h-2v-4h2v4z\"/>\n    </g>\n</svg>\n  </button>\n  \n<style>\n  .colab-df-quickchart {\n      --bg-color: #E8F0FE;\n      --fill-color: #1967D2;\n      --hover-bg-color: #E2EBFA;\n      --hover-fill-color: #174EA6;\n      --disabled-fill-color: #AAA;\n      --disabled-bg-color: #DDD;\n  }\n\n  [theme=dark] .colab-df-quickchart {\n      --bg-color: #3B4455;\n      --fill-color: #D2E3FC;\n      --hover-bg-color: #434B5C;\n      --hover-fill-color: #FFFFFF;\n      --disabled-bg-color: #3B4455;\n      --disabled-fill-color: #666;\n  }\n\n  .colab-df-quickchart {\n    background-color: var(--bg-color);\n    border: none;\n    border-radius: 50%;\n    cursor: pointer;\n    display: none;\n    fill: var(--fill-color);\n    height: 32px;\n    padding: 0;\n    width: 32px;\n  }\n\n  .colab-df-quickchart:hover {\n    background-color: var(--hover-bg-color);\n    box-shadow: 0 1px 2px rgba(60, 64, 67, 0.3), 0 1px 3px 1px rgba(60, 64, 67, 0.15);\n    fill: var(--button-hover-fill-color);\n  }\n\n  .colab-df-quickchart-complete:disabled,\n  .colab-df-quickchart-complete:disabled:hover {\n    background-color: var(--disabled-bg-color);\n    fill: var(--disabled-fill-color);\n    box-shadow: none;\n  }\n\n  .colab-df-spinner {\n    border: 2px solid var(--fill-color);\n    border-color: transparent;\n    border-bottom-color: var(--fill-color);\n    animation:\n      spin 1s steps(1) infinite;\n  }\n\n  @keyframes spin {\n    0% {\n      border-color: transparent;\n      border-bottom-color: var(--fill-color);\n      border-left-color: var(--fill-color);\n    }\n    20% {\n      border-color: transparent;\n      border-left-color: var(--fill-color);\n      border-top-color: var(--fill-color);\n    }\n    30% {\n      border-color: transparent;\n      border-left-color: var(--fill-color);\n      border-top-color: var(--fill-color);\n      border-right-color: var(--fill-color);\n    }\n    40% {\n      border-color: transparent;\n      border-right-color: var(--fill-color);\n      border-top-color: var(--fill-color);\n    }\n    60% {\n      border-color: transparent;\n      border-right-color: var(--fill-color);\n    }\n    80% {\n      border-color: transparent;\n      border-right-color: var(--fill-color);\n      border-bottom-color: var(--fill-color);\n    }\n    90% {\n      border-color: transparent;\n      border-bottom-color: var(--fill-color);\n    }\n  }\n</style>\n\n  <script>\n    async function quickchart(key) {\n      const quickchartButtonEl =\n        document.querySelector('#' + key + ' button');\n      quickchartButtonEl.disabled = true;  // To prevent multiple clicks.\n      quickchartButtonEl.classList.add('colab-df-spinner');\n      try {\n        const charts = await google.colab.kernel.invokeFunction(\n            'suggestCharts', [key], {});\n      } catch (error) {\n        console.error('Error during call to suggestCharts:', error);\n      }\n      quickchartButtonEl.classList.remove('colab-df-spinner');\n      quickchartButtonEl.classList.add('colab-df-quickchart-complete');\n    }\n    (() => {\n      let quickchartButtonEl =\n        document.querySelector('#df-9f8d8b36-ee7f-42d7-8d08-480c39027812 button');\n      quickchartButtonEl.style.display =\n        google.colab.kernel.accessAllowed ? 'block' : 'none';\n    })();\n  </script>\n</div>`;\n        parentElement.appendChild(quickchartButtonContainerElement);\n      }\n\n      appendQuickchartButton(table);\n    ",
            "text/plain": [
              "<google.colab.data_table.DataTable object>"
            ]
          },
          "metadata": {},
          "execution_count": 85
        }
      ]
    },
    {
      "cell_type": "code",
      "source": [
        "%%sql\n",
        "create or replace temp view DureeVisitePOI as\n",
        "SELECT userID, seqID, nupl.poi as poi, nupl.duree as duree\n",
        "FROM (\n",
        "SELECT userID, seqID, explode(listeDuree) as nupl\n",
        "FROM (\n",
        "SELECT userID, seqID, dureeVisite(collect_list((poiID,jour*60*24+heure*60+minutes))) as listeDuree\n",
        "FROM Visite_Date\n",
        "GROUP BY userID, seqID\n",
        "having size(listeDuree) >=1\n",
        "order by userID, seqID\n",
        ")\n",
        ")\n",
        ";\n",
        "\n",
        "select *\n",
        "from DureeVisitePOI d\n",
        "order by userID, seqID"
      ],
      "metadata": {
        "colab": {
          "base_uri": "https://localhost:8080/",
          "height": 347
        },
        "id": "2U5xm4EeviPo",
        "outputId": "5dbcba61-d065-4d77-c3ef-6fb8f0315b54"
      },
      "execution_count": null,
      "outputs": [
        {
          "output_type": "execute_result",
          "data": {
            "text/html": [
              "<div>\n",
              "<style scoped>\n",
              "    .dataframe tbody tr th:only-of-type {\n",
              "        vertical-align: middle;\n",
              "    }\n",
              "\n",
              "    .dataframe tbody tr th {\n",
              "        vertical-align: top;\n",
              "    }\n",
              "\n",
              "    .dataframe thead th {\n",
              "        text-align: right;\n",
              "    }\n",
              "</style>\n",
              "<table border=\"1\" class=\"dataframe\">\n",
              "  <thead>\n",
              "    <tr style=\"text-align: right;\">\n",
              "      <th></th>\n",
              "      <th>userID</th>\n",
              "      <th>seqID</th>\n",
              "      <th>poi</th>\n",
              "      <th>duree</th>\n",
              "    </tr>\n",
              "  </thead>\n",
              "  <tbody>\n",
              "    <tr>\n",
              "      <th>0</th>\n",
              "      <td>10012675@N05</td>\n",
              "      <td>2</td>\n",
              "      <td>6</td>\n",
              "      <td>10</td>\n",
              "    </tr>\n",
              "    <tr>\n",
              "      <th>1</th>\n",
              "      <td>10012675@N05</td>\n",
              "      <td>4</td>\n",
              "      <td>13</td>\n",
              "      <td>94</td>\n",
              "    </tr>\n",
              "    <tr>\n",
              "      <th>2</th>\n",
              "      <td>10014440@N06</td>\n",
              "      <td>5</td>\n",
              "      <td>24</td>\n",
              "      <td>4</td>\n",
              "    </tr>\n",
              "    <tr>\n",
              "      <th>3</th>\n",
              "      <td>10014440@N06</td>\n",
              "      <td>6</td>\n",
              "      <td>23</td>\n",
              "      <td>18</td>\n",
              "    </tr>\n",
              "    <tr>\n",
              "      <th>4</th>\n",
              "      <td>10014440@N06</td>\n",
              "      <td>7</td>\n",
              "      <td>23</td>\n",
              "      <td>9</td>\n",
              "    </tr>\n",
              "    <tr>\n",
              "      <th>...</th>\n",
              "      <td>...</td>\n",
              "      <td>...</td>\n",
              "      <td>...</td>\n",
              "      <td>...</td>\n",
              "    </tr>\n",
              "    <tr>\n",
              "      <th>95</th>\n",
              "      <td>11090433@N05</td>\n",
              "      <td>139</td>\n",
              "      <td>3</td>\n",
              "      <td>5</td>\n",
              "    </tr>\n",
              "    <tr>\n",
              "      <th>96</th>\n",
              "      <td>11090433@N05</td>\n",
              "      <td>139</td>\n",
              "      <td>23</td>\n",
              "      <td>2</td>\n",
              "    </tr>\n",
              "    <tr>\n",
              "      <th>97</th>\n",
              "      <td>11090433@N05</td>\n",
              "      <td>139</td>\n",
              "      <td>22</td>\n",
              "      <td>5</td>\n",
              "    </tr>\n",
              "    <tr>\n",
              "      <th>98</th>\n",
              "      <td>11090433@N05</td>\n",
              "      <td>139</td>\n",
              "      <td>30</td>\n",
              "      <td>361</td>\n",
              "    </tr>\n",
              "    <tr>\n",
              "      <th>99</th>\n",
              "      <td>11090433@N05</td>\n",
              "      <td>141</td>\n",
              "      <td>10</td>\n",
              "      <td>33</td>\n",
              "    </tr>\n",
              "  </tbody>\n",
              "</table>\n",
              "<p>100 rows × 4 columns</p>\n",
              "</div>"
            ],
            "application/vnd.google.colaboratory.module+javascript": "\n      import \"https://ssl.gstatic.com/colaboratory/data_table/881c4a0d49046431/data_table.js\";\n\n      const table = window.createDataTable({\n        data: [[\"10012675@N05\",\n{\n            'v': 2,\n            'f': \"2\",\n        },\n{\n            'v': 6,\n            'f': \"6\",\n        },\n{\n            'v': 10,\n            'f': \"10\",\n        }],\n [\"10012675@N05\",\n{\n            'v': 4,\n            'f': \"4\",\n        },\n{\n            'v': 13,\n            'f': \"13\",\n        },\n{\n            'v': 94,\n            'f': \"94\",\n        }],\n [\"10014440@N06\",\n{\n            'v': 5,\n            'f': \"5\",\n        },\n{\n            'v': 24,\n            'f': \"24\",\n        },\n{\n            'v': 4,\n            'f': \"4\",\n        }],\n [\"10014440@N06\",\n{\n            'v': 6,\n            'f': \"6\",\n        },\n{\n            'v': 23,\n            'f': \"23\",\n        },\n{\n            'v': 18,\n            'f': \"18\",\n        }],\n [\"10014440@N06\",\n{\n            'v': 7,\n            'f': \"7\",\n        },\n{\n            'v': 23,\n            'f': \"23\",\n        },\n{\n            'v': 9,\n            'f': \"9\",\n        }],\n [\"10014440@N06\",\n{\n            'v': 7,\n            'f': \"7\",\n        },\n{\n            'v': 23,\n            'f': \"23\",\n        },\n{\n            'v': 9,\n            'f': \"9\",\n        }],\n [\"10014440@N06\",\n{\n            'v': 8,\n            'f': \"8\",\n        },\n{\n            'v': 23,\n            'f': \"23\",\n        },\n{\n            'v': 27,\n            'f': \"27\",\n        }],\n [\"10014440@N06\",\n{\n            'v': 8,\n            'f': \"8\",\n        },\n{\n            'v': 24,\n            'f': \"24\",\n        },\n{\n            'v': 22,\n            'f': \"22\",\n        }],\n [\"10014440@N06\",\n{\n            'v': 9,\n            'f': \"9\",\n        },\n{\n            'v': 24,\n            'f': \"24\",\n        },\n{\n            'v': 5,\n            'f': \"5\",\n        }],\n [\"10014440@N06\",\n{\n            'v': 10,\n            'f': \"10\",\n        },\n{\n            'v': 25,\n            'f': \"25\",\n        },\n{\n            'v': 133,\n            'f': \"133\",\n        }],\n [\"10014440@N06\",\n{\n            'v': 10,\n            'f': \"10\",\n        },\n{\n            'v': 25,\n            'f': \"25\",\n        },\n{\n            'v': 133,\n            'f': \"133\",\n        }],\n [\"10014440@N06\",\n{\n            'v': 11,\n            'f': \"11\",\n        },\n{\n            'v': 17,\n            'f': \"17\",\n        },\n{\n            'v': 525,\n            'f': \"525\",\n        }],\n [\"10014440@N06\",\n{\n            'v': 12,\n            'f': \"12\",\n        },\n{\n            'v': 24,\n            'f': \"24\",\n        },\n{\n            'v': 0,\n            'f': \"0\",\n        }],\n [\"10014440@N06\",\n{\n            'v': 12,\n            'f': \"12\",\n        },\n{\n            'v': 24,\n            'f': \"24\",\n        },\n{\n            'v': 0,\n            'f': \"0\",\n        }],\n [\"10014440@N06\",\n{\n            'v': 13,\n            'f': \"13\",\n        },\n{\n            'v': 23,\n            'f': \"23\",\n        },\n{\n            'v': 7,\n            'f': \"7\",\n        }],\n [\"10014440@N06\",\n{\n            'v': 14,\n            'f': \"14\",\n        },\n{\n            'v': 24,\n            'f': \"24\",\n        },\n{\n            'v': 6,\n            'f': \"6\",\n        }],\n [\"10031363@N00\",\n{\n            'v': 17,\n            'f': \"17\",\n        },\n{\n            'v': 7,\n            'f': \"7\",\n        },\n{\n            'v': 1,\n            'f': \"1\",\n        }],\n [\"10031363@N00\",\n{\n            'v': 17,\n            'f': \"17\",\n        },\n{\n            'v': 7,\n            'f': \"7\",\n        },\n{\n            'v': 1,\n            'f': \"1\",\n        }],\n [\"101607720@N06\",\n{\n            'v': 30,\n            'f': \"30\",\n        },\n{\n            'v': 30,\n            'f': \"30\",\n        },\n{\n            'v': 1,\n            'f': \"1\",\n        }],\n [\"10218635@N06\",\n{\n            'v': 33,\n            'f': \"33\",\n        },\n{\n            'v': 21,\n            'f': \"21\",\n        },\n{\n            'v': 0,\n            'f': \"0\",\n        }],\n [\"10218635@N06\",\n{\n            'v': 33,\n            'f': \"33\",\n        },\n{\n            'v': 25,\n            'f': \"25\",\n        },\n{\n            'v': 68,\n            'f': \"68\",\n        }],\n [\"10282509@N00\",\n{\n            'v': 35,\n            'f': \"35\",\n        },\n{\n            'v': 11,\n            'f': \"11\",\n        },\n{\n            'v': 30,\n            'f': \"30\",\n        }],\n [\"10285309@N08\",\n{\n            'v': 36,\n            'f': \"36\",\n        },\n{\n            'v': 1,\n            'f': \"1\",\n        },\n{\n            'v': 195,\n            'f': \"195\",\n        }],\n [\"10285309@N08\",\n{\n            'v': 36,\n            'f': \"36\",\n        },\n{\n            'v': 1,\n            'f': \"1\",\n        },\n{\n            'v': 195,\n            'f': \"195\",\n        }],\n [\"10297518@N00\",\n{\n            'v': 37,\n            'f': \"37\",\n        },\n{\n            'v': 11,\n            'f': \"11\",\n        },\n{\n            'v': 151,\n            'f': \"151\",\n        }],\n [\"10316646@N07\",\n{\n            'v': 41,\n            'f': \"41\",\n        },\n{\n            'v': 6,\n            'f': \"6\",\n        },\n{\n            'v': 2,\n            'f': \"2\",\n        }],\n [\"10488448@N00\",\n{\n            'v': 54,\n            'f': \"54\",\n        },\n{\n            'v': 25,\n            'f': \"25\",\n        },\n{\n            'v': 0,\n            'f': \"0\",\n        }],\n [\"10488855@N00\",\n{\n            'v': 56,\n            'f': \"56\",\n        },\n{\n            'v': 28,\n            'f': \"28\",\n        },\n{\n            'v': 6,\n            'f': \"6\",\n        }],\n [\"10502709@N05\",\n{\n            'v': 57,\n            'f': \"57\",\n        },\n{\n            'v': 7,\n            'f': \"7\",\n        },\n{\n            'v': 108,\n            'f': \"108\",\n        }],\n [\"10502709@N05\",\n{\n            'v': 58,\n            'f': \"58\",\n        },\n{\n            'v': 7,\n            'f': \"7\",\n        },\n{\n            'v': 88,\n            'f': \"88\",\n        }],\n [\"10502709@N05\",\n{\n            'v': 58,\n            'f': \"58\",\n        },\n{\n            'v': 27,\n            'f': \"27\",\n        },\n{\n            'v': 4,\n            'f': \"4\",\n        }],\n [\"10502709@N05\",\n{\n            'v': 59,\n            'f': \"59\",\n        },\n{\n            'v': 11,\n            'f': \"11\",\n        },\n{\n            'v': 1,\n            'f': \"1\",\n        }],\n [\"10502709@N05\",\n{\n            'v': 59,\n            'f': \"59\",\n        },\n{\n            'v': 27,\n            'f': \"27\",\n        },\n{\n            'v': 23,\n            'f': \"23\",\n        }],\n [\"10502709@N05\",\n{\n            'v': 60,\n            'f': \"60\",\n        },\n{\n            'v': 7,\n            'f': \"7\",\n        },\n{\n            'v': 63,\n            'f': \"63\",\n        }],\n [\"10502709@N05\",\n{\n            'v': 62,\n            'f': \"62\",\n        },\n{\n            'v': 11,\n            'f': \"11\",\n        },\n{\n            'v': 50,\n            'f': \"50\",\n        }],\n [\"10502709@N05\",\n{\n            'v': 66,\n            'f': \"66\",\n        },\n{\n            'v': 21,\n            'f': \"21\",\n        },\n{\n            'v': 18,\n            'f': \"18\",\n        }],\n [\"10502709@N05\",\n{\n            'v': 67,\n            'f': \"67\",\n        },\n{\n            'v': 28,\n            'f': \"28\",\n        },\n{\n            'v': 121,\n            'f': \"121\",\n        }],\n [\"10502709@N05\",\n{\n            'v': 67,\n            'f': \"67\",\n        },\n{\n            'v': 23,\n            'f': \"23\",\n        },\n{\n            'v': 86,\n            'f': \"86\",\n        }],\n [\"10502709@N05\",\n{\n            'v': 67,\n            'f': \"67\",\n        },\n{\n            'v': 22,\n            'f': \"22\",\n        },\n{\n            'v': 36,\n            'f': \"36\",\n        }],\n [\"10502709@N05\",\n{\n            'v': 69,\n            'f': \"69\",\n        },\n{\n            'v': 7,\n            'f': \"7\",\n        },\n{\n            'v': 91,\n            'f': \"91\",\n        }],\n [\"10502709@N05\",\n{\n            'v': 69,\n            'f': \"69\",\n        },\n{\n            'v': 7,\n            'f': \"7\",\n        },\n{\n            'v': 91,\n            'f': \"91\",\n        }],\n [\"10502709@N05\",\n{\n            'v': 70,\n            'f': \"70\",\n        },\n{\n            'v': 21,\n            'f': \"21\",\n        },\n{\n            'v': 160,\n            'f': \"160\",\n        }],\n [\"10502709@N05\",\n{\n            'v': 71,\n            'f': \"71\",\n        },\n{\n            'v': 28,\n            'f': \"28\",\n        },\n{\n            'v': 6,\n            'f': \"6\",\n        }],\n [\"10502709@N05\",\n{\n            'v': 73,\n            'f': \"73\",\n        },\n{\n            'v': 25,\n            'f': \"25\",\n        },\n{\n            'v': 263,\n            'f': \"263\",\n        }],\n [\"10502709@N05\",\n{\n            'v': 74,\n            'f': \"74\",\n        },\n{\n            'v': 27,\n            'f': \"27\",\n        },\n{\n            'v': 77,\n            'f': \"77\",\n        }],\n [\"10502709@N05\",\n{\n            'v': 75,\n            'f': \"75\",\n        },\n{\n            'v': 25,\n            'f': \"25\",\n        },\n{\n            'v': 73,\n            'f': \"73\",\n        }],\n [\"10517457@N04\",\n{\n            'v': 77,\n            'f': \"77\",\n        },\n{\n            'v': 12,\n            'f': \"12\",\n        },\n{\n            'v': 20,\n            'f': \"20\",\n        }],\n [\"10563628@N04\",\n{\n            'v': 78,\n            'f': \"78\",\n        },\n{\n            'v': 16,\n            'f': \"16\",\n        },\n{\n            'v': 43,\n            'f': \"43\",\n        }],\n [\"10575698@N02\",\n{\n            'v': 79,\n            'f': \"79\",\n        },\n{\n            'v': 25,\n            'f': \"25\",\n        },\n{\n            'v': 59,\n            'f': \"59\",\n        }],\n [\"10575698@N02\",\n{\n            'v': 79,\n            'f': \"79\",\n        },\n{\n            'v': 25,\n            'f': \"25\",\n        },\n{\n            'v': 59,\n            'f': \"59\",\n        }],\n [\"10575698@N02\",\n{\n            'v': 83,\n            'f': \"83\",\n        },\n{\n            'v': 13,\n            'f': \"13\",\n        },\n{\n            'v': 103,\n            'f': \"103\",\n        }],\n [\"10602166@N06\",\n{\n            'v': 89,\n            'f': \"89\",\n        },\n{\n            'v': 11,\n            'f': \"11\",\n        },\n{\n            'v': 290,\n            'f': \"290\",\n        }],\n [\"10627620@N06\",\n{\n            'v': 91,\n            'f': \"91\",\n        },\n{\n            'v': 27,\n            'f': \"27\",\n        },\n{\n            'v': 0,\n            'f': \"0\",\n        }],\n [\"10627620@N06\",\n{\n            'v': 92,\n            'f': \"92\",\n        },\n{\n            'v': 21,\n            'f': \"21\",\n        },\n{\n            'v': 1,\n            'f': \"1\",\n        }],\n [\"10627620@N06\",\n{\n            'v': 94,\n            'f': \"94\",\n        },\n{\n            'v': 11,\n            'f': \"11\",\n        },\n{\n            'v': 9,\n            'f': \"9\",\n        }],\n [\"10627620@N06\",\n{\n            'v': 97,\n            'f': \"97\",\n        },\n{\n            'v': 8,\n            'f': \"8\",\n        },\n{\n            'v': 11,\n            'f': \"11\",\n        }],\n [\"10627620@N06\",\n{\n            'v': 97,\n            'f': \"97\",\n        },\n{\n            'v': 8,\n            'f': \"8\",\n        },\n{\n            'v': 11,\n            'f': \"11\",\n        }],\n [\"10627620@N06\",\n{\n            'v': 97,\n            'f': \"97\",\n        },\n{\n            'v': 8,\n            'f': \"8\",\n        },\n{\n            'v': 11,\n            'f': \"11\",\n        }],\n [\"10627620@N06\",\n{\n            'v': 97,\n            'f': \"97\",\n        },\n{\n            'v': 8,\n            'f': \"8\",\n        },\n{\n            'v': 11,\n            'f': \"11\",\n        }],\n [\"10627620@N06\",\n{\n            'v': 97,\n            'f': \"97\",\n        },\n{\n            'v': 8,\n            'f': \"8\",\n        },\n{\n            'v': 11,\n            'f': \"11\",\n        }],\n [\"10627620@N06\",\n{\n            'v': 97,\n            'f': \"97\",\n        },\n{\n            'v': 8,\n            'f': \"8\",\n        },\n{\n            'v': 11,\n            'f': \"11\",\n        }],\n [\"10627620@N06\",\n{\n            'v': 97,\n            'f': \"97\",\n        },\n{\n            'v': 8,\n            'f': \"8\",\n        },\n{\n            'v': 11,\n            'f': \"11\",\n        }],\n [\"10627620@N06\",\n{\n            'v': 98,\n            'f': \"98\",\n        },\n{\n            'v': 3,\n            'f': \"3\",\n        },\n{\n            'v': 50,\n            'f': \"50\",\n        }],\n [\"10627620@N06\",\n{\n            'v': 99,\n            'f': \"99\",\n        },\n{\n            'v': 23,\n            'f': \"23\",\n        },\n{\n            'v': 2,\n            'f': \"2\",\n        }],\n [\"10627620@N06\",\n{\n            'v': 100,\n            'f': \"100\",\n        },\n{\n            'v': 21,\n            'f': \"21\",\n        },\n{\n            'v': 3,\n            'f': \"3\",\n        }],\n [\"10627620@N06\",\n{\n            'v': 100,\n            'f': \"100\",\n        },\n{\n            'v': 23,\n            'f': \"23\",\n        },\n{\n            'v': 3,\n            'f': \"3\",\n        }],\n [\"10627620@N06\",\n{\n            'v': 100,\n            'f': \"100\",\n        },\n{\n            'v': 30,\n            'f': \"30\",\n        },\n{\n            'v': 56,\n            'f': \"56\",\n        }],\n [\"10627620@N06\",\n{\n            'v': 102,\n            'f': \"102\",\n        },\n{\n            'v': 23,\n            'f': \"23\",\n        },\n{\n            'v': 2,\n            'f': \"2\",\n        }],\n [\"10627620@N06\",\n{\n            'v': 103,\n            'f': \"103\",\n        },\n{\n            'v': 30,\n            'f': \"30\",\n        },\n{\n            'v': 3,\n            'f': \"3\",\n        }],\n [\"10627620@N06\",\n{\n            'v': 103,\n            'f': \"103\",\n        },\n{\n            'v': 7,\n            'f': \"7\",\n        },\n{\n            'v': 7,\n            'f': \"7\",\n        }],\n [\"10627620@N06\",\n{\n            'v': 103,\n            'f': \"103\",\n        },\n{\n            'v': 30,\n            'f': \"30\",\n        },\n{\n            'v': 9,\n            'f': \"9\",\n        }],\n [\"10627620@N06\",\n{\n            'v': 104,\n            'f': \"104\",\n        },\n{\n            'v': 30,\n            'f': \"30\",\n        },\n{\n            'v': 333,\n            'f': \"333\",\n        }],\n [\"10627620@N06\",\n{\n            'v': 106,\n            'f': \"106\",\n        },\n{\n            'v': 30,\n            'f': \"30\",\n        },\n{\n            'v': 0,\n            'f': \"0\",\n        }],\n [\"10627620@N06\",\n{\n            'v': 108,\n            'f': \"108\",\n        },\n{\n            'v': 7,\n            'f': \"7\",\n        },\n{\n            'v': 1,\n            'f': \"1\",\n        }],\n [\"10627620@N06\",\n{\n            'v': 108,\n            'f': \"108\",\n        },\n{\n            'v': 7,\n            'f': \"7\",\n        },\n{\n            'v': 1,\n            'f': \"1\",\n        }],\n [\"10627620@N06\",\n{\n            'v': 109,\n            'f': \"109\",\n        },\n{\n            'v': 25,\n            'f': \"25\",\n        },\n{\n            'v': 5,\n            'f': \"5\",\n        }],\n [\"10627620@N06\",\n{\n            'v': 110,\n            'f': \"110\",\n        },\n{\n            'v': 7,\n            'f': \"7\",\n        },\n{\n            'v': 1,\n            'f': \"1\",\n        }],\n [\"10627620@N06\",\n{\n            'v': 111,\n            'f': \"111\",\n        },\n{\n            'v': 30,\n            'f': \"30\",\n        },\n{\n            'v': 3,\n            'f': \"3\",\n        }],\n [\"10627620@N06\",\n{\n            'v': 111,\n            'f': \"111\",\n        },\n{\n            'v': 1,\n            'f': \"1\",\n        },\n{\n            'v': 29,\n            'f': \"29\",\n        }],\n [\"10627620@N06\",\n{\n            'v': 112,\n            'f': \"112\",\n        },\n{\n            'v': 30,\n            'f': \"30\",\n        },\n{\n            'v': 12,\n            'f': \"12\",\n        }],\n [\"10627620@N06\",\n{\n            'v': 113,\n            'f': \"113\",\n        },\n{\n            'v': 7,\n            'f': \"7\",\n        },\n{\n            'v': 1,\n            'f': \"1\",\n        }],\n [\"10627620@N06\",\n{\n            'v': 113,\n            'f': \"113\",\n        },\n{\n            'v': 30,\n            'f': \"30\",\n        },\n{\n            'v': 1,\n            'f': \"1\",\n        }],\n [\"10789562@N08\",\n{\n            'v': 118,\n            'f': \"118\",\n        },\n{\n            'v': 30,\n            'f': \"30\",\n        },\n{\n            'v': 12,\n            'f': \"12\",\n        }],\n [\"10789562@N08\",\n{\n            'v': 121,\n            'f': \"121\",\n        },\n{\n            'v': 30,\n            'f': \"30\",\n        },\n{\n            'v': 3,\n            'f': \"3\",\n        }],\n [\"10789562@N08\",\n{\n            'v': 125,\n            'f': \"125\",\n        },\n{\n            'v': 7,\n            'f': \"7\",\n        },\n{\n            'v': 30,\n            'f': \"30\",\n        }],\n [\"10789562@N08\",\n{\n            'v': 126,\n            'f': \"126\",\n        },\n{\n            'v': 22,\n            'f': \"22\",\n        },\n{\n            'v': 4,\n            'f': \"4\",\n        }],\n [\"10859651@N06\",\n{\n            'v': 129,\n            'f': \"129\",\n        },\n{\n            'v': 7,\n            'f': \"7\",\n        },\n{\n            'v': 0,\n            'f': \"0\",\n        }],\n [\"10859651@N06\",\n{\n            'v': 129,\n            'f': \"129\",\n        },\n{\n            'v': 7,\n            'f': \"7\",\n        },\n{\n            'v': 0,\n            'f': \"0\",\n        }],\n [\"10891813@N04\",\n{\n            'v': 130,\n            'f': \"130\",\n        },\n{\n            'v': 28,\n            'f': \"28\",\n        },\n{\n            'v': 9,\n            'f': \"9\",\n        }],\n [\"11036650@N00\",\n{\n            'v': 131,\n            'f': \"131\",\n        },\n{\n            'v': 15,\n            'f': \"15\",\n        },\n{\n            'v': 30,\n            'f': \"30\",\n        }],\n [\"11036650@N00\",\n{\n            'v': 132,\n            'f': \"132\",\n        },\n{\n            'v': 13,\n            'f': \"13\",\n        },\n{\n            'v': 3,\n            'f': \"3\",\n        }],\n [\"11090433@N05\",\n{\n            'v': 134,\n            'f': \"134\",\n        },\n{\n            'v': 3,\n            'f': \"3\",\n        },\n{\n            'v': 264,\n            'f': \"264\",\n        }],\n [\"11090433@N05\",\n{\n            'v': 136,\n            'f': \"136\",\n        },\n{\n            'v': 3,\n            'f': \"3\",\n        },\n{\n            'v': 8,\n            'f': \"8\",\n        }],\n [\"11090433@N05\",\n{\n            'v': 137,\n            'f': \"137\",\n        },\n{\n            'v': 15,\n            'f': \"15\",\n        },\n{\n            'v': 0,\n            'f': \"0\",\n        }],\n [\"11090433@N05\",\n{\n            'v': 138,\n            'f': \"138\",\n        },\n{\n            'v': 7,\n            'f': \"7\",\n        },\n{\n            'v': 1,\n            'f': \"1\",\n        }],\n [\"11090433@N05\",\n{\n            'v': 139,\n            'f': \"139\",\n        },\n{\n            'v': 3,\n            'f': \"3\",\n        },\n{\n            'v': 5,\n            'f': \"5\",\n        }],\n [\"11090433@N05\",\n{\n            'v': 139,\n            'f': \"139\",\n        },\n{\n            'v': 23,\n            'f': \"23\",\n        },\n{\n            'v': 2,\n            'f': \"2\",\n        }],\n [\"11090433@N05\",\n{\n            'v': 139,\n            'f': \"139\",\n        },\n{\n            'v': 22,\n            'f': \"22\",\n        },\n{\n            'v': 5,\n            'f': \"5\",\n        }],\n [\"11090433@N05\",\n{\n            'v': 139,\n            'f': \"139\",\n        },\n{\n            'v': 30,\n            'f': \"30\",\n        },\n{\n            'v': 361,\n            'f': \"361\",\n        }],\n [\"11090433@N05\",\n{\n            'v': 141,\n            'f': \"141\",\n        },\n{\n            'v': 10,\n            'f': \"10\",\n        },\n{\n            'v': 33,\n            'f': \"33\",\n        }]],\n        columns: [[\"string\", \"userID\"], [\"number\", \"seqID\"], [\"number\", \"poi\"], [\"number\", \"duree\"]],\n        columnOptions: [],\n        rowsPerPage: 10,\n        helpUrl: \"https://colab.research.google.com/notebooks/data_table.ipynb\",\n        suppressOutputScrolling: true,\n        minimumWidth: undefined,\n      });\n\n      function appendQuickchartButton(parentElement) {\n        let quickchartButtonContainerElement = document.createElement('div');\n        quickchartButtonContainerElement.innerHTML = `\n<div id=\"df-a492242a-47d7-4abb-a975-f49440879d23\">\n  <button class=\"colab-df-quickchart\" onclick=\"quickchart('df-a492242a-47d7-4abb-a975-f49440879d23')\"\n            title=\"Suggest charts.\"\n            style=\"display:none;\">\n    \n<svg xmlns=\"http://www.w3.org/2000/svg\" height=\"24px\"viewBox=\"0 0 24 24\"\n     width=\"24px\">\n    <g>\n        <path d=\"M19 3H5c-1.1 0-2 .9-2 2v14c0 1.1.9 2 2 2h14c1.1 0 2-.9 2-2V5c0-1.1-.9-2-2-2zM9 17H7v-7h2v7zm4 0h-2V7h2v10zm4 0h-2v-4h2v4z\"/>\n    </g>\n</svg>\n  </button>\n  \n<style>\n  .colab-df-quickchart {\n      --bg-color: #E8F0FE;\n      --fill-color: #1967D2;\n      --hover-bg-color: #E2EBFA;\n      --hover-fill-color: #174EA6;\n      --disabled-fill-color: #AAA;\n      --disabled-bg-color: #DDD;\n  }\n\n  [theme=dark] .colab-df-quickchart {\n      --bg-color: #3B4455;\n      --fill-color: #D2E3FC;\n      --hover-bg-color: #434B5C;\n      --hover-fill-color: #FFFFFF;\n      --disabled-bg-color: #3B4455;\n      --disabled-fill-color: #666;\n  }\n\n  .colab-df-quickchart {\n    background-color: var(--bg-color);\n    border: none;\n    border-radius: 50%;\n    cursor: pointer;\n    display: none;\n    fill: var(--fill-color);\n    height: 32px;\n    padding: 0;\n    width: 32px;\n  }\n\n  .colab-df-quickchart:hover {\n    background-color: var(--hover-bg-color);\n    box-shadow: 0 1px 2px rgba(60, 64, 67, 0.3), 0 1px 3px 1px rgba(60, 64, 67, 0.15);\n    fill: var(--button-hover-fill-color);\n  }\n\n  .colab-df-quickchart-complete:disabled,\n  .colab-df-quickchart-complete:disabled:hover {\n    background-color: var(--disabled-bg-color);\n    fill: var(--disabled-fill-color);\n    box-shadow: none;\n  }\n\n  .colab-df-spinner {\n    border: 2px solid var(--fill-color);\n    border-color: transparent;\n    border-bottom-color: var(--fill-color);\n    animation:\n      spin 1s steps(1) infinite;\n  }\n\n  @keyframes spin {\n    0% {\n      border-color: transparent;\n      border-bottom-color: var(--fill-color);\n      border-left-color: var(--fill-color);\n    }\n    20% {\n      border-color: transparent;\n      border-left-color: var(--fill-color);\n      border-top-color: var(--fill-color);\n    }\n    30% {\n      border-color: transparent;\n      border-left-color: var(--fill-color);\n      border-top-color: var(--fill-color);\n      border-right-color: var(--fill-color);\n    }\n    40% {\n      border-color: transparent;\n      border-right-color: var(--fill-color);\n      border-top-color: var(--fill-color);\n    }\n    60% {\n      border-color: transparent;\n      border-right-color: var(--fill-color);\n    }\n    80% {\n      border-color: transparent;\n      border-right-color: var(--fill-color);\n      border-bottom-color: var(--fill-color);\n    }\n    90% {\n      border-color: transparent;\n      border-bottom-color: var(--fill-color);\n    }\n  }\n</style>\n\n  <script>\n    async function quickchart(key) {\n      const quickchartButtonEl =\n        document.querySelector('#' + key + ' button');\n      quickchartButtonEl.disabled = true;  // To prevent multiple clicks.\n      quickchartButtonEl.classList.add('colab-df-spinner');\n      try {\n        const charts = await google.colab.kernel.invokeFunction(\n            'suggestCharts', [key], {});\n      } catch (error) {\n        console.error('Error during call to suggestCharts:', error);\n      }\n      quickchartButtonEl.classList.remove('colab-df-spinner');\n      quickchartButtonEl.classList.add('colab-df-quickchart-complete');\n    }\n    (() => {\n      let quickchartButtonEl =\n        document.querySelector('#df-a492242a-47d7-4abb-a975-f49440879d23 button');\n      quickchartButtonEl.style.display =\n        google.colab.kernel.accessAllowed ? 'block' : 'none';\n    })();\n  </script>\n</div>`;\n        parentElement.appendChild(quickchartButtonContainerElement);\n      }\n\n      appendQuickchartButton(table);\n    ",
            "text/plain": [
              "<google.colab.data_table.DataTable object>"
            ]
          },
          "metadata": {},
          "execution_count": 86
        }
      ]
    },
    {
      "cell_type": "code",
      "source": [
        "%%sql\n",
        "create or replace temp view DureeMoyenneVisitePOI as\n",
        "SELECT poi, mean(duree) as dureeMoyenne\n",
        "FROM DureeVisitePOI\n",
        "GROUP BY poi\n",
        ";\n",
        "\n",
        "select *\n",
        "from DureeMoyenneVisitePOI"
      ],
      "metadata": {
        "id": "aykFrJs5RgTq",
        "colab": {
          "base_uri": "https://localhost:8080/",
          "height": 347
        },
        "outputId": "986efcad-aa87-447a-82c8-f0f9e814bc38"
      },
      "execution_count": null,
      "outputs": [
        {
          "output_type": "execute_result",
          "data": {
            "text/html": [
              "<div>\n",
              "<style scoped>\n",
              "    .dataframe tbody tr th:only-of-type {\n",
              "        vertical-align: middle;\n",
              "    }\n",
              "\n",
              "    .dataframe tbody tr th {\n",
              "        vertical-align: top;\n",
              "    }\n",
              "\n",
              "    .dataframe thead th {\n",
              "        text-align: right;\n",
              "    }\n",
              "</style>\n",
              "<table border=\"1\" class=\"dataframe\">\n",
              "  <thead>\n",
              "    <tr style=\"text-align: right;\">\n",
              "      <th></th>\n",
              "      <th>poi</th>\n",
              "      <th>dureeMoyenne</th>\n",
              "    </tr>\n",
              "  </thead>\n",
              "  <tbody>\n",
              "    <tr>\n",
              "      <th>0</th>\n",
              "      <td>13</td>\n",
              "      <td>55.029412</td>\n",
              "    </tr>\n",
              "    <tr>\n",
              "      <th>1</th>\n",
              "      <td>12</td>\n",
              "      <td>82.163636</td>\n",
              "    </tr>\n",
              "    <tr>\n",
              "      <th>2</th>\n",
              "      <td>14</td>\n",
              "      <td>26.666667</td>\n",
              "    </tr>\n",
              "    <tr>\n",
              "      <th>3</th>\n",
              "      <td>18</td>\n",
              "      <td>51.800000</td>\n",
              "    </tr>\n",
              "    <tr>\n",
              "      <th>4</th>\n",
              "      <td>6</td>\n",
              "      <td>50.192982</td>\n",
              "    </tr>\n",
              "    <tr>\n",
              "      <th>5</th>\n",
              "      <td>23</td>\n",
              "      <td>50.305785</td>\n",
              "    </tr>\n",
              "    <tr>\n",
              "      <th>6</th>\n",
              "      <td>17</td>\n",
              "      <td>159.950000</td>\n",
              "    </tr>\n",
              "    <tr>\n",
              "      <th>7</th>\n",
              "      <td>16</td>\n",
              "      <td>69.820331</td>\n",
              "    </tr>\n",
              "    <tr>\n",
              "      <th>8</th>\n",
              "      <td>9</td>\n",
              "      <td>69.542857</td>\n",
              "    </tr>\n",
              "    <tr>\n",
              "      <th>9</th>\n",
              "      <td>10</td>\n",
              "      <td>61.500000</td>\n",
              "    </tr>\n",
              "    <tr>\n",
              "      <th>10</th>\n",
              "      <td>7</td>\n",
              "      <td>37.122605</td>\n",
              "    </tr>\n",
              "    <tr>\n",
              "      <th>11</th>\n",
              "      <td>11</td>\n",
              "      <td>67.932796</td>\n",
              "    </tr>\n",
              "    <tr>\n",
              "      <th>12</th>\n",
              "      <td>1</td>\n",
              "      <td>106.586047</td>\n",
              "    </tr>\n",
              "    <tr>\n",
              "      <th>13</th>\n",
              "      <td>27</td>\n",
              "      <td>-835.862745</td>\n",
              "    </tr>\n",
              "    <tr>\n",
              "      <th>14</th>\n",
              "      <td>3</td>\n",
              "      <td>42.200000</td>\n",
              "    </tr>\n",
              "    <tr>\n",
              "      <th>15</th>\n",
              "      <td>26</td>\n",
              "      <td>31.500000</td>\n",
              "    </tr>\n",
              "    <tr>\n",
              "      <th>16</th>\n",
              "      <td>25</td>\n",
              "      <td>35.459916</td>\n",
              "    </tr>\n",
              "    <tr>\n",
              "      <th>17</th>\n",
              "      <td>30</td>\n",
              "      <td>44.878431</td>\n",
              "    </tr>\n",
              "    <tr>\n",
              "      <th>18</th>\n",
              "      <td>15</td>\n",
              "      <td>52.379310</td>\n",
              "    </tr>\n",
              "    <tr>\n",
              "      <th>19</th>\n",
              "      <td>29</td>\n",
              "      <td>45.878788</td>\n",
              "    </tr>\n",
              "    <tr>\n",
              "      <th>20</th>\n",
              "      <td>19</td>\n",
              "      <td>16.080000</td>\n",
              "    </tr>\n",
              "    <tr>\n",
              "      <th>21</th>\n",
              "      <td>20</td>\n",
              "      <td>13.787879</td>\n",
              "    </tr>\n",
              "    <tr>\n",
              "      <th>22</th>\n",
              "      <td>28</td>\n",
              "      <td>24.461538</td>\n",
              "    </tr>\n",
              "    <tr>\n",
              "      <th>23</th>\n",
              "      <td>22</td>\n",
              "      <td>-56.080178</td>\n",
              "    </tr>\n",
              "    <tr>\n",
              "      <th>24</th>\n",
              "      <td>2</td>\n",
              "      <td>-1553.490566</td>\n",
              "    </tr>\n",
              "    <tr>\n",
              "      <th>25</th>\n",
              "      <td>4</td>\n",
              "      <td>137.083333</td>\n",
              "    </tr>\n",
              "    <tr>\n",
              "      <th>26</th>\n",
              "      <td>24</td>\n",
              "      <td>65.787234</td>\n",
              "    </tr>\n",
              "    <tr>\n",
              "      <th>27</th>\n",
              "      <td>21</td>\n",
              "      <td>51.000000</td>\n",
              "    </tr>\n",
              "    <tr>\n",
              "      <th>28</th>\n",
              "      <td>8</td>\n",
              "      <td>-255.584000</td>\n",
              "    </tr>\n",
              "  </tbody>\n",
              "</table>\n",
              "</div>"
            ],
            "application/vnd.google.colaboratory.module+javascript": "\n      import \"https://ssl.gstatic.com/colaboratory/data_table/881c4a0d49046431/data_table.js\";\n\n      const table = window.createDataTable({\n        data: [[{\n            'v': 13,\n            'f': \"13\",\n        },\n{\n            'v': 55.029411764705884,\n            'f': \"55.029411764705884\",\n        }],\n [{\n            'v': 12,\n            'f': \"12\",\n        },\n{\n            'v': 82.16363636363636,\n            'f': \"82.16363636363636\",\n        }],\n [{\n            'v': 14,\n            'f': \"14\",\n        },\n{\n            'v': 26.666666666666668,\n            'f': \"26.666666666666668\",\n        }],\n [{\n            'v': 18,\n            'f': \"18\",\n        },\n{\n            'v': 51.8,\n            'f': \"51.8\",\n        }],\n [{\n            'v': 6,\n            'f': \"6\",\n        },\n{\n            'v': 50.19298245614035,\n            'f': \"50.19298245614035\",\n        }],\n [{\n            'v': 23,\n            'f': \"23\",\n        },\n{\n            'v': 50.30578512396694,\n            'f': \"50.30578512396694\",\n        }],\n [{\n            'v': 17,\n            'f': \"17\",\n        },\n{\n            'v': 159.95,\n            'f': \"159.95\",\n        }],\n [{\n            'v': 16,\n            'f': \"16\",\n        },\n{\n            'v': 69.82033096926713,\n            'f': \"69.82033096926713\",\n        }],\n [{\n            'v': 9,\n            'f': \"9\",\n        },\n{\n            'v': 69.54285714285714,\n            'f': \"69.54285714285714\",\n        }],\n [{\n            'v': 10,\n            'f': \"10\",\n        },\n{\n            'v': 61.5,\n            'f': \"61.5\",\n        }],\n [{\n            'v': 7,\n            'f': \"7\",\n        },\n{\n            'v': 37.122605363984675,\n            'f': \"37.122605363984675\",\n        }],\n [{\n            'v': 11,\n            'f': \"11\",\n        },\n{\n            'v': 67.93279569892474,\n            'f': \"67.93279569892474\",\n        }],\n [{\n            'v': 1,\n            'f': \"1\",\n        },\n{\n            'v': 106.58604651162791,\n            'f': \"106.58604651162791\",\n        }],\n [{\n            'v': 27,\n            'f': \"27\",\n        },\n{\n            'v': -835.8627450980392,\n            'f': \"-835.8627450980392\",\n        }],\n [{\n            'v': 3,\n            'f': \"3\",\n        },\n{\n            'v': 42.2,\n            'f': \"42.2\",\n        }],\n [{\n            'v': 26,\n            'f': \"26\",\n        },\n{\n            'v': 31.5,\n            'f': \"31.5\",\n        }],\n [{\n            'v': 25,\n            'f': \"25\",\n        },\n{\n            'v': 35.459915611814345,\n            'f': \"35.459915611814345\",\n        }],\n [{\n            'v': 30,\n            'f': \"30\",\n        },\n{\n            'v': 44.87843137254902,\n            'f': \"44.87843137254902\",\n        }],\n [{\n            'v': 15,\n            'f': \"15\",\n        },\n{\n            'v': 52.37931034482759,\n            'f': \"52.37931034482759\",\n        }],\n [{\n            'v': 29,\n            'f': \"29\",\n        },\n{\n            'v': 45.878787878787875,\n            'f': \"45.878787878787875\",\n        }],\n [{\n            'v': 19,\n            'f': \"19\",\n        },\n{\n            'v': 16.08,\n            'f': \"16.08\",\n        }],\n [{\n            'v': 20,\n            'f': \"20\",\n        },\n{\n            'v': 13.787878787878787,\n            'f': \"13.787878787878787\",\n        }],\n [{\n            'v': 28,\n            'f': \"28\",\n        },\n{\n            'v': 24.46153846153846,\n            'f': \"24.46153846153846\",\n        }],\n [{\n            'v': 22,\n            'f': \"22\",\n        },\n{\n            'v': -56.080178173719375,\n            'f': \"-56.080178173719375\",\n        }],\n [{\n            'v': 2,\n            'f': \"2\",\n        },\n{\n            'v': -1553.4905660377358,\n            'f': \"-1553.4905660377358\",\n        }],\n [{\n            'v': 4,\n            'f': \"4\",\n        },\n{\n            'v': 137.08333333333334,\n            'f': \"137.08333333333334\",\n        }],\n [{\n            'v': 24,\n            'f': \"24\",\n        },\n{\n            'v': 65.7872340425532,\n            'f': \"65.7872340425532\",\n        }],\n [{\n            'v': 21,\n            'f': \"21\",\n        },\n{\n            'v': 51.0,\n            'f': \"51.0\",\n        }],\n [{\n            'v': 8,\n            'f': \"8\",\n        },\n{\n            'v': -255.584,\n            'f': \"-255.584\",\n        }]],\n        columns: [[\"number\", \"poi\"], [\"number\", \"dureeMoyenne\"]],\n        columnOptions: [],\n        rowsPerPage: 10,\n        helpUrl: \"https://colab.research.google.com/notebooks/data_table.ipynb\",\n        suppressOutputScrolling: true,\n        minimumWidth: undefined,\n      });\n\n      function appendQuickchartButton(parentElement) {\n        let quickchartButtonContainerElement = document.createElement('div');\n        quickchartButtonContainerElement.innerHTML = `\n<div id=\"df-32b388a1-a4a0-4f9f-ba02-aa609c03bc2f\">\n  <button class=\"colab-df-quickchart\" onclick=\"quickchart('df-32b388a1-a4a0-4f9f-ba02-aa609c03bc2f')\"\n            title=\"Suggest charts.\"\n            style=\"display:none;\">\n    \n<svg xmlns=\"http://www.w3.org/2000/svg\" height=\"24px\"viewBox=\"0 0 24 24\"\n     width=\"24px\">\n    <g>\n        <path d=\"M19 3H5c-1.1 0-2 .9-2 2v14c0 1.1.9 2 2 2h14c1.1 0 2-.9 2-2V5c0-1.1-.9-2-2-2zM9 17H7v-7h2v7zm4 0h-2V7h2v10zm4 0h-2v-4h2v4z\"/>\n    </g>\n</svg>\n  </button>\n  \n<style>\n  .colab-df-quickchart {\n      --bg-color: #E8F0FE;\n      --fill-color: #1967D2;\n      --hover-bg-color: #E2EBFA;\n      --hover-fill-color: #174EA6;\n      --disabled-fill-color: #AAA;\n      --disabled-bg-color: #DDD;\n  }\n\n  [theme=dark] .colab-df-quickchart {\n      --bg-color: #3B4455;\n      --fill-color: #D2E3FC;\n      --hover-bg-color: #434B5C;\n      --hover-fill-color: #FFFFFF;\n      --disabled-bg-color: #3B4455;\n      --disabled-fill-color: #666;\n  }\n\n  .colab-df-quickchart {\n    background-color: var(--bg-color);\n    border: none;\n    border-radius: 50%;\n    cursor: pointer;\n    display: none;\n    fill: var(--fill-color);\n    height: 32px;\n    padding: 0;\n    width: 32px;\n  }\n\n  .colab-df-quickchart:hover {\n    background-color: var(--hover-bg-color);\n    box-shadow: 0 1px 2px rgba(60, 64, 67, 0.3), 0 1px 3px 1px rgba(60, 64, 67, 0.15);\n    fill: var(--button-hover-fill-color);\n  }\n\n  .colab-df-quickchart-complete:disabled,\n  .colab-df-quickchart-complete:disabled:hover {\n    background-color: var(--disabled-bg-color);\n    fill: var(--disabled-fill-color);\n    box-shadow: none;\n  }\n\n  .colab-df-spinner {\n    border: 2px solid var(--fill-color);\n    border-color: transparent;\n    border-bottom-color: var(--fill-color);\n    animation:\n      spin 1s steps(1) infinite;\n  }\n\n  @keyframes spin {\n    0% {\n      border-color: transparent;\n      border-bottom-color: var(--fill-color);\n      border-left-color: var(--fill-color);\n    }\n    20% {\n      border-color: transparent;\n      border-left-color: var(--fill-color);\n      border-top-color: var(--fill-color);\n    }\n    30% {\n      border-color: transparent;\n      border-left-color: var(--fill-color);\n      border-top-color: var(--fill-color);\n      border-right-color: var(--fill-color);\n    }\n    40% {\n      border-color: transparent;\n      border-right-color: var(--fill-color);\n      border-top-color: var(--fill-color);\n    }\n    60% {\n      border-color: transparent;\n      border-right-color: var(--fill-color);\n    }\n    80% {\n      border-color: transparent;\n      border-right-color: var(--fill-color);\n      border-bottom-color: var(--fill-color);\n    }\n    90% {\n      border-color: transparent;\n      border-bottom-color: var(--fill-color);\n    }\n  }\n</style>\n\n  <script>\n    async function quickchart(key) {\n      const quickchartButtonEl =\n        document.querySelector('#' + key + ' button');\n      quickchartButtonEl.disabled = true;  // To prevent multiple clicks.\n      quickchartButtonEl.classList.add('colab-df-spinner');\n      try {\n        const charts = await google.colab.kernel.invokeFunction(\n            'suggestCharts', [key], {});\n      } catch (error) {\n        console.error('Error during call to suggestCharts:', error);\n      }\n      quickchartButtonEl.classList.remove('colab-df-spinner');\n      quickchartButtonEl.classList.add('colab-df-quickchart-complete');\n    }\n    (() => {\n      let quickchartButtonEl =\n        document.querySelector('#df-32b388a1-a4a0-4f9f-ba02-aa609c03bc2f button');\n      quickchartButtonEl.style.display =\n        google.colab.kernel.accessAllowed ? 'block' : 'none';\n    })();\n  </script>\n</div>`;\n        parentElement.appendChild(quickchartButtonContainerElement);\n      }\n\n      appendQuickchartButton(table);\n    ",
            "text/plain": [
              "<google.colab.data_table.DataTable object>"
            ]
          },
          "metadata": {},
          "execution_count": 87
        }
      ]
    },
    {
      "cell_type": "markdown",
      "source": [
        "### 7) Durée moyenne de déplacement entre deux POIs.\n",
        "\n",
        "Définir la vue **DureeDeplacement** (poi1, poi2, duree) calculant la duree moyenne de déplacement entre deux POI consécutifs dans une séquence.\n",
        "\n"
      ],
      "metadata": {
        "id": "Zr3JfNuCIKRS"
      }
    },
    {
      "cell_type": "code",
      "source": [
        "%%sql\n",
        "\n",
        "create or replace temp view DureeMoyenneDeplacement as\n",
        "SELECT a.poiID AS poi1, b.poiID AS poi2, AVG(b.date - a.date)/60 AS duree_en_min\n",
        "FROM user_visits a\n",
        "JOIN user_visits b\n",
        "ON a.userID = b.userID AND a.seqID = b.seqID AND a.date < b.date\n",
        "GROUP BY a.poiID, b.poiID\n",
        ";\n",
        "\n",
        "\n",
        "select *\n",
        "from DureeMoyenneDeplacement\n",
        "\n",
        "\n",
        "\n"
      ],
      "metadata": {
        "colab": {
          "base_uri": "https://localhost:8080/",
          "height": 347
        },
        "id": "sJ5_LwAE1IqF",
        "outputId": "e4bd2359-41e5-467b-ab53-ef308ed67f79"
      },
      "execution_count": null,
      "outputs": [
        {
          "output_type": "execute_result",
          "data": {
            "text/html": [
              "<div>\n",
              "<style scoped>\n",
              "    .dataframe tbody tr th:only-of-type {\n",
              "        vertical-align: middle;\n",
              "    }\n",
              "\n",
              "    .dataframe tbody tr th {\n",
              "        vertical-align: top;\n",
              "    }\n",
              "\n",
              "    .dataframe thead th {\n",
              "        text-align: right;\n",
              "    }\n",
              "</style>\n",
              "<table border=\"1\" class=\"dataframe\">\n",
              "  <thead>\n",
              "    <tr style=\"text-align: right;\">\n",
              "      <th></th>\n",
              "      <th>poi1</th>\n",
              "      <th>poi2</th>\n",
              "      <th>duree_en_min</th>\n",
              "    </tr>\n",
              "  </thead>\n",
              "  <tbody>\n",
              "    <tr>\n",
              "      <th>0</th>\n",
              "      <td>23</td>\n",
              "      <td>24</td>\n",
              "      <td>89.857658</td>\n",
              "    </tr>\n",
              "    <tr>\n",
              "      <th>1</th>\n",
              "      <td>11</td>\n",
              "      <td>27</td>\n",
              "      <td>67.623785</td>\n",
              "    </tr>\n",
              "    <tr>\n",
              "      <th>2</th>\n",
              "      <td>27</td>\n",
              "      <td>27</td>\n",
              "      <td>22.089880</td>\n",
              "    </tr>\n",
              "    <tr>\n",
              "      <th>3</th>\n",
              "      <td>28</td>\n",
              "      <td>23</td>\n",
              "      <td>89.142249</td>\n",
              "    </tr>\n",
              "    <tr>\n",
              "      <th>4</th>\n",
              "      <td>25</td>\n",
              "      <td>6</td>\n",
              "      <td>101.218605</td>\n",
              "    </tr>\n",
              "    <tr>\n",
              "      <th>...</th>\n",
              "      <td>...</td>\n",
              "      <td>...</td>\n",
              "      <td>...</td>\n",
              "    </tr>\n",
              "    <tr>\n",
              "      <th>95</th>\n",
              "      <td>17</td>\n",
              "      <td>17</td>\n",
              "      <td>188.808033</td>\n",
              "    </tr>\n",
              "    <tr>\n",
              "      <th>96</th>\n",
              "      <td>7</td>\n",
              "      <td>7</td>\n",
              "      <td>27.340415</td>\n",
              "    </tr>\n",
              "    <tr>\n",
              "      <th>97</th>\n",
              "      <td>11</td>\n",
              "      <td>11</td>\n",
              "      <td>54.285990</td>\n",
              "    </tr>\n",
              "    <tr>\n",
              "      <th>98</th>\n",
              "      <td>22</td>\n",
              "      <td>22</td>\n",
              "      <td>157.217335</td>\n",
              "    </tr>\n",
              "    <tr>\n",
              "      <th>99</th>\n",
              "      <td>22</td>\n",
              "      <td>28</td>\n",
              "      <td>54.975365</td>\n",
              "    </tr>\n",
              "  </tbody>\n",
              "</table>\n",
              "<p>100 rows × 3 columns</p>\n",
              "</div>"
            ],
            "application/vnd.google.colaboratory.module+javascript": "\n      import \"https://ssl.gstatic.com/colaboratory/data_table/881c4a0d49046431/data_table.js\";\n\n      const table = window.createDataTable({\n        data: [[{\n            'v': 23,\n            'f': \"23\",\n        },\n{\n            'v': 24,\n            'f': \"24\",\n        },\n{\n            'v': 89.85765765765765,\n            'f': \"89.85765765765765\",\n        }],\n [{\n            'v': 11,\n            'f': \"11\",\n        },\n{\n            'v': 27,\n            'f': \"27\",\n        },\n{\n            'v': 67.62378472222223,\n            'f': \"67.62378472222223\",\n        }],\n [{\n            'v': 27,\n            'f': \"27\",\n        },\n{\n            'v': 27,\n            'f': \"27\",\n        },\n{\n            'v': 22.08987996306556,\n            'f': \"22.08987996306556\",\n        }],\n [{\n            'v': 28,\n            'f': \"28\",\n        },\n{\n            'v': 23,\n            'f': \"23\",\n        },\n{\n            'v': 89.14224890829695,\n            'f': \"89.14224890829695\",\n        }],\n [{\n            'v': 25,\n            'f': \"25\",\n        },\n{\n            'v': 6,\n            'f': \"6\",\n        },\n{\n            'v': 101.21860465116279,\n            'f': \"101.21860465116279\",\n        }],\n [{\n            'v': 3,\n            'f': \"3\",\n        },\n{\n            'v': 22,\n            'f': \"22\",\n        },\n{\n            'v': 91.58595679012346,\n            'f': \"91.58595679012346\",\n        }],\n [{\n            'v': 4,\n            'f': \"4\",\n        },\n{\n            'v': 4,\n            'f': \"4\",\n        },\n{\n            'v': 69.5905877577058,\n            'f': \"69.5905877577058\",\n        }],\n [{\n            'v': 24,\n            'f': \"24\",\n        },\n{\n            'v': 11,\n            'f': \"11\",\n        },\n{\n            'v': 162.64532908704885,\n            'f': \"162.64532908704885\",\n        }],\n [{\n            'v': 22,\n            'f': \"22\",\n        },\n{\n            'v': 29,\n            'f': \"29\",\n        },\n{\n            'v': 136.51111111111112,\n            'f': \"136.51111111111112\",\n        }],\n [{\n            'v': 22,\n            'f': \"22\",\n        },\n{\n            'v': 8,\n            'f': \"8\",\n        },\n{\n            'v': 148.93153153153153,\n            'f': \"148.93153153153153\",\n        }],\n [{\n            'v': 7,\n            'f': \"7\",\n        },\n{\n            'v': 4,\n            'f': \"4\",\n        },\n{\n            'v': 148.3216193519315,\n            'f': \"148.3216193519315\",\n        }],\n [{\n            'v': 23,\n            'f': \"23\",\n        },\n{\n            'v': 29,\n            'f': \"29\",\n        },\n{\n            'v': 174.08993710691823,\n            'f': \"174.08993710691823\",\n        }],\n [{\n            'v': 28,\n            'f': \"28\",\n        },\n{\n            'v': 24,\n            'f': \"24\",\n        },\n{\n            'v': 160.12604166666668,\n            'f': \"160.12604166666668\",\n        }],\n [{\n            'v': 28,\n            'f': \"28\",\n        },\n{\n            'v': 4,\n            'f': \"4\",\n        },\n{\n            'v': 228.23074237412717,\n            'f': \"228.23074237412717\",\n        }],\n [{\n            'v': 28,\n            'f': \"28\",\n        },\n{\n            'v': 16,\n            'f': \"16\",\n        },\n{\n            'v': 199.06055979643767,\n            'f': \"199.06055979643767\",\n        }],\n [{\n            'v': 30,\n            'f': \"30\",\n        },\n{\n            'v': 24,\n            'f': \"24\",\n        },\n{\n            'v': 175.66182795698924,\n            'f': \"175.66182795698924\",\n        }],\n [{\n            'v': 4,\n            'f': \"4\",\n        },\n{\n            'v': 8,\n            'f': \"8\",\n        },\n{\n            'v': 64.62827635327635,\n            'f': \"64.62827635327635\",\n        }],\n [{\n            'v': 4,\n            'f': \"4\",\n        },\n{\n            'v': 16,\n            'f': \"16\",\n        },\n{\n            'v': 186.62006291730867,\n            'f': \"186.62006291730867\",\n        }],\n [{\n            'v': 8,\n            'f': \"8\",\n        },\n{\n            'v': 27,\n            'f': \"27\",\n        },\n{\n            'v': 291.8904761904762,\n            'f': \"291.8904761904762\",\n        }],\n [{\n            'v': 2,\n            'f': \"2\",\n        },\n{\n            'v': 14,\n            'f': \"14\",\n        },\n{\n            'v': 124.02222222222221,\n            'f': \"124.02222222222221\",\n        }],\n [{\n            'v': 22,\n            'f': \"22\",\n        },\n{\n            'v': 25,\n            'f': \"25\",\n        },\n{\n            'v': 102.63799999999999,\n            'f': \"102.63799999999999\",\n        }],\n [{\n            'v': 16,\n            'f': \"16\",\n        },\n{\n            'v': 24,\n            'f': \"24\",\n        },\n{\n            'v': 51.08870967741936,\n            'f': \"51.08870967741936\",\n        }],\n [{\n            'v': 19,\n            'f': \"19\",\n        },\n{\n            'v': 7,\n            'f': \"7\",\n        },\n{\n            'v': 247.87857142857143,\n            'f': \"247.87857142857143\",\n        }],\n [{\n            'v': 6,\n            'f': \"6\",\n        },\n{\n            'v': 26,\n            'f': \"26\",\n        },\n{\n            'v': 356.7277777777778,\n            'f': \"356.7277777777778\",\n        }],\n [{\n            'v': 19,\n            'f': \"19\",\n        },\n{\n            'v': 1,\n            'f': \"1\",\n        },\n{\n            'v': 68.73333333333333,\n            'f': \"68.73333333333333\",\n        }],\n [{\n            'v': 26,\n            'f': \"26\",\n        },\n{\n            'v': 22,\n            'f': \"22\",\n        },\n{\n            'v': 302.3,\n            'f': \"302.3\",\n        }],\n [{\n            'v': 24,\n            'f': \"24\",\n        },\n{\n            'v': 6,\n            'f': \"6\",\n        },\n{\n            'v': 116.03020833333333,\n            'f': \"116.03020833333333\",\n        }],\n [{\n            'v': 24,\n            'f': \"24\",\n        },\n{\n            'v': 19,\n            'f': \"19\",\n        },\n{\n            'v': 315.85555555555555,\n            'f': \"315.85555555555555\",\n        }],\n [{\n            'v': 23,\n            'f': \"23\",\n        },\n{\n            'v': 14,\n            'f': \"14\",\n        },\n{\n            'v': 0.06666666666666667,\n            'f': \"0.06666666666666667\",\n        }],\n [{\n            'v': 29,\n            'f': \"29\",\n        },\n{\n            'v': 10,\n            'f': \"10\",\n        },\n{\n            'v': 153.825,\n            'f': \"153.825\",\n        }],\n [{\n            'v': 9,\n            'f': \"9\",\n        },\n{\n            'v': 11,\n            'f': \"11\",\n        },\n{\n            'v': 346.9,\n            'f': \"346.9\",\n        }],\n [{\n            'v': 7,\n            'f': \"7\",\n        },\n{\n            'v': 25,\n            'f': \"25\",\n        },\n{\n            'v': 94.39285714285714,\n            'f': \"94.39285714285714\",\n        }],\n [{\n            'v': 29,\n            'f': \"29\",\n        },\n{\n            'v': 3,\n            'f': \"3\",\n        },\n{\n            'v': 179.84722222222223,\n            'f': \"179.84722222222223\",\n        }],\n [{\n            'v': 6,\n            'f': \"6\",\n        },\n{\n            'v': 27,\n            'f': \"27\",\n        },\n{\n            'v': 181.7888888888889,\n            'f': \"181.7888888888889\",\n        }],\n [{\n            'v': 11,\n            'f': \"11\",\n        },\n{\n            'v': 19,\n            'f': \"19\",\n        },\n{\n            'v': 75.97222222222221,\n            'f': \"75.97222222222221\",\n        }],\n [{\n            'v': 30,\n            'f': \"30\",\n        },\n{\n            'v': 15,\n            'f': \"15\",\n        },\n{\n            'v': 62.06666666666667,\n            'f': \"62.06666666666667\",\n        }],\n [{\n            'v': 29,\n            'f': \"29\",\n        },\n{\n            'v': 13,\n            'f': \"13\",\n        },\n{\n            'v': 79.42222222222222,\n            'f': \"79.42222222222222\",\n        }],\n [{\n            'v': 2,\n            'f': \"2\",\n        },\n{\n            'v': 7,\n            'f': \"7\",\n        },\n{\n            'v': 14.63888888888889,\n            'f': \"14.63888888888889\",\n        }],\n [{\n            'v': 21,\n            'f': \"21\",\n        },\n{\n            'v': 25,\n            'f': \"25\",\n        },\n{\n            'v': 165.59230769230768,\n            'f': \"165.59230769230768\",\n        }],\n [{\n            'v': 28,\n            'f': \"28\",\n        },\n{\n            'v': 22,\n            'f': \"22\",\n        },\n{\n            'v': 61.733523592085234,\n            'f': \"61.733523592085234\",\n        }],\n [{\n            'v': 28,\n            'f': \"28\",\n        },\n{\n            'v': 21,\n            'f': \"21\",\n        },\n{\n            'v': 224.13508663366338,\n            'f': \"224.13508663366338\",\n        }],\n [{\n            'v': 23,\n            'f': \"23\",\n        },\n{\n            'v': 30,\n            'f': \"30\",\n        },\n{\n            'v': 177.76054054054055,\n            'f': \"177.76054054054055\",\n        }],\n [{\n            'v': 7,\n            'f': \"7\",\n        },\n{\n            'v': 30,\n            'f': \"30\",\n        },\n{\n            'v': 103.90915658602151,\n            'f': \"103.90915658602151\",\n        }],\n [{\n            'v': 3,\n            'f': \"3\",\n        },\n{\n            'v': 30,\n            'f': \"30\",\n        },\n{\n            'v': 225.65679611650484,\n            'f': \"225.65679611650484\",\n        }],\n [{\n            'v': 2,\n            'f': \"2\",\n        },\n{\n            'v': 2,\n            'f': \"2\",\n        },\n{\n            'v': 73.7943430956107,\n            'f': \"73.7943430956107\",\n        }],\n [{\n            'v': 4,\n            'f': \"4\",\n        },\n{\n            'v': 22,\n            'f': \"22\",\n        },\n{\n            'v': 156.9,\n            'f': \"156.9\",\n        }],\n [{\n            'v': 25,\n            'f': \"25\",\n        },\n{\n            'v': 3,\n            'f': \"3\",\n        },\n{\n            'v': 151.51666666666668,\n            'f': \"151.51666666666668\",\n        }],\n [{\n            'v': 23,\n            'f': \"23\",\n        },\n{\n            'v': 6,\n            'f': \"6\",\n        },\n{\n            'v': 108.19117647058823,\n            'f': \"108.19117647058823\",\n        }],\n [{\n            'v': 14,\n            'f': \"14\",\n        },\n{\n            'v': 2,\n            'f': \"2\",\n        },\n{\n            'v': 31.26775956284153,\n            'f': \"31.26775956284153\",\n        }],\n [{\n            'v': 30,\n            'f': \"30\",\n        },\n{\n            'v': 8,\n            'f': \"8\",\n        },\n{\n            'v': 320.9981121898598,\n            'f': \"320.9981121898598\",\n        }],\n [{\n            'v': 7,\n            'f': \"7\",\n        },\n{\n            'v': 23,\n            'f': \"23\",\n        },\n{\n            'v': 200.73090172239108,\n            'f': \"200.73090172239108\",\n        }],\n [{\n            'v': 7,\n            'f': \"7\",\n        },\n{\n            'v': 6,\n            'f': \"6\",\n        },\n{\n            'v': 338.1966216216216,\n            'f': \"338.1966216216216\",\n        }],\n [{\n            'v': 7,\n            'f': \"7\",\n        },\n{\n            'v': 24,\n            'f': \"24\",\n        },\n{\n            'v': 86.83,\n            'f': \"86.83\",\n        }],\n [{\n            'v': 28,\n            'f': \"28\",\n        },\n{\n            'v': 1,\n            'f': \"1\",\n        },\n{\n            'v': 126.7220238095238,\n            'f': \"126.7220238095238\",\n        }],\n [{\n            'v': 28,\n            'f': \"28\",\n        },\n{\n            'v': 29,\n            'f': \"29\",\n        },\n{\n            'v': 170.06363636363636,\n            'f': \"170.06363636363636\",\n        }],\n [{\n            'v': 28,\n            'f': \"28\",\n        },\n{\n            'v': 8,\n            'f': \"8\",\n        },\n{\n            'v': 135.55376344086022,\n            'f': \"135.55376344086022\",\n        }],\n [{\n            'v': 1,\n            'f': \"1\",\n        },\n{\n            'v': 6,\n            'f': \"6\",\n        },\n{\n            'v': 17.5,\n            'f': \"17.5\",\n        }],\n [{\n            'v': 1,\n            'f': \"1\",\n        },\n{\n            'v': 24,\n            'f': \"24\",\n        },\n{\n            'v': 19.46569847856155,\n            'f': \"19.46569847856155\",\n        }],\n [{\n            'v': 1,\n            'f': \"1\",\n        },\n{\n            'v': 4,\n            'f': \"4\",\n        },\n{\n            'v': 56.19666666666667,\n            'f': \"56.19666666666667\",\n        }],\n [{\n            'v': 29,\n            'f': \"29\",\n        },\n{\n            'v': 8,\n            'f': \"8\",\n        },\n{\n            'v': 98.70708381025055,\n            'f': \"98.70708381025055\",\n        }],\n [{\n            'v': 8,\n            'f': \"8\",\n        },\n{\n            'v': 11,\n            'f': \"11\",\n        },\n{\n            'v': 19.158333333333335,\n            'f': \"19.158333333333335\",\n        }],\n [{\n            'v': 8,\n            'f': \"8\",\n        },\n{\n            'v': 24,\n            'f': \"24\",\n        },\n{\n            'v': 100.31347517730497,\n            'f': \"100.31347517730497\",\n        }],\n [{\n            'v': 11,\n            'f': \"11\",\n        },\n{\n            'v': 8,\n            'f': \"8\",\n        },\n{\n            'v': 141.15757575757576,\n            'f': \"141.15757575757576\",\n        }],\n [{\n            'v': 24,\n            'f': \"24\",\n        },\n{\n            'v': 8,\n            'f': \"8\",\n        },\n{\n            'v': 127.88939393939394,\n            'f': \"127.88939393939394\",\n        }],\n [{\n            'v': 21,\n            'f': \"21\",\n        },\n{\n            'v': 8,\n            'f': \"8\",\n        },\n{\n            'v': 112.73731884057972,\n            'f': \"112.73731884057972\",\n        }],\n [{\n            'v': 25,\n            'f': \"25\",\n        },\n{\n            'v': 21,\n            'f': \"21\",\n        },\n{\n            'v': 138.0142857142857,\n            'f': \"138.0142857142857\",\n        }],\n [{\n            'v': 28,\n            'f': \"28\",\n        },\n{\n            'v': 7,\n            'f': \"7\",\n        },\n{\n            'v': 85.79912280701754,\n            'f': \"85.79912280701754\",\n        }],\n [{\n            'v': 9,\n            'f': \"9\",\n        },\n{\n            'v': 9,\n            'f': \"9\",\n        },\n{\n            'v': 47.10958851917704,\n            'f': \"47.10958851917704\",\n        }],\n [{\n            'v': 25,\n            'f': \"25\",\n        },\n{\n            'v': 16,\n            'f': \"16\",\n        },\n{\n            'v': 190.15392156862745,\n            'f': \"190.15392156862745\",\n        }],\n [{\n            'v': 1,\n            'f': \"1\",\n        },\n{\n            'v': 7,\n            'f': \"7\",\n        },\n{\n            'v': 70.26962962962963,\n            'f': \"70.26962962962963\",\n        }],\n [{\n            'v': 29,\n            'f': \"29\",\n        },\n{\n            'v': 27,\n            'f': \"27\",\n        },\n{\n            'v': 192.01506666666668,\n            'f': \"192.01506666666668\",\n        }],\n [{\n            'v': 25,\n            'f': \"25\",\n        },\n{\n            'v': 23,\n            'f': \"23\",\n        },\n{\n            'v': 108.06031746031746,\n            'f': \"108.06031746031746\",\n        }],\n [{\n            'v': 25,\n            'f': \"25\",\n        },\n{\n            'v': 29,\n            'f': \"29\",\n        },\n{\n            'v': 74.77815170940171,\n            'f': \"74.77815170940171\",\n        }],\n [{\n            'v': 10,\n            'f': \"10\",\n        },\n{\n            'v': 28,\n            'f': \"28\",\n        },\n{\n            'v': 132.61666666666667,\n            'f': \"132.61666666666667\",\n        }],\n [{\n            'v': 24,\n            'f': \"24\",\n        },\n{\n            'v': 25,\n            'f': \"25\",\n        },\n{\n            'v': 135.67222222222222,\n            'f': \"135.67222222222222\",\n        }],\n [{\n            'v': 25,\n            'f': \"25\",\n        },\n{\n            'v': 30,\n            'f': \"30\",\n        },\n{\n            'v': 209.13048780487804,\n            'f': \"209.13048780487804\",\n        }],\n [{\n            'v': 25,\n            'f': \"25\",\n        },\n{\n            'v': 22,\n            'f': \"22\",\n        },\n{\n            'v': 93.54044943820226,\n            'f': \"93.54044943820226\",\n        }],\n [{\n            'v': 15,\n            'f': \"15\",\n        },\n{\n            'v': 4,\n            'f': \"4\",\n        },\n{\n            'v': 167.3047425474255,\n            'f': \"167.3047425474255\",\n        }],\n [{\n            'v': 27,\n            'f': \"27\",\n        },\n{\n            'v': 7,\n            'f': \"7\",\n        },\n{\n            'v': 0.48333333333333334,\n            'f': \"0.48333333333333334\",\n        }],\n [{\n            'v': 20,\n            'f': \"20\",\n        },\n{\n            'v': 24,\n            'f': \"24\",\n        },\n{\n            'v': 380.75,\n            'f': \"380.75\",\n        }],\n [{\n            'v': 19,\n            'f': \"19\",\n        },\n{\n            'v': 21,\n            'f': \"21\",\n        },\n{\n            'v': 82.75,\n            'f': \"82.75\",\n        }],\n [{\n            'v': 11,\n            'f': \"11\",\n        },\n{\n            'v': 7,\n            'f': \"7\",\n        },\n{\n            'v': 213.61914106939702,\n            'f': \"213.61914106939702\",\n        }],\n [{\n            'v': 4,\n            'f': \"4\",\n        },\n{\n            'v': 6,\n            'f': \"6\",\n        },\n{\n            'v': 47.71111111111111,\n            'f': \"47.71111111111111\",\n        }],\n [{\n            'v': 24,\n            'f': \"24\",\n        },\n{\n            'v': 15,\n            'f': \"15\",\n        },\n{\n            'v': 64.20833333333333,\n            'f': \"64.20833333333333\",\n        }],\n [{\n            'v': 4,\n            'f': \"4\",\n        },\n{\n            'v': 25,\n            'f': \"25\",\n        },\n{\n            'v': 161.03809523809522,\n            'f': \"161.03809523809522\",\n        }],\n [{\n            'v': 30,\n            'f': \"30\",\n        },\n{\n            'v': 13,\n            'f': \"13\",\n        },\n{\n            'v': 353.94166666666666,\n            'f': \"353.94166666666666\",\n        }],\n [{\n            'v': 11,\n            'f': \"11\",\n        },\n{\n            'v': 1,\n            'f': \"1\",\n        },\n{\n            'v': 364.9039215686274,\n            'f': \"364.9039215686274\",\n        }],\n [{\n            'v': 25,\n            'f': \"25\",\n        },\n{\n            'v': 4,\n            'f': \"4\",\n        },\n{\n            'v': 30.233333333333334,\n            'f': \"30.233333333333334\",\n        }],\n [{\n            'v': 7,\n            'f': \"7\",\n        },\n{\n            'v': 19,\n            'f': \"19\",\n        },\n{\n            'v': 297.75555555555553,\n            'f': \"297.75555555555553\",\n        }],\n [{\n            'v': 11,\n            'f': \"11\",\n        },\n{\n            'v': 15,\n            'f': \"15\",\n        },\n{\n            'v': 348.18118279569893,\n            'f': \"348.18118279569893\",\n        }],\n [{\n            'v': 4,\n            'f': \"4\",\n        },\n{\n            'v': 17,\n            'f': \"17\",\n        },\n{\n            'v': 458.3393162393162,\n            'f': \"458.3393162393162\",\n        }],\n [{\n            'v': 22,\n            'f': \"22\",\n        },\n{\n            'v': 9,\n            'f': \"9\",\n        },\n{\n            'v': 62.55,\n            'f': \"62.55\",\n        }],\n [{\n            'v': 2,\n            'f': \"2\",\n        },\n{\n            'v': 23,\n            'f': \"23\",\n        },\n{\n            'v': 9.625,\n            'f': \"9.625\",\n        }],\n [{\n            'v': 24,\n            'f': \"24\",\n        },\n{\n            'v': 24,\n            'f': \"24\",\n        },\n{\n            'v': 43.11936499247297,\n            'f': \"43.11936499247297\",\n        }],\n [{\n            'v': 23,\n            'f': \"23\",\n        },\n{\n            'v': 23,\n            'f': \"23\",\n        },\n{\n            'v': 54.573315780796946,\n            'f': \"54.573315780796946\",\n        }],\n [{\n            'v': 17,\n            'f': \"17\",\n        },\n{\n            'v': 17,\n            'f': \"17\",\n        },\n{\n            'v': 188.80803331964972,\n            'f': \"188.80803331964972\",\n        }],\n [{\n            'v': 7,\n            'f': \"7\",\n        },\n{\n            'v': 7,\n            'f': \"7\",\n        },\n{\n            'v': 27.34041499680548,\n            'f': \"27.34041499680548\",\n        }],\n [{\n            'v': 11,\n            'f': \"11\",\n        },\n{\n            'v': 11,\n            'f': \"11\",\n        },\n{\n            'v': 54.28599001980179,\n            'f': \"54.28599001980179\",\n        }],\n [{\n            'v': 22,\n            'f': \"22\",\n        },\n{\n            'v': 22,\n            'f': \"22\",\n        },\n{\n            'v': 157.21733489773345,\n            'f': \"157.21733489773345\",\n        }],\n [{\n            'v': 22,\n            'f': \"22\",\n        },\n{\n            'v': 28,\n            'f': \"28\",\n        },\n{\n            'v': 54.97536490156144,\n            'f': \"54.97536490156144\",\n        }]],\n        columns: [[\"number\", \"poi1\"], [\"number\", \"poi2\"], [\"number\", \"duree_en_min\"]],\n        columnOptions: [],\n        rowsPerPage: 10,\n        helpUrl: \"https://colab.research.google.com/notebooks/data_table.ipynb\",\n        suppressOutputScrolling: true,\n        minimumWidth: undefined,\n      });\n\n      function appendQuickchartButton(parentElement) {\n        let quickchartButtonContainerElement = document.createElement('div');\n        quickchartButtonContainerElement.innerHTML = `\n<div id=\"df-7ef3a5b6-f703-4dc3-9c96-e62073fc0af4\">\n  <button class=\"colab-df-quickchart\" onclick=\"quickchart('df-7ef3a5b6-f703-4dc3-9c96-e62073fc0af4')\"\n            title=\"Suggest charts.\"\n            style=\"display:none;\">\n    \n<svg xmlns=\"http://www.w3.org/2000/svg\" height=\"24px\"viewBox=\"0 0 24 24\"\n     width=\"24px\">\n    <g>\n        <path d=\"M19 3H5c-1.1 0-2 .9-2 2v14c0 1.1.9 2 2 2h14c1.1 0 2-.9 2-2V5c0-1.1-.9-2-2-2zM9 17H7v-7h2v7zm4 0h-2V7h2v10zm4 0h-2v-4h2v4z\"/>\n    </g>\n</svg>\n  </button>\n  \n<style>\n  .colab-df-quickchart {\n      --bg-color: #E8F0FE;\n      --fill-color: #1967D2;\n      --hover-bg-color: #E2EBFA;\n      --hover-fill-color: #174EA6;\n      --disabled-fill-color: #AAA;\n      --disabled-bg-color: #DDD;\n  }\n\n  [theme=dark] .colab-df-quickchart {\n      --bg-color: #3B4455;\n      --fill-color: #D2E3FC;\n      --hover-bg-color: #434B5C;\n      --hover-fill-color: #FFFFFF;\n      --disabled-bg-color: #3B4455;\n      --disabled-fill-color: #666;\n  }\n\n  .colab-df-quickchart {\n    background-color: var(--bg-color);\n    border: none;\n    border-radius: 50%;\n    cursor: pointer;\n    display: none;\n    fill: var(--fill-color);\n    height: 32px;\n    padding: 0;\n    width: 32px;\n  }\n\n  .colab-df-quickchart:hover {\n    background-color: var(--hover-bg-color);\n    box-shadow: 0 1px 2px rgba(60, 64, 67, 0.3), 0 1px 3px 1px rgba(60, 64, 67, 0.15);\n    fill: var(--button-hover-fill-color);\n  }\n\n  .colab-df-quickchart-complete:disabled,\n  .colab-df-quickchart-complete:disabled:hover {\n    background-color: var(--disabled-bg-color);\n    fill: var(--disabled-fill-color);\n    box-shadow: none;\n  }\n\n  .colab-df-spinner {\n    border: 2px solid var(--fill-color);\n    border-color: transparent;\n    border-bottom-color: var(--fill-color);\n    animation:\n      spin 1s steps(1) infinite;\n  }\n\n  @keyframes spin {\n    0% {\n      border-color: transparent;\n      border-bottom-color: var(--fill-color);\n      border-left-color: var(--fill-color);\n    }\n    20% {\n      border-color: transparent;\n      border-left-color: var(--fill-color);\n      border-top-color: var(--fill-color);\n    }\n    30% {\n      border-color: transparent;\n      border-left-color: var(--fill-color);\n      border-top-color: var(--fill-color);\n      border-right-color: var(--fill-color);\n    }\n    40% {\n      border-color: transparent;\n      border-right-color: var(--fill-color);\n      border-top-color: var(--fill-color);\n    }\n    60% {\n      border-color: transparent;\n      border-right-color: var(--fill-color);\n    }\n    80% {\n      border-color: transparent;\n      border-right-color: var(--fill-color);\n      border-bottom-color: var(--fill-color);\n    }\n    90% {\n      border-color: transparent;\n      border-bottom-color: var(--fill-color);\n    }\n  }\n</style>\n\n  <script>\n    async function quickchart(key) {\n      const quickchartButtonEl =\n        document.querySelector('#' + key + ' button');\n      quickchartButtonEl.disabled = true;  // To prevent multiple clicks.\n      quickchartButtonEl.classList.add('colab-df-spinner');\n      try {\n        const charts = await google.colab.kernel.invokeFunction(\n            'suggestCharts', [key], {});\n      } catch (error) {\n        console.error('Error during call to suggestCharts:', error);\n      }\n      quickchartButtonEl.classList.remove('colab-df-spinner');\n      quickchartButtonEl.classList.add('colab-df-quickchart-complete');\n    }\n    (() => {\n      let quickchartButtonEl =\n        document.querySelector('#df-7ef3a5b6-f703-4dc3-9c96-e62073fc0af4 button');\n      quickchartButtonEl.style.display =\n        google.colab.kernel.accessAllowed ? 'block' : 'none';\n    })();\n  </script>\n</div>`;\n        parentElement.appendChild(quickchartButtonContainerElement);\n      }\n\n      appendQuickchartButton(table);\n    ",
            "text/plain": [
              "<google.colab.data_table.DataTable object>"
            ]
          },
          "metadata": {},
          "execution_count": 156
        }
      ]
    },
    {
      "cell_type": "markdown",
      "source": [
        "## Exercice 2"
      ],
      "metadata": {
        "id": "E01R85iD2JYd"
      }
    },
    {
      "cell_type": "markdown",
      "source": [
        "Charger les données de Geonames"
      ],
      "metadata": {
        "id": "tBoK2TbByOVE"
      }
    },
    {
      "cell_type": "code",
      "source": [
        "import zipfile\n",
        "\n",
        "#geonames\n",
        "web_dir = PUBLIC_DATASET + \"geonames_ALL\"\n",
        "\n",
        "download_file(web_dir, local_dir, \"allCountries.zip\")\n",
        "\n",
        "#unzip\n",
        "local_file = local_dir + \"/\" + \"allCountries.txt\"\n",
        "if(os.path.isfile(local_file)):\n",
        "    print(local_file, \"is already stored\")\n",
        "else:\n",
        "  with zipfile.ZipFile(local_dir + \"/\" + \"allCountries.zip\", 'r') as zip_ref:\n",
        "    zip_ref.extractall(local_dir)\n",
        "\n",
        "os.listdir(local_dir)"
      ],
      "metadata": {
        "id": "IxutWT04wnCU"
      },
      "execution_count": null,
      "outputs": []
    },
    {
      "cell_type": "code",
      "source": [
        "geonames =  spark.read.option(\"header\", \"False\").option(\"delimiter\", \"\\t\").format(\"csv\").load(local_dir + \"/\" + \"allCountries.txt\")\n",
        "geonames.createOrReplaceTempView(\"geonames\")\n",
        "geonames.show(3)"
      ],
      "metadata": {
        "id": "dHEt5Snqy84t"
      },
      "execution_count": null,
      "outputs": []
    },
    {
      "cell_type": "markdown",
      "source": [
        "### 1) Geonames\n",
        "Définir le schéma, limité au 9 premiers attributs donnant des informations sur l'identifiant d'un POI, ses noms, sa position GPS, le code du pays..., ), d'après le document [readme.txt](https://nuage.lip6.fr/s/kaBX3sF3YEzMZHK) dans le dossier [geonames_ALL](https://nuage.lip6.fr/s/H3bpyRGgnCq2NR4?path=%2Fgeonames_ALL)"
      ],
      "metadata": {
        "id": "PLsxr-912g0Q"
      }
    },
    {
      "cell_type": "markdown",
      "source": [
        "#####1a) schéma de Geonames\n",
        "\n",
        "Définir Geonames2 en précisant le schéma : nom et type des attributs.\n",
        "Se limiter au 9 premiers attributs donnant des informations sur l'identifiant d'un POI, ses noms, sa position GPS, le code du pays..., ), d'après le document [readme.txt](https://nuage.lip6.fr/s/kaBX3sF3YEzMZHK) dans le dossier [geonames_ALL](https://nuage.lip6.fr/s/H3bpyRGgnCq2NR4?path=%2Fgeonames_ALL)"
      ],
      "metadata": {
        "id": "Z7RUqF95vYhx"
      }
    },
    {
      "cell_type": "code",
      "source": [
        "%%sql\n",
        "create or replace temp view Geonames2 as\n",
        "select cast(_c0 as long) as geonameID,\n",
        "cast(_c1 as string) as name,\n",
        "cast(_c2 as string) as asciiname,\n",
        "cast(_c3 as string) as alternatenames,\n",
        "cast(_c4 as double) as latitude,\n",
        "cast(_c5 as double) as longitude,\n",
        "cast(_c6 as string) as feature_class,\n",
        "cast(_c7 as string) as feature_code,\n",
        "cast(_c8 as string) as country_code\n",
        "\n",
        "\n",
        "from Geonames;\n",
        "\n",
        "select * from Geonames2"
      ],
      "metadata": {
        "id": "X3JLNOFH2ed4"
      },
      "execution_count": null,
      "outputs": []
    },
    {
      "cell_type": "markdown",
      "source": [
        "##### 1b) Extrait pour le Canada\n",
        "\n",
        "Définir la vue Geonames_canada pour les POI situés au Canada."
      ],
      "metadata": {
        "id": "41O4qiNNvEGi"
      }
    },
    {
      "cell_type": "code",
      "source": [
        "%%sql\n",
        "create or replace temp view Geonames_canada as\n",
        "SELECT *\n",
        "FROM Geonames2\n",
        "WHERE country_code like \"CA\"\n",
        "\n",
        ";\n",
        "\n",
        "cache table Geonames_canada;\n",
        "\n",
        "select * from  Geonames_canada;"
      ],
      "metadata": {
        "id": "CwPhTrdbEo-F"
      },
      "execution_count": null,
      "outputs": []
    },
    {
      "cell_type": "markdown",
      "source": [
        "### 2) Association entre les POI et Geonames\n",
        "Compléter les POI avec des attributs de geonames (par exemple name et [feature code](http://www.geonames.org/export/codes.html))\n",
        "\n",
        "Décrire la solution que vous proposez."
      ],
      "metadata": {
        "id": "OpYWBi8Z45kV"
      }
    },
    {
      "cell_type": "markdown",
      "source": [
        "Imaginons que nous souhaitions obtenir le feature code pour un poi de la première BDD, il va falloir faire une jointure.\n",
        "Dans la première base de données, le poiID ne correspond pas avec le geonameID donc il est impossible de faire une jointure la dessus.\n",
        "\n",
        "On pourrait faire une jointure en se basant sur la latitude et la longitude qui sont présente sur les deux BDD. Normalement pour un POI celles ci sont uniques. Bien sur sous condition que celles ci soit toutes arrondies à la meme decimale.\n",
        "On voit que ce n'est pas parfait car si on met 4 decimal on a plus qu'un seul tuple qui sort, si on met 3 certains POI on plusieurs feature code .\n",
        "\n",
        "On pourrait imaginer faire du REGEX sur le nom pour pouvoir faire une jointure dessus.\n",
        "\n"
      ],
      "metadata": {
        "id": "theoiHOm7UZk"
      }
    },
    {
      "cell_type": "code",
      "source": [
        "%%sql\n",
        "create or replace temp view Geonames_canada2 as\n",
        "SELECT ROUND(latitude,3) as latitude, ROUND(longitude,3) as longitude, feature_code FROM Geonames_canada\n",
        ";\n",
        "cache table Geonames_canada2;\n",
        "create or replace temp view POI2 as\n",
        "SELECT ROUND(latitude,3) as latitude, ROUND(longitude,3) as longitude, poiName FROM POI\n",
        ";\n",
        "cache table POI2;"
      ],
      "metadata": {
        "id": "trqQrbIm90RP"
      },
      "execution_count": null,
      "outputs": []
    },
    {
      "cell_type": "code",
      "source": [
        "%%sql\n",
        "SELECT poiName, feature_code\n",
        "FROM Geonames_canada2 G , POI2 P\n",
        "WHERE G.latitude = P.latitude and G.longitude =P.longitude"
      ],
      "metadata": {
        "id": "1b7MiDRXB5yN"
      },
      "execution_count": null,
      "outputs": []
    },
    {
      "cell_type": "code",
      "source": [],
      "metadata": {
        "id": "JdYPZD4oCQ4M"
      },
      "execution_count": null,
      "outputs": []
    }
  ]
}